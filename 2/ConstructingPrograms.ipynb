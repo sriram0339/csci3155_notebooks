{
 "cells": [
  {
   "cell_type": "markdown",
   "metadata": {},
   "source": [
    "## Constructing Programs : Expression Oriented Programming\n",
    "\n",
    "\n",
    "In this chapter, we will take a small step towards understanding how programs are put together: a topic that will keep us busy throughout this class. It is important, as we will see in a minute, because many students are confused about certain aspects of the Scala language given their background in languages such as C/C++ and Python. However, the insights we will develop will go beyond just Scala and apply back to many programming languages. \n",
    "\n",
    "### What is Expression-Oriented Programming Language?\n",
    "\n",
    "An expression oriented programming language is one wherein programs are systematically constructed from expressions. Therefore, in these languages, programs are expressions that yield values when evaluated. They are built-up from smaller expressions through various means of \"composition\" of expressions.\n",
    "\n",
    "Let us start with a simple scala expression."
   ]
  },
  {
   "cell_type": "code",
   "execution_count": 1,
   "metadata": {},
   "outputs": [
    {
     "data": {
      "text/plain": [
       "\u001b[36mx\u001b[39m: \u001b[32mInt\u001b[39m = \u001b[32m9\u001b[39m"
      ]
     },
     "execution_count": 1,
     "metadata": {},
     "output_type": "execute_result"
    }
   ],
   "source": [
    "val x = (1 + 2) * 3 "
   ]
  },
  {
   "cell_type": "markdown",
   "metadata": {},
   "source": [
    "What does the program above do?\n",
    "  * It declares an immutable called `x`\n",
    "  * It assigns the value of `x` to the result of evaluating `(1+2)*3`, which is `9`.\n",
    "\n",
    "Let's try a few more below.\n",
    "\n",
    "## Conditional Expressions"
   ]
  },
  {
   "cell_type": "code",
   "execution_count": 2,
   "metadata": {},
   "outputs": [
    {
     "data": {
      "text/plain": [
       "\u001b[36my\u001b[39m: \u001b[32mInt\u001b[39m = \u001b[32m35\u001b[39m"
      ]
     },
     "execution_count": 2,
     "metadata": {},
     "output_type": "execute_result"
    }
   ],
   "source": [
    "val y = if (10 >= 15) 25 else 35"
   ]
  },
  {
   "cell_type": "markdown",
   "metadata": {},
   "source": [
    "The above expression is a _conditional expression_. It has the form: \n",
    "\n",
    "~~~\n",
    "if (boolean condition)\n",
    "   ... then subexpression ...\n",
    "else \n",
    "   ... else subexpression ....\n",
    "~~~\n",
    "\n",
    "What does it evaluate to? \n",
    "  * If the `boolean condition` evaluates to `true` then the whole expression evaluates to whatever the `then subexpression` evaluates to.\n",
    "  * If the `boolean condition` evaluates to `false` then the whole subexpression evaluates to whatever the `else subexpression` evaluates to.\n",
    "  \n",
    "Let's keep going in this vein by taking a look at the expression below.\n",
    "\n",
    "## Compound Expression"
   ]
  },
  {
   "cell_type": "code",
   "execution_count": 3,
   "metadata": {},
   "outputs": [
    {
     "name": "stderr",
     "output_type": "stream",
     "text": [
      "-- [E129] Potential Issue Warning: cmd3.sc:2:7 ---------------------------------\n",
      "2 |    10 + 12 ;\n",
      "  |    ^^^^^^^\n",
      "  |    A pure expression does nothing in statement position\n",
      "  |\n",
      "  | longer explanation available when compiling with `-explain`\n",
      "-- [E129] Potential Issue Warning: cmd3.sc:3:7 ---------------------------------\n",
      "3 |    14 + 15 ;\n",
      "  |    ^^^^^^^\n",
      "  |    A pure expression does nothing in statement position\n",
      "  |\n",
      "  | longer explanation available when compiling with `-explain`\n",
      "-- [E129] Potential Issue Warning: cmd3.sc:4:7 ---------------------------------\n",
      "4 |    25 + 34 ; \n",
      "  |    ^^^^^^^\n",
      "  |    A pure expression does nothing in statement position\n",
      "  |\n",
      "  | longer explanation available when compiling with `-explain`\n"
     ]
    },
    {
     "data": {
      "text/plain": [
       "\u001b[36my\u001b[39m: \u001b[32mInt\u001b[39m = \u001b[32m163\u001b[39m"
      ]
     },
     "execution_count": 3,
     "metadata": {},
     "output_type": "execute_result"
    }
   ],
   "source": [
    "val y = { \n",
    "    10 + 12 ;\n",
    "    14 + 15 ;\n",
    "    25 + 34 ; \n",
    "    (16 + 18)* 12 - 245\n",
    "}"
   ]
  },
  {
   "cell_type": "markdown",
   "metadata": {},
   "source": [
    "This is called a `compound expression`, it is of the form: \n",
    "\n",
    "~~~\n",
    "expression 1;\n",
    "expression 2;\n",
    "expression 3;\n",
    "expression 4;\n",
    "expression ...;\n",
    "expression n\n",
    "~~~\n",
    "\n",
    "The behavior is as follows: \n",
    "  * Scala evaluates the expressions in sequence starting from `expression 1` all the way to `expression n`.\n",
    "  * The value of the entire compound expression is the same as that of the very last expression in the sequence.\n",
    "  \n",
    "Let us tackle the obvious question that arises in our minds:\n",
    "\n",
    "_Why bother with the first $n-1$ expressions if `expression n` is the only one whose values we care about?_\n",
    "\n",
    "The answer is two fold:\n",
    "\n",
    "  * First,  we may have expressions declare and initialize things that can be used further down the line.\n",
    "     * This is not a true compound expression but rather something that we will later call a let-binding.\n",
    "```scala\n",
    "   val y = 20;\n",
    "   y - 2 // This is an instance of a let-binding as we will study later\n",
    "```\n",
    "  * Second, we may have _side effects_.\n",
    "```scala\n",
    "var y = 15 \n",
    "  y = y + 1; // This assignment statement has a \"side effect\" of modifying the value of y\n",
    "  y = y + 1;// ...\n",
    "  println(y); // This call has a side effect of printing something to the screen\n",
    "  y\n",
    "```\n",
    " \n",
    "Let us see an example, where earlier expressions in a compound expression declare something that a later expression can use. This will later be called a ``let binding''."
   ]
  },
  {
   "cell_type": "code",
   "execution_count": 4,
   "metadata": {},
   "outputs": [
    {
     "data": {
      "text/plain": [
       "\u001b[36mreturnedValue\u001b[39m: \u001b[32mInt\u001b[39m = \u001b[32m10\u001b[39m"
      ]
     },
     "execution_count": 4,
     "metadata": {},
     "output_type": "execute_result"
    }
   ],
   "source": [
    "val returnedValue = { \n",
    "    val x = 10;\n",
    "    val y = 20 - x; // x has been declared\n",
    "    val z = x + y - 10; // z uses x and y\n",
    "      x - y + z // The entire expression evaluates to this\n",
    "}"
   ]
  },
  {
   "cell_type": "markdown",
   "metadata": {},
   "source": [
    "Now we shall see an example, where the expressions in a sequence can have \"side effects\". We will study side effects in further detail down the line. For now, we note that a side effect can include printing a message, changing the value of a mutable, reading input from the user and many other things like reading from the network or generating a pseudorandom number. "
   ]
  },
  {
   "cell_type": "code",
   "execution_count": 5,
   "metadata": {},
   "outputs": [
    {
     "name": "stdout",
     "output_type": "stream",
     "text": [
      "Hello!\n",
      "Enter your name: "
     ]
    },
    {
     "data": {
      "text/plain": [
       "\u001b[36mx\u001b[39m: \u001b[32mInt\u001b[39m = \u001b[32m25\u001b[39m\n",
       "\u001b[36msideEffect\u001b[39m: \u001b[32mString\u001b[39m = \u001b[32m\"sriram sriram25\"\u001b[39m"
      ]
     },
     "execution_count": 5,
     "metadata": {},
     "output_type": "execute_result"
    }
   ],
   "source": [
    "var x = 10\n",
    "\n",
    "val sideEffect = {\n",
    "    println(\"Hello!\"); // Printing is a side effect: it shows a message on the screen\n",
    "    x = 25; // changing the value of a mutable var is a side effect\n",
    "    print(\"Enter your name: \"); // printing: side effect\n",
    "    var myName = \"sriram\";\n",
    "    myName = myName + \" \" + myName; // assignments are a side-effect \n",
    "    myName + x.toString\n",
    "}"
   ]
  },
  {
   "cell_type": "markdown",
   "metadata": {},
   "source": [
    "### SemiColons are Optional In Scala\n",
    "Scala has \"semicolon\" inference. This means that like C/C++ you can use semi-colons to separate various parts of a compound expression or simply not use semicolons, _provided you place different subexpressions on a new line_."
   ]
  },
  {
   "cell_type": "code",
   "execution_count": 6,
   "metadata": {},
   "outputs": [
    {
     "name": "stdout",
     "output_type": "stream",
     "text": [
      "Hello!\n",
      "Enter your name: "
     ]
    },
    {
     "data": {
      "text/plain": [
       "\u001b[36msideEffectNoSemiColons\u001b[39m: \u001b[32mString\u001b[39m = \u001b[32m\"sriramsriram26\"\u001b[39m"
      ]
     },
     "execution_count": 6,
     "metadata": {},
     "output_type": "execute_result"
    }
   ],
   "source": [
    "val sideEffectNoSemiColons = {\n",
    "    println(\"Hello!\") // scala is able to infer the semicolon here   \n",
    "    x = x + 1 // scala is able to infer the semicolon here   \n",
    "    // Semi colon below could be removed only if you place the two \n",
    "    // expressions in separate lines -- otherwise you get an error.\n",
    "    print(\"Enter your name: \"); var myname = \"sriram\"; myname = myname + myname\n",
    "    myname + x.toString\n",
    "}"
   ]
  },
  {
   "cell_type": "markdown",
   "metadata": {},
   "source": [
    "What about the curly braces? They are not needed. Go ahead and take them out to see what happens. Note that we strongly recommend curly braces for readability. \n",
    "\n",
    "### What do curly braces mean? \n",
    "\n",
    "Curly braces in scala  enclose an expression that can in turn be made up of subexpressions. It is used to define a _scope_ (we will study scope in a few weeks). If a declaration is made inside a curly brace, it goes out of scope after the closing brace is encountered. We will discuss this in further details later. For now, a curly brace is a nice means for enclosing an expression that\n",
    "\n",
    "\n",
    "Let's try and make sense of this expression below."
   ]
  },
  {
   "cell_type": "code",
   "execution_count": 7,
   "metadata": {},
   "outputs": [
    {
     "name": "stdout",
     "output_type": "stream",
     "text": [
      "The current value of x is : 26\n"
     ]
    },
    {
     "data": {
      "text/plain": [
       "\u001b[36my\u001b[39m: \u001b[32mInt\u001b[39m = \u001b[32m25\u001b[39m"
      ]
     },
     "execution_count": 7,
     "metadata": {},
     "output_type": "execute_result"
    }
   ],
   "source": [
    "val y = {\n",
    "    val z = 25\n",
    "    println (s\"The current value of x is : $x\") //Q: Which x are we referring to?\n",
    "    if (x <= z)\n",
    "      x \n",
    "    else\n",
    "      z\n",
    "}"
   ]
  },
  {
   "cell_type": "markdown",
   "metadata": {},
   "source": [
    "Note that in Scala3, we can use tab-indenting/dedenting instead of curly braces"
   ]
  },
  {
   "cell_type": "code",
   "execution_count": 8,
   "metadata": {},
   "outputs": [
    {
     "name": "stdout",
     "output_type": "stream",
     "text": [
      "z = 25 \n",
      "\t if-branch: 25 is less than 25 \n",
      "\t if-branch: this is part of the if-branch as well \n",
      "Control is out of the if condition \n",
      "z = 25\n",
      "y was initialized to 199\n"
     ]
    },
    {
     "data": {
      "text/plain": [
       "\u001b[36my\u001b[39m: \u001b[32mInt\u001b[39m = \u001b[32m199\u001b[39m"
      ]
     },
     "execution_count": 8,
     "metadata": {},
     "output_type": "execute_result"
    }
   ],
   "source": [
    "val y = // No need for braces in scala3, we can use block indenting a la python\n",
    "    val z = 25\n",
    "    var y = z\n",
    "    println(s\"z = $z \")\n",
    "    if z <= 25 then // Scala3 parenthesis around if are optional but we need to use the then keyword\n",
    "        println(s\"\\t if-branch: $z is less than 25 \")\n",
    "        println(s\"\\t if-branch: this is part of the if-branch as well \")\n",
    "    else\n",
    "        println(\"\\t else-branch: else branch starts here\")\n",
    "        y = y + z\n",
    "        println(s\"\\t else-branch: $y\")\n",
    "        println(\"\\t else-branch: ends here \")\n",
    "    println(\"Control is out of the if condition \")\n",
    "    println(s\"z = $z\")\n",
    "    199\n",
    "println(s\"y was initialized to $y\")"
   ]
  },
  {
   "cell_type": "markdown",
   "metadata": {},
   "source": [
    "### Function Calls and Return (or not)\n",
    "\n",
    "Scala function can now be intepreted in the following ways.\n",
    "\n",
    "~~~\n",
    "  def functionName( ... list of arguments and types ... ): return type = {\n",
    "   // body expression\n",
    "   }\n",
    "~~~\n",
    "\n",
    "The body of the function is an expression that evaluates to a value of type `return type`.  Therefore a return is not needed in scala.\n"
   ]
  },
  {
   "cell_type": "code",
   "execution_count": 9,
   "metadata": {},
   "outputs": [
    {
     "data": {
      "text/plain": [
       "defined \u001b[32mfunction\u001b[39m \u001b[36mfoo\u001b[39m"
      ]
     },
     "execution_count": 9,
     "metadata": {},
     "output_type": "execute_result"
    }
   ],
   "source": [
    "def foo(x: Int, y: Int) : Int = {\n",
    "    if (x == y) { 0 } \n",
    "    else if (x <= y) {\n",
    "        val z = y - x \n",
    "        val w = 2 * z\n",
    "        println(s\"z = $z, w  = $w\")\n",
    "        w + 10\n",
    "    } else {\n",
    "        val w = (x - y ) + 1\n",
    "        2 * w\n",
    "    }\n",
    "}"
   ]
  },
  {
   "cell_type": "code",
   "execution_count": 10,
   "metadata": {},
   "outputs": [
    {
     "data": {
      "text/plain": [
       "defined \u001b[32mfunction\u001b[39m \u001b[36mfoo_alt\u001b[39m"
      ]
     },
     "execution_count": 10,
     "metadata": {},
     "output_type": "execute_result"
    }
   ],
   "source": [
    "def foo_alt(x: Int, y: Int) : Int = {\n",
    "    if (x == y) return 0 \n",
    "    // else is not needed because we return early\n",
    "    if (x <= y) {\n",
    "        val z = y - x \n",
    "        val w = 2 * z\n",
    "        println(s\"z = $z, w  = $w\")\n",
    "        return w + 10\n",
    "    }\n",
    "    val w = (x - y ) + 1\n",
    "    return 2 * w\n",
    "}"
   ]
  },
  {
   "cell_type": "code",
   "execution_count": 11,
   "metadata": {},
   "outputs": [
    {
     "name": "stdout",
     "output_type": "stream",
     "text": [
      "z = 5, w  = 10\n",
      "z = 5, w  = 10\n"
     ]
    },
    {
     "data": {
      "text/plain": [
       "\u001b[36mres11_0\u001b[39m: \u001b[32mInt\u001b[39m = \u001b[32m20\u001b[39m\n",
       "\u001b[36mres11_1\u001b[39m: \u001b[32mInt\u001b[39m = \u001b[32m20\u001b[39m"
      ]
     },
     "execution_count": 11,
     "metadata": {},
     "output_type": "execute_result"
    }
   ],
   "source": [
    "foo(10, 15)\n",
    "foo_alt(10, 15)"
   ]
  },
  {
   "cell_type": "markdown",
   "metadata": {},
   "source": [
    "###  Unit Types and Values \n",
    "\n",
    "Expression-oriented programming is an extreme position -- it is not always possible to provide meaningful values to all expressions that one writes in a program and ``side-effects'' are often unavoidable. \n",
    "\n",
    "Think of a program that takes a matrix and performs Gaussian elimination.\n",
    "\n",
    "~~~scala\n",
    "def gaussianElimination(A: Matrix2D[Double]) : Unit  = {\n",
    "  // Modifies the matrix A to put it in a triangular form\n",
    "  // ... \n",
    "}\n",
    "~~~\n",
    "\n",
    "Unit in scala is a type that has just a single value associated with it and that value is indicated as `()`.\n"
   ]
  },
  {
   "cell_type": "code",
   "execution_count": 12,
   "metadata": {},
   "outputs": [
    {
     "name": "stdout",
     "output_type": "stream",
     "text": [
      "The value of x is ()\n"
     ]
    }
   ],
   "source": [
    "val x : Unit = ()\n",
    "println(s\"The value of x is $x\")"
   ]
  },
  {
   "cell_type": "markdown",
   "metadata": {},
   "source": [
    "Scala accomodates loops by giving them the type unit -- this is true for while and for loops. Assignments to `var` also have the type `Unit`."
   ]
  },
  {
   "cell_type": "code",
   "execution_count": 13,
   "metadata": {},
   "outputs": [
    {
     "name": "stdout",
     "output_type": "stream",
     "text": [
      "0\n",
      "1\n",
      "2\n",
      "3\n",
      "4\n",
      "5\n",
      "6\n",
      "7\n",
      "8\n",
      "9\n",
      "10\n",
      "x = ()\n"
     ]
    }
   ],
   "source": [
    "val x : Unit = {\n",
    "    for (i <- 0 to 10){\n",
    "        println(s\"$i\")\n",
    "    }\n",
    "}\n",
    "println(s\"x = $x\")"
   ]
  },
  {
   "cell_type": "code",
   "execution_count": 14,
   "metadata": {},
   "outputs": [
    {
     "name": "stdout",
     "output_type": "stream",
     "text": [
      "0\n",
      "1\n",
      "2\n",
      "3\n",
      "4\n",
      "5\n",
      "6\n",
      "7\n",
      "8\n",
      "9\n",
      "10\n",
      "x = ()\n"
     ]
    },
    {
     "data": {
      "text/plain": [
       "\u001b[36mi\u001b[39m: \u001b[32mInt\u001b[39m = \u001b[32m11\u001b[39m"
      ]
     },
     "execution_count": 14,
     "metadata": {},
     "output_type": "execute_result"
    }
   ],
   "source": [
    "var i = 0\n",
    "val x : Unit = {\n",
    "    // While loops evaluate to unit\n",
    "    while ( i <= 10){\n",
    "        println(s\"$i\")\n",
    "        i = i + 1\n",
    "    }\n",
    "}\n",
    "println(s\"x = $x\")"
   ]
  },
  {
   "cell_type": "code",
   "execution_count": 15,
   "metadata": {},
   "outputs": [
    {
     "name": "stdout",
     "output_type": "stream",
     "text": [
      "y = ()\n"
     ]
    },
    {
     "data": {
      "text/plain": [
       "\u001b[36mz\u001b[39m: \u001b[32mInt\u001b[39m = \u001b[32m11\u001b[39m"
      ]
     },
     "execution_count": 15,
     "metadata": {},
     "output_type": "execute_result"
    }
   ],
   "source": [
    "var z = 10\n",
    "val y = {\n",
    "     z = z + 1 // Assignment statements evaluate to unit.\n",
    "}\n",
    "println(s\"y = ${y}\")"
   ]
  }
 ],
 "metadata": {
  "kernelspec": {
   "display_name": "Scala (3.6.3)",
   "language": "scala",
   "name": "scala363"
  },
  "language_info": {
   "codemirror_mode": "text/x-scala",
   "file_extension": ".sc",
   "mimetype": "text/x-scala",
   "name": "scala",
   "nbconvert_exporter": "script",
   "version": "2.13.16"
  }
 },
 "nbformat": 4,
 "nbformat_minor": 4
}
