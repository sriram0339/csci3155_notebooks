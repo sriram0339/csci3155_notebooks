{
 "cells": [
  {
   "cell_type": "markdown",
   "metadata": {},
   "source": [
    "# Lecture 4: Inductive Definitions, Grammars and Syntax Trees"
   ]
  },
  {
   "cell_type": "markdown",
   "metadata": {},
   "source": [
    "In this lecture, we will study inductive definitions: a very important form that can be used  to define a lot of _rich_ structures. In turn,  we can use inductive definitions to design and implement programming languages. \n",
    "\n",
    "We will use inductive definitions for a variety of purposes starting from \n",
    "defining *numbers*, *lists*, *trees*, *syntax trees*, *expressions* and \n",
    "so on.  Learning how to define these and implement various important \n",
    "operations on them will be at the absolute core of this class.\n",
    "\n",
    "\n",
    "## Natural Numbers\n",
    "\n",
    "The set of natural numbers $\\mathbb{N} = \\{ 0, 1, 2, \\ldots, \\}$ has an inductive definition that we will state in three different ways.\n",
    "\n",
    "### Inductive Definition in  English.\n",
    "\n",
    "Natural numbers are defined inductively using the following rules:\n",
    "\n",
    "  - **R0:** The symbol $\\text{Z}$ is a natural number (side note: it stands for the number *zero*)\n",
    "  - **R1:** If $s$ is a natural number then $\\text{succ}(s)$ is a natural number (side note: *succ* stands for the act of adding one to a number giving us its *succ*essor).\n",
    "  - **R2:** Nothing else is a natural number.\n",
    "  \n",
    "This definition provides us a handle to generate the set of natural numbers $\\mathbb{N}$ in \n",
    "countably-many stages.\n",
    "\n",
    "Rule **R0** tells us that $N_0 = \\{ Z \\}$. \n",
    "\n",
    "Now we can apply the rule **R1** to derive more natural numbers.\n",
    "\n",
    "$\\begin{array}{rl}\n",
    "N_0: & \\{ Z \\} \\\\\n",
    "N_1: & \\{ Z, \\text{succ}(Z) \\}\\\\\n",
    "N_2: &  \\{Z, \\text{succ}(Z), \\text{succ}(\\text{succ}(Z)) \\} \\\\\n",
    "N_3: &  \\{Z, \\text{succ}(Z), \\text{succ}(\\text{succ}(Z)), \\text{succ}^{3}(Z) \\} \\\\\n",
    "\\vdots & \\\\\n",
    "N_k: &  \\{ Z, \\text{succ}(Z), \\text{succ}(\\text{succ}(Z)),  \\cdots, \\text{succ}^{k}(Z) \\} \\\\\n",
    "\\vdots & \n",
    "\\end{array}$\n",
    "\n",
    "Here $\\text{succ}^k(Z)$ is simply the application of $\\text{succ}$ $k$-times to the symbol $Z$. \n",
    "\n",
    "The strings Z, succ(Z), succ(succ(Z)), succ(succ(succ(Z))) are called __terms__.\n",
    "\n",
    "\n",
    "If we iterate this process forever, _in the limit_ we  obtain the set $\\mathbb{N}$ defined as \n",
    "\n",
    "$$ \\mathbb{N} = N_0 \\cup N_1 \\cup N_2 \\cup N_3 \\cup \\cdots \\cup N_{j} \\cup \\cdots = \\bigcup_{j=0}^{\\infty} N_j \\,.$$\n",
    "\n",
    "\n",
    "\n",
    "This looks nothing like the natural numbers $0,1, 2,3, \\ldots$ that we learned in grade school (and appreciated dearly ever since!).  Nevertheless, we can identify every number $k$ with the term $\\text{succ}^{k}(Z)$.\n",
    "\n",
    "### Inductive Definition as a Generative Grammars\n",
    "\n",
    "The english definition will soon be cumbersome to write down. Therefore, we define a _generative grammar_ that\n",
    "generates the same definition as a convenient mathematical shorthand. The grammar is as follows. \n",
    "\n",
    " $$\\begin{array}{ccc}\n",
    " \\textbf{Number} & \\rightarrow &   \\text{Z}\\\\\n",
    "  \\textbf{Number} & \\rightarrow&  succ(\\textbf{Number}) \\\\ \n",
    "                  \\end{array}$$ \n",
    "\n",
    "Let us help you make sense of a grammar by giving names to every part.\n",
    "   - Nonterminal: The symbol __Number__ is a non terminal for the grammar. \n",
    "   - Terminals: The symbols *Z, succ* are called terminals for the grammar. \n",
    "   - Rules: There are two rules in the grammar: __Number__ -> Z and __Number__ -> succ(__Number__). If we translate them into plain english, what do we get:\n",
    "     - **R0** The term consisting of just the symbol Z is a __Number__.\n",
    "     - **R1** If the term t is a __Number__ then succ(t) is also a __Number__.\n",
    "   - Starting Symbol (Nonterminal): We designate one of the nonterminals of the grammar as starting. Here there is just one such non terminal __Number__ and therefore it is the starting symbol.\n",
    "     \n",
    "     \n",
    "__Definition (Generative Grammar)__ \n",
    "A generative grammar is defined by three components:  (1) A set of nonterminals, (2) A set of terminals, and (C) A set of rules.\n",
    "\n",
    "Each rule has the form: \n",
    "\n",
    "__NonTerminalSymbol__ -> _(a term involving terminal and non terminal symbols)_\n",
    "\n",
    "Instead of writing out each rule, we collect rules with a common left hand side and use the OR symbol `|` to separate them. For example, we can write the very same grammar for natural numbers as:\n",
    "\n",
    "$$\\begin{array}{ccccc}\n",
    "\\textbf{Number} & \\rightarrow & {Z} &\\ |\\ & succ(\\textbf{Number}) \\\\\n",
    "\\end{array}$$\n",
    "\n",
    "\n",
    "### Derivations\n",
    "\n",
    "\n",
    "Every term generated by the grammar is derived from the starting symbol by the application of grammar rules. Here are some examples of derivations: \n",
    "\n",
    "   - succ(Z) \n",
    "     - __Number__ -> succ(__Number__) -> succ(Z)\n",
    "   - succ(succ(succ(Z)))\n",
    "     - __Number__ -> succ(__Number__) -> succ(succ(__Number__)) -> succ(succ(succ(__Number__))) -> succ(succ(succ(Z)))\n",
    "\n",
    "### Inductive Definition in Scala\n",
    "\n",
    "Scala (and indeed many other languages) have a way for us to provide inductive definitions. We do so in scala using the class inheritence mechanism as follows."
   ]
  },
  {
   "cell_type": "code",
   "execution_count": 1,
   "metadata": {},
   "outputs": [
    {
     "data": {
      "text/plain": [
       "defined \u001b[32mtrait\u001b[39m \u001b[36mNumber\u001b[39m\n",
       "defined \u001b[32mclass\u001b[39m \u001b[36mZ\u001b[39m\n",
       "defined \u001b[32mclass\u001b[39m \u001b[36mSucc\u001b[39m"
      ]
     },
     "execution_count": 1,
     "metadata": {},
     "output_type": "execute_result"
    }
   ],
   "source": [
    "sealed trait Number \n",
    "// sealed tells scala that everything else that inherits from \n",
    "// the trait \"Number\" will need to be in the same file. Thus, classes defined in a \n",
    "// different file cannot extend Number.\n",
    "// A trait in scala is like an abstract class: you cannot \n",
    "// create an instance of it but you are welcome to write \n",
    "// classes that inherit from it.\n",
    "\n",
    "case class Z() extends Number \n",
    "// The symbol Z is a class that extends number. \n",
    "// This models the grammar rule Number-> Z\n",
    "// We write case class instead of just class. \n",
    "// This is again a convenient practice. \n",
    "// case classes come with a predefined \"equals\" method.\n",
    "// Additionally, \"toString\" method and apply method are also predefined.\n",
    "// That way we do not have to write these ourselves.\n",
    "\n",
    "case class Succ(n : Number) extends Number \n",
    "// This models the production rule Number -> Succ(Number)\n",
    "// Succ should be capitalized because it is a scala convention that all class names are capitalized\n",
    "// Note the argument n: Number."
   ]
  },
  {
   "cell_type": "code",
   "execution_count": 2,
   "metadata": {},
   "outputs": [
    {
     "data": {
      "text/plain": [
       "\u001b[36mzero\u001b[39m: \u001b[32mZ\u001b[39m = Z()"
      ]
     },
     "execution_count": 2,
     "metadata": {},
     "output_type": "execute_result"
    }
   ],
   "source": [
    "val zero = Z()"
   ]
  },
  {
   "cell_type": "code",
   "execution_count": 3,
   "metadata": {},
   "outputs": [
    {
     "data": {
      "text/plain": [
       "\u001b[36mfive\u001b[39m: \u001b[32mSucc\u001b[39m = \u001b[33mSucc\u001b[39m(\u001b[33mSucc\u001b[39m(\u001b[33mSucc\u001b[39m(\u001b[33mSucc\u001b[39m(\u001b[33mSucc\u001b[39m(Z())))))"
      ]
     },
     "execution_count": 3,
     "metadata": {},
     "output_type": "execute_result"
    }
   ],
   "source": [
    "val five = Succ(Succ(Succ(Succ(Succ(zero)))))"
   ]
  },
  {
   "cell_type": "code",
   "execution_count": 4,
   "metadata": {},
   "outputs": [
    {
     "data": {
      "text/plain": [
       "\u001b[36mten\u001b[39m: \u001b[32mSucc\u001b[39m = \u001b[33mSucc\u001b[39m(\u001b[33mSucc\u001b[39m(\u001b[33mSucc\u001b[39m(\u001b[33mSucc\u001b[39m(\u001b[33mSucc\u001b[39m(\u001b[33mSucc\u001b[39m(\u001b[33mSucc\u001b[39m(\u001b[33mSucc\u001b[39m(\u001b[33mSucc\u001b[39m(\u001b[33mSucc\u001b[39m(Z()))))))))))"
      ]
     },
     "execution_count": 4,
     "metadata": {},
     "output_type": "execute_result"
    }
   ],
   "source": [
    "val ten = Succ(Succ(Succ(Succ(Succ(five)))))"
   ]
  },
  {
   "cell_type": "code",
   "execution_count": 5,
   "metadata": {},
   "outputs": [
    {
     "data": {
      "text/plain": [
       "\u001b[36meleven\u001b[39m: \u001b[32mSucc\u001b[39m = \u001b[33mSucc\u001b[39m(\n",
       "  \u001b[33mSucc\u001b[39m(\u001b[33mSucc\u001b[39m(\u001b[33mSucc\u001b[39m(\u001b[33mSucc\u001b[39m(\u001b[33mSucc\u001b[39m(\u001b[33mSucc\u001b[39m(\u001b[33mSucc\u001b[39m(\u001b[33mSucc\u001b[39m(\u001b[33mSucc\u001b[39m(\u001b[33mSucc\u001b[39m(Z()))))))))))\n",
       ")"
      ]
     },
     "execution_count": 5,
     "metadata": {},
     "output_type": "execute_result"
    }
   ],
   "source": [
    "val eleven = Succ(ten)"
   ]
  },
  {
   "cell_type": "code",
   "execution_count": 6,
   "metadata": {},
   "outputs": [
    {
     "data": {
      "text/plain": [
       "\u001b[36meqtest1\u001b[39m: \u001b[32mBoolean\u001b[39m = true"
      ]
     },
     "execution_count": 6,
     "metadata": {},
     "output_type": "execute_result"
    }
   ],
   "source": [
    "val eqtest1 = Succ(ten) == eleven // This is why case classes are cool. \n",
    "                                  // The == operator is predefined for us."
   ]
  },
  {
   "cell_type": "code",
   "execution_count": 7,
   "metadata": {},
   "outputs": [
    {
     "data": {
      "text/plain": [
       "\u001b[36meqtest2\u001b[39m: \u001b[32mBoolean\u001b[39m = false"
      ]
     },
     "execution_count": 7,
     "metadata": {},
     "output_type": "execute_result"
    }
   ],
   "source": [
    "val eqtest2 = Succ(Succ(Succ(five))) == eleven"
   ]
  },
  {
   "cell_type": "code",
   "execution_count": 8,
   "metadata": {},
   "outputs": [
    {
     "name": "stdout",
     "output_type": "stream",
     "text": [
      "(Five = ,Succ(Succ(Succ(Succ(Succ(Z()))))))"
     ]
    }
   ],
   "source": [
    "print(\"Five = \", five)"
   ]
  },
  {
   "cell_type": "markdown",
   "metadata": {},
   "source": [
    "##  List of Numbers\n",
    "\n",
    "We can now extend our inductive definition to define lists of numbers. We will directly write down a grammar for it.\n",
    "\n",
    "$$\\begin{array}{ccccc}\n",
    "\\textbf{NumList} & \\rightarrow & Nil &\\ |\\  & Cons(\\textbf{Num}, \\textbf{NumList}) \\\\\n",
    "\\textbf{Num} & \\rightarrow & 0 \\ |\\ 1\\ |\\ 2\\ |\\ 3\\ |\\ 4\\ |\\ \\cdots \\\\\n",
    "\\end{array}$$\n",
    "\n",
    "The grammar has two non terminals __NumList__ and __Num__. We are only interested in terms that are produced starting from __NumList__. There are two important terminals *Nil, Cons* that stand for the empty list and the appending of a number to the front of a list. Then there are infinitely many non terminals that are just natural numbers $0, 1, 2, \\ldots$. These represent the elements that we can add to the list. Note that there are infinitely many rules which express that __Num__ can be any natural number. But the interesting rules for us include __NumList__ -> *Nil* and\n",
    "__NumList__ -> *Cons*(__Num__, __NumList__). \n",
    "\n",
    "Let us generate examples of valid lists from this rule.\n",
    "\n",
    "The simplest list we can generate is the empty list _Nil_. However, applying the rules, we can generate other lists\n",
    "such as\n",
    "\n",
    "  - *Cons(3, Nil)*. \n",
    "    - **NumList** -> *Cons*(**Num**, **NumList**) -> *Cons*(3, **NumList**) -> *Cons*(3, *Nil*)\n",
    "  - *Cons(3, Cons(7, Nil))*\n",
    "    - **NumList** -> *Cons*(**Num**, **NumList**) -> *Cons*(3, **NumList**) -> *Cons*(3, *Cons*(**Num**, **NumList**)) -> *Cons*(3, *Cons*(7, **NumList**)) -> *Cons(3, Cons(7, Nil))*\n",
    "\n",
    "Practice Exercises:\n",
    "  - Can you find out how to generate *Cons(4, Cons(4, Cons(4, Nil)))* ?\n",
    "  - Write down the term that corresponds to the scala list: `List(1, 2, 3, 4)`.\n",
    "  - What is the scala list corresponding to *Cons(3, Cons(7, Nil))*?\n"
   ]
  },
  {
   "cell_type": "code",
   "execution_count": 2,
   "metadata": {},
   "outputs": [
    {
     "data": {
      "text/plain": [
       "defined \u001b[32mtrait\u001b[39m \u001b[36mNumList\u001b[39m\n",
       "defined \u001b[32mobject\u001b[39m \u001b[36mNil\u001b[39m\n",
       "defined \u001b[32mclass\u001b[39m \u001b[36mCons\u001b[39m"
      ]
     },
     "execution_count": 2,
     "metadata": {},
     "output_type": "execute_result"
    }
   ],
   "source": [
    "sealed trait NumList \n",
    "// We defined a trait for NumList -- The symbol that generates the list \n",
    "\n",
    "case object Nil extends NumList \n",
    "// We made a subtle change from \"class\" to \"object\"\n",
    "// In scala a \"class\" defines a type that we can generate new instances of.\n",
    "// object simply tells scala that there is exactly one instance of Nil\n",
    "// that we will ever need to create.\n",
    "// As a benefit, I do not have to write () \n",
    "// after the Nil (name of object) now :-)\n",
    "\n",
    "case class Cons(hd: Int, tl: NumList) extends NumList \n",
    "// This tells us that Cons applies to a native scala \n",
    "// integer (I deviated from the definition in the grammar in this regard)"
   ]
  },
  {
   "cell_type": "code",
   "execution_count": 3,
   "metadata": {},
   "outputs": [
    {
     "data": {
      "text/plain": [
       "\u001b[36mempList\u001b[39m: cmd3.this.cmd2.Nil.type = Nil\n",
       "\u001b[36ml1\u001b[39m: \u001b[32mCons\u001b[39m = \u001b[33mCons\u001b[39m(hd = \u001b[32m3\u001b[39m, tl = Nil)\n",
       "\u001b[36ml2\u001b[39m: \u001b[32mCons\u001b[39m = \u001b[33mCons\u001b[39m(hd = \u001b[32m3\u001b[39m, tl = \u001b[33mCons\u001b[39m(hd = \u001b[32m7\u001b[39m, tl = Nil))\n",
       "\u001b[36ml3\u001b[39m: \u001b[32mCons\u001b[39m = \u001b[33mCons\u001b[39m(hd = \u001b[32m7\u001b[39m, tl = \u001b[33mCons\u001b[39m(hd = \u001b[32m3\u001b[39m, tl = Nil))\n",
       "\u001b[36meq1\u001b[39m: \u001b[32mBoolean\u001b[39m = \u001b[32mfalse\u001b[39m"
      ]
     },
     "execution_count": 3,
     "metadata": {},
     "output_type": "execute_result"
    }
   ],
   "source": [
    "val empList = Nil\n",
    "val l1 = Cons(3, Nil)\n",
    "val l2 = Cons(3, Cons(7, Nil))\n",
    "val l3 = Cons(7, l1)\n",
    "val eq1 = (l2 == l1)"
   ]
  },
  {
   "cell_type": "code",
   "execution_count": 4,
   "metadata": {},
   "outputs": [
    {
     "name": "stdout",
     "output_type": "stream",
     "text": [
      "list l1 is Cons(3,Nil)\n",
      "list l2 is Cons(3,Cons(7,Nil))\n",
      "list l3 is Cons(7,Cons(3,Nil))\n"
     ]
    }
   ],
   "source": [
    "println(s\"list l1 is $l1\")\n",
    "println(s\"list l2 is $l2\")\n",
    "println(s\"list l3 is $l3\")"
   ]
  },
  {
   "cell_type": "markdown",
   "metadata": {},
   "source": [
    "### Terms as  Trees\n",
    "\n",
    "We will now introduce the concept of visualizing terms as trees to make it easy to see what is happening.\n",
    "\n",
    "Consider a term *Cons(3, Cons( 7, Cons( 17, Nil) ) )*.\n",
    "Such a term can be viewed as a tree:\n",
    "\n",
    "<img src=\"http://www.cs.colorado.edu/~srirams/courses/csci3155-fall2018/pictures/term-tree-1.png\" alt=\"Term Cons(3, Cons(7, Cons(10, Nil))) as a tree\" width=\"30%\">"
   ]
  },
  {
   "cell_type": "markdown",
   "metadata": {},
   "source": [
    "### Alternative Grammar for Lists of Numbers\n",
    "\n",
    "We can connect the grammar for __NumList__ with the grammar for __Numbers__ we wrote previously as follows:\n",
    "\n",
    "\n",
    "$$\\begin{array}{ccccc}\n",
    "\\textbf{NumList} & \\rightarrow & Nil &\\ |\\  & Cons(\\textbf{Num}, \\textbf{NumList}) \\\\\n",
    "\\textbf{Num} & \\rightarrow & Z & | & succ(Z) \\\\\n",
    "\\end{array}$$\n",
    "\n",
    "Of course, this produces lists such as\n",
    "   - *Nil*, *Cons(succ(Z), Nil)*, *Cons(succ(succ(succ(Z))), Cons( succ(succ(succ(succ(Z)))), Nil))* instead of\n",
    "   - *Nil*, *Cons(1, Nil)*, *Cons(3, Cons(4, Nil))*\n",
    "   \n",
    "   \n",
    "The grammar with _infinitely many_ terminals turns out to be more human readable! But mathematically, we say they are the same up to a _bijection_.\n",
    "  "
   ]
  },
  {
   "cell_type": "markdown",
   "metadata": {},
   "source": [
    "## Binary Tree of Numbers\n",
    "\n",
    "~~~\n",
    "I think that I shall never see,\n",
    "A poem lovely as a tree.\n",
    "\n",
    " - Joyce Kilmer (Trees, 1913).\n",
    "~~~\n",
    "\n",
    "Trees are a very important inductively defined structure. We will write a grammar to define a simple binary tree as follows:\n",
    "\n",
    "$$\\begin{array}{rclclcl}\n",
    "\\textbf{NumTree} & \\rightarrow & Leaf & \\ |\\ & Node(\\textbf{Num}, \\textbf{NumTree}, \\textbf{NumTree}) \\\\\n",
    "\\textbf{Num} & \\rightarrow & 0 \\ |\\ 1\\ |\\ 2\\ | \\ 3 \\ |\\ \\cdots \\\\\n",
    "\\end{array}$$\n",
    "\n",
    "The simplest tree is denoted by the terminal _Leaf_\n",
    "\n",
    "A tree can then be constructed as a node denoted by the terminal *Node*, which has a number **Num** associated with it and two subtrees that form the arguments.\n",
    "\n",
    "Let us now see some examples of trees pictorially and the associated terms in the grammar.\n",
    "\n",
    "\n",
    "#### Node(5, Leaf, Leaf)\n",
    "<img src=\"http://www.cs.colorado.edu/~srirams/courses/csci3155-fall2018/pictures/tree-3.png\" alt=\"Tree \\# 2\" width=\"15%\"> \n",
    "\n",
    "#### Node(4, Node(8, Leaf, Leaf), Leaf)\n",
    "\n",
    "<img src=\"http://www.cs.colorado.edu/~srirams/courses/csci3155-fall2018/pictures/tree-1.png\"  alt=\"Tree \\# 1\" width=\"30%\">  \n",
    "\n",
    "#### Node(4,  Node(8, Leaf, Leaf), Node(9, Leaf, Node(4, Leaf, Leaf)))\n",
    "\n",
    "<img src=\"http://www.cs.colorado.edu/~srirams/courses/csci3155-fall2018/pictures/tree-2.png\" alt=\"Tree \\# 2\" width=\"30%\"> \n"
   ]
  },
  {
   "cell_type": "code",
   "execution_count": 12,
   "metadata": {},
   "outputs": [
    {
     "data": {
      "text/plain": [
       "defined \u001b[32mtrait\u001b[39m \u001b[36mNumTree\u001b[39m\n",
       "defined \u001b[32mobject\u001b[39m \u001b[36mLeaf\u001b[39m\n",
       "defined \u001b[32mclass\u001b[39m \u001b[36mNode\u001b[39m"
      ]
     },
     "execution_count": 12,
     "metadata": {},
     "output_type": "execute_result"
    }
   ],
   "source": [
    "sealed trait NumTree\n",
    "case object Leaf extends NumTree\n",
    "case class Node(n: Int, left: NumTree, right: NumTree) extends NumTree"
   ]
  },
  {
   "cell_type": "code",
   "execution_count": 13,
   "metadata": {},
   "outputs": [
    {
     "data": {
      "text/plain": [
       "\u001b[36mt1\u001b[39m: \u001b[32mNode\u001b[39m = \u001b[33mNode\u001b[39m(\u001b[32m5\u001b[39m, Leaf, Leaf)\n",
       "\u001b[36mt2\u001b[39m: \u001b[32mNode\u001b[39m = \u001b[33mNode\u001b[39m(\u001b[32m4\u001b[39m, \u001b[33mNode\u001b[39m(\u001b[32m8\u001b[39m, Leaf, Leaf), Leaf)\n",
       "\u001b[36mt3\u001b[39m: \u001b[32mNode\u001b[39m = \u001b[33mNode\u001b[39m(\u001b[32m4\u001b[39m, \u001b[33mNode\u001b[39m(\u001b[32m8\u001b[39m, Leaf, Leaf), \u001b[33mNode\u001b[39m(\u001b[32m9\u001b[39m, Leaf, \u001b[33mNode\u001b[39m(\u001b[32m4\u001b[39m, Leaf, Leaf)))"
      ]
     },
     "execution_count": 13,
     "metadata": {},
     "output_type": "execute_result"
    }
   ],
   "source": [
    "val t1 = Node(5, Leaf, Leaf)\n",
    "val t2 = Node(4, Node(8, Leaf, Leaf), Leaf)\n",
    "val t3 = Node(4, Node(8, Leaf, Leaf), Node(9, Leaf, Node(4, Leaf, Leaf)))"
   ]
  },
  {
   "cell_type": "markdown",
   "metadata": {},
   "source": [
    "## Arithmetic Expression Grammar\n",
    "\n",
    "Let us now examine a grammar for arithmetic expressions involving operators like `+`, `*`, `/` and even functions like log, exp, sine and cosine.\n",
    "\n",
    "$$\\begin{array}{rcc}\n",
    "\\textbf{Expr} & \\rightarrow & Const(\\textbf{Double}) \\\\\n",
    "& |  & Ident(\\textbf{Identifier}) \\\\\n",
    "& | & Plus( \\textbf{Expr}, \\textbf{Expr}) \\\\\n",
    "& | & Minus( \\textbf{Expr}, \\textbf{Expr}) \\\\\n",
    "& | & Mult(\\textbf{Expr}, \\textbf{Expr}) \\\\\n",
    "& | & Div(\\textbf{Expr}, \\textbf{Expr}) \\\\\n",
    "& | & Log(\\textbf{Expr}) \\\\\n",
    "& | & Exp(\\textbf{Expr}) \\\\\n",
    "& | & Sine(\\textbf{Expr}) \\\\\n",
    "& | & Cosine(\\textbf{Expr}) \\\\\\\\\n",
    "\\textbf{Double} & \\rightarrow & \\cdots\\ |\\  -2\\ |\\ -1\\ |\\ 0\\ |\\ 1\\ |\\ 2\\ |\\ \\cdots \\\\\n",
    "\\textbf{Identifier} & \\rightarrow & [a-z\\ A-Z][a-z\\ A-Z\\ 0-9\\ \\_]*\n",
    "\\end{array}$$\n",
    "\n",
    "We will clarify a few things first. The non terminal **Identifier** stands for a string that\n",
    "represents a variable name like `x`, `y`, `velocity`, `s_29109_12xyZ` and so on. We wrote a regular expression as a stand in for all possible legal variable names that can appear.\n",
    "\n",
    "The start symbol is **Expr**. \n",
    "\n",
    "Let us look at some examples of expressions that can be created this way.\n",
    "\n",
    "1.  $ x^2 + 5$ is expressed as  Plus(Mult( Ident(\"x\"),  Ident(\"x\")), Const(5))\n",
    "2.  $ \\sin(x) + \\cos(x)$ is expressed as Plus(Sine(Ident(\"x\")), Cosine(Ident(\"x\")))\n",
    "3.  $e^{e^{xy}}$ is expressed as Exp(Exp(Mult( Ident(\"x\"),  Ident(\"y\") ) ))\n",
    "\n",
    "You can guess from the context what the  symbols *Plus, Minus, Mult, Div, Log,\n",
    "Exp, Sine* and *Cosine* should mean. The symbols *Const* and *Ident* seem superfluous here. After all, \n",
    "if there is a string \"x\" it can only refer to an identifier and if there is a constant 10, it can only\n",
    "be an integer. However, for scala (or any other programming language) \"x\" is a string and 10 is an integer.\n",
    "We need a means to tell the scala interpreter to *promote* a number 10 to an expression 10 or a string \"x_25\" to \n",
    "the expression \"x_25\". The easiest way to achieve this is to wrap these inside a symbol such as *Const* or\n",
    "*Ident* that makes it easy for\n",
    "the scala interpreter to undertand what is going on.\n",
    "\n"
   ]
  },
  {
   "cell_type": "code",
   "execution_count": 14,
   "metadata": {},
   "outputs": [
    {
     "data": {
      "text/plain": [
       "defined \u001b[32mtrait\u001b[39m \u001b[36mExpr\u001b[39m\n",
       "defined \u001b[32mclass\u001b[39m \u001b[36mConst\u001b[39m\n",
       "defined \u001b[32mclass\u001b[39m \u001b[36mIdent\u001b[39m\n",
       "defined \u001b[32mclass\u001b[39m \u001b[36mPlus\u001b[39m\n",
       "defined \u001b[32mclass\u001b[39m \u001b[36mMinus\u001b[39m\n",
       "defined \u001b[32mclass\u001b[39m \u001b[36mMult\u001b[39m\n",
       "defined \u001b[32mclass\u001b[39m \u001b[36mDiv\u001b[39m\n",
       "defined \u001b[32mclass\u001b[39m \u001b[36mLog\u001b[39m\n",
       "defined \u001b[32mclass\u001b[39m \u001b[36mExp\u001b[39m\n",
       "defined \u001b[32mclass\u001b[39m \u001b[36mSine\u001b[39m\n",
       "defined \u001b[32mclass\u001b[39m \u001b[36mCosine\u001b[39m"
      ]
     },
     "execution_count": 14,
     "metadata": {},
     "output_type": "execute_result"
    }
   ],
   "source": [
    "sealed trait Expr\n",
    "\n",
    "// We cheated a bit and allowed all double precision numbers in scala.\n",
    "case class Const(d: Double) extends Expr \n",
    "\n",
    "// We allow any string to be an identifier for now instead of the regular \n",
    "// expression shown in the grammar.\n",
    "case class Ident(s: String) extends Expr\n",
    "\n",
    "case class Plus( e1: Expr, e2: Expr) extends Expr\n",
    "case class Minus(e1: Expr, e2: Expr) extends Expr\n",
    "case class Mult(e1: Expr, e2: Expr) extends Expr\n",
    "case class Div(e1: Expr, e2: Expr) extends Expr\n",
    "case class Log(e: Expr) extends Expr\n",
    "case class Exp(e: Expr) extends Expr\n",
    "case class Sine(e: Expr) extends Expr\n",
    "case class Cosine(e: Expr) extends Expr"
   ]
  },
  {
   "cell_type": "code",
   "execution_count": 15,
   "metadata": {},
   "outputs": [
    {
     "data": {
      "text/plain": [
       "\u001b[36mx\u001b[39m: \u001b[32mIdent\u001b[39m = \u001b[33mIdent\u001b[39m(\u001b[32m\"x\"\u001b[39m)\n",
       "\u001b[36my\u001b[39m: \u001b[32mIdent\u001b[39m = \u001b[33mIdent\u001b[39m(\u001b[32m\"y\"\u001b[39m)\n",
       "\u001b[36mv\u001b[39m: \u001b[32mPlus\u001b[39m = \u001b[33mPlus\u001b[39m(\u001b[33mCosine\u001b[39m(\u001b[33mIdent\u001b[39m(\u001b[32m\"x\"\u001b[39m)), \u001b[33mSine\u001b[39m(\u001b[33mIdent\u001b[39m(\u001b[32m\"y\"\u001b[39m)))"
      ]
     },
     "execution_count": 15,
     "metadata": {},
     "output_type": "execute_result"
    }
   ],
   "source": [
    "val x = Ident(\"x\")\n",
    "val y = Ident(\"y\")\n",
    "val v = Plus(Cosine(x), Sine(y))"
   ]
  },
  {
   "cell_type": "markdown",
   "metadata": {},
   "source": [
    "The syntax tree for the term *Plus(Cosine(Ident(x)), Sine(Ident(y)))* is \n",
    "\n",
    "<img src=\"http://www.cs.colorado.edu/~srirams/courses/csci3155-fall2018/pictures/term-tree-2.png\" alt=\"Term Plus(Cosine(Ident(x)), Sine(Ident(y))) as a tree\" width=\"25%\">\n",
    "\n",
    "Note how *Plus* has two children but *Cosine*, *Sine* and *Ident* have one child.\n",
    "\n",
    "Finally, you can also see how a pre-order traversal of this tree gives us the \"flat\" representation of the term\n",
    "*Plus(Cosine(Ident(x)), Sine(Ident(y)))*"
   ]
  },
  {
   "cell_type": "markdown",
   "metadata": {},
   "source": [
    "### Conditional Expressions\n",
    "\n",
    "We just saw a grammar for arithmetic expressions. Let us build a grammar on top of that to define conditional statements such as \n",
    "\n",
    "$$ x^2  \\geq y + 3 \\ \\&\\&\\ x + y - e^z \\leq 0 $$\n",
    "\n",
    "The grammar is going to refer to the non terminal __Expr__ from the previous grammar. \n",
    "\n",
    "$$\\begin{array}{rclll}\n",
    "\\textbf{CondExpr} & \\rightarrow & ConstTrue & \\mbox{constant boolean true}\\\\\n",
    "& | & ConstFalse & \\mbox{constant boolean false} \\\\\n",
    "& | & Geq( \\textbf{Expr} ,\\textbf{Expr}) & \\ e_1 \\geq e_2 \\\\\n",
    "& | & Leq (\\textbf{Expr}, \\textbf{Expr}) & \\ e_1 \\leq e_2 \\\\\n",
    "& | & Eq(\\textbf{Expr} , \\textbf{Expr}) &  e_1 == e_2 \\\\\n",
    "& | & And(\\textbf{CondExpr}, \\textbf{CondExpr}) & \\ c_1\\ \\mbox{and}\\ c_2 \\\\\n",
    "& | & Or(\\textbf{CondExpr}, \\textbf{CondExpr}) & \\ c_1\\ \\mbox{or}\\ c_2 \\\\\n",
    "& | & Not(\\textbf{CondExpr}) &  \\ \\mbox{not}\\ c_1 \\\\\n",
    "\\end{array}$$\n",
    "\n",
    "Let us take the example above and see how the grammar expresses them?\n",
    "\n",
    "#### 1. $ x^2 \\geq y + 3 $\n",
    "\n",
    "*Geq*( *Mult*( *Ident*(\"x\"), *Ident*(\"x\") ), *Plus*( *Ident*(\"y\"), *Const*(3) ) ))\n",
    "\n",
    "#### 2. $ x + y - e^z \\leq 0$\n",
    "\n",
    "*Leq*(  *Plus*( *Ident*(\"x\"), *Minus* ( *Ident*(\"y\"), *Exp*( *Ident*(\"z\") ) ) ), *Const* (0) )\n",
    "\n",
    "#### 3. $ x^2 \\geq y + 3 \\ \\land\\ x + y - e^z \\leq 0$\n",
    "\n",
    "*And*( *Geq*( *Mult*( *Ident*(\"x\"), *Ident*(\"x\") ), *Plus*( *Ident*(\"y\"), *Const*(3) ) )), *Leq*(  *Plus*( *Ident*(\"x\"), *Minus* ( *Ident*(\"y\"), *Exp*( *Ident*(\"z\") ) ) ), *Const* (0) ))\n",
    "\n"
   ]
  },
  {
   "cell_type": "code",
   "execution_count": 16,
   "metadata": {},
   "outputs": [
    {
     "data": {
      "text/plain": [
       "defined \u001b[32mtrait\u001b[39m \u001b[36mCondExpr\u001b[39m\n",
       "defined \u001b[32mobject\u001b[39m \u001b[36mConstTrue\u001b[39m\n",
       "defined \u001b[32mobject\u001b[39m \u001b[36mConstFalse\u001b[39m\n",
       "defined \u001b[32mclass\u001b[39m \u001b[36mGeq\u001b[39m\n",
       "defined \u001b[32mclass\u001b[39m \u001b[36mLeq\u001b[39m\n",
       "defined \u001b[32mclass\u001b[39m \u001b[36mEq\u001b[39m\n",
       "defined \u001b[32mclass\u001b[39m \u001b[36mAnd\u001b[39m\n",
       "defined \u001b[32mclass\u001b[39m \u001b[36mOr\u001b[39m\n",
       "defined \u001b[32mclass\u001b[39m \u001b[36mNot\u001b[39m"
      ]
     },
     "execution_count": 16,
     "metadata": {},
     "output_type": "execute_result"
    }
   ],
   "source": [
    "sealed trait CondExpr\n",
    "case object ConstTrue extends CondExpr\n",
    "case object ConstFalse extends CondExpr\n",
    "case class Geq(e1: Expr, e2: Expr) extends CondExpr\n",
    "case class Leq(e1: Expr, e2: Expr) extends CondExpr\n",
    "case class Eq(e1: Expr, e2: Expr) extends CondExpr\n",
    "case class And(c1: CondExpr, c2: CondExpr) extends CondExpr\n",
    "case class Or(c1: CondExpr, c2: CondExpr) extends CondExpr\n",
    "case class Not(c: CondExpr) extends CondExpr"
   ]
  },
  {
   "cell_type": "markdown",
   "metadata": {},
   "source": [
    "## Syntax for a Simple While Programming Language\n",
    "\n",
    "Now we will examine a more complex grammar that inductively defines a simple while programming language. Writing and understanding this grammar is _crucial_ since you will need see how a program can be viewed systematically top down from the program as a whole to individual code blocks, control statements, down to the basic assignments.\n",
    "\n",
    "\n",
    "We would like a grammar that defines simple programs that include (a) variables that take on floating point values, (b) variable declarations, (c) assignment statements, (d) if then else, (e) while loops and (f) return statement.\n",
    "\n",
    "\n",
    "Here is an example program we would like to express:\n",
    "\n",
    "~~~\n",
    "var x = 5;\n",
    "var y = 15;\n",
    "var z = 25 + y - x;\n",
    "x = y + z + exp(x - y);\n",
    "while ( y <= 15) \n",
    "   begin\n",
    "      y = y  + 3 + x/5;\n",
    "      if (x <= 0)\n",
    "      begin\n",
    "         x = -x; \n",
    "      end\n",
    "   end\n",
    "return (y - x)\n",
    "~~~\n",
    "\n",
    "Let us make up some  rules for our while language (we will also make up new rules as we go along :-)\n",
    "\n",
    "   - All identifiers must be declared at the very beginning of the program.\n",
    "   - Each declaration must consist of variable being declared and its initial value must be an expression.\n",
    "   - Variables can be used in the RHS of an expression only after they are declared.\n",
    "   - The language has assignments that allow a declared variable to be assigned an expression involving declared expressions.\n",
    "   - While statements have the structure of `while` keyword followed by a condition, followed by a code block encapsulated within a begin/end\n",
    "   - If statements have the structure of `if` keyword followed by a condition followed by a code block encapsulated within a begin/end and optionally `else` keyword followed by a code block (begin/end)\n",
    "   - Return statements must be `return` keyword followed by an expression.\n",
    "   - A return can occur anywhere in the program. However, the very last statement must (also) be a return statement.\n",
    "\n",
    "Let us write the grammar in parts starting from the high level structure of the program.\n",
    "\n",
    "$$\\begin{array}{rcll}\n",
    "\\textbf{Program} & \\rightarrow & \\textbf{Declaration}^*\\ \\textbf{Statement}^*\\ ReturnStmt(\\textbf{Expr}) \\\\\n",
    "\\end{array}$$\n",
    "\n",
    "We have placed a  $*$ on top of __Declaration__ and __Statement__. This is called the _Kleene Star_. Whenever we have a symbol __X__ (be it terminal or nonterminal), __X__ * denotes zero or more occurrences of __X__.  We are\n",
    "saying that a __Program__ is made up of _zero or more instances of_ __Declaration__, followed by _zero or more instances of_ __Statement__ and finally a return statement at the very end denoted as _ReturnStmt_ (__Expr__)\n",
    "\n",
    "By the way notice that __Expr__ has already been defined previously. We get to reuse all of it here!\n",
    "\n",
    "\n",
    "Next, let us tackle what it means to be a declaration. We know a declaration looks like this\n",
    "\n",
    "~~~\n",
    "var x = 2 * y - z \n",
    "~~~\n",
    "\n",
    "Ignore the \"syntactic junk\" like the keyword var or the =, they are for humans like us. What is important here for a computer? \n",
    "   - First that the variable being declared is \"x\"\n",
    "   - Second that it is initialized to a RHS expression (`2 * y - z`)\n",
    "   - There is a third thing that `y` and `z` must have been previously declared. Let us take a rain check on this requirement for now. I promise we will tackle it later.\n",
    "\n",
    "\n",
    "$$ \\begin{array}{rcll}\n",
    "\\textbf{Declaration} & \\rightarrow & VarDecl( \\textbf{Identifier}, \\textbf{Expr} )\n",
    "\\end{array} $$\n",
    "\n",
    "We take the two important bits of information from above and encapsulate it inside a nice \"tag\" called _VarDecl_.\n",
    "Now it is clear to a computer (and perhaps even to us humans).\n",
    "\n",
    "Next, let us write a grammar for statements. A statement can be of many types in our language.\n",
    "  - It can be an assignment statement: example `x = y + 5`. \n",
    "     - What information about an assignment statement is relevant here?\n",
    "     - Left hand side : the variable being assigned.\n",
    "     - Right hand side: the expression it is being assigned to.\n",
    "     - All variables involved must be previously declared. We have to take a _rain check_ on this one for now and revisit later.\n",
    "  - A while statement: example `while (x <= y && y <= z) begin .. list of statements .. end `\n",
    "     - The condition for continuing the loop.\n",
    "     - The list of statements inside the loop.\n",
    "  - A if-then-else statement and a variant (a simple if then statement)\n",
    "    `if (condition) begin .. list of statements .. end else begin .. list of statments .. end`\n",
    "     - The condition for the if statement.\n",
    "     - List of statements for the then part\n",
    "     - List of statements for the else part (make it empty if there is no else part)\n",
    "  - A return statement: `return (2 * x + 3 * y) `\n",
    "     - The expression that is being returned.\n",
    "  \n",
    "With these in mind, we are ready to continue with our grammar.\n",
    "\n",
    "$$\\begin{array}{rcll}\n",
    "\\textbf{Statement} & \\rightarrow & Assign( \\textbf{Identifier}, \\textbf{Expr} ) & \\mbox{assign identifier to expression} \\\\\n",
    "& | & While(\\textbf{CondExpr}, \\textbf{Statement}^*) & \\mbox{the condition  and the list of statements: note the Kleene star} \\\\\n",
    "& | & IfThenElse(\\textbf{CondExpr}, \\textbf{Statement}^*, \\textbf{Statement}^*) & \\mbox{can you interpret this rule as an exercise?}\\\\\n",
    "& | & ReturnStmt(\\textbf{Expr}) & \\mbox{return an expression: we already saw this.}\n",
    "\\end{array}$$\n",
    "\n",
    "Note that we have already defined __Expr__, __CondExpr__ and therefore, our grammar is complete. \n",
    "\n",
    "Here is the whole grammar at a glance for you:\n",
    "\n",
    "$$\\begin{array}{rcll}\n",
    "\\textbf{Program} & \\rightarrow & \\textbf{Declaration}^*\\ \\textbf{Statement}^*\\ ReturnStmt(\\textbf{Expr}) \\\\[5pt]\n",
    "\\textbf{Declaration} & \\rightarrow & VarDecl( \\textbf{Identifier}, \\textbf{Expr} )\\\\[5pt]\n",
    "\\textbf{Statement} & \\rightarrow & Assign( \\textbf{Identifier}, \\textbf{Expr} ) & \\mbox{assign identifier to expression} \\\\\n",
    "& | & While(\\textbf{CondExpr}, \\textbf{Statement}^*) & \\mbox{the condition  and the list of statements: note the Kleene star} \\\\\n",
    "& | & IfThenElse(\\textbf{CondExpr}, \\textbf{Statement}^*, \\textbf{Statement}^*) & \\mbox{can you interpret this rule as an exercise?}\\\\\n",
    "& | & ReturnStmt(\\textbf{Expr}) & \\mbox{return an expression: we already saw this.} \\\\[5pt]\n",
    "\\textbf{CondExpr} & \\rightarrow & ConstTrue & \\mbox{constant boolean true}\\\\\n",
    "& | & ConstFalse & \\mbox{constant boolean false} \\\\\n",
    "& | & Geq( \\textbf{Expr} ,\\textbf{Expr}) & \\ e_1 \\geq e_2 \\\\\n",
    "& | & Leq (\\textbf{Expr}, \\textbf{Expr}) & \\ e_1 \\leq e_2 \\\\\n",
    "& | & Eq(\\textbf{Expr} , \\textbf{Expr}) &  e_1 == e_2 \\\\\n",
    "& | & And(\\textbf{CondExpr}, \\textbf{CondExpr}) & \\ c_1\\ \\mbox{and}\\ c_2 \\\\\n",
    "& | & Or(\\textbf{CondExpr}, \\textbf{CondExpr}) & \\ c_1\\ \\mbox{or}\\ c_2 \\\\\n",
    "& | & Not(\\textbf{CondExpr}) &  \\ \\mbox{not}\\ c_1 \\\\[5pt]\n",
    "\\textbf{Expr} & \\rightarrow & Const(\\textbf{Integer}) \\\\\n",
    "& |  & Ident(\\textbf{Identifier}) \\\\\n",
    "& | & Plus( \\textbf{Expr}, \\textbf{Expr}^+) & \\textbf{Expr}^+ \\text{denotes one or more occurrences of an expression}\\\\\n",
    "& | & Minus( \\textbf{Expr}, \\textbf{Expr}^+) & e_1 - e_2 - e_3 - e_4 \\cdots \\\\\n",
    "& | & Mult(\\textbf{Expr}, \\textbf{Expr}^+) & e_1 * e_2 * e_3 * \\cdots \\\\\n",
    "& | & Div(\\textbf{Expr}, \\textbf{Expr}) \\\\\n",
    "& | & Log(\\textbf{Expr}) \\\\\n",
    "& | & Exp(\\textbf{Expr}) \\\\\n",
    "& | & Sine(\\textbf{Expr}) \\\\\n",
    "& | & Cosine(\\textbf{Expr}) \\\\[5pt]\n",
    "\\textbf{Integer} & \\rightarrow & \\cdots\\ |\\  -2\\ |\\ -1\\ |\\ 0\\ |\\ 1\\ |\\ 2\\ |\\ \\cdots \\\\\n",
    "\\textbf{Identifier} & \\rightarrow & [a-z\\ A-Z][a-z\\ A-Z\\ 0-9\\ \\_]*\n",
    "\\end{array}$$\n",
    "\n",
    "This was a simple grammar for a toy language. Want to see what the specification for a more complex language like C looks like - see here https://cs.wmich.edu/~gupta/teaching/cs4850/sumII06/The%20syntax%20of%20C%20in%20Backus-Naur%20form.htm\n",
    "\n",
    "Here is a similar spec for python:\n",
    "https://docs.python.org/3/reference/grammar.html\n",
    "\n",
    "And Scala: \n",
    "https://www.scala-lang.org/files/archive/spec/2.11/13-syntax-summary.html\n",
    "\n",
    "Let us now express this in Scala but at the same time reuse what we have already defined previously such as Expr and CondExpr."
   ]
  },
  {
   "cell_type": "code",
   "execution_count": 17,
   "metadata": {},
   "outputs": [
    {
     "data": {
      "text/plain": [
       "defined \u001b[32mtrait\u001b[39m \u001b[36mDeclaration\u001b[39m\n",
       "defined \u001b[32mtrait\u001b[39m \u001b[36mStatement\u001b[39m\n",
       "defined \u001b[32mtrait\u001b[39m \u001b[36mMythonProgram\u001b[39m\n",
       "defined \u001b[32mclass\u001b[39m \u001b[36mProgram\u001b[39m\n",
       "defined \u001b[32mclass\u001b[39m \u001b[36mVarDecl\u001b[39m\n",
       "defined \u001b[32mclass\u001b[39m \u001b[36mAssignStmt\u001b[39m\n",
       "defined \u001b[32mclass\u001b[39m \u001b[36mWhileStmt\u001b[39m\n",
       "defined \u001b[32mclass\u001b[39m \u001b[36mIfThenElseStmt\u001b[39m\n",
       "defined \u001b[32mclass\u001b[39m \u001b[36mReturnStmt\u001b[39m"
      ]
     },
     "execution_count": 17,
     "metadata": {},
     "output_type": "execute_result"
    }
   ],
   "source": [
    "sealed trait Declaration\n",
    "sealed trait Statement\n",
    "sealed trait MythonProgram\n",
    "\n",
    "case class Program(decls: List[Declaration], stmts: List[Statement], returnAtEnd: Expr) extends MythonProgram // We stripped the ReturnStmt tag since it is redundant\n",
    "case class VarDecl(identifier: String, rhsExpr: Expr) extends Declaration\n",
    "case class AssignStmt(identifier: String, rhsExpr: Expr) extends Statement\n",
    "case class WhileStmt(cond: CondExpr, stmts: List[Statement]) extends Statement\n",
    "case class IfThenElseStmt(cond: CondExpr, stmtsThen: List[Statement], stmtsElse: List[Statement]) extends Statement\n",
    "case class ReturnStmt(retExpr: Expr) extends Statement\n"
   ]
  },
  {
   "cell_type": "markdown",
   "metadata": {},
   "source": [
    "Do we want to try and translate this program over into the grammar?\n",
    "\n",
    "~~~\n",
    "var x = 5;\n",
    "var y = 15;\n",
    "var z = 25 + y - x;\n",
    "x = y + z + exp(x - y);\n",
    "while ( y <= 15) \n",
    "   begin\n",
    "      y = y - x ;\n",
    "      if (x <= 0)\n",
    "      begin\n",
    "         x = -x; \n",
    "      end\n",
    "   end\n",
    "return (y - x)\n",
    "~~~\n",
    "\n",
    "It is not going to be pretty but we can do it nevertheless by building up sub parts to make up the big program.\n",
    "It is instructive to do it once and rely on a program to do it.\n"
   ]
  },
  {
   "cell_type": "code",
   "execution_count": 18,
   "metadata": {},
   "outputs": [
    {
     "data": {
      "text/plain": [
       "\u001b[36md1\u001b[39m: \u001b[32mVarDecl\u001b[39m = \u001b[33mVarDecl\u001b[39m(\u001b[32m\"x\"\u001b[39m, \u001b[33mConst\u001b[39m(\u001b[32m5.0F\u001b[39m))\n",
       "\u001b[36md2\u001b[39m: \u001b[32mVarDecl\u001b[39m = \u001b[33mVarDecl\u001b[39m(\u001b[32m\"y\"\u001b[39m, \u001b[33mConst\u001b[39m(\u001b[32m15.0F\u001b[39m))\n",
       "\u001b[36md3\u001b[39m: \u001b[32mVarDecl\u001b[39m = \u001b[33mVarDecl\u001b[39m(\u001b[32m\"z\"\u001b[39m, \u001b[33mPlus\u001b[39m(\u001b[33mConst\u001b[39m(\u001b[32m25.0F\u001b[39m), \u001b[33mMinus\u001b[39m(\u001b[33mIdent\u001b[39m(\u001b[32m\"y\"\u001b[39m), \u001b[33mIdent\u001b[39m(\u001b[32m\"x\"\u001b[39m))))\n",
       "\u001b[36mdecls\u001b[39m: \u001b[32mList\u001b[39m[\u001b[32mVarDecl\u001b[39m] = \u001b[33mList\u001b[39m(\n",
       "  \u001b[33mVarDecl\u001b[39m(\u001b[32m\"x\"\u001b[39m, \u001b[33mConst\u001b[39m(\u001b[32m5.0F\u001b[39m)),\n",
       "  \u001b[33mVarDecl\u001b[39m(\u001b[32m\"y\"\u001b[39m, \u001b[33mConst\u001b[39m(\u001b[32m15.0F\u001b[39m)),\n",
       "  \u001b[33mVarDecl\u001b[39m(\u001b[32m\"z\"\u001b[39m, \u001b[33mPlus\u001b[39m(\u001b[33mConst\u001b[39m(\u001b[32m25.0F\u001b[39m), \u001b[33mMinus\u001b[39m(\u001b[33mIdent\u001b[39m(\u001b[32m\"y\"\u001b[39m), \u001b[33mIdent\u001b[39m(\u001b[32m\"x\"\u001b[39m))))\n",
       ")\n",
       "\u001b[36me1\u001b[39m: \u001b[32mPlus\u001b[39m = \u001b[33mPlus\u001b[39m(\n",
       "  \u001b[33mIdent\u001b[39m(\u001b[32m\"y\"\u001b[39m),\n",
       "  \u001b[33mPlus\u001b[39m(\u001b[33mIdent\u001b[39m(\u001b[32m\"z\"\u001b[39m), \u001b[33mExp\u001b[39m(\u001b[33mMinus\u001b[39m(\u001b[33mIdent\u001b[39m(\u001b[32m\"x\"\u001b[39m), \u001b[33mIdent\u001b[39m(\u001b[32m\"y\"\u001b[39m))))\n",
       ")\n",
       "\u001b[36mstmt1\u001b[39m: \u001b[32mAssignStmt\u001b[39m = \u001b[33mAssignStmt\u001b[39m(\n",
       "  \u001b[32m\"x\"\u001b[39m,\n",
       "  \u001b[33mPlus\u001b[39m(\u001b[33mIdent\u001b[39m(\u001b[32m\"y\"\u001b[39m), \u001b[33mPlus\u001b[39m(\u001b[33mIdent\u001b[39m(\u001b[32m\"z\"\u001b[39m), \u001b[33mExp\u001b[39m(\u001b[33mMinus\u001b[39m(\u001b[33mIdent\u001b[39m(\u001b[32m\"x\"\u001b[39m), \u001b[33mIdent\u001b[39m(\u001b[32m\"y\"\u001b[39m)))))\n",
       ")\n",
       "\u001b[36mcond1\u001b[39m: \u001b[32mLeq\u001b[39m = \u001b[33mLeq\u001b[39m(\u001b[33mIdent\u001b[39m(\u001b[32m\"y\"\u001b[39m), \u001b[33mConst\u001b[39m(\u001b[32m15.0F\u001b[39m))\n",
       "\u001b[36mstmt2\u001b[39m: \u001b[32mAssignStmt\u001b[39m = \u001b[33mAssignStmt\u001b[39m(\u001b[32m\"y\"\u001b[39m, \u001b[33mMinus\u001b[39m(\u001b[33mIdent\u001b[39m(\u001b[32m\"y\"\u001b[39m), \u001b[33mIdent\u001b[39m(\u001b[32m\"x\"\u001b[39m)))\n",
       "\u001b[36mcond2\u001b[39m: \u001b[32mLeq\u001b[39m = \u001b[33mLeq\u001b[39m(\u001b[33mIdent\u001b[39m(\u001b[32m\"x\"\u001b[39m), \u001b[33mConst\u001b[39m(\u001b[32m0.0F\u001b[39m))\n",
       "\u001b[36mstmt3\u001b[39m: \u001b[32mAssignStmt\u001b[39m = \u001b[33mAssignStmt\u001b[39m(\u001b[32m\"x\"\u001b[39m, \u001b[33mMinus\u001b[39m(\u001b[33mConst\u001b[39m(\u001b[32m0.0F\u001b[39m), \u001b[33mIdent\u001b[39m(\u001b[32m\"x\"\u001b[39m)))\n",
       "\u001b[36mifStmt\u001b[39m: \u001b[32mIfThenElseStmt\u001b[39m = \u001b[33mIfThenElseStmt\u001b[39m(\n",
       "  \u001b[33mLeq\u001b[39m(\u001b[33mIdent\u001b[39m(\u001b[32m\"x\"\u001b[39m), \u001b[33mConst\u001b[39m(\u001b[32m0.0F\u001b[39m)),\n",
       "  \u001b[33mList\u001b[39m(\u001b[33mAssignStmt\u001b[39m(\u001b[32m\"x\"\u001b[39m, \u001b[33mMinus\u001b[39m(\u001b[33mConst\u001b[39m(\u001b[32m0.0F\u001b[39m), \u001b[33mIdent\u001b[39m(\u001b[32m\"x\"\u001b[39m)))),\n",
       "  \u001b[33mList\u001b[39m()\n",
       ")\n",
       "\u001b[36mwhileStmt\u001b[39m: \u001b[32mWhileStmt\u001b[39m = \u001b[33mWhileStmt\u001b[39m(\n",
       "  \u001b[33mLeq\u001b[39m(\u001b[33mIdent\u001b[39m(\u001b[32m\"y\"\u001b[39m), \u001b[33mConst\u001b[39m(\u001b[32m15.0F\u001b[39m)),\n",
       "  \u001b[33mList\u001b[39m(\n",
       "    \u001b[33mAssignStmt\u001b[39m(\u001b[32m\"y\"\u001b[39m, \u001b[33mMinus\u001b[39m(\u001b[33mIdent\u001b[39m(\u001b[32m\"y\"\u001b[39m), \u001b[33mIdent\u001b[39m(\u001b[32m\"x\"\u001b[39m))),\n",
       "    \u001b[33mIfThenElseStmt\u001b[39m(\n",
       "      \u001b[33mLeq\u001b[39m(\u001b[33mIdent\u001b[39m(\u001b[32m\"x\"\u001b[39m), \u001b[33mConst\u001b[39m(\u001b[32m0.0F\u001b[39m)),\n",
       "      \u001b[33mList\u001b[39m(\u001b[33mAssignStmt\u001b[39m(\u001b[32m\"x\"\u001b[39m, \u001b[33mMinus\u001b[39m(\u001b[33mConst\u001b[39m(\u001b[32m0.0F\u001b[39m), \u001b[33mIdent\u001b[39m(\u001b[32m\"x\"\u001b[39m)))),\n",
       "      \u001b[33mList\u001b[39m()\n",
       "    )\n",
       "  )\n",
       ")\n",
       "\u001b[36mallstmts\u001b[39m: \u001b[32mList\u001b[39m[\u001b[32mProduct\u001b[39m with \u001b[32mSerializable\u001b[39m with \u001b[32mStatement\u001b[39m] = \u001b[33mList\u001b[39m(\n",
       "  \u001b[33mAssignStmt\u001b[39m(\n",
       "    \u001b[32m\"x\"\u001b[39m,\n",
       "    \u001b[33mPlus\u001b[39m(\u001b[33mIdent\u001b[39m(\u001b[32m\"y\"\u001b[39m), \u001b[33mPlus\u001b[39m(\u001b[33mIdent\u001b[39m(\u001b[32m\"z\"\u001b[39m), \u001b[33mExp\u001b[39m(\u001b[33mMinus\u001b[39m(\u001b[33mIdent\u001b[39m(\u001b[32m\"x\"\u001b[39m), \u001b[33mIdent\u001b[39m(\u001b[32m\"y\"\u001b[39m)))))\n",
       "  ),\n",
       "  \u001b[33mWhileStmt\u001b[39m(\n",
       "    \u001b[33mLeq\u001b[39m(\u001b[33mIdent\u001b[39m(\u001b[32m\"y\"\u001b[39m), \u001b[33mConst\u001b[39m(\u001b[32m15.0F\u001b[39m)),\n",
       "    \u001b[33mList\u001b[39m(\n",
       "      \u001b[33mAssignStmt\u001b[39m(\u001b[32m\"y\"\u001b[39m, \u001b[33mMinus\u001b[39m(\u001b[33mIdent\u001b[39m(\u001b[32m\"y\"\u001b[39m), \u001b[33mIdent\u001b[39m(\u001b[32m\"x\"\u001b[39m))),\n",
       "      \u001b[33mIfThenElseStmt\u001b[39m(\n",
       "        \u001b[33mLeq\u001b[39m(\u001b[33mIdent\u001b[39m(\u001b[32m\"x\"\u001b[39m), \u001b[33mConst\u001b[39m(\u001b[32m0.0F\u001b[39m)),\n",
       "        \u001b[33mList\u001b[39m(\u001b[33mAssignStmt\u001b[39m(\u001b[32m\"x\"\u001b[39m, \u001b[33mMinus\u001b[39m(\u001b[33mConst\u001b[39m(\u001b[32m0.0F\u001b[39m), \u001b[33mIdent\u001b[39m(\u001b[32m\"x\"\u001b[39m)))),\n",
       "        \u001b[33mList\u001b[39m()\n",
       "      )\n",
       "    )\n",
       "  )\n",
       ")\n",
       "\u001b[36mretExpr\u001b[39m: \u001b[32mMinus\u001b[39m = \u001b[33mMinus\u001b[39m(\u001b[33mIdent\u001b[39m(\u001b[32m\"y\"\u001b[39m), \u001b[33mIdent\u001b[39m(\u001b[32m\"x\"\u001b[39m))\n",
       "\u001b[36mprogram\u001b[39m: \u001b[32mProgram\u001b[39m = \u001b[33mProgram\u001b[39m(\n",
       "  \u001b[33mList\u001b[39m(\n",
       "    \u001b[33mVarDecl\u001b[39m(\u001b[32m\"x\"\u001b[39m, \u001b[33mConst\u001b[39m(\u001b[32m5.0F\u001b[39m)),\n",
       "    \u001b[33mVarDecl\u001b[39m(\u001b[32m\"y\"\u001b[39m, \u001b[33mConst\u001b[39m(\u001b[32m15.0F\u001b[39m)),\n",
       "    \u001b[33mVarDecl\u001b[39m(\u001b[32m\"z\"\u001b[39m, \u001b[33mPlus\u001b[39m(\u001b[33mConst\u001b[39m(\u001b[32m25.0F\u001b[39m), \u001b[33mMinus\u001b[39m(\u001b[33mIdent\u001b[39m(\u001b[32m\"y\"\u001b[39m), \u001b[33mIdent\u001b[39m(\u001b[32m\"x\"\u001b[39m))))\n",
       "  ),\n",
       "  \u001b[33mList\u001b[39m(\n",
       "    \u001b[33mAssignStmt\u001b[39m(\n",
       "      \u001b[32m\"x\"\u001b[39m,\n",
       "      \u001b[33mPlus\u001b[39m(\u001b[33mIdent\u001b[39m(\u001b[32m\"y\"\u001b[39m), \u001b[33mPlus\u001b[39m(\u001b[33mIdent\u001b[39m(\u001b[32m\"z\"\u001b[39m), \u001b[33mExp\u001b[39m(\u001b[33mMinus\u001b[39m(\u001b[33mIdent\u001b[39m(\u001b[32m\"x\"\u001b[39m), \u001b[33mIdent\u001b[39m(\u001b[32m\"y\"\u001b[39m)))))\n",
       "    ),\n",
       "    \u001b[33mWhileStmt\u001b[39m(\n",
       "      \u001b[33mLeq\u001b[39m(\u001b[33mIdent\u001b[39m(\u001b[32m\"y\"\u001b[39m), \u001b[33mConst\u001b[39m(\u001b[32m15.0F\u001b[39m)),\n",
       "      \u001b[33mList\u001b[39m(\n",
       "        \u001b[33mAssignStmt\u001b[39m(\u001b[32m\"y\"\u001b[39m, \u001b[33mMinus\u001b[39m(\u001b[33mIdent\u001b[39m(\u001b[32m\"y\"\u001b[39m), \u001b[33mIdent\u001b[39m(\u001b[32m\"x\"\u001b[39m))),\n",
       "        \u001b[33mIfThenElseStmt\u001b[39m(\n",
       "          \u001b[33mLeq\u001b[39m(\u001b[33mIdent\u001b[39m(\u001b[32m\"x\"\u001b[39m), \u001b[33mConst\u001b[39m(\u001b[32m0.0F\u001b[39m)),\n",
       "          \u001b[33mList\u001b[39m(\u001b[33mAssignStmt\u001b[39m(\u001b[32m\"x\"\u001b[39m, \u001b[33mMinus\u001b[39m(\u001b[33mConst\u001b[39m(\u001b[32m0.0F\u001b[39m), \u001b[33mIdent\u001b[39m(\u001b[32m\"x\"\u001b[39m)))),\n",
       "          \u001b[33mList\u001b[39m()\n",
       "        )\n",
       "      )\n",
       "    )\n",
       "  ),\n",
       "  \u001b[33mMinus\u001b[39m(\u001b[33mIdent\u001b[39m(\u001b[32m\"y\"\u001b[39m), \u001b[33mIdent\u001b[39m(\u001b[32m\"x\"\u001b[39m))\n",
       ")"
      ]
     },
     "execution_count": 18,
     "metadata": {},
     "output_type": "execute_result"
    }
   ],
   "source": [
    "val d1 = VarDecl(\"x\", Const(5.0f)) // var x = 5\n",
    "val d2 = VarDecl(\"y\", Const(15.0f)) // var y = 15\n",
    "val d3 = VarDecl(\"z\", Plus(Const(25.0f), Minus(Ident(\"y\"), Ident(\"x\")))) // var z = 25 + y - x\n",
    "val decls = List(d1, d2, d3)\n",
    "val e1 = Plus(Ident(\"y\"), Plus( Ident(\"z\"), Exp( Minus(Ident(\"x\"), Ident(\"y\")) ) )) // y + z + exp(x - y)\n",
    "val stmt1 = AssignStmt(\"x\", e1) // x = y + z + exp(x - y)\n",
    "// Let us make up the parts of the while statement\n",
    "val cond1 = Leq(Ident(\"y\"), Const(15.0f)) // y <= 15\n",
    "// The assignment inside the while\n",
    "val stmt2 = AssignStmt(\"y\", Minus(Ident(\"y\"), Ident(\"x\"))) // y = y - x\n",
    "// The condition for the if statement\n",
    "val cond2 = Leq(Ident(\"x\"), Const(0.0f)) // x <= 0.0\n",
    "val stmt3 = AssignStmt(\"x\", Minus(Const(0.0f), Ident(\"x\"))) // x= 0 - x\n",
    "val ifStmt = IfThenElseStmt(cond2, List(stmt3), List()) // if ( x <= 0) x = -x else nothing\n",
    "val whileStmt = WhileStmt(cond1, List(stmt2, ifStmt)) // while loop \n",
    "val allstmts = List(stmt1, whileStmt)\n",
    "val retExpr = Minus(Ident(\"y\"), Ident(\"x\")) // y - x to be returned\n",
    "val program = Program(decls, allstmts, retExpr )\n",
    "// This produces a big mess of symbols below but it is really how a computer sees the program you enter."
   ]
  },
  {
   "cell_type": "markdown",
   "metadata": {},
   "source": [
    "It is much more informative to view the this program as a tree, making the connection between the original program and this tree much clearer.\n",
    "\n",
    "**TODO: Draw a tree for the program above**"
   ]
  },
  {
   "cell_type": "markdown",
   "metadata": {},
   "source": [
    "## Parsing: The Stuff we will not talk about."
   ]
  },
  {
   "cell_type": "markdown",
   "metadata": {},
   "source": [
    "We should now address an important gap that you may have already spotted. We write a program in our language\n",
    "as a text file \n",
    "\n",
    "~~~ \n",
    "var x = 5;\n",
    "var y = 15;\n",
    "var z = 25 + y - x;\n",
    "x = y + z + exp(x - y);\n",
    "while ( y <= 15) \n",
    "   begin\n",
    "      y = y - x ;\n",
    "      if (x <= 0)\n",
    "      begin\n",
    "         x = -x; \n",
    "      end\n",
    "   end\n",
    "return (y - x)\n",
    "~~~ \n",
    "\n",
    "a) How is this related to the term representation below?\n",
    "\n",
    "\n",
    "~~~\n",
    "Program(List(VarDecl(x,Const(5.0)), VarDecl(y,Const(15.0)), VarDecl(z,Plus(Const(25.0),Minus(Ident(y),Ident(x))))),List(AssignStmt(x,Plus(Ident(y),Plus(Ident(z),Exp(Minus(Ident(x),Ident(y)))))), WhileStmt(Leq(Ident(y),Const(15.0)),List(AssignStmt(y,Minus(Ident(y),Ident(x))), IfThenElseStmt(Leq(Ident(x),Const(0.0)),List(AssignStmt(x,Minus(Const(0.0),Ident(x)))),List())))),Minus(Ident(y),Ident(x)))\n",
    "~~~\n",
    "\n",
    "\n",
    "b) How do we get from the text file to the scala representation?\n",
    "\n",
    "\n",
    "The answers are simple: a) the scala representation has all the essential information needed to reproduce the text of the same program upto some loss in spacing, comments, indentation and so on; b) the text file can be converted to the scala representation and vice-vera by an algorithm called the _parser_. \n",
    "\n",
    "The parser takes in the human readable program text and produces the internal representation shown by the term. The term is often called the _abstract syntax tree_ of the program.\n",
    "\n",
    "Parsing requires to go in depth into context free grammars and a special type called LALR grammars. As such, it is the subject of a different class called __Compilers__. We will not be focusing on building parsers in this class. Therefore, for the purposes of this class, we will assume there is a parser that can take a program as entered by the user and build an abstract syntax tree representation as shown here.\n",
    "\n"
   ]
  }
 ],
 "metadata": {
  "kernelspec": {
   "display_name": "Scala (3.6.3)",
   "language": "scala",
   "name": "scala363"
  },
  "language_info": {
   "codemirror_mode": "text/x-scala",
   "file_extension": ".sc",
   "mimetype": "text/x-scala",
   "name": "scala",
   "nbconvert_exporter": "script",
   "version": "2.13.16"
  }
 },
 "nbformat": 4,
 "nbformat_minor": 4
}
