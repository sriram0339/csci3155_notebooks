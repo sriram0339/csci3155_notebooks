{
 "cells": [
  {
   "cell_type": "markdown",
   "metadata": {},
   "source": [
    "# Lecture 3: Recursion and Induction\n",
    "\n",
    "In this lecture, our plan is to investigate the following concepts.\n",
    "\n",
    "- We will start by  looking afresh at recursive functions.\n",
    "  - Termination, Recursion depth and Number of recursive calls.\n",
    "- Tail recursion.\n",
    "- Making functions tail recursive.\n",
    "- Fun (?) with recursion.\n"
   ]
  },
  {
   "cell_type": "markdown",
   "metadata": {},
   "source": [
    "## Recursive Functions.\n",
    "\n",
    "A function $f$ is defined recursively if the body of the definition refers back to $f$. The easiest example is that of the `factorial` function, which we have already encountered before.\n"
   ]
  },
  {
   "cell_type": "code",
   "execution_count": 1,
   "metadata": {},
   "outputs": [
    {
     "data": {
      "text/plain": [
       "defined \u001b[32mfunction\u001b[39m \u001b[36mfactorial\u001b[39m"
      ]
     },
     "execution_count": 1,
     "metadata": {},
     "output_type": "execute_result"
    }
   ],
   "source": [
    "def factorial(x: Int): Int = {\n",
    "    if (x == 0) {\n",
    "       1 // This is called the base case\n",
    "    } else { \n",
    "       x * factorial(x-1) // The recursion is here.   \n",
    "    }\n",
    "}"
   ]
  },
  {
   "cell_type": "code",
   "execution_count": 2,
   "metadata": {},
   "outputs": [
    {
     "data": {
      "text/plain": [
       "\u001b[36mx1\u001b[39m: \u001b[32mInt\u001b[39m = \u001b[32m120\u001b[39m\n",
       "\u001b[36mx2\u001b[39m: \u001b[32mInt\u001b[39m = \u001b[32m3628800\u001b[39m"
      ]
     },
     "execution_count": 2,
     "metadata": {},
     "output_type": "execute_result"
    }
   ],
   "source": [
    "val x1 = factorial(5)\n",
    "val x2 = factorial(10)"
   ]
  },
  {
   "cell_type": "markdown",
   "metadata": {},
   "source": [
    "Factorial is recursive since in its body we are refering \n",
    "back to the function itself. This seems like a circular definition,\n",
    "and certainly prone to lots of abuse. For example, take a look at the `myCrazyMeaninglessVeryBadFunction` below. What is wrong with this function?"
   ]
  },
  {
   "cell_type": "code",
   "execution_count": 3,
   "metadata": {},
   "outputs": [
    {
     "data": {
      "text/plain": [
       "defined \u001b[32mfunction\u001b[39m \u001b[36mmyCrazyMeaninglessVeryBadFunction\u001b[39m"
      ]
     },
     "execution_count": 3,
     "metadata": {},
     "output_type": "execute_result"
    }
   ],
   "source": [
    "def myCrazyMeaninglessVeryBadFunction(x: Int): Int = {\n",
    "    if (x == 0 ){\n",
    "        1 // The base case\n",
    "    } else { \n",
    "        x * myCrazyMeaninglessVeryBadFunction(x) // The recursion\n",
    "    }\n",
    "}"
   ]
  },
  {
   "cell_type": "markdown",
   "metadata": {},
   "source": [
    "The answer is simple: `factorial` _seems to_ terminate to provide an answer for all inputs, whereas `myCrazy...Function` simply does not terminate for any input. \n",
    "\n",
    "We will first consider simple recursive definitions that have the following form:\n",
    "\n",
    "$$ f(x) = \\left\\{ \\begin{array}{ll}\n",
    "    \\text{constant} & \\text{if (base case condition holds)} \\\\\n",
    "    \\text{.. expression involving f .. } & \\text{otherwise} \\\\\n",
    "    \\end{array}\\right.$$\n",
    "\n",
    "Therefore, for any input $x_0$, we expect to observe a sequence of recursive calls: \n",
    "\n",
    "$$ f(x_0) \\rightsquigarrow f(x_1) \\rightsquigarrow \\cdots \\rightsquigarrow f(x_N) \\rightsquigarrow \\cdots $$\n",
    "\n",
    "We want that for every $x_0$ (starting value), the sequence obtained always reaches the base case condition and exits.\n",
    "\n",
    "__Definition (Termination)__ A recursive definition of a function $f(x)$ is terminating if and only if the sequence of recursive calls for any value of $x$ eventually hits the base case of the recursion.\n",
    "\n",
    "We already see that `myCrazy...Function` is not terminating and the reason is obvious: `myCrazy...Function(x)` calls back `myCrazy...Function(x)` thus going into an infinite loop.\n",
    "\n",
    "On the other hand, `factorial(x)` calls `factorial(x-1)`, which in turn calls `factorial(x-2)`, and so on. It is easy to see that for any $ x \\geq 0$, this process of unwinding the definitions will eventually get us to the base case `factorial(0)` and thus terminate. \n",
    "\n",
    "Therefore, is the factorial function terminating? Unfortunately, not as defined. This is where you have to be careful. It seems to terminate for inputs such as $2$.\n",
    "\n",
    "$$\\text{factorial(2)} \\rightsquigarrow \\text{factorial(1)} \\rightsquigarrow \\text{factorial(0)} \\,.$$\n",
    "\n",
    "But what about `factorial(-2)`? It exposes the issue.\n",
    "\n",
    "$$\\text{factorial(-2)} \\rightsquigarrow \\text{factorial(-3)} \\rightsquigarrow \\text{factorial(-4)} \\rightsquigarrow \\cdots \\,.$$\n",
    "\n",
    "The reader at this point may argue that `factorial(n)` was defined only for positive integers $n$. However, this is not reflected in the type of the scala function: `factorial( x: Int): Int` which promises to return an integer whenever the input is an integer (that includes both positive and negative numbers).\n",
    "\n",
    "## Preconditions\n",
    "\n",
    "A precondition is a constraint that restricts what inputs can be used to call a function. \n",
    "\n",
    "For instance, the `factorial` function has the precondition that its input must be non negative. In scala we can use the `require` keyword to specify a precondition.\n"
   ]
  },
  {
   "cell_type": "code",
   "execution_count": 4,
   "metadata": {},
   "outputs": [
    {
     "data": {
      "text/plain": [
       "defined \u001b[32mfunction\u001b[39m \u001b[36mfactorialWithPreconds\u001b[39m"
      ]
     },
     "execution_count": 4,
     "metadata": {},
     "output_type": "execute_result"
    }
   ],
   "source": [
    "def factorialWithPreconds(x: Int): Int = {\n",
    "    require(x >= 0)\n",
    "    if (x == 0) {\n",
    "       1 // This is called the base case\n",
    "    } else { \n",
    "       x * factorialWithPreconds(x-1) // The recursion is here.   \n",
    "    }\n",
    "}"
   ]
  },
  {
   "cell_type": "code",
   "execution_count": 5,
   "metadata": {},
   "outputs": [
    {
     "data": {
      "text/plain": [
       "\u001b[36my\u001b[39m: \u001b[32mInt\u001b[39m = \u001b[32m2\u001b[39m"
      ]
     },
     "execution_count": 5,
     "metadata": {},
     "output_type": "execute_result"
    }
   ],
   "source": [
    "val y = factorialWithPreconds(2)"
   ]
  },
  {
   "cell_type": "code",
   "execution_count": 6,
   "metadata": {},
   "outputs": [
    {
     "ename": "",
     "evalue": "",
     "output_type": "error",
     "traceback": [
      "\u001b[31mjava.lang.IllegalArgumentException: requirement failed\u001b[39m\n  scala.Predef$.require(\u001b[32mPredef.scala\u001b[39m:\u001b[32m268\u001b[39m)\n  ammonite.$sess.cmd3$Helper.factorialWithPreconds(\u001b[32mcmd3.sc\u001b[39m:\u001b[32m2\u001b[39m)\n  ammonite.$sess.cmd5$Helper.<init>(\u001b[32mcmd5.sc\u001b[39m:\u001b[32m1\u001b[39m)\n  ammonite.$sess.cmd5$.<init>(\u001b[32mcmd5.sc\u001b[39m:\u001b[32m7\u001b[39m)\n  ammonite.$sess.cmd5$.<clinit>(\u001b[32mcmd5.sc\u001b[39m:\u001b[32m-1\u001b[39m)"
     ]
    }
   ],
   "source": [
    "val z = factorialWithPreconds(-2)"
   ]
  },
  {
   "cell_type": "markdown",
   "metadata": {},
   "source": [
    "## Preconditions versus Default Values\n",
    "\n",
    "Preconditions are very useful in software engineering practice. They expose the designer's expectations on what the inputs to a function should look like so that the execution can proceed without bugs. It is an important habit to try and write preconditions whenever appropriate.\n",
    "\n",
    "Another approach is to simply return a default value (say `-1` or `0`) when evaluating a function. The advantage is that it allows any input to execute without throwing an exception. However, the key disadvantage is that it imposes a requirement that the result of the function always be checked by the caller and the default values handled appropriately.  Failing such a check often leads to _silent failures_ or failures that are see far away from the true cause. \n"
   ]
  },
  {
   "cell_type": "markdown",
   "metadata": {},
   "source": [
    "## Termination and Ranking Functions\n",
    "\n",
    "The question of whether a recursive definition terminates is very important and at the same time a very hard problem. The main tool here is to show that the sequence of recursive calls from an input x _makes progress_ towards the base case condition. \n",
    "\n",
    "Consider the function `factorialWithPrecond(x: Int)` with input $x$ that satisfies the precondition $x \\geq 0$. \n",
    "\n",
    "- The base case of this call is $x = 0$.\n",
    "- Each call to `factorialWithPrecond(x)` with $x > 0$, results in the recursive call to `factorialWithPrecond(x - 1)`.\n",
    "\n",
    "Thus, we can combine the two statements to conclude that any call to `factorialWithPrecond(x)` will terminate in $(1 + x)$ steps provided $x \\geq 0$.\n",
    "\n",
    "Let us take another slightly more complex definition.\n"
   ]
  },
  {
   "cell_type": "code",
   "execution_count": 7,
   "metadata": {},
   "outputs": [
    {
     "data": {
      "text/plain": [
       "defined \u001b[32mfunction\u001b[39m \u001b[36mfibonacci\u001b[39m"
      ]
     },
     "execution_count": 7,
     "metadata": {},
     "output_type": "execute_result"
    }
   ],
   "source": [
    "def fibonacci(n: Int): Int = {\n",
    "    require ( n >= 0 )\n",
    "    if (n <= 1) { 1 }\n",
    "    else {\n",
    "        fibonacci(n-1) + fibonacci(n-2)\n",
    "    }\n",
    "}"
   ]
  },
  {
   "cell_type": "markdown",
   "metadata": {},
   "source": [
    "`fibonacci` computes the $n^{th}$ Fibonacci number for $n \\geq 0$. We have added the precondition $n \\geq 0$ to enure that it is never callable on negative inputs and such. Is it terminating?\n",
    "\n",
    "A big difference between `factorial` and `fibonacci` is that while the former recursion involves just one call back to itself, `fibonacci` calls itself back twice. \n",
    "\n",
    "However, is it terminating?\n",
    "\n",
    "Yes it is and the same principles we used to understand factorial function can help us here. Each call to `fibonacci(n)` calls back `fibonacci(n-1)` and `fibonacci(n-2)`. The termination can be easily established through induction.\n",
    "- Base Case: `fibonacci(0)` terminates.\n",
    "- Induction Step: If `fibonacci(k)` terminates for all $ 0 \\leq k \\leq n-1$ and $n \\geq 1$, then so does `fibonacci(n)`.\n",
    "  - Case 1: $ n = 1$. The base case applies and it terminates\n",
    "  - Case 2: $ n \\geq 2$. \n",
    "    - We can apply induction to see that both recursive calls `fibonacci(n-1)` and `fibonacci(n-2)` terminate. \n",
    "    - To do so understand that the inductive hypothesis applies to $0 \\leq k \\leq n-1$. \n",
    "    - We verify that  $0 \\leq n-1 \\leq n-1$ and $0 \\leq n-2 \\leq n-1$.\n",
    "- Therefore, we can conclude that `fibonacci(n)` terminates.\n",
    "\n"
   ]
  },
  {
   "cell_type": "code",
   "execution_count": 8,
   "metadata": {},
   "outputs": [
    {
     "data": {
      "text/plain": [
       "defined \u001b[32mfunction\u001b[39m \u001b[36misPowerOfTwo\u001b[39m\n",
       "defined \u001b[32mfunction\u001b[39m \u001b[36mrecurseToPowerOfTwo\u001b[39m"
      ]
     },
     "execution_count": 8,
     "metadata": {},
     "output_type": "execute_result"
    }
   ],
   "source": [
    "// Here are two recursions that look different.\n",
    "// Are they terminating?\n",
    "def isPowerOfTwo(x: Int): Boolean = {\n",
    "    // Check if x is a power of two\n",
    "    require( x >= 0)\n",
    "    if (x == 0) { false }\n",
    "    else if (x == 1) { true }\n",
    "    else if (x % 2 == 1) { false }\n",
    "    else {\n",
    "        isPowerOfTwo(x / 2)\n",
    "    }\n",
    "}\n",
    "\n",
    "def recurseToPowerOfTwo(x: Int): Int = {\n",
    "    require( x >= 0)\n",
    "    if (isPowerOfTwo(x)) { x }\n",
    "    else {\n",
    "        recurseToPowerOfTwo(x + 1)\n",
    "    }\n",
    "}"
   ]
  },
  {
   "cell_type": "code",
   "execution_count": 9,
   "metadata": {},
   "outputs": [
    {
     "data": {
      "text/plain": [
       "\u001b[36mz\u001b[39m: \u001b[32mBoolean\u001b[39m = false\n",
       "\u001b[36mw\u001b[39m: \u001b[32mBoolean\u001b[39m = true"
      ]
     },
     "execution_count": 9,
     "metadata": {},
     "output_type": "execute_result"
    }
   ],
   "source": [
    "val z = isPowerOfTwo(15)\n",
    "val w = isPowerOfTwo(32)"
   ]
  },
  {
   "cell_type": "code",
   "execution_count": 10,
   "metadata": {},
   "outputs": [
    {
     "data": {
      "text/plain": [
       "\u001b[36me1\u001b[39m: \u001b[32mInt\u001b[39m = \u001b[32m64\u001b[39m"
      ]
     },
     "execution_count": 10,
     "metadata": {},
     "output_type": "execute_result"
    }
   ],
   "source": [
    "val e1  = recurseToPowerOfTwo(35)"
   ]
  },
  {
   "cell_type": "code",
   "execution_count": 11,
   "metadata": {},
   "outputs": [
    {
     "data": {
      "text/plain": [
       "\u001b[36me2\u001b[39m: \u001b[32mInt\u001b[39m = \u001b[32m256\u001b[39m"
      ]
     },
     "execution_count": 11,
     "metadata": {},
     "output_type": "execute_result"
    }
   ],
   "source": [
    "val e2  = recurseToPowerOfTwo(135)"
   ]
  },
  {
   "cell_type": "code",
   "execution_count": 12,
   "metadata": {},
   "outputs": [
    {
     "data": {
      "text/plain": [
       "defined \u001b[32mfunction\u001b[39m \u001b[36mM\u001b[39m"
      ]
     },
     "execution_count": 12,
     "metadata": {},
     "output_type": "execute_result"
    }
   ],
   "source": [
    "// Here is a famous recursion due to Manna, Pnueli and McCarthy. \n",
    "// Can you guess what it does?\n",
    "\n",
    "def M(x: Int): Int = {\n",
    "    if (x > 100) { x - 10 }\n",
    "    else { M(M( x+11 ))}\n",
    "}"
   ]
  },
  {
   "cell_type": "code",
   "execution_count": 13,
   "metadata": {},
   "outputs": [
    {
     "data": {
      "text/plain": [
       "\u001b[36mx1\u001b[39m: \u001b[32mInt\u001b[39m = \u001b[32m91\u001b[39m"
      ]
     },
     "execution_count": 13,
     "metadata": {},
     "output_type": "execute_result"
    }
   ],
   "source": [
    "val x1 = M(-20)"
   ]
  },
  {
   "cell_type": "code",
   "execution_count": 14,
   "metadata": {},
   "outputs": [
    {
     "data": {
      "text/plain": [
       "\u001b[36mx2\u001b[39m: \u001b[32mInt\u001b[39m = \u001b[32m135\u001b[39m"
      ]
     },
     "execution_count": 14,
     "metadata": {},
     "output_type": "execute_result"
    }
   ],
   "source": [
    "val x2 = M(145)"
   ]
  },
  {
   "cell_type": "code",
   "execution_count": 15,
   "metadata": {},
   "outputs": [
    {
     "data": {
      "text/plain": [
       "\u001b[36mx3\u001b[39m: \u001b[32mInt\u001b[39m = \u001b[32m91\u001b[39m"
      ]
     },
     "execution_count": 15,
     "metadata": {},
     "output_type": "execute_result"
    }
   ],
   "source": [
    "val x3 = M(55)"
   ]
  },
  {
   "cell_type": "code",
   "execution_count": 16,
   "metadata": {},
   "outputs": [
    {
     "data": {
      "text/plain": [
       "defined \u001b[32mfunction\u001b[39m \u001b[36mcollatz\u001b[39m"
      ]
     },
     "execution_count": 16,
     "metadata": {},
     "output_type": "execute_result"
    }
   ],
   "source": [
    "// Termination proof of this function is open.\n",
    "// See Collatz problem: which asks if this recursive\n",
    "// function below terminates on all inputs.\n",
    "\n",
    "def collatz(x: Int): Int = {\n",
    "    require (x >= 0)\n",
    "    if (x == 1) { 1 }\n",
    "    else if (x % 2 == 1) { collatz (3 * x + 1 )}\n",
    "    else { collatz (x / 2 )}\n",
    "}"
   ]
  },
  {
   "cell_type": "code",
   "execution_count": 17,
   "metadata": {},
   "outputs": [
    {
     "data": {
      "text/plain": [
       "\u001b[36mv1\u001b[39m: \u001b[32mInt\u001b[39m = \u001b[32m1\u001b[39m\n",
       "\u001b[36mv2\u001b[39m: \u001b[32mInt\u001b[39m = \u001b[32m1\u001b[39m\n",
       "\u001b[36mv3\u001b[39m: \u001b[32mInt\u001b[39m = \u001b[32m1\u001b[39m"
      ]
     },
     "execution_count": 17,
     "metadata": {},
     "output_type": "execute_result"
    }
   ],
   "source": [
    "val v1 = collatz(51)\n",
    "val v2 = collatz(79)\n",
    "val v3 = collatz(352)"
   ]
  },
  {
   "cell_type": "markdown",
   "metadata": {},
   "source": [
    "## Recursion Tree, (Stack) Depth and Number of Calls"
   ]
  },
  {
   "cell_type": "markdown",
   "metadata": {},
   "source": [
    "How is a recursive function executed:\n",
    "- The system maintains a call stack with an `activation record` for each function call. \n",
    "- When a function is called, a new activation record is created for the called function that includes the return address (where in the program to return to when the call returns), the values of function call parameters and local variables to the function.\n",
    "- When a function returns, the control passes back to its caller at the return address stored in the stack.\n",
    "\n",
    "### Example\n",
    "\n",
    "Consider the following code snippet:\n"
   ]
  },
  {
   "cell_type": "code",
   "execution_count": 18,
   "metadata": {},
   "outputs": [
    {
     "data": {
      "text/plain": [
       "defined \u001b[32mfunction\u001b[39m \u001b[36mf\u001b[39m\n",
       "defined \u001b[32mfunction\u001b[39m \u001b[36mg\u001b[39m\n",
       "defined \u001b[32mfunction\u001b[39m \u001b[36mh\u001b[39m\n",
       "\u001b[36mres17_3\u001b[39m: \u001b[32mInt\u001b[39m = \u001b[32m755\u001b[39m"
      ]
     },
     "execution_count": 18,
     "metadata": {},
     "output_type": "execute_result"
    }
   ],
   "source": [
    "def f(x: Int): Int = {\n",
    "    x * 5\n",
    "}\n",
    "\n",
    "def g(y: Int): Int = {\n",
    "     val tmp = f(y)\n",
    "     tmp * 10\n",
    "}\n",
    "\n",
    "def h(z: Int): Int = {\n",
    "    val tmp2 = g(z)\n",
    "    tmp2 + 5\n",
    "}\n",
    "\n",
    "h(15)\n",
    "// stuff that follows h(15)"
   ]
  },
  {
   "cell_type": "markdown",
   "metadata": {},
   "source": [
    "The call to `h(15)` causes an activation record for `h` to be created. We will not really go into the details of how the Java Virtual Machine (JVM) does activation records.\n",
    "\n",
    "The activation record for the call to h looks somewhat like a table with the following information:\n",
    "\n",
    "~~~\n",
    "Activation record for h\n",
    "Return Address: Line 16.\n",
    "z: 15\n",
    "tmp2: ....\n",
    "~~~\n",
    "\n",
    "Now `h` executes with `z: 15` and it issues a call to `g` with `z` as the argument. \n",
    "Therefore, a new activation record is created and placed on top of the stack.\n",
    "\n",
    "~~~\n",
    "Activation record for g.\n",
    "Return Address: line 12.\n",
    "y: 15\n",
    "tmp: ...\n",
    "\n",
    "Activation record for h\n",
    "Return Address: Line 16.\n",
    "z: 15\n",
    "tmp2: ...\n",
    "~~~\n",
    "\n",
    "Finally, `f` is called and a new activation record for `f` is created and placed on top of the stack.\n",
    "\n",
    "~~~\n",
    "Activation record for f.\n",
    "Return Address: line 7\n",
    "x: 15\n",
    "\n",
    "Activation record for g.\n",
    "Return Address: line 12.\n",
    "y: 15\n",
    "tmp: ...\n",
    "\n",
    "Activation record for h\n",
    "return Address: Line 16.\n",
    "z: 15\n",
    "tmp2: ...\n",
    "~~~\n",
    "\n",
    "When `f` finished executing, it returns `75` that gets placed in the val `tmp` for `g`. The activation record for `f` is taken out of the stack and the modified record for `g` looks like this.\n",
    "\n",
    "~~~\n",
    "\n",
    "Activation record for g.\n",
    "Return Address: line 12.\n",
    "y: 15\n",
    "tmp: 75 \n",
    "\n",
    "Activation record for h\n",
    "return Address: Line 16.\n",
    "z: 15\n",
    "tmp2: ...\n",
    "~~~\n",
    "\n",
    "Similarly, `g` finishes its execution and returns 750 back to its caller.\n",
    "\n",
    "~~~\n",
    "Activation record for h\n",
    "return Address: Line 16.\n",
    "z: 15\n",
    "tmp2: 750\n",
    "~~~\n",
    "\n",
    "As you can see the stack grows with a function call when a new activation record is added and shrinks when a function returns.\n"
   ]
  },
  {
   "cell_type": "markdown",
   "metadata": {},
   "source": [
    "\n",
    "### Recursive Calls\n",
    "\n",
    "Thus, recursive calls are implemented much like any other function call. However, because these functions call themselves, the stack grows as recursive calls are made. We are interested in two aspects of the resource consumption:\n",
    "\n",
    "- __Depth of Recursion:__ how many activation records can reside in the stack at any point during the execution of the recursive function, in the worst case?\n",
    "- __Number of Recursive Calls:__ How many calls are made to the recursive function in total?\n",
    "\n",
    "<todo illustrate this with diagrams in class>\n",
    "\n",
    "To facilitate this analysis, we can view the execution of a recursion as a tree wherein the root of the tree is the very first recursive call. For each node, the children are just the recursive calls made by that node. Leaves of the tree correspond to calls that fall into the base cases.\n",
    "\n",
    "<todo illustrate with a diagram>\n",
    "\n",
    "The depth of the tree is therefore the depth of the recursion. The number of recursive calls is the number of nodes in the tree.\n",
    "\n",
    "\n",
    "### Factorial Function\n",
    "\n",
    "Let us draw this tree for `factorial(5)`, having fixed the issue for factorial by adding `require(x >= 0)`.\n",
    "\n"
   ]
  },
  {
   "cell_type": "code",
   "execution_count": 19,
   "metadata": {},
   "outputs": [
    {
     "data": {
      "text/plain": [
       "defined \u001b[32mfunction\u001b[39m \u001b[36mfactorial\u001b[39m"
      ]
     },
     "execution_count": 19,
     "metadata": {},
     "output_type": "execute_result"
    }
   ],
   "source": [
    "def factorial(x : Int): Int = {\n",
    "    require( x >= 0) // Fixed the issue!\n",
    "    if (x == 0 ) 1 else {x * factorial(x-1)}\n",
    "}"
   ]
  },
  {
   "cell_type": "markdown",
   "metadata": {},
   "source": [
    "Here is the tree\n",
    "\n",
    "<img src=\"http://www.cs.colorado.edu/~srirams/courses/csci3155-fall2018/pictures/factorial-5-tree.png\" width=\"10%\">\n",
    "\n",
    "It is easy to see that the depth equals $6$ and the number of calls is also $6$.\n",
    "\n",
    "For general $n$, `factorial(n)` has stack depth $n+1$ and the number\n",
    "of calls is the same as the stack depth.\n",
    "\n",
    "### Fibonacci Function\n",
    "\n",
    "Let us draw the tree for `fibonacci(4)`. \n",
    "\n",
    "<img src=\"http://www.cs.colorado.edu/~srirams/courses/csci3155-fall2018/pictures/fibonacci-tree-4.png\" width=\"75%\">\n",
    "    \n",
    "   \n",
    "The stack depth is 4, but the number of calls is 9.\n",
    "    \n",
    "In general, the depth of `fibonacci(n)` is $n$. However, the number\n",
    "of calls is a different story.\n",
    "\n",
    "| n | Number of calls in `fibonacci(n)` |\n",
    "|---|-----------------------------------|\n",
    "| 0 |  1 | \n",
    "| 1 |  1 | \n",
    "| 2 |  3 | \n",
    "| 3 |  5 | \n",
    "| 4 |  9 | \n",
    "| 5 |  15 | \n",
    "\n",
    "What is the pattern here?  Assuming $ n \\geq 2$, \n",
    "\n",
    "`# calls to fibonacci(n) = 1 + # calls to fibonacci(n-1) + # calls to fibonacci(n-2) `\n",
    "    \n",
    "Thus, the recurrence for number of calls is given by\n",
    "\n",
    "$$C(n) = \\left\\{ \\begin{array}{rl}\n",
    "1 & n \\leq 1 \\\\\n",
    "1 + C(n-1) + C(n-2) & \\mbox{otherwise} \\\\\n",
    "\\end{array}\\right.$$\n",
    "\n",
    "These are called Leonardo numbers: https://oeis.org/A001595\n",
    "\n",
    "Unfortunately, the growth of the number of recursive calls is exponential in $n$. Thus, to compute `fibonacci(40)` requires us to make more than a billion calls. "
   ]
  },
  {
   "cell_type": "markdown",
   "metadata": {},
   "source": [
    "## Tail Calls\n",
    "\n",
    "There is a very special case where the activation records do not have to grow upon successive function calls. These are called *tail calls*. Let us illustrate them with an example. \n",
    "\n",
    "**Example 1:** We already saw this example from above and traced out how the stack grows when the successive calls are made."
   ]
  },
  {
   "cell_type": "code",
   "execution_count": 20,
   "metadata": {},
   "outputs": [
    {
     "data": {
      "text/plain": [
       "defined \u001b[32mfunction\u001b[39m \u001b[36mf\u001b[39m\n",
       "defined \u001b[32mfunction\u001b[39m \u001b[36mg\u001b[39m\n",
       "defined \u001b[32mfunction\u001b[39m \u001b[36mh\u001b[39m\n",
       "\u001b[36mres19_3\u001b[39m: \u001b[32mInt\u001b[39m = \u001b[32m755\u001b[39m"
      ]
     },
     "execution_count": 20,
     "metadata": {},
     "output_type": "execute_result"
    }
   ],
   "source": [
    "def f(x: Int): Int = {\n",
    "    x * 5\n",
    "}\n",
    "\n",
    "def g(y: Int): Int = {\n",
    "     val tmp = f(y)\n",
    "     tmp * 10\n",
    "}\n",
    "\n",
    "def h(z: Int): Int = {\n",
    "    val tmp2 = g(z)\n",
    "    tmp2 + 5\n",
    "}\n",
    "\n",
    "h(15)\n",
    "// stuff that follows h(15)"
   ]
  },
  {
   "cell_type": "markdown",
   "metadata": {},
   "source": [
    "**Example 2:** Consider a different example below and carefully compare this code to that above."
   ]
  },
  {
   "cell_type": "code",
   "execution_count": 21,
   "metadata": {},
   "outputs": [
    {
     "data": {
      "text/plain": [
       "defined \u001b[32mfunction\u001b[39m \u001b[36mf1\u001b[39m\n",
       "defined \u001b[32mfunction\u001b[39m \u001b[36mg1\u001b[39m\n",
       "defined \u001b[32mfunction\u001b[39m \u001b[36mh1\u001b[39m\n",
       "\u001b[36mres20_3\u001b[39m: \u001b[32mInt\u001b[39m = \u001b[32m2784\u001b[39m"
      ]
     },
     "execution_count": 21,
     "metadata": {},
     "output_type": "execute_result"
    }
   ],
   "source": [
    "def f1(x: Int): Int = {\n",
    "    x * 8\n",
    "}\n",
    "\n",
    "def g1(y: Int): Int = {\n",
    "     val tmp = 12 * y\n",
    "     f1(tmp)\n",
    "}\n",
    "\n",
    "def h1(z: Int): Int = {\n",
    "    val tmp2 = 14 + z\n",
    "    g1(tmp2)\n",
    "}\n",
    "\n",
    "h1(15)\n",
    "// stuff that follows h(15)"
   ]
  },
  {
   "cell_type": "markdown",
   "metadata": {},
   "source": [
    "Obviously, the functions are doing something totally different. But let us point out an important difference between the function call `g(tmp2)` at line 12 of example 2 and the corresponding call `val tmp2 = g(z)`  from line 11 of example 1. \n",
    "\n",
    "A key difference is that the result of the call `g(tmp2)` in example 2 is returned back to the callee without any further computations whereas in example 1, the result is actually processed further by adding 5 and then returned.\n",
    "\n",
    "**Definition (Tail Call)** A function call `f(...)` is said to be a tail call if (a) no further computation is performed when the call to `f` returns back and (b) the result is passed back to the caller (without any modifications).\n",
    "\n",
    "For example all function calls in example 2 are tail calls whereas the calls in example 1 are not tail calls. \n",
    "\n",
    "Tail calls are important because they allow the system to perform an important optimization called *tail call optimization*.\n",
    "\n",
    "### Tail Call Optimization\n",
    "\n",
    "Let us see how this works with example 2. Consider the activation stack when `g1` is called inside function `h1`.\n",
    "\n",
    "~~~\n",
    "Activation Record for h1\n",
    "Return Address: line 16\n",
    "z: 15\n",
    "tmp2: 29\n",
    "~~~\n",
    "\n",
    "Normally, we will now call `g1(29)` and therefore a new activation record is added.\n",
    "\n",
    "~~~\n",
    "Activation Record for g1\n",
    "Return Address: line 13\n",
    "y: 29\n",
    "tmp: ... \n",
    "\n",
    "Activation Record for h1\n",
    "Return Address: line 16\n",
    "z: 15\n",
    "tmp2: 29\n",
    "~~~\n",
    "\n",
    "The key question is whether we need this? What happens when `g1` returns? Because it was called as a tail call, the value returned back to `h1` is just sent back to the caller.\n",
    "Tail call optimization is a very simple trick. Rather than keep the activation record for `h1` around, it simply **replaces** the activation record for `h1` as follows:\n",
    "\n",
    "\n",
    "~~~\n",
    "Activation Record for g1 (TAIL CALL OPTIMIZED)\n",
    "Return Address: line 16\n",
    "y: 29\n",
    "tmp: ... \n",
    "~~~\n",
    "\n",
    "There is a very key change in terms of the return address. Rather than return back from `g1` to `h1` and from `h1` to its caller, we will bypass the *middle man* and directly send our result to whosoever was waiting for `h1`.\n",
    "\n",
    "As a result of tail call optimization, we conclude that **tail calls need not cause the stack size to increase**."
   ]
  },
  {
   "cell_type": "markdown",
   "metadata": {},
   "source": [
    "## Tail Recursion\n",
    "\n",
    "We will now look closer into tail recursion, which we briefly introduced earlier.  Let us look at two examples of recursions."
   ]
  },
  {
   "cell_type": "code",
   "execution_count": 22,
   "metadata": {},
   "outputs": [
    {
     "data": {
      "text/plain": [
       "defined \u001b[32mfunction\u001b[39m \u001b[36mrecursionA\u001b[39m\n",
       "defined \u001b[32mfunction\u001b[39m \u001b[36mrecursionB\u001b[39m"
      ]
     },
     "execution_count": 22,
     "metadata": {},
     "output_type": "execute_result"
    }
   ],
   "source": [
    "def recursionA(n: Int): Int = {\n",
    "    if (n <= 0) { 1 }\n",
    "    else {\n",
    "        10 * recursionA(n-1)\n",
    "    }\n",
    "}\n",
    "\n",
    "def recursionB(n: Int, m: Int): Int = {\n",
    "    if (n <= 0) { m }\n",
    "    else {\n",
    "        recursionB(n-1, 10 * m)\n",
    "    }\n",
    "}"
   ]
  },
  {
   "cell_type": "markdown",
   "metadata": {},
   "source": [
    "Let us closely describe how both functions work. Both functions will return if the argument $n \\leq 0$. However, if $n > 0$, \n",
    "`recursionA` does the following:\n",
    "- call `recursionA` on $n-1$. \n",
    "- Multiply the return value by 10 and return the result.\n",
    "\n",
    "`recursionB` does the following:\n",
    "- Call the `recursionB` on $n-1$ and $10m$.\n",
    "- Pass the return value along _as is_.\n",
    "\n",
    "The important difference we highlight here is that `recursionA` performs further calculations on the result of the recursive call whereas `recursionB` does not:\n",
    "\n",
    "~~~\n",
    "recursionA: wait for recursive call to return. Multiply result by 10 and return it back.\n",
    "\n",
    "recursionB: wait for recursive call to return and simply return the result back to the caller.\n",
    "~~~\n",
    "\n",
    "Therefore, we say `recursionB` is tail recursive since it simply passes along the return value from the recursive calls as is.\n",
    "\n",
    "However, `recursionA` is not tail recursive since it performs further computing on the return value.\n",
    "\n",
    "- The factorial function is _not_ tail recursive as is. Why?\n",
    "- Is the fibonacci function tail recursive?\n",
    "- Is the function `isPowerOfTwo` tail recursive?\n",
    "- Is the function `M` tail recursive?\n",
    "\n",
    "### Tail recursion \n",
    "\n",
    "The important reason why we care about tail recursion is that since it simply passes along the return value as is, there is no need to keep its activation record. Simply, when we make the recursive call, we  give this call the current return address so that it can directly pass its result along to the root call. \n",
    "\n",
    "<todo draw diagram showing how this can work>\n",
    "    \n",
    "The main takeaway is that tail recursive calls can effectively be turned into a while loop  by the compiler, and the stack depth compressed to $1$.\n",
    "\n",
    "We can convert non-tail recursive recurrences to tail recursive ones.\n",
    "Here is how we do it for factorial. Note that we added an accumulator\n",
    "argument `acc` that carries around the product so far."
   ]
  },
  {
   "cell_type": "code",
   "execution_count": 23,
   "metadata": {},
   "outputs": [
    {
     "data": {
      "text/plain": [
       "defined \u001b[32mfunction\u001b[39m \u001b[36mtailRecursiveFactorial\u001b[39m\n",
       "defined \u001b[32mfunction\u001b[39m \u001b[36mfactorial\u001b[39m"
      ]
     },
     "execution_count": 23,
     "metadata": {},
     "output_type": "execute_result"
    }
   ],
   "source": [
    "def tailRecursiveFactorial(n: Int, acc: Int): Int = {\n",
    "    if (n == 0) { acc }\n",
    "    else { tailRecursiveFactorial(n-1, acc * n) }\n",
    "}\n",
    "\n",
    "def factorial(n: Int): Int = tailRecursiveFactorial(n, 1)"
   ]
  },
  {
   "cell_type": "code",
   "execution_count": 24,
   "metadata": {},
   "outputs": [
    {
     "data": {
      "text/plain": [
       "defined \u001b[32mfunction\u001b[39m \u001b[36mfactorialLoop\u001b[39m"
      ]
     },
     "execution_count": 24,
     "metadata": {},
     "output_type": "execute_result"
    }
   ],
   "source": [
    "// Equivalent loop to tail recursive version\n",
    "def factorialLoop(n: Int): Int = {\n",
    "    var j = n\n",
    "    var acc = 1\n",
    "    while (j >= 0){\n",
    "        acc = acc * j\n",
    "        j = j - 1\n",
    "    }\n",
    "    return acc\n",
    "}"
   ]
  },
  {
   "cell_type": "markdown",
   "metadata": {},
   "source": [
    "Converting something more complicated like fibonacci to an _equivalent_ tail recursive version is more complicated. We can achive this by using two accumulators and thus effectively translating a while loop version into a tail recursive call."
   ]
  },
  {
   "cell_type": "code",
   "execution_count": 25,
   "metadata": {},
   "outputs": [
    {
     "data": {
      "text/plain": [
       "defined \u001b[32mfunction\u001b[39m \u001b[36mfibonacci\u001b[39m"
      ]
     },
     "execution_count": 25,
     "metadata": {},
     "output_type": "execute_result"
    }
   ],
   "source": [
    "// j counts up from 1 to n\n",
    "// acc1 is fibonacci(j)\n",
    "// acc2 is fibonacci(j-1)\n",
    "// implement the while loop\n",
    "// while (j < n) { (acc1, acc2) = (acc1+ acc2, acc1)}\n",
    "// return acc1\n",
    "\n",
    "def fibonacci(n: Int, j: Int = 1, acc1: BigInt = 1, acc2: BigInt = 1): BigInt = {\n",
    "    if (n == 0 ) { BigInt(1) }\n",
    "    else if (j == n) { acc1 }\n",
    "    else {\n",
    "        fibonacci(n, j+1, acc1 + acc2, acc1)\n",
    "    }\n",
    "}"
   ]
  },
  {
   "cell_type": "code",
   "execution_count": 26,
   "metadata": {},
   "outputs": [
    {
     "data": {
      "text/plain": [
       "\u001b[36mv1\u001b[39m: \u001b[32mBigInt\u001b[39m = 8\n",
       "\u001b[36mv2\u001b[39m: \u001b[32mBigInt\u001b[39m = 21"
      ]
     },
     "execution_count": 26,
     "metadata": {},
     "output_type": "execute_result"
    }
   ],
   "source": [
    "val v1 = fibonacci(5)\n",
    "val v2 = fibonacci(7)"
   ]
  },
  {
   "cell_type": "markdown",
   "metadata": {},
   "source": [
    "## Mutually Recursive Functions\n",
    "\n",
    "Just like we have functions that call themselves, it is possible to have mutually recursive functions that are defined in terms of each other. \n",
    "In the example below, m1 calls m2 and m2 calls m1. This is an example of a mutual recursive function. Is it tail recursive? "
   ]
  },
  {
   "cell_type": "code",
   "execution_count": 27,
   "metadata": {},
   "outputs": [
    {
     "data": {
      "text/plain": [
       "defined \u001b[32mfunction\u001b[39m \u001b[36mm1\u001b[39m\n",
       "defined \u001b[32mfunction\u001b[39m \u001b[36mm2\u001b[39m"
      ]
     },
     "execution_count": 27,
     "metadata": {},
     "output_type": "execute_result"
    }
   ],
   "source": [
    "def m1 (x: Int): Int = {\n",
    "    if (x <= 2) { x } \n",
    "    else {\n",
    "        (m2( (x/2+1).toString )).toInt\n",
    "    } \n",
    "}\n",
    "\n",
    "def m2(s: String): String = {\n",
    "    if (s.length() <= 1) { s }\n",
    "    else {\n",
    "        val t = s.substring(0, s.length() -1 )\n",
    "        m1(t.toInt).toString\n",
    "    }\n",
    "}\n"
   ]
  },
  {
   "cell_type": "code",
   "execution_count": 28,
   "metadata": {},
   "outputs": [
    {
     "data": {
      "text/plain": [
       "\u001b[36ms1\u001b[39m: \u001b[32mInt\u001b[39m = \u001b[32m7\u001b[39m\n",
       "\u001b[36ms2\u001b[39m: \u001b[32mInt\u001b[39m = \u001b[32m3\u001b[39m\n",
       "\u001b[36ms3\u001b[39m: \u001b[32mInt\u001b[39m = \u001b[32m2\u001b[39m\n",
       "\u001b[36ms4\u001b[39m: \u001b[32mInt\u001b[39m = \u001b[32m2\u001b[39m"
      ]
     },
     "execution_count": 28,
     "metadata": {},
     "output_type": "execute_result"
    }
   ],
   "source": [
    "val s1 = m1(250)\n",
    "val s2 = m1(90)\n",
    "val s3 = m1(1001)\n",
    "val s4 = m1(30091)"
   ]
  },
  {
   "cell_type": "markdown",
   "metadata": {},
   "source": [
    "## Converting Loops into Recursion \n",
    "\n",
    "We can convert loops (while/for) loops using mutable `var` into recursive or even tail recursive functions. Let's see some examples.\n",
    "\n",
    "### Example 1\n",
    "\n",
    "Given a list $l$ of type `Int` and integer $k$, we would like to return a new list whose elements are those of the original list but less than or equal to $k$. \n",
    "\n",
    "  - Example: `l = List(1, 5, 10, 8, -2)` and $k = 2$, then return `List(1, -2)`.\n",
    "  - Note: we will need to preserve the order of the elements in the list.\n",
    "\n",
    "Here is an attempt to do it using a loop with an accumulator."
   ]
  },
  {
   "cell_type": "code",
   "execution_count": 1,
   "metadata": {},
   "outputs": [
    {
     "data": {
      "text/plain": [
       "defined \u001b[32mfunction\u001b[39m \u001b[36mfilterElementsLEQ\u001b[39m"
      ]
     },
     "execution_count": 1,
     "metadata": {},
     "output_type": "execute_result"
    }
   ],
   "source": [
    "def filterElementsLEQ(l: List[Int], k: Int): List[Int] = {\n",
    "    var retList: List[Int] = Nil // Start with empty list\n",
    "    for (x <- l){\n",
    "        if (x <= k){\n",
    "            retList = x :: retList // Appending to front of list is O(1)\n",
    "        }\n",
    "    }\n",
    "    // retList is reverse of what we need\n",
    "    retList.reverse // This is O(n)\n",
    "}"
   ]
  },
  {
   "cell_type": "markdown",
   "metadata": {},
   "source": [
    "Here is how to do the exact same loop with tail recursive function."
   ]
  },
  {
   "cell_type": "code",
   "execution_count": 2,
   "metadata": {},
   "outputs": [
    {
     "data": {
      "text/plain": [
       "\u001b[32mimport \u001b[39m\u001b[36mscala.annotation.tailrec \n",
       "\n",
       "\u001b[39m\n",
       "defined \u001b[32mfunction\u001b[39m \u001b[36mfilterElementsLEQ_rec\u001b[39m"
      ]
     },
     "execution_count": 2,
     "metadata": {},
     "output_type": "execute_result"
    }
   ],
   "source": [
    "import scala.annotation.tailrec \n",
    "\n",
    "@tailrec\n",
    "def filterElementsLEQ_rec(l: List[Int], k: Int, retList :List[Int] = Nil): List[Int] = {\n",
    "    /* We have retList as an argument with a default value of Nil */\n",
    "    if (l ==  Nil){ retList.reverse } \n",
    "    else {\n",
    "        val x = l.head \n",
    "        if (x <= k){\n",
    "            filterElementsLEQ_rec(l.tail, k, x::retList)\n",
    "        } else {\n",
    "            filterElementsLEQ_rec(l.tail, k, retList)\n",
    "        }\n",
    "    }\n",
    "}"
   ]
  },
  {
   "cell_type": "markdown",
   "metadata": {},
   "source": [
    "Let's compare the running time of both implementations to see which one is faster. "
   ]
  },
  {
   "cell_type": "code",
   "execution_count": 3,
   "metadata": {},
   "outputs": [
    {
     "data": {
      "text/plain": [
       "defined \u001b[32mfunction\u001b[39m \u001b[36mtimeit\u001b[39m"
      ]
     },
     "execution_count": 3,
     "metadata": {},
     "output_type": "execute_result"
    }
   ],
   "source": [
    "def timeit[T](blk : => T): (T, Double)  = {\n",
    "    val t0 = System.nanoTime()\n",
    "    val blk_val = blk \n",
    "    val t1 = System.nanoTime()\n",
    "    //println(s\"\\t Time: ${(t1 - t0)/1e+06}ms\")\n",
    "    (blk_val, (t1 - t0)/1e+06)\n",
    "}"
   ]
  },
  {
   "cell_type": "code",
   "execution_count": 4,
   "metadata": {},
   "outputs": [
    {
     "name": "stdout",
     "output_type": "stream",
     "text": [
      "--- Running for 10000 elements (10000 trials) ---\n",
      "Avg times Loop = 0.07298384290000036 ms, Recursion = 0.052839067699999805 ms\n",
      "--- Running for 15000 elements (10000 trials) ---\n",
      "Avg times Loop = 0.07988640809999985 ms, Recursion = 0.07434065260000008 ms\n",
      "--- Running for 20000 elements (10000 trials) ---\n",
      "Avg times Loop = 0.10897507460000008 ms, Recursion = 0.09889932489999997 ms\n",
      "--- Running for 25000 elements (10000 trials) ---\n",
      "Avg times Loop = 0.13299197969999985 ms, Recursion = 0.12270517539999976 ms\n",
      "--- Running for 30000 elements (10000 trials) ---\n",
      "Avg times Loop = 0.15967996279999946 ms, Recursion = 0.1474748172 ms\n",
      "--- Running for 35000 elements (10000 trials) ---\n",
      "Avg times Loop = 0.18645510180000016 ms, Recursion = 0.17344823549999977 ms\n"
     ]
    },
    {
     "data": {
      "text/plain": [
       "\u001b[32mimport \u001b[39m\u001b[36mscala.util.Random\n",
       "\u001b[39m\n",
       "defined \u001b[32mfunction\u001b[39m \u001b[36mcreateRandomList\u001b[39m\n",
       "defined \u001b[32mfunction\u001b[39m \u001b[36mcompare\u001b[39m"
      ]
     },
     "execution_count": 4,
     "metadata": {},
     "output_type": "execute_result"
    }
   ],
   "source": [
    "// Create a random list of n elements\n",
    "import scala.util.Random\n",
    "def createRandomList(n: Int): List[Int] = {\n",
    "    require(n >= 0)\n",
    "    (1 to n).map (d => Random.between(-100, 100))\n",
    "            .toList\n",
    "}\n",
    "\n",
    "def compare(n: Int, nTrials: Int = 100) = {\n",
    "    var sum1:Double = 0.0D\n",
    "    var sum2: Double  = 0.0D\n",
    "    println(s\"--- Running for $n elements ($nTrials trials) ---\")\n",
    "    for (trials <- 0 until nTrials){\n",
    "        val lst1 = createRandomList(n);\n",
    "        val (_, t1) = timeit (filterElementsLEQ(lst1, 25) )\n",
    "        sum1 += t1\n",
    "        val (_, t2) = timeit(filterElementsLEQ_rec(lst1, 25) )\n",
    "        sum2 += t2\n",
    "    }\n",
    "    println(s\"Avg times Loop = ${(sum1/nTrials.toDouble) %.5f} ms, Recursion = ${(sum2/nTrials.toDouble) %.5f} ms\")\n",
    "}\n",
    "\n",
    "compare(10000, 10000)\n",
    "compare(15000, 10000)\n",
    "compare(20000, 10000)\n",
    "compare(25000, 10000)\n",
    "compare(30000, 10000)\n",
    "compare(35000, 10000)\n"
   ]
  },
  {
   "cell_type": "markdown",
   "metadata": {},
   "source": [
    "You can see that the tail recursive implementation seems to be slightly faster though the performance comparison can be made more scientific.\n",
    "\n",
    "Sometimes recursion can be more readable than a \"messy loop\".\n",
    "\n",
    "Consider a function `mungeTwoLists` that takes two lists of integers `l1` and `l2` and \n",
    "returns two lists `r1` and `r2`\n",
    "\n",
    "- If the ith element of `l1` and `l2` are the same, then it should be part of the `r1`.\n",
    "- If the ith element of `l1` and `l2` are different then:\n",
    "   - Whichever number larger should be part of `r1` and\n",
    "   - Whichever number is smaller should part of `r2`.\n",
    "- If ith element exists for `l1` but not for `l2` then it should be part of `r1`\n",
    "- If ith element exists for `l2` but not for `l1` then it should be part of `r2`\n"
   ]
  },
  {
   "cell_type": "code",
   "execution_count": 19,
   "metadata": {},
   "outputs": [
    {
     "data": {
      "text/plain": [
       "defined \u001b[32mfunction\u001b[39m \u001b[36mmungeTwoLists\u001b[39m"
      ]
     },
     "execution_count": 19,
     "metadata": {},
     "output_type": "execute_result"
    }
   ],
   "source": [
    "def mungeTwoLists(l1: List[Int], l2: List[Int]): (List[Int], List[Int]) = {\n",
    "    var r1 : List[Int] = Nil\n",
    "    var r2 : List[Int] = Nil\n",
    "    var rest_l1 :List[Int] = l1\n",
    "    var rest_l2 :List[Int] = l2 \n",
    "    \n",
    "    while (!rest_l1.isEmpty  && !rest_l2.isEmpty){\n",
    "      val x1 = rest_l1.head\n",
    "      val x2 = rest_l2.head\n",
    "      if (x1 == x2) {\n",
    "        r1 = x1 :: r1\n",
    "      } else {\n",
    "        if (x1 <= x2) {\n",
    "            r1 = x1 :: r1\n",
    "            r2 = x2 :: r2\n",
    "        } else {\n",
    "            r1 = x2 :: r1\n",
    "            r2 = x1 :: r2\n",
    "        }\n",
    "      }\n",
    "      rest_l1 = rest_l1.tail\n",
    "      rest_l2 = rest_l2.tail\n",
    "    }\n",
    "    while (!rest_l1.isEmpty){\n",
    "        val x1 = rest_l1.head\n",
    "        r1 = x1 :: r1\n",
    "        rest_l1 = rest_l1.tail\n",
    "    }\n",
    "    while (!rest_l2.isEmpty){\n",
    "        val x2 = rest_l2.head\n",
    "        r2 = x2 :: r2\n",
    "        rest_l2 = rest_l2.tail\n",
    "    }\n",
    "    (r1.reverse, r2.reverse)\n",
    "}"
   ]
  },
  {
   "cell_type": "code",
   "execution_count": 20,
   "metadata": {},
   "outputs": [
    {
     "data": {
      "text/plain": [
       "\u001b[32mimport \u001b[39m\u001b[36mscala.annotation.tailrec\n",
       "\n",
       "\u001b[39m\n",
       "defined \u001b[32mfunction\u001b[39m \u001b[36mmungeTwoLists_rec\u001b[39m"
      ]
     },
     "execution_count": 20,
     "metadata": {},
     "output_type": "execute_result"
    }
   ],
   "source": [
    "import scala.annotation.tailrec\n",
    "\n",
    "@tailrec\n",
    "def mungeTwoLists_rec (l1: List[Int], l2: List[Int], r1: List[Int] = Nil, r2: List[Int] = Nil): (List[Int], List[Int]) = {\n",
    "   l1 match { /* Do a case pattern matching on l1 -- we will see this next lecture */\n",
    "       case Nil => {\n",
    "            /* l1 is empty */\n",
    "           l2 match {\n",
    "                case Nil => (r1. reverse, r2.reverse) /* l2 is also empty -- we are done */\n",
    "                case x2::tl2 => mungeTwoLists_rec(l1, tl2, r1, x2::r2)\n",
    "           }\n",
    "       }\n",
    "\n",
    "       case x1::tl1 => {\n",
    "            /* l1 splits into head x1 and tail tl1 (non-empty) */\n",
    "           l2 match {\n",
    "                case Nil => mungeTwoLists_rec(tl1, l2, x1::r1, r2)\n",
    "                case x2::tl2 => {\n",
    "                    if (x1 == x2){\n",
    "                        mungeTwoLists_rec(tl1, tl2, x1::r1, r2)\n",
    "                    } else if (x1 < x2) {\n",
    "                        mungeTwoLists_rec(tl1, tl2, x1::r1, x2::r2)\n",
    "                    } else {\n",
    "                         mungeTwoLists_rec(tl1, tl2, x2::r1, x1::r2)\n",
    "                    }\n",
    "                }\n",
    "           }\n",
    "       }\n",
    "   }\n",
    "}\n",
    "    \n"
   ]
  },
  {
   "cell_type": "code",
   "execution_count": null,
   "metadata": {},
   "outputs": [
    {
     "name": "stdout",
     "output_type": "stream",
     "text": [
      "--- Running for 10000 elements (10000 trials) ---\n",
      "Avg times Loop = 0.10779899000000057 ms, Recursion = 0.1036618386999998 ms\n",
      "--- Running for 15000 elements (10000 trials) ---\n",
      "Avg times Loop = 0.1504695029000007 ms, Recursion = 0.1469132371999994 ms\n",
      "--- Running for 20000 elements (10000 trials) ---\n"
     ]
    }
   ],
   "source": [
    "\n",
    "def compare(n: Int, nTrials: Int = 100) = {\n",
    "    var sum1:Double = 0.0D\n",
    "    var sum2: Double  = 0.0D\n",
    "    println(s\"--- Running for $n elements ($nTrials trials) ---\")\n",
    "    for (trials <- 0 until nTrials){\n",
    "        val m = Random.between((n/2).toInt, (3*n/2).toInt)\n",
    "        val lst1 = createRandomList(n)\n",
    "        val lst2 = createRandomList(m)\n",
    "        \n",
    "        val (_, t1) = timeit (mungeTwoLists(lst1, lst2) )\n",
    "        sum1 += t1\n",
    "        val (_, t2) = timeit(mungeTwoLists_rec(lst1, lst2) )\n",
    "        sum2 += t2\n",
    "    }\n",
    "    println(s\"Avg times Loop = ${(sum1/nTrials.toDouble) %.5f} ms, Recursion = ${(sum2/nTrials.toDouble) %.5f} ms\")\n",
    "}\n",
    "\n",
    "\n",
    "compare(10000, 10000)\n",
    "compare(15000, 10000)\n",
    "compare(20000, 10000)\n",
    "compare(25000, 10000)\n",
    "compare(30000, 10000)\n",
    "compare(35000, 10000)\n",
    "compare(40000, 10000)\n"
   ]
  },
  {
   "cell_type": "markdown",
   "metadata": {},
   "source": [
    "Both implementations have very similar performance. However, note that the recursive implementation is so much more elegant and simpler to check against the requirements here. "
   ]
  },
  {
   "cell_type": "markdown",
   "metadata": {},
   "source": [
    "## Recursion and Fun?"
   ]
  },
  {
   "cell_type": "markdown",
   "metadata": {},
   "source": [
    "See the posted python notebook here. We will translate this to scala soon.\n",
    "https://github.com/sriram0339/notebooks/blob/master/LSystemsAndFractals.ipynb"
   ]
  }
 ],
 "metadata": {
  "kernelspec": {
   "display_name": "Scala (3.6.3)",
   "language": "scala",
   "name": "scala363"
  },
  "language_info": {
   "codemirror_mode": "text/x-scala",
   "file_extension": ".sc",
   "mimetype": "text/x-scala",
   "name": "scala",
   "nbconvert_exporter": "script",
   "version": "2.13.16"
  }
 },
 "nbformat": 4,
 "nbformat_minor": 4
}
