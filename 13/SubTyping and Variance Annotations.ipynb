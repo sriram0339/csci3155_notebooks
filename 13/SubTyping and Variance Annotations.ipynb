{
 "cells": [
  {
   "cell_type": "markdown",
   "metadata": {},
   "source": [
    "# Subtyping and Variance Annotations\n",
    "\n",
    "We will now explore the concept of _subtyping_ and the use of variance annotations in scala. \n",
    "\n",
    "## Subtypes\n",
    "\n",
    "In Lettuce, we studied types such as __num__, __bool__, __num => bool__, __num => (num => num)__ and so on. \n",
    "However, these types are not related to each other:  __num__ represents numbers, __bool__ represents booleans, __num => (num => num)__ represents functions that take in numbers and return a function from number to number (remember currying). Each type represents a set of possible values that belong to the type, but  is _disjoint_ from the other types.\n",
    "\n",
    "However, the situation is different when we define objects with the inheritance relationship between them. Each class we define is a type, however, when a class B inherits from class A, we are establishing a relationship between the types defined by these classes.  We call this relation the __subtyping relation__: B is a subtype of A. \n",
    " \n",
    "For the purposes of this lecture, we will _define_ subtyping in the following manner: \n",
    "\n",
    "__Liskov's Substitution Principle:__ \n",
    "\n",
    "A type $t_2$ is a subtype of type $t_1$ if in any function where an argument of type $t_1$ is input, an element of type $t_2$ can be supplied in its place.\n",
    "\n",
    "\n",
    "Let us study this with examples. We define a class hierarchy as shown below."
   ]
  },
  {
   "cell_type": "code",
   "execution_count": 1,
   "metadata": {},
   "outputs": [
    {
     "data": {
      "text/plain": [
       "defined \u001b[32mclass\u001b[39m \u001b[36mAnimal\u001b[39m\n",
       "defined \u001b[32mclass\u001b[39m \u001b[36mBird\u001b[39m\n",
       "defined \u001b[32mclass\u001b[39m \u001b[36mMammal\u001b[39m\n",
       "defined \u001b[32mclass\u001b[39m \u001b[36mRodent\u001b[39m\n",
       "defined \u001b[32mclass\u001b[39m \u001b[36mCat\u001b[39m"
      ]
     },
     "execution_count": 1,
     "metadata": {},
     "output_type": "execute_result"
    }
   ],
   "source": [
    "abstract class Animal{\n",
    "    val name: String\n",
    "    val numLegs: Int\n",
    "}\n",
    "class Bird(val name: String) extends Animal {\n",
    "    val numLegs: Int = 2\n",
    "}\n",
    "\n",
    "class Mammal(val name: String, val numLegs: Int) extends Animal{\n",
    "}\n",
    "\n",
    "class Rodent(override val name: String) extends Mammal(name, numLegs=4) { \n",
    "    override val numLegs= 4\n",
    "}\n",
    "\n",
    "class Cat(override val name: String) extends Mammal(name, numLegs = 4)\n"
   ]
  },
  {
   "cell_type": "markdown",
   "metadata": {},
   "source": [
    "Thus in this example, `Cat` is a subtype of `Mammal`. `Mammal` is a subtype of `Animal`. \n",
    "Inheritance of classes is one way of creating subtyping relationships. _We will study other subtype relationships later_.\n",
    "\n",
    "What does the Liskov substitution principle mean in this context? \n",
    "\n",
    "In any function that takes as an input an argument of type `Animal`, we can substitute instead an argument of type `Bird`, `Mammal`, `Rodent` or even a `Cat`.\n"
   ]
  },
  {
   "cell_type": "code",
   "execution_count": 2,
   "metadata": {},
   "outputs": [
    {
     "data": {
      "text/plain": [
       "defined \u001b[32mfunction\u001b[39m \u001b[36msayHelloTo\u001b[39m"
      ]
     },
     "execution_count": 2,
     "metadata": {},
     "output_type": "execute_result"
    }
   ],
   "source": [
    "def sayHelloTo(a: Animal): String = \"Hello, \"+a.name"
   ]
  },
  {
   "cell_type": "code",
   "execution_count": 3,
   "metadata": {},
   "outputs": [
    {
     "data": {
      "text/plain": [
       "\u001b[36mres2\u001b[39m: \u001b[32mString\u001b[39m = \u001b[32m\"Hello, Macavity\"\u001b[39m"
      ]
     },
     "execution_count": 3,
     "metadata": {},
     "output_type": "execute_result"
    }
   ],
   "source": [
    "sayHelloTo(new Cat(\"Macavity\"))"
   ]
  },
  {
   "cell_type": "code",
   "execution_count": 4,
   "metadata": {},
   "outputs": [
    {
     "data": {
      "text/plain": [
       "\u001b[36mres3\u001b[39m: \u001b[32mString\u001b[39m = \u001b[32m\"Hello, Topo Gigio\"\u001b[39m"
      ]
     },
     "execution_count": 4,
     "metadata": {},
     "output_type": "execute_result"
    }
   ],
   "source": [
    "sayHelloTo(new Rodent(\"Topo Gigio\"))"
   ]
  },
  {
   "cell_type": "markdown",
   "metadata": {},
   "source": [
    "The function `sayHelloTo` defined above takes in an Animal `a` as an input. We can instead provide it a Cat, Rodent, a Mammal or any of its subtypes.\n",
    "However, the other way round is not possible. I.e, we cannot necessarily substitute a supertype where a subtype is needed."
   ]
  },
  {
   "cell_type": "code",
   "execution_count": 5,
   "metadata": {},
   "outputs": [
    {
     "data": {
      "text/plain": [
       "defined \u001b[32mfunction\u001b[39m \u001b[36mmeow\u001b[39m"
      ]
     },
     "execution_count": 5,
     "metadata": {},
     "output_type": "execute_result"
    }
   ],
   "source": [
    "def meow(c: Cat): String = \"Meow, \"+c.name"
   ]
  },
  {
   "cell_type": "code",
   "execution_count": 26,
   "metadata": {},
   "outputs": [
    {
     "data": {
      "text/plain": [
       "\u001b[36ma\u001b[39m: \u001b[32mAnimal\u001b[39m = ammonite.$sess.cmd0$Helper$Rodent@645f1b88"
      ]
     },
     "execution_count": 26,
     "metadata": {},
     "output_type": "execute_result"
    }
   ],
   "source": [
    "val a: Animal = new Rodent(\"Paws\") "
   ]
  },
  {
   "cell_type": "code",
   "execution_count": 26,
   "metadata": {},
   "outputs": [
    {
     "name": "stderr",
     "output_type": "stream",
     "text": [
      "cmd26.sc:1: type mismatch;\n",
      " found   : ammonite.$sess.cmd25.wrapper.cmd0.Animal\n",
      " required: ammonite.$sess.cmd4.wrapper.cmd0.Cat\n",
      "val res26 = meow(a) \n",
      "                 ^Compilation Failed"
     ]
    },
    {
     "ename": "",
     "evalue": "",
     "output_type": "error",
     "traceback": [
      "Compilation Failed"
     ]
    }
   ],
   "source": [
    "meow(a) \n",
    "// This will fail because an Animal object cannot be used where a \n",
    "// Cat object is expected.\n"
   ]
  },
  {
   "cell_type": "markdown",
   "metadata": {},
   "source": [
    "## Subtyping in Scala\n",
    "\n",
    "Scala is an object oriented language based on Java. Therefore, it implictly defines a class hierarchy that is baked in. For instance, any object that is defined by us including `Animal`, `Cat`, `Mammal` etc are subtypes of a type called `AnyRef`, which itself is a subtype of `Any`.\n",
    "\n",
    "The class hierarchy of scala can be seen as below:\n",
    "\n",
    "<img src=\"https://www.scala-lang.org/files/archive/spec/2.12/public/images/classhierarchy.png\">\n",
    "\n"
   ]
  },
  {
   "cell_type": "markdown",
   "metadata": {},
   "source": [
    "## Subtyping Relations between Function Types\n",
    "\n",
    "Now that we have created subtyping relationships between objects such as `Animal`, `Bird`, `Mammal` , `Rodent` and `Cat`, let us turn our attention to function types.\n",
    "\n",
    "Take two functions: `foo: String => Mammal` and `bar: String => Cat`. \n",
    "What is the subtyping relationship between the type of `foo` and the type of  `bar`?\n",
    "\n",
    "Let us explore this concept a little better. We define a function mammalFactory that takes in as input a function foo of type `String => Mammal`."
   ]
  },
  {
   "cell_type": "code",
   "execution_count": 7,
   "metadata": {},
   "outputs": [
    {
     "data": {
      "text/plain": [
       "defined \u001b[32mfunction\u001b[39m \u001b[36mmammalFactory\u001b[39m"
      ]
     },
     "execution_count": 7,
     "metadata": {},
     "output_type": "execute_result"
    }
   ],
   "source": [
    "def mammalFactory(foo: String => Mammal) = {\n",
    "    foo(\"Lilibeth\")\n",
    "}"
   ]
  },
  {
   "cell_type": "code",
   "execution_count": 8,
   "metadata": {},
   "outputs": [
    {
     "data": {
      "text/plain": [
       "\u001b[36mres7\u001b[39m: \u001b[32mMammal\u001b[39m = ammonite.$sess.cmd0$Helper$Mammal@380c1bb3"
      ]
     },
     "execution_count": 8,
     "metadata": {},
     "output_type": "execute_result"
    }
   ],
   "source": [
    "mammalFactory( (x: String) => new Mammal(x, 2))"
   ]
  },
  {
   "cell_type": "markdown",
   "metadata": {},
   "source": [
    "Can we instead call mammalFactory with a function of type `String => Cat`? \n"
   ]
  },
  {
   "cell_type": "code",
   "execution_count": 9,
   "metadata": {},
   "outputs": [
    {
     "data": {
      "text/plain": [
       "\u001b[36mres8\u001b[39m: \u001b[32mMammal\u001b[39m = ammonite.$sess.cmd0$Helper$Cat@65bfb601"
      ]
     },
     "execution_count": 9,
     "metadata": {},
     "output_type": "execute_result"
    }
   ],
   "source": [
    "mammalFactory( (x: String) => new Cat(x))"
   ]
  },
  {
   "cell_type": "markdown",
   "metadata": {},
   "source": [
    "It works. In fact, it is easy to convince onself that in any context where a function of type `String => Mammal` is asked for, we can always substitute a function of type `String => Cat`. But the other way round will not work. If we need a function from `String => Mammal`, can we instead pass a function from `String => Animal` instead?"
   ]
  },
  {
   "cell_type": "code",
   "execution_count": 9,
   "metadata": {},
   "outputs": [
    {
     "name": "stderr",
     "output_type": "stream",
     "text": [
      "cmd9.sc:1: type mismatch;\n",
      " found   : cmd9.this.cmd0.Animal\n",
      " required: ammonite.$sess.cmd6.wrapper.cmd0.Mammal\n",
      "val res9 = mammalFactory ( (x: String) => new Rodent(x).asInstanceOf[Animal]  )\n",
      "                                                                    ^Compilation Failed"
     ]
    },
    {
     "ename": "",
     "evalue": "",
     "output_type": "error",
     "traceback": [
      "Compilation Failed"
     ]
    }
   ],
   "source": [
    "mammalFactory ( (x: String) => new Rodent(x).asInstanceOf[Animal]  )"
   ]
  },
  {
   "cell_type": "markdown",
   "metadata": {},
   "source": [
    "The answer is that it does not work. \n",
    "\n",
    "### An Alternative View\n",
    "\n",
    "Here is an easy way of thinking about it. Functions are things that take inputs and provide output. Suppose your code __requires__ a function `foo` that takes in _flour_ and bakes a _cake_, whereas you __provide__ a function `bar` that takes in _flour_ and bakes a _icedChocoloateCake_.\n",
    "\n",
    "~~~\n",
    "Require: Flour => Cake\n",
    "\n",
    "Provided: Flour => IcedChocoloateCake\n",
    "~~~\n",
    "\n",
    "Let us assume that an `IcedChocolateCake` is a _subtype_ of `Cake`. \n",
    "\n",
    "Is it acceptable to provide a function of type `Flour => IcedChocoloateCake` where one is expecting a function of type `Flour => Cake`?\n",
    "\n",
    "Yes of course. An IcedChocolateCake is after all a Cake, only yummier.\n",
    "This kind of relationship is called a _covariant relationship_ (covariant: varies in the same direction as).\n",
    "\n",
    "Thus, we can establish the following rule:\n",
    "\n",
    "~~~\n",
    "If B is a subtype of A then any function `T => B` is a subtype of function `T => A`\n",
    "~~~\n",
    "\n",
    "\n",
    "\n",
    "As an example: `Mammal` is a subtype of `Animal`. Therefore, `Int => Mammal` is a subtype of `Int => Animal`.\n",
    "\n",
    "`String` is a subtype of `Any`. Therefore: `Int => String` is a subtype of `Int => Any`.\n",
    "\n",
    "<img src=\"covariantRelationship.png\" width=40%>\n",
    "\n",
    "\n",
    "\n",
    "### Subtyping rule for function types (part 1)\n",
    "\n",
    "Subtyping relation between functions is _covariant_ in the return type.\n",
    "\n",
    "## Subtyping for Inputs of Functions\n",
    "\n",
    "Let us consider the reverse situation now. You are asked to implement a pretty printer object that will take a given document type and print it out as a string.\n",
    "\n"
   ]
  },
  {
   "cell_type": "code",
   "execution_count": 10,
   "metadata": {},
   "outputs": [
    {
     "data": {
      "text/plain": [
       "defined \u001b[32mclass\u001b[39m \u001b[36mAllDocuments\u001b[39m\n",
       "defined \u001b[32mclass\u001b[39m \u001b[36mWordDocument\u001b[39m\n",
       "defined \u001b[32mclass\u001b[39m \u001b[36mPDFDocument\u001b[39m\n",
       "defined \u001b[32mclass\u001b[39m \u001b[36mTextDocument\u001b[39m"
      ]
     },
     "execution_count": 10,
     "metadata": {},
     "output_type": "execute_result"
    }
   ],
   "source": [
    "abstract class AllDocuments\n",
    "class WordDocument extends AllDocuments\n",
    "class PDFDocument extends AllDocuments\n",
    "class TextDocument extends AllDocuments"
   ]
  },
  {
   "cell_type": "markdown",
   "metadata": {},
   "source": [
    "I am interested in a pretty printer function  of the following type\n",
    "\n",
    "~~~\n",
    "Expected: AllDocuments => String\n",
    "~~~\n",
    "\n",
    "You provide me with a function instead of type\n",
    "\n",
    "~~~\n",
    "Provided: PDFDocument => String\n",
    "~~~\n",
    "\n",
    "Will the provided function type be a substitute for the expected function type?\n",
    "\n"
   ]
  },
  {
   "cell_type": "code",
   "execution_count": 11,
   "metadata": {},
   "outputs": [
    {
     "data": {
      "text/plain": [
       "defined \u001b[32mfunction\u001b[39m \u001b[36mprintWithPrinterFun\u001b[39m"
      ]
     },
     "execution_count": 11,
     "metadata": {},
     "output_type": "execute_result"
    }
   ],
   "source": [
    "def printWithPrinterFun( pFun: AllDocuments => String) = {\n",
    "    // Blah blah blah\n",
    "}"
   ]
  },
  {
   "cell_type": "code",
   "execution_count": 12,
   "metadata": {},
   "outputs": [
    {
     "data": {
      "text/plain": [
       "defined \u001b[32mfunction\u001b[39m \u001b[36mmyFancyPDFPrinter\u001b[39m"
      ]
     },
     "execution_count": 12,
     "metadata": {},
     "output_type": "execute_result"
    }
   ],
   "source": [
    "def myFancyPDFPrinter(p: PDFDocument ): String = {\n",
    "    // .. print the pdf document to a string\n",
    "    return \"final printed document\"\n",
    "}"
   ]
  },
  {
   "cell_type": "code",
   "execution_count": 12,
   "metadata": {},
   "outputs": [
    {
     "name": "stderr",
     "output_type": "stream",
     "text": [
      "cmd12.sc:1: type mismatch;\n",
      " found   : ammonite.$sess.cmd11.wrapper.cmd9.PDFDocument => String\n",
      " required: ammonite.$sess.cmd10.wrapper.cmd9.AllDocuments => String\n",
      "val res12 = printWithPrinterFun(myFancyPDFPrinter)\n",
      "                                ^Compilation Failed"
     ]
    },
    {
     "ename": "",
     "evalue": "",
     "output_type": "error",
     "traceback": [
      "Compilation Failed"
     ]
    }
   ],
   "source": [
    "printWithPrinterFun(myFancyPDFPrinter)"
   ]
  },
  {
   "cell_type": "markdown",
   "metadata": {},
   "source": [
    "We get an error when we try to pass `PDFDocument => String` type to a function that takes in `AllDocuments => String` as an input. What is happening here?\n",
    "\n",
    "It turns out that a function  `AllDocuments => String` is more specialized or detailed than a function `PDFDocument => String` since the former can print all documents including PDF documents, whereas the latter can only print pdf documents.\n",
    "\n",
    "### Subtyping rule for function types (part 2)\n",
    "\n",
    "If `B` is a subtype of `A` then `A => T` is a subtype of `B => T`.\n",
    "\n",
    "<img src=\"contravarianceIllustr.png\" width=40%>\n",
    "\n",
    "We say that subtyping between functions is __contravariant__ in the type of the input.\n",
    "\n",
    "\n",
    "### Subtyping rule for functions (full rule)\n",
    "\n",
    "Suppose `B` is a subtype of `A` and `D` is a subtype of `C` then \n",
    "`A => D` is a subtype of `B => C`. Subtyping is covariant in the return type and contravariant in the input type of the functions.\n",
    "\n",
    "<img src=\"functionSubtypingIllustr.png\" width=\"40%\">\n",
    "\n",
    "This rule is a simple combination of the two situations explained previously."
   ]
  },
  {
   "cell_type": "markdown",
   "metadata": {},
   "source": [
    "# Invariance, CoVariance and Contravariance for Generics"
   ]
  },
  {
   "cell_type": "markdown",
   "metadata": {},
   "source": [
    "Now we consider the behavior of classes that take in type parameters or generics.\n",
    "\n",
    "Consider the simple example of the `List[T]` class in scala.\n",
    "\n",
    "Suppose we define a list `List[Cat]`. Can we view this as a `List[Animal]`? It makes sense that every `Cat` is a subtype of `Animal`. Therefore a `List[Cat]` is a subtype of `List[Animal]`."
   ]
  },
  {
   "cell_type": "code",
   "execution_count": 13,
   "metadata": {},
   "outputs": [
    {
     "data": {
      "text/plain": [
       "defined \u001b[32mfunction\u001b[39m \u001b[36mtotalNumLegs\u001b[39m"
      ]
     },
     "execution_count": 13,
     "metadata": {},
     "output_type": "execute_result"
    }
   ],
   "source": [
    "def totalNumLegs(l: List[Animal]): Int = {\n",
    "    l.foldLeft(0)((acc, elt) => acc + elt.numLegs)\n",
    "}"
   ]
  },
  {
   "cell_type": "code",
   "execution_count": 14,
   "metadata": {},
   "outputs": [
    {
     "data": {
      "text/plain": [
       "\u001b[36ml1\u001b[39m: \u001b[32mList\u001b[39m[\u001b[32mCat\u001b[39m] = \u001b[33mList\u001b[39m(\n",
       "  ammonite.$sess.cmd0$Helper$Cat@6585e03a,\n",
       "  ammonite.$sess.cmd0$Helper$Cat@f7baa32,\n",
       "  ammonite.$sess.cmd0$Helper$Cat@132169b6\n",
       ")"
      ]
     },
     "execution_count": 14,
     "metadata": {},
     "output_type": "execute_result"
    }
   ],
   "source": [
    "val l1: List[Cat] = List(new Cat(\"Jo\"), new Cat(\"Bo\"), new Cat(\"Mr.Jenkins\"))"
   ]
  },
  {
   "cell_type": "code",
   "execution_count": 15,
   "metadata": {},
   "outputs": [
    {
     "name": "stdout",
     "output_type": "stream",
     "text": [
      "12"
     ]
    }
   ],
   "source": [
    "print(totalNumLegs(l1))"
   ]
  },
  {
   "cell_type": "markdown",
   "metadata": {},
   "source": [
    "It works! We could pass an object of type `List[Cat]` to a function where the function was expecting an object of type `List[Animal]`. \n",
    "\n",
    "Similarly, it seems that we can do the same trick for an Array of Cats vs. Array of Animals?"
   ]
  },
  {
   "cell_type": "code",
   "execution_count": 16,
   "metadata": {},
   "outputs": [
    {
     "data": {
      "text/plain": [
       "defined \u001b[32mfunction\u001b[39m \u001b[36mtotalNumLegsArray\u001b[39m"
      ]
     },
     "execution_count": 16,
     "metadata": {},
     "output_type": "execute_result"
    }
   ],
   "source": [
    "def totalNumLegsArray(a: Array[Animal]) = {\n",
    "    a.foldLeft (0) {(b, elt) => b + elt.numLegs}\n",
    "}"
   ]
  },
  {
   "cell_type": "code",
   "execution_count": 17,
   "metadata": {},
   "outputs": [
    {
     "data": {
      "text/plain": [
       "\u001b[36marray1\u001b[39m: \u001b[32mArray\u001b[39m[\u001b[32mCat\u001b[39m] = \u001b[33mArray\u001b[39m(\n",
       "  ammonite.$sess.cmd0$Helper$Cat@5f9c4fa,\n",
       "  ammonite.$sess.cmd0$Helper$Cat@15375cae,\n",
       "  ammonite.$sess.cmd0$Helper$Cat@37113982\n",
       ")"
      ]
     },
     "execution_count": 17,
     "metadata": {},
     "output_type": "execute_result"
    }
   ],
   "source": [
    "val array1 = new Array[Cat](3)\n",
    "array1(0)= new Cat(\"Jo\")\n",
    "array1(1) = new Cat(\"Bo\")\n",
    "array1(2) = new Cat(\"Mr.Jenkins\")"
   ]
  },
  {
   "cell_type": "code",
   "execution_count": 17,
   "metadata": {},
   "outputs": [
    {
     "name": "stderr",
     "output_type": "stream",
     "text": [
      "cmd17.sc:1: type mismatch;\n",
      " found   : Array[ammonite.$sess.cmd16.wrapper.cmd0.Cat]\n",
      " required: Array[ammonite.$sess.cmd15.wrapper.cmd0.Animal]\n",
      "Note: ammonite.$sess.cmd16.wrapper.cmd0.Cat <: ammonite.$sess.cmd15.wrapper.cmd0.Animal, but class Array is invariant in type T.\n",
      "You may wish to investigate a wildcard type such as `_ <: ammonite.$sess.cmd15.wrapper.cmd0.Animal`. (SLS 3.2.10)\n",
      "val res17 = totalNumLegsArray(array1)\n",
      "                              ^Compilation Failed"
     ]
    },
    {
     "ename": "",
     "evalue": "",
     "output_type": "error",
     "traceback": [
      "Compilation Failed"
     ]
    }
   ],
   "source": [
    "totalNumLegsArray(array1)"
   ]
  },
  {
   "cell_type": "markdown",
   "metadata": {},
   "source": [
    "It failed! Why is scala able to view a `List[Cat]` as a subtype of `List[Animal]`, whereas it cannot view an `Array[Cat]` as a subtype of `Array[Animal]`?\n",
    "\n",
    "## Covariant, Contravariant and Invariant \n",
    "\n",
    "It turns out that an object `List[T]` in scala is _covariant_ in the typeof `T`. This means that : \n",
    "\n",
    "~~~\n",
    "If B is a subtype of A then List[B] is a subtype of List[A]\n",
    "~~~\n",
    "\n",
    "<img src=\"listSubtypingIllustr.png\" width=50%>\n",
    "\n",
    "However, `Array[T]` (for very good reasons we will explain) is not _covariant_. It is in fact _invariant_. \n",
    "\n",
    "~~~\n",
    "If B is a subtype of A, then Array[B] has no subtyping relation to Array[A].\n",
    "~~~\n",
    "\n",
    "<img src=\"arrayInvarianceIllustr.png\" width=50%>\n",
    "\n",
    "Finally,  we can have a contravariant relationship.\n",
    "\n",
    "### Contravariant \n",
    "\n",
    "Let us consider a class `PrettyPrinter[T]` that prints a type out as a string. It turns out that if we implemented a `PrettyPrinter[Any]` that would be a huge deal since it can pretty print anything. However, `PrettyPrinter[Char]` is not as big a deal since it only pretty prints `Char`. Thus the type `PrettyPrinter[T]` is _contravariant_ in T.\n",
    "\n",
    "<img src=\"prettyPrinterContraIllustr.png\" width=\"50%\">\n"
   ]
  },
  {
   "cell_type": "markdown",
   "metadata": {},
   "source": [
    "## Variance Annotations\n",
    "\n",
    "Suppose I would like to design my own class \n",
    "`SriramsList[T]` and make it covariant on the type parameter `T`, we do it in scala as follows."
   ]
  },
  {
   "cell_type": "code",
   "execution_count": 18,
   "metadata": {},
   "outputs": [
    {
     "data": {
      "text/plain": [
       "defined \u001b[32mclass\u001b[39m \u001b[36mSriramsList\u001b[39m"
      ]
     },
     "execution_count": 18,
     "metadata": {},
     "output_type": "execute_result"
    }
   ],
   "source": [
    "abstract class SriramsList[+T] { // the + in front of the T says that it is covariant in T\n",
    "    //.. members defined here\n",
    "    def head: T\n",
    "    def isEmpty: Boolean\n",
    "    // ... other members here\n",
    "}"
   ]
  },
  {
   "cell_type": "markdown",
   "metadata": {},
   "source": [
    "The way we specify covariance is to put a `+` in front of the type parameter __T__\n",
    "\n",
    "However, it is not simply sufficient that we put a `+` in front of T. We have to make sure that the type parameter T appears only appears in  _covariant_ positions in the class. "
   ]
  },
  {
   "cell_type": "code",
   "execution_count": 18,
   "metadata": {},
   "outputs": [
    {
     "name": "stderr",
     "output_type": "stream",
     "text": [
      "cmd18.sc:5: covariant type T occurs in contravariant position in type T of value y\n",
      "    def fun2(y: T): Int // T cannot appear as an argument to a function in the class. \n",
      "             ^Compilation Failed"
     ]
    },
    {
     "ename": "",
     "evalue": "",
     "output_type": "error",
     "traceback": [
      "Compilation Failed"
     ]
    }
   ],
   "source": [
    "abstract class Covey[+T] {\n",
    "    val x: T //T can appear as a field in a class\n",
    "    def fun1(x: Int): T // T can appear as a return value of a function\n",
    "    // FORBIDDEN\n",
    "    def fun2(y: T): Int // T cannot appear as an argument to a function in the class. \n",
    "}"
   ]
  },
  {
   "cell_type": "markdown",
   "metadata": {},
   "source": [
    "As you can see from the error above, when we declare the class `Covey[+T]`, it is expected that \n",
    "~~~\n",
    "T can only appear in covariant positions:\n",
    "- immutable members of the class\n",
    "- output types of functions\n",
    "~~~\n",
    "However, `T` cannot appear as an input type to a function. These are called `contravariant` positions. \n",
    "\n",
    "Can you guess why the covariant and contravariant positions so named? Go back to the discussion of covariance/contravariance of function types."
   ]
  },
  {
   "cell_type": "code",
   "execution_count": 19,
   "metadata": {},
   "outputs": [
    {
     "data": {
      "text/plain": [
       "defined \u001b[32mclass\u001b[39m \u001b[36mCovey\u001b[39m"
      ]
     },
     "execution_count": 19,
     "metadata": {},
     "output_type": "execute_result"
    }
   ],
   "source": [
    "abstract class Covey[+T] {\n",
    "    val x: T //T can appear as a field in a class\n",
    "    def fun1(x: Int): T // T can appear as a return value of a function\n",
    "    //def fun2(y: T): Int -- No: we cannot have T appear in a contravariant position\n",
    "}"
   ]
  },
  {
   "cell_type": "markdown",
   "metadata": {},
   "source": [
    "Likewise for a contravariant class, we note that `T` cannot appear in a covariant position and can only appear in contravariant positions."
   ]
  },
  {
   "cell_type": "code",
   "execution_count": 19,
   "metadata": {},
   "outputs": [
    {
     "name": "stderr",
     "output_type": "stream",
     "text": [
      "cmd19.sc:2: contravariant type T occurs in covariant position in type => T of value x\n",
      "   val x: T // FORBIDDEN -- covariant position\n",
      "       ^Compilation Failed"
     ]
    },
    {
     "ename": "",
     "evalue": "",
     "output_type": "error",
     "traceback": [
      "Compilation Failed"
     ]
    }
   ],
   "source": [
    "abstract class PrettyPrinter[-T] {  // - in front of T specifies that it is contravariant\n",
    "   val x: T // FORBIDDEN -- covariant position\n",
    "}\n"
   ]
  },
  {
   "cell_type": "code",
   "execution_count": 19,
   "metadata": {},
   "outputs": [
    {
     "name": "stderr",
     "output_type": "stream",
     "text": [
      "cmd19.sc:2: contravariant type T occurs in covariant position in type (x: Int)T of method fun1\n",
      "   def fun1(x: Int): T // Forbidden covariant position\n",
      "       ^Compilation Failed"
     ]
    },
    {
     "ename": "",
     "evalue": "",
     "output_type": "error",
     "traceback": [
      "Compilation Failed"
     ]
    }
   ],
   "source": [
    "abstract class PrettyPrinter[-T] {  // - in front of T specifies that it is contravariant\n",
    "   def fun1(x: Int): T // Forbidden covariant position\n",
    "}\n"
   ]
  },
  {
   "cell_type": "code",
   "execution_count": 20,
   "metadata": {},
   "outputs": [
    {
     "data": {
      "text/plain": [
       "defined \u001b[32mclass\u001b[39m \u001b[36mPrettyPrinter\u001b[39m"
      ]
     },
     "execution_count": 20,
     "metadata": {},
     "output_type": "execute_result"
    }
   ],
   "source": [
    "abstract class PrettyPrinter[-T] {  // - in front of T specifies that it is contravariant\n",
    "   def doPrinting(t: T): String // OK -- T is in a contravariant position\n",
    "}"
   ]
  },
  {
   "cell_type": "markdown",
   "metadata": {},
   "source": [
    "To specify that a class is invariant on T, we simply drop the + or - in front of T\n",
    "\n",
    "~~~\n",
    "abstract class Invar[T] { // No + or - in front of T says that it is invariant.\n",
    "    // now there are no restrictions in what kind of positions that T may appear in.\n",
    "    def x(i: T): T // Both covariant and contravariant positions -- OK\n",
    "    def y(z: Int): T // Covariant position -- OK\n",
    "    val x: T // Covariant --OK\n",
    "    def contra(x: T): Int // Contravariant -- OK\n",
    "}\n",
    "~~~"
   ]
  },
  {
   "cell_type": "code",
   "execution_count": 21,
   "metadata": {},
   "outputs": [
    {
     "data": {
      "text/plain": [
       "defined \u001b[32mclass\u001b[39m \u001b[36mInvar\u001b[39m"
      ]
     },
     "execution_count": 21,
     "metadata": {},
     "output_type": "execute_result"
    }
   ],
   "source": [
    "abstract class Invar[T] { // No + or - in front of T says that it is invariant.\n",
    "    // now there are no restrictions in what kind of positions that T may appear in.\n",
    "    def x(i: T): T // Both covariant and contravariant positions -- OK\n",
    "    def y(z: Int): T // Covariant position -- OK\n",
    "    val x: T // Covariant --OK\n",
    "    def contra(x: T): Int // Contravariant -- OK\n",
    "}"
   ]
  },
  {
   "cell_type": "markdown",
   "metadata": {},
   "source": [
    "Let us now try to complete the definition of `SriramsList`."
   ]
  },
  {
   "cell_type": "code",
   "execution_count": 21,
   "metadata": {},
   "outputs": [
    {
     "name": "stderr",
     "output_type": "stream",
     "text": [
      "cmd21.sc:5: covariant type T occurs in contravariant position in type T of value t\n",
      "    def addElement(t: T): SriramsList[T]\n",
      "                   ^Compilation Failed"
     ]
    },
    {
     "ename": "",
     "evalue": "",
     "output_type": "error",
     "traceback": [
      "Compilation Failed"
     ]
    }
   ],
   "source": [
    "abstract class SriramsList[+T] { // the + in front of the T says that it is covariant in T\n",
    "    //.. members defined here\n",
    "    def head: T\n",
    "    def isEmpty: Boolean\n",
    "    def addElement(t: T): SriramsList[T]\n",
    "}"
   ]
  },
  {
   "cell_type": "markdown",
   "metadata": {},
   "source": [
    "We tried to add a function `addElement` and it broke the covariant annotation. Can you explain why `addElement` is problematic?\n",
    "\n",
    "How then can we add an element to our list? We do it in a different way."
   ]
  },
  {
   "cell_type": "code",
   "execution_count": 22,
   "metadata": {},
   "outputs": [
    {
     "data": {
      "text/plain": [
       "defined \u001b[32mclass\u001b[39m \u001b[36mSriramsList\u001b[39m"
      ]
     },
     "execution_count": 22,
     "metadata": {},
     "output_type": "execute_result"
    }
   ],
   "source": [
    "abstract class SriramsList[+T] { // the + in front of the T says that it is covariant in T\n",
    "    //.. members defined here\n",
    "    def head: T\n",
    "    def isEmpty: Boolean\n",
    "    def addElement[S >: T] (s : S): SriramsList[S]\n",
    "}"
   ]
  },
  {
   "cell_type": "markdown",
   "metadata": {},
   "source": [
    "We use the following trick\n",
    "\n",
    "~~~\n",
    "def addElement[S >: T] (s : S): SriramsList[S]\n",
    "~~~\n",
    "\n",
    "It is a function that allows us to add an element of type `S`, where `T` is a subtype of `S` and the resultng list becomes of type `SriramsList[S]`.\n",
    "\n",
    "In fact this behavior is seen in the scala list as well."
   ]
  },
  {
   "cell_type": "code",
   "execution_count": 23,
   "metadata": {},
   "outputs": [
    {
     "data": {
      "text/plain": [
       "\u001b[36ml1\u001b[39m: \u001b[32mList\u001b[39m[\u001b[32mCat\u001b[39m] = \u001b[33mList\u001b[39m(\n",
       "  ammonite.$sess.cmd0$Helper$Cat@2acb897e,\n",
       "  ammonite.$sess.cmd0$Helper$Cat@1e69eb14,\n",
       "  ammonite.$sess.cmd0$Helper$Cat@54c59c0\n",
       ")"
      ]
     },
     "execution_count": 23,
     "metadata": {},
     "output_type": "execute_result"
    }
   ],
   "source": [
    "val l1: List[Cat] = List( new Cat(\"Mr. Meow\"), new Cat(\"Jenkins\"), new Cat(\"Mr. Mistofelles\"))"
   ]
  },
  {
   "cell_type": "code",
   "execution_count": 24,
   "metadata": {},
   "outputs": [
    {
     "data": {
      "text/plain": [
       "\u001b[36ml2\u001b[39m: \u001b[32mList\u001b[39m[\u001b[32mMammal\u001b[39m] = \u001b[33mList\u001b[39m(\n",
       "  ammonite.$sess.cmd0$Helper$Rodent@51057e01,\n",
       "  ammonite.$sess.cmd0$Helper$Cat@2acb897e,\n",
       "  ammonite.$sess.cmd0$Helper$Cat@1e69eb14,\n",
       "  ammonite.$sess.cmd0$Helper$Cat@54c59c0\n",
       ")"
      ]
     },
     "execution_count": 24,
     "metadata": {},
     "output_type": "execute_result"
    }
   ],
   "source": [
    "val l2 = (new Rodent(\"Crookshanks\")):: l1  "
   ]
  },
  {
   "cell_type": "markdown",
   "metadata": {},
   "source": [
    "We added a `Rodent` to our list and see how the entire list is now type promoted to a new list of type `Mammal`"
   ]
  },
  {
   "cell_type": "markdown",
   "metadata": {},
   "source": [
    "## Mutable vars cannot be used in covariant/contravariant"
   ]
  },
  {
   "cell_type": "markdown",
   "metadata": {},
   "source": [
    "Let us examine why Arrays in scala must be invariant. The reason is because they are mutable. And as we will see, one cannot use a mutable of type T if we would like to be co/contravariant on T. \n"
   ]
  },
  {
   "cell_type": "code",
   "execution_count": 24,
   "metadata": {},
   "outputs": [
    {
     "name": "stderr",
     "output_type": "stream",
     "text": [
      "cmd24.sc:2: covariant type T occurs in contravariant position in type T of value mutableField_=\n",
      "  var mutableField: T = initVal\n",
      "      ^Compilation Failed"
     ]
    },
    {
     "ename": "",
     "evalue": "",
     "output_type": "error",
     "traceback": [
      "Compilation Failed"
     ]
    }
   ],
   "source": [
    "abstract class WithMutable[+T](initVal: T) {\n",
    "  var mutableField: T = initVal\n",
    "}"
   ]
  },
  {
   "cell_type": "markdown",
   "metadata": {},
   "source": [
    "As you can see scala does not allow it. Why is that? Suppose scala would allow it? Then we can break type soundness quite easily and do arbitrary typecasting as follows.\n",
    "\n",
    "~~~\n",
    "class WithMutable[+T] (initVal: T) {\n",
    "  var mutableField: T = initVal\n",
    "  def getMutableField: T = {mutableField}\n",
    "}\n",
    "\n",
    "\n",
    "val a1: WithMutable[Int] = WithMutable[Int](25) // mutableField is set to 25\n",
    "\n",
    "val a2: WithMutable[Any] = a1 // This is OK since WithMutable is Co-Variant\n",
    "a2.mutableField = \"Mistofelles\" // This is OK since String is a subtype of Any.\n",
    "\n",
    "// But a2 and a1 are the same memory in scala. \n",
    "\n",
    "val x = a1.getMutableField // What is the type of x? Is it Int or String?\n",
    "// Type system is broken since we wrote a string and try to get it out as an Int\n",
    "~~~\n",
    "\n",
    "## Rule for Mutable Vars\n",
    "\n",
    "A class `Generic[T]` which contains a mutable field of type `T` cannot be declared co-variant or contravariant. It can only be invariant."
   ]
  }
 ],
 "metadata": {
  "kernelspec": {
   "display_name": "Scala",
   "language": "scala",
   "name": "scala"
  },
  "language_info": {
   "codemirror_mode": "text/x-scala",
   "file_extension": ".sc",
   "mimetype": "text/x-scala",
   "name": "scala",
   "nbconvert_exporter": "script",
   "version": "2.13.3"
  }
 },
 "nbformat": 4,
 "nbformat_minor": 2
}
