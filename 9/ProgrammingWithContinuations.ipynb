{
 "cells": [
  {
   "cell_type": "markdown",
   "id": "dd7663fa",
   "metadata": {},
   "source": [
    "# Programming with Continuations\n",
    "\n",
    "We have seen ideas such as continuation passing style and trampolines so far. We presented these chiefly as a means to remove non-tail recursion systematically by _packaging_ the work that remains as a continuation (and as a _thunk_ in case of trampolines). However, this is perhaps not the most interesting application of these ideas. \n",
    "The idea of continuations and trampolines are useful in implementing some interesting functions in an application that cannot be performed any other way.\n",
    "\n",
    "In these notes, we will show two such  applications: \n",
    "  - systematically solving constraint problems using various forms of state-space search. \n",
    "  - coroutines that can perform \"asynchronous operations\"\n",
    " \n",
    " \n",
    "We assume you are familiar with ideas such as \n",
    "  - Depth first search\n",
    "  - Breadth first search\n",
    "  - Iterative deepening search\n",
    "  \n",
    "You will  encounter these in a basic _Artificial Intelligence_ class such as CSCI 3202.\n",
    "\n",
    "## Send More Money\n",
    "\n",
    "This is a standard puzzle: \n",
    "\n",
    " $$\\begin{array}{ccccc r}\n",
    "    & S & E & N & D  & + \\\\\n",
    "    & M & O & R & E \\\\ \n",
    "    \\hline\n",
    "    M & O & N & E & Y \\\\ \n",
    "    \\end{array}$$\n",
    "    \n",
    "Here, $S, E, N, D, M, O, R, Y$ each stand for a digit between $0, \\ldots, 9$. Such that the sum of the top row and middle row equals the bottom row after the digits are substituted for each individual number. \n",
    "\n",
    "## Boolean Satisfiability Problem\n",
    "\n",
    "We have a boolean formula such as \n",
    "\n",
    "$$ (p \\& q \\& !r) | ( p \\& (!q | !r) \\& !s) | (!p \\& (!s | q) ) $$\n",
    "\n",
    "Find truth values for the propositions $p, q, r, s$ that makes the formula above true or conclude that the formula is unsatisfiable. \n",
    "\n",
    "## Other Examples\n",
    "\n",
    "Other examples include solving a sudoku or three coloring a graph. These are all problems where we need to use explicit search.\n",
    "\n",
    "# Programming Search\n",
    "\n",
    "There is no technical difficulty about programming search. Let us focus on the send-more-money problem. \n",
    "We can always program search explicitly ourselves using recursion."
   ]
  },
  {
   "cell_type": "code",
   "execution_count": 8,
   "id": "df3f0839",
   "metadata": {
    "ExecuteTime": {
     "end_time": "2023-04-06T03:04:40.680268Z",
     "start_time": "2023-04-06T03:04:40.335Z"
    }
   },
   "outputs": [
    {
     "data": {
      "text/plain": [
       "defined \u001b[32mfunction\u001b[39m \u001b[36msolve_send_more_money\u001b[39m"
      ]
     },
     "execution_count": 8,
     "metadata": {},
     "output_type": "execute_result"
    }
   ],
   "source": [
    "/* Explicit Search \n",
    "    lst: list of letters that have not yet been assigned.\n",
    "    dict: Dictionary holding the letters that have been assigned.\n",
    "*/\n",
    "def solve_send_more_money(lst:List[String], dict: Map[String, Int]): Boolean = {\n",
    "    if (lst.length == 0){\n",
    "        /*- all letters have been assigned: check if send + more == money -*/\n",
    "        val send = 1000*dict(\"s\") + 100*dict(\"e\") + 10 * dict(\"n\") + dict(\"d\") // send\n",
    "        val more = 1000*dict(\"m\") + 100 * dict(\"o\") + 10 * dict(\"r\") + dict(\"e\") //more \n",
    "        val money = 10000*dict(\"m\") + 1000 * dict(\"o\")+ 100*dict(\"n\") + 10 * dict(\"e\") + dict(\"y\") // money\n",
    "        if (send + more == money) {\n",
    "            println(\"Found Solution\")\n",
    "            println(\"--------------\")\n",
    "            List(\"s\",\"e\",\"n\",\"d\",\"m\",\"o\",\"r\",\"y\"). foreach {  // Print the solution.\n",
    "                case chr => println(s\"${chr} --> ${dict(chr)}\")\n",
    "            }\n",
    "            true // \"return\"/evaluate to true\n",
    "        } else {\n",
    "            false // \"return\"/evaluate to false\n",
    "        }\n",
    "    } else {\n",
    "        // Run through the elements 0 to 9 inclusive\n",
    "        (0 to 9).foldLeft[Boolean] (false)  // Accumulator starts with false\n",
    "         { \n",
    "            (acc, i:Int) => { \n",
    "                if (!acc){ // If current accumulator is false\n",
    "                    val head_chr:String = lst.head // take the first unassigned char\n",
    "                    val new_dict:Map[String,Int] = dict + (head_chr -> i) // assign it to i\n",
    "                    solve_send_more_money(lst.tail, new_dict) // recursively solve the rest of the problem\n",
    "                } else {\n",
    "                    true // this means, we already found a solution.. just skip to the end.\n",
    "                }\n",
    "            }\n",
    "        }\n",
    "    }\n",
    "}"
   ]
  },
  {
   "cell_type": "code",
   "execution_count": 9,
   "id": "61f731dd",
   "metadata": {
    "ExecuteTime": {
     "end_time": "2023-04-06T03:04:41.833679Z",
     "start_time": "2023-04-06T03:04:41.546Z"
    }
   },
   "outputs": [
    {
     "name": "stdout",
     "output_type": "stream",
     "text": [
      "Found Solution\n",
      "--------------\n",
      "s --> 0\n",
      "e --> 0\n",
      "n --> 0\n",
      "d --> 0\n",
      "m --> 0\n",
      "o --> 0\n",
      "r --> 0\n",
      "y --> 0\n"
     ]
    },
    {
     "data": {
      "text/plain": [
       "\u001b[36mres8\u001b[39m: \u001b[32mBoolean\u001b[39m = true"
      ]
     },
     "execution_count": 9,
     "metadata": {},
     "output_type": "execute_result"
    }
   ],
   "source": [
    "solve_send_more_money(List(\"s\",\"e\",\"n\",\"d\",\"m\",\"o\",\"r\",\"y\"), Map.empty)"
   ]
  },
  {
   "cell_type": "markdown",
   "id": "88773437",
   "metadata": {},
   "source": [
    "That was blazingly fast. But wait a minute: we forgot a key constraint: the numbers cannot all be 0. In particular, `s` and `m` must range from 1 to 9. Let's modify the code."
   ]
  },
  {
   "cell_type": "code",
   "execution_count": 10,
   "id": "9a8916b7",
   "metadata": {
    "ExecuteTime": {
     "end_time": "2023-04-06T03:04:45.027291Z",
     "start_time": "2023-04-06T03:04:44.676Z"
    }
   },
   "outputs": [
    {
     "data": {
      "text/plain": [
       "defined \u001b[32mfunction\u001b[39m \u001b[36msolve_smm_2\u001b[39m"
      ]
     },
     "execution_count": 10,
     "metadata": {},
     "output_type": "execute_result"
    }
   ],
   "source": [
    "/* Explicit Search \n",
    "    lst: list of letters that have not yet been assigned.\n",
    "    dict: Dictionary holding the letters that have been assigned.\n",
    "    But, s, m cannot be assigned 0.\n",
    "    Identical to previous code except for the condition above that was added.\n",
    "*/\n",
    "def solve_smm_2(lst:List[String], dict: Map[String, Int]): Boolean = {\n",
    "    if (lst.length == 0){\n",
    "        /*- all letters have been assigned -*/\n",
    "        val send = 1000*dict(\"s\") + 100*dict(\"e\") + 10 * dict(\"n\") + dict(\"d\")\n",
    "        val more = 1000*dict(\"m\") + 100 * dict(\"o\") + 10 * dict(\"r\") + dict(\"e\")\n",
    "        val money = 10000*dict(\"m\") + 1000 * dict(\"o\")+ 100*dict(\"n\") + 10 * dict(\"e\") + dict(\"y\")\n",
    "        if (dict(\"s\") != 0 && dict(\"m\") != 0 && send + more == money) {\n",
    "            println(\"Found Solution\")\n",
    "            println(\"--------------\")\n",
    "            List(\"s\",\"e\",\"n\",\"d\",\"m\",\"o\",\"r\",\"y\"). foreach { \n",
    "                case chr => println(s\"${chr} --> ${dict(chr)}\")\n",
    "            }\n",
    "            true\n",
    "        } else {\n",
    "            false\n",
    "        }\n",
    "    } else {\n",
    "        (0 to 9).foldLeft[Boolean] (false) {\n",
    "            (acc, i:Int) => {\n",
    "                if (!acc){\n",
    "                    val head_chr:String = lst.head\n",
    "                    val new_dict:Map[String,Int] = dict + (head_chr -> i)\n",
    "                    solve_smm_2(lst.tail, new_dict)\n",
    "                } else {\n",
    "                    true\n",
    "                }\n",
    "            }\n",
    "        }\n",
    "    }\n",
    "}"
   ]
  },
  {
   "cell_type": "code",
   "execution_count": 11,
   "id": "0c3f4323",
   "metadata": {
    "ExecuteTime": {
     "end_time": "2023-04-06T03:05:05.613564Z",
     "start_time": "2023-04-06T03:04:46.808Z"
    }
   },
   "outputs": [
    {
     "name": "stdout",
     "output_type": "stream",
     "text": [
      "Found Solution\n",
      "--------------\n",
      "s --> 9\n",
      "e --> 0\n",
      "n --> 0\n",
      "d --> 0\n",
      "m --> 1\n",
      "o --> 0\n",
      "r --> 0\n",
      "y --> 0\n"
     ]
    },
    {
     "data": {
      "text/plain": [
       "\u001b[36mres10\u001b[39m: \u001b[32mBoolean\u001b[39m = true"
      ]
     },
     "execution_count": 11,
     "metadata": {},
     "output_type": "execute_result"
    }
   ],
   "source": [
    "solve_smm_2(List(\"s\",\"e\",\"n\",\"d\",\"m\",\"o\",\"r\",\"y\"), Map.empty)"
   ]
  },
  {
   "cell_type": "markdown",
   "id": "0c8c6c67",
   "metadata": {},
   "source": [
    "Success!! However, it took a lot longer (more than 15 seconds) since the trivial solution is no longer available.  \n",
    "\n",
    "However, the problem is that we have to write a lot of code for this and it is not at all easy to modify for a different purpose or to try a different search scheme. \n",
    "\n",
    "## Domain Specific Language (DSL) for programming search.\n",
    "\n",
    "Ideally, as a user, we would like to write something like this.\n",
    "\n",
    "~~~\n",
    "   val s = choose(1 to 9);\n",
    "   val e = choose(0 to 9);\n",
    "   val n = choose(0 to 9);\n",
    "   val d = choose(0 to 9)\n",
    "   val m = choose(1 to 9)\n",
    "   val o = choose(0 to 9)\n",
    "   val r = choose(0 to 9)\n",
    "   val n = choose(0 to 9)\n",
    "   val y = choose(0 to 9)\n",
    "   assert_sol( d + 10 * n + 100 * e + 1000 * s + \n",
    "               e + 10 * r + 100 * o + 1000 * m == \n",
    "               y + 10*e + 100 * n + 1000 * o + 10000*m\n",
    "             ) \n",
    "~~~\n",
    "\n",
    "Ideally, the DSL should find and set the appropriate values for the variables to make the assertion at the end go through. However, we are not interested in parsing our own language such as Lettuce. We wish to write code that is going to compile in Scala and just define the appropriate API functions `choose` and `assert_sol` in this case. \n",
    "\n",
    "If you think for a minute, the problem is impossible since \n",
    "  - Every time you call choose, it returns one value. How can we go back to an earlier choice and backtrack? We do not get to control how scala compiles the code or the JVM executes the compiled bytecode. \n",
    "  \n",
    "The answer of course is __continuation passing style__. We will see that CPS allows our API the unique ability to \n",
    "\"hijack\" execution and thus do things like backtracking without having to rewrite the scala compiler ourselves :-)\n",
    "\n",
    "Let us take a simpler problem of the same type:\n",
    "  $$\\begin{array}{cccc}\n",
    "    & A & B & + \\\\\n",
    "    &  B & A & \\\\ \n",
    "    \\hline\n",
    "   C & B & C \\\\ \n",
    "    \\end{array}$$\n",
    "\n",
    "We wish to express this code.\n",
    " ~~~\n",
    " val a = choose(1 to 9)\n",
    " val b = choose(1 to 9)\n",
    " val c = choose(1 to 9)\n",
    " assert_sol(a + 10 * b + 10 * a + b = 100 * c + 10 * b + c )\n",
    " ~~~\n",
    " \n",
    " Let's write it in a contination passing style.\n",
    " \n",
    " ~~~\n",
    " choose( 1 to 9, a => {\n",
    "   choose( 1 to 9, b => {\n",
    "     choose( 1 to 9, c => {\n",
    "        assert_sol(a + 10 * b + 10 * a + b = 100* c +  10 * b + c )\n",
    "      })\n",
    "    })\n",
    " })\n",
    "~~~\n",
    "\n",
    "In other words, let's make function, `choose` take a continuation as an argument."
   ]
  },
  {
   "cell_type": "code",
   "execution_count": 12,
   "id": "5ac9054a",
   "metadata": {
    "ExecuteTime": {
     "end_time": "2023-04-06T03:08:28.795770Z",
     "start_time": "2023-04-06T03:08:28.430Z"
    }
   },
   "outputs": [
    {
     "data": {
      "text/plain": [
       "defined \u001b[32mfunction\u001b[39m \u001b[36mchoose\u001b[39m\n",
       "defined \u001b[32mfunction\u001b[39m \u001b[36massert_sol\u001b[39m"
      ]
     },
     "execution_count": 12,
     "metadata": {},
     "output_type": "execute_result"
    }
   ],
   "source": [
    "/* -- for convenience, we will write this in an imperative style -- */\n",
    "\n",
    "/* function choose: make choices from the provided list one by one and \n",
    "   call the continuation for each choice */\n",
    "def choose(choices: List[Int],  k: Int => Boolean): Boolean = {\n",
    "    /* -- iterate through each choice --*/\n",
    "    for (i <- choices){\n",
    "        /* -- call continuation with current choice --*/\n",
    "        if (k(i)){ return true } // If executing the rest of the continuation with choice i returns true\n",
    "    }\n",
    "    false // we tried all choices and the continuation returned false for all of them.\n",
    "}\n",
    "\n",
    "/* When the choices are done, check if we got a solution*/\n",
    "def assert_sol(d: Map[String, Int], b: Boolean): Boolean = {\n",
    "    if (b) {\n",
    "        println(\"Solution Found\")\n",
    "        println(\"--------------\")\n",
    "        for ((s,i) <- d){\n",
    "            println(s\"${s} --> ${i}\")\n",
    "        }\n",
    "        true\n",
    "    } else {\n",
    "        false\n",
    "    }\n",
    "}\n"
   ]
  },
  {
   "cell_type": "code",
   "execution_count": 13,
   "id": "044617db",
   "metadata": {
    "ExecuteTime": {
     "end_time": "2023-04-06T03:09:07.557074Z",
     "start_time": "2023-04-06T03:09:07.163Z"
    }
   },
   "outputs": [
    {
     "name": "stdout",
     "output_type": "stream",
     "text": [
      "Solution Found\n",
      "--------------\n",
      "a --> 9\n",
      "b --> 2\n",
      "c --> 1\n"
     ]
    },
    {
     "data": {
      "text/plain": [
       "\u001b[36mlst\u001b[39m: \u001b[32mList\u001b[39m[\u001b[32mInt\u001b[39m] = \u001b[33mList\u001b[39m(\u001b[32m1\u001b[39m, \u001b[32m2\u001b[39m, \u001b[32m3\u001b[39m, \u001b[32m4\u001b[39m, \u001b[32m5\u001b[39m, \u001b[32m6\u001b[39m, \u001b[32m7\u001b[39m, \u001b[32m8\u001b[39m, \u001b[32m9\u001b[39m)\n",
       "\u001b[36mres12_1\u001b[39m: \u001b[32mBoolean\u001b[39m = true"
      ]
     },
     "execution_count": 13,
     "metadata": {},
     "output_type": "execute_result"
    }
   ],
   "source": [
    "val lst = (1 to 9).toList\n",
    "choose(lst, a => { // choose a \n",
    "    choose(lst, b => { // choose b\n",
    "        choose(lst, c => { // choose c\n",
    "            // assert the solution condition \n",
    "            // for convenience, we pack up all the choices into a dictionary for pretty printing.\n",
    "            assert_sol(Map(\"a\" -> a, \"b\" -> b, \"c\"-> c), a + 10 * b + 10 * a + b == 100 * c + 10 * b + c  )\n",
    "        })\n",
    "    })\n",
    "})"
   ]
  },
  {
   "cell_type": "markdown",
   "id": "8ca5e198",
   "metadata": {},
   "source": [
    "This solution works but it is nevertheless based on depth first search. It also resorts to the use of non-tail recursion. For some search problems, DFS can lead to infinite loops and never find a solution. It would be good to try other search methods as well.\n",
    "\n",
    "Let's also try and make it more user friendly as well so that the user can \n",
    "  - place labels on choices\n",
    "  - the code does not employ non-tail recursion.\n",
    "  - allow the search over different types of choices."
   ]
  },
  {
   "cell_type": "code",
   "execution_count": 17,
   "id": "ff05a777",
   "metadata": {
    "ExecuteTime": {
     "end_time": "2023-04-06T03:13:32.590712Z",
     "start_time": "2023-04-06T03:13:32.293Z"
    }
   },
   "outputs": [
    {
     "data": {
      "text/plain": [
       "defined \u001b[32mclass\u001b[39m \u001b[36mDFSSearcher\u001b[39m"
      ]
     },
     "execution_count": 17,
     "metadata": {},
     "output_type": "execute_result"
    }
   ],
   "source": [
    "/* class dfs searcher is generic over type T, which is the type of choices we are going to make */\n",
    "/* for the send+more = money problem, we will have T = Int */\n",
    "class DFSSearcher[T] { \n",
    "    /* Let us actually store all the continuations. \n",
    "       Although for a DFS, we do not need to do this,\n",
    "       it will help us for implementing other algorithms like BFS or randomized DFS */\n",
    "    var continuations: List[Continuation] = Nil /* Store a list of unexecuted continuations */\n",
    "    var cur_path: List[(String,T)] = Nil /* Store the choices we have made so far */\n",
    "    \n",
    "    /*- \n",
    "        Useful class for continuations.\n",
    "    \n",
    "        Store the label for the choice, the option we have chosen and \n",
    "        the continuation to be executed.\n",
    "        --*/\n",
    "    class Continuation(val label: String, val opt: T, val kont: T => Boolean){\n",
    "        val my_path = cur_path // Store a copy of the search path\n",
    "        /* Function doit --> this will update the cur_path in the outside class and call the continuation */\n",
    "        def doit: Boolean = {\n",
    "            cur_path = (label, opt)::my_path\n",
    "            kont(opt)\n",
    "        }\n",
    "    }\n",
    " \n",
    "    /* - Function choose -*/\n",
    "    def choose(label: String, options: List[T], k: T => Boolean): Boolean = {\n",
    "        assert (options.length >= 1)\n",
    "        /* -- iterate through all options.\n",
    "              create a continuation class for each object and \n",
    "              push them to the front of the stack of continuations we are \n",
    "              storing --*/\n",
    "        for (t <- options) {\n",
    "            continuations = (new Continuation(label, t, k)) :: continuations\n",
    "        }\n",
    "        \n",
    "        /* -- pop the first continuation and execute it -- */\n",
    "        val head_cont = continuations.head\n",
    "        continuations = continuations.tail\n",
    "        head_cont.doit // run the first continuation we popped off the stack.\n",
    "    }\n",
    "  \n",
    "    /*- Function assert_sol -*/\n",
    "    def assert_sol(b: Boolean): Boolean = {\n",
    "        if (b) { // Solution found.\n",
    "            println(\"Found Solution\") // Print the solution\n",
    "            println(\"---------------\")\n",
    "            cur_path.foreach {\n",
    "                case (label, t) => println(s\"\\t %s --> %s\".format(label, t.toString))\n",
    "            }\n",
    "            println(\"---------------\"); \n",
    "            true // And bail out with true value\n",
    "        } else {\n",
    "            /*-- This path is not a solution */\n",
    "            if (continuations.length >= 1){ /*- Do we still have unexecuted continuations left ? -*/\n",
    "                val c: Continuation = continuations.head  /* If yes, then take the first one from the list */\n",
    "                continuations = continuations.tail /* pop it off */\n",
    "                c.doit /* and execute it */\n",
    "            } else {\n",
    "                println(\"All options exhausted. No solution found\");\n",
    "                false /* bail out with false */\n",
    "            }\n",
    "        }\n",
    "    }\n",
    "\n",
    "}"
   ]
  },
  {
   "cell_type": "code",
   "execution_count": 18,
   "id": "c2f3be0b",
   "metadata": {
    "ExecuteTime": {
     "end_time": "2023-04-06T03:13:34.187415Z",
     "start_time": "2023-04-06T03:13:33.936Z"
    }
   },
   "outputs": [
    {
     "data": {
      "text/plain": [
       "defined \u001b[32mfunction\u001b[39m \u001b[36msolve_simple_puzzle\u001b[39m"
      ]
     },
     "execution_count": 18,
     "metadata": {},
     "output_type": "execute_result"
    }
   ],
   "source": [
    "def solve_simple_puzzle() = {\n",
    "    val dfs = new DFSSearcher[Int]()\n",
    "    val lst = List(1, 2, 3, 4, 5, 6, 7, 8, 9)\n",
    "    dfs.choose(\"a\", lst, a => {\n",
    "        dfs.choose(\"b\", lst, b => {\n",
    "            dfs.choose(\"c\", lst, c => {\n",
    "                dfs.assert_sol(a + 10 * b + 10 * a + b == 100 * c + 10 * b + c )\n",
    "            })\n",
    "        })\n",
    "    })\n",
    "}"
   ]
  },
  {
   "cell_type": "code",
   "execution_count": 19,
   "id": "6ab85575",
   "metadata": {
    "ExecuteTime": {
     "end_time": "2023-04-06T03:13:36.931219Z",
     "start_time": "2023-04-06T03:13:36.672Z"
    }
   },
   "outputs": [
    {
     "name": "stdout",
     "output_type": "stream",
     "text": [
      "Found Solution\n",
      "---------------\n",
      "\t c --> 1\n",
      "\t b --> 2\n",
      "\t a --> 9\n",
      "---------------\n"
     ]
    },
    {
     "data": {
      "text/plain": [
       "\u001b[36mres18\u001b[39m: \u001b[32mBoolean\u001b[39m = true"
      ]
     },
     "execution_count": 19,
     "metadata": {},
     "output_type": "execute_result"
    }
   ],
   "source": [
    "solve_simple_puzzle()"
   ]
  },
  {
   "cell_type": "code",
   "execution_count": 20,
   "id": "f6b9aa23",
   "metadata": {
    "ExecuteTime": {
     "end_time": "2023-04-06T03:14:02.840191Z",
     "start_time": "2023-04-06T03:14:02.495Z"
    }
   },
   "outputs": [
    {
     "ename": "",
     "evalue": "",
     "output_type": "error",
     "traceback": [
      "\u001b[31mjava.lang.StackOverflowError\u001b[39m\n  java.lang.invoke.Invokers.checkGenericType(\u001b[32mInvokers.java\u001b[39m:\u001b[32m503\u001b[39m)\n  scala.runtime.Statics.releaseFence(\u001b[32mStatics.java\u001b[39m:\u001b[32m148\u001b[39m)\n  scala.collection.immutable.$colon$colon.<init>(\u001b[32mList.scala\u001b[39m:\u001b[32m623\u001b[39m)\n  scala.collection.immutable.List.$colon$colon(\u001b[32mList.scala\u001b[39m:\u001b[32m97\u001b[39m)\n  ammonite.$sess.cmd16$Helper$DFSSearcher$Continuation.doit(\u001b[32mcmd16.sc\u001b[39m:\u001b[32m18\u001b[39m)\n  ammonite.$sess.cmd16$Helper$DFSSearcher.assert_sol(\u001b[32mcmd16.sc\u001b[39m:\u001b[32m55\u001b[39m)\n  ammonite.$sess.cmd19$Helper.$anonfun$solve_puzzle_1$8(\u001b[32mcmd19.sc\u001b[39m:\u001b[32m12\u001b[39m)\n  scala.runtime.java8.JFunction1$mcZI$sp.apply(\u001b[32mJFunction1$mcZI$sp.scala\u001b[39m:\u001b[32m17\u001b[39m)\n  ammonite.$sess.cmd16$Helper$DFSSearcher$Continuation.doit(\u001b[32mcmd16.sc\u001b[39m:\u001b[32m19\u001b[39m)\n  ammonite.$sess.cmd16$Helper$DFSSearcher.assert_sol(\u001b[32mcmd16.sc\u001b[39m:\u001b[32m55\u001b[39m)\n  ammonite.$sess.cmd19$Helper.$anonfun$solve_puzzle_1$8(\u001b[32mcmd19.sc\u001b[39m:\u001b[32m12\u001b[39m)\n  scala.runtime.java8.JFunction1$mcZI$sp.apply(\u001b[32mJFunction1$mcZI$sp.scala\u001b[39m:\u001b[32m17\u001b[39m)\n  ammonite.$sess.cmd16$Helper$DFSSearcher$Continuation.doit(\u001b[32mcmd16.sc\u001b[39m:\u001b[32m19\u001b[39m)\n  ammonite.$sess.cmd16$Helper$DFSSearcher.assert_sol(\u001b[32mcmd16.sc\u001b[39m:\u001b[32m55\u001b[39m)\n  ammonite.$sess.cmd19$Helper.$anonfun$solve_puzzle_1$8(\u001b[32mcmd19.sc\u001b[39m:\u001b[32m12\u001b[39m)\n  scala.runtime.java8.JFunction1$mcZI$sp.apply(\u001b[32mJFunction1$mcZI$sp.scala\u001b[39m:\u001b[32m17\u001b[39m)\n  ammonite.$sess.cmd16$Helper$DFSSearcher$Continuation.doit(\u001b[32mcmd16.sc\u001b[39m:\u001b[32m19\u001b[39m)\n  ammonite.$sess.cmd16$Helper$DFSSearcher.choose(\u001b[32mcmd16.sc\u001b[39m:\u001b[32m37\u001b[39m)\n  ammonite.$sess.cmd19$Helper.$anonfun$solve_puzzle_1$7(\u001b[32mcmd19.sc\u001b[39m:\u001b[32m11\u001b[39m)\n  scala.runtime.java8.JFunction1$mcZI$sp.apply(\u001b[32mJFunction1$mcZI$sp.scala\u001b[39m:\u001b[32m17\u001b[39m)\n  ammonite.$sess.cmd16$Helper$DFSSearcher$Continuation.doit(\u001b[32mcmd16.sc\u001b[39m:\u001b[32m19\u001b[39m)\n  ammonite.$sess.cmd16$Helper$DFSSearcher.assert_sol(\u001b[32mcmd16.sc\u001b[39m:\u001b[32m55\u001b[39m)\n  ammonite.$sess.cmd19$Helper.$anonfun$solve_puzzle_1$8(\u001b[32mcmd19.sc\u001b[39m:\u001b[32m12\u001b[39m)\n  scala.runtime.java8.JFunction1$mcZI$sp.apply(\u001b[32mJFunction1$mcZI$sp.scala\u001b[39m:\u001b[32m17\u001b[39m)\n  ammonite.$sess.cmd16$Helper$DFSSearcher$Continuation.doit(\u001b[32mcmd16.sc\u001b[39m:\u001b[32m19\u001b[39m)\n  ammonite.$sess.cmd16$Helper$DFSSearcher.assert_sol(\u001b[32mcmd16.sc\u001b[39m:\u001b[32m55\u001b[39m)\n  ammonite.$sess.cmd19$Helper.$anonfun$solve_puzzle_1$8(\u001b[32mcmd19.sc\u001b[39m:\u001b[32m12\u001b[39m)\n  scala.runtime.java8.JFunction1$mcZI$sp.apply(\u001b[32mJFunction1$mcZI$sp.scala\u001b[39m:\u001b[32m17\u001b[39m)\n  ammonite.$sess.cmd16$Helper$DFSSearcher$Continuation.doit(\u001b[32mcmd16.sc\u001b[39m:\u001b[32m19\u001b[39m)\n  ammonite.$sess.cmd16$Helper$DFSSearcher.assert_sol(\u001b[32mcmd16.sc\u001b[39m:\u001b[32m55\u001b[39m)\n  ammonite.$sess.cmd19$Helper.$anonfun$solve_puzzle_1$8(\u001b[32mcmd19.sc\u001b[39m:\u001b[32m12\u001b[39m)\n  scala.runtime.java8.JFunction1$mcZI$sp.apply(\u001b[32mJFunction1$mcZI$sp.scala\u001b[39m:\u001b[32m17\u001b[39m)\n  ammonite.$sess.cmd16$Helper$DFSSearcher$Continuation.doit(\u001b[32mcmd16.sc\u001b[39m:\u001b[32m19\u001b[39m)\n  ammonite.$sess.cmd16$Helper$DFSSearcher.assert_sol(\u001b[32mcmd16.sc\u001b[39m:\u001b[32m55\u001b[39m)\n  ammonite.$sess.cmd19$Helper.$anonfun$solve_puzzle_1$8(\u001b[32mcmd19.sc\u001b[39m:\u001b[32m12\u001b[39m)\n  scala.runtime.java8.JFunction1$mcZI$sp.apply(\u001b[32mJFunction1$mcZI$sp.scala\u001b[39m:\u001b[32m17\u001b[39m)\n  ammonite.$sess.cmd16$Helper$DFSSearcher$Continuation.doit(\u001b[32mcmd16.sc\u001b[39m:\u001b[32m19\u001b[39m)\n  ammonite.$sess.cmd16$Helper$DFSSearcher.assert_sol(\u001b[32mcmd16.sc\u001b[39m:\u001b[32m55\u001b[39m)\n  ammonite.$sess.cmd19$Helper.$anonfun$solve_puzzle_1$8(\u001b[32mcmd19.sc\u001b[39m:\u001b[32m12\u001b[39m)\n  scala.runtime.java8.JFunction1$mcZI$sp.apply(\u001b[32mJFunction1$mcZI$sp.scala\u001b[39m:\u001b[32m17\u001b[39m)\n  ammonite.$sess.cmd16$Helper$DFSSearcher$Continuation.doit(\u001b[32mcmd16.sc\u001b[39m:\u001b[32m19\u001b[39m)\n  ammonite.$sess.cmd16$Helper$DFSSearcher.assert_sol(\u001b[32mcmd16.sc\u001b[39m:\u001b[32m55\u001b[39m)\n  ammonite.$sess.cmd19$Helper.$anonfun$solve_puzzle_1$8(\u001b[32mcmd19.sc\u001b[39m:\u001b[32m12\u001b[39m)\n  scala.runtime.java8.JFunction1$mcZI$sp.apply(\u001b[32mJFunction1$mcZI$sp.scala\u001b[39m:\u001b[32m17\u001b[39m)\n  ammonite.$sess.cmd16$Helper$DFSSearcher$Continuation.doit(\u001b[32mcmd16.sc\u001b[39m:\u001b[32m19\u001b[39m)\n  ammonite.$sess.cmd16$Helper$DFSSearcher.assert_sol(\u001b[32mcmd16.sc\u001b[39m:\u001b[32m55\u001b[39m)\n  ammonite.$sess.cmd19$Helper.$anonfun$solve_puzzle_1$8(\u001b[32mcmd19.sc\u001b[39m:\u001b[32m12\u001b[39m)\n  scala.runtime.java8.JFunction1$mcZI$sp.apply(\u001b[32mJFunction1$mcZI$sp.scala\u001b[39m:\u001b[32m17\u001b[39m)\n  ammonite.$sess.cmd16$Helper$DFSSearcher$Continuation.doit(\u001b[32mcmd16.sc\u001b[39m:\u001b[32m19\u001b[39m)\n  ammonite.$sess.cmd16$Helper$DFSSearcher.assert_sol(\u001b[32mcmd16.sc\u001b[39m:\u001b[32m55\u001b[39m)\n  ammonite.$sess.cmd19$Helper.$anonfun$solve_puzzle_1$8(\u001b[32mcmd19.sc\u001b[39m:\u001b[32m12\u001b[39m)\n  scala.runtime.java8.JFunction1$mcZI$sp.apply(\u001b[32mJFunction1$mcZI$sp.scala\u001b[39m:\u001b[32m17\u001b[39m)\n  ammonite.$sess.cmd16$Helper$DFSSearcher$Continuation.doit(\u001b[32mcmd16.sc\u001b[39m:\u001b[32m19\u001b[39m)\n  ammonite.$sess.cmd16$Helper$DFSSearcher.assert_sol(\u001b[32mcmd16.sc\u001b[39m:\u001b[32m55\u001b[39m)\n  ammonite.$sess.cmd19$Helper.$anonfun$solve_puzzle_1$8(\u001b[32mcmd19.sc\u001b[39m:\u001b[32m12\u001b[39m)\n  scala.runtime.java8.JFunction1$mcZI$sp.apply(\u001b[32mJFunction1$mcZI$sp.scala\u001b[39m:\u001b[32m17\u001b[39m)\n  ammonite.$sess.cmd16$Helper$DFSSearcher$Continuation.doit(\u001b[32mcmd16.sc\u001b[39m:\u001b[32m19\u001b[39m)\n  ammonite.$sess.cmd16$Helper$DFSSearcher.assert_sol(\u001b[32mcmd16.sc\u001b[39m:\u001b[32m55\u001b[39m)\n  ammonite.$sess.cmd19$Helper.$anonfun$solve_puzzle_1$8(\u001b[32mcmd19.sc\u001b[39m:\u001b[32m12\u001b[39m)\n  scala.runtime.java8.JFunction1$mcZI$sp.apply(\u001b[32mJFunction1$mcZI$sp.scala\u001b[39m:\u001b[32m17\u001b[39m)\n  ammonite.$sess.cmd16$Helper$DFSSearcher$Continuation.doit(\u001b[32mcmd16.sc\u001b[39m:\u001b[32m19\u001b[39m)\n  ammonite.$sess.cmd16$Helper$DFSSearcher.choose(\u001b[32mcmd16.sc\u001b[39m:\u001b[32m37\u001b[39m)\n  ammonite.$sess.cmd19$Helper.$anonfun$solve_puzzle_1$7(\u001b[32mcmd19.sc\u001b[39m:\u001b[32m11\u001b[39m)\n  scala.runtime.java8.JFunction1$mcZI$sp.apply(\u001b[32mJFunction1$mcZI$sp.scala\u001b[39m:\u001b[32m17\u001b[39m)\n  ammonite.$sess.cmd16$Helper$DFSSearcher$Continuation.doit(\u001b[32mcmd16.sc\u001b[39m:\u001b[32m19\u001b[39m)\n  ammonite.$sess.cmd16$Helper$DFSSearcher.assert_sol(\u001b[32mcmd16.sc\u001b[39m:\u001b[32m55\u001b[39m)\n  ammonite.$sess.cmd19$Helper.$anonfun$solve_puzzle_1$8(\u001b[32mcmd19.sc\u001b[39m:\u001b[32m12\u001b[39m)\n  scala.runtime.java8.JFunction1$mcZI$sp.apply(\u001b[32mJFunction1$mcZI$sp.scala\u001b[39m:\u001b[32m17\u001b[39m)\n  ammonite.$sess.cmd16$Helper$DFSSearcher$Continuation.doit(\u001b[32mcmd16.sc\u001b[39m:\u001b[32m19\u001b[39m)\n  ammonite.$sess.cmd16$Helper$DFSSearcher.assert_sol(\u001b[32mcmd16.sc\u001b[39m:\u001b[32m55\u001b[39m)\n  ammonite.$sess.cmd19$Helper.$anonfun$solve_puzzle_1$8(\u001b[32mcmd19.sc\u001b[39m:\u001b[32m12\u001b[39m)\n  scala.runtime.java8.JFunction1$mcZI$sp.apply(\u001b[32mJFunction1$mcZI$sp.scala\u001b[39m:\u001b[32m17\u001b[39m)\n  ammonite.$sess.cmd16$Helper$DFSSearcher$Continuation.doit(\u001b[32mcmd16.sc\u001b[39m:\u001b[32m19\u001b[39m)\n  ammonite.$sess.cmd16$Helper$DFSSearcher.assert_sol(\u001b[32mcmd16.sc\u001b[39m:\u001b[32m55\u001b[39m)\n  ammonite.$sess.cmd19$Helper.$anonfun$solve_puzzle_1$8(\u001b[32mcmd19.sc\u001b[39m:\u001b[32m12\u001b[39m)\n  scala.runtime.java8.JFunction1$mcZI$sp.apply(\u001b[32mJFunction1$mcZI$sp.scala\u001b[39m:\u001b[32m17\u001b[39m)\n  ammonite.$sess.cmd16$Helper$DFSSearcher$Continuation.doit(\u001b[32mcmd16.sc\u001b[39m:\u001b[32m19\u001b[39m)\n  ammonite.$sess.cmd16$Helper$DFSSearcher.assert_sol(\u001b[32mcmd16.sc\u001b[39m:\u001b[32m55\u001b[39m)\n  ammonite.$sess.cmd19$Helper.$anonfun$solve_puzzle_1$8(\u001b[32mcmd19.sc\u001b[39m:\u001b[32m12\u001b[39m)\n  scala.runtime.java8.JFunction1$mcZI$sp.apply(\u001b[32mJFunction1$mcZI$sp.scala\u001b[39m:\u001b[32m17\u001b[39m)\n  ammonite.$sess.cmd16$Helper$DFSSearcher$Continuation.doit(\u001b[32mcmd16.sc\u001b[39m:\u001b[32m19\u001b[39m)\n  ammonite.$sess.cmd16$Helper$DFSSearcher.assert_sol(\u001b[32mcmd16.sc\u001b[39m:\u001b[32m55\u001b[39m)\n  ammonite.$sess.cmd19$Helper.$anonfun$solve_puzzle_1$8(\u001b[32mcmd19.sc\u001b[39m:\u001b[32m12\u001b[39m)\n  scala.runtime.java8.JFunction1$mcZI$sp.apply(\u001b[32mJFunction1$mcZI$sp.scala\u001b[39m:\u001b[32m17\u001b[39m)\n  ammonite.$sess.cmd16$Helper$DFSSearcher$Continuation.doit(\u001b[32mcmd16.sc\u001b[39m:\u001b[32m19\u001b[39m)\n  ammonite.$sess.cmd16$Helper$DFSSearcher.assert_sol(\u001b[32mcmd16.sc\u001b[39m:\u001b[32m55\u001b[39m)\n  ammonite.$sess.cmd19$Helper.$anonfun$solve_puzzle_1$8(\u001b[32mcmd19.sc\u001b[39m:\u001b[32m12\u001b[39m)\n  scala.runtime.java8.JFunction1$mcZI$sp.apply(\u001b[32mJFunction1$mcZI$sp.scala\u001b[39m:\u001b[32m17\u001b[39m)\n  ammonite.$sess.cmd16$Helper$DFSSearcher$Continuation.doit(\u001b[32mcmd16.sc\u001b[39m:\u001b[32m19\u001b[39m)\n  ammonite.$sess.cmd16$Helper$DFSSearcher.assert_sol(\u001b[32mcmd16.sc\u001b[39m:\u001b[32m55\u001b[39m)\n  ammonite.$sess.cmd19$Helper.$anonfun$solve_puzzle_1$8(\u001b[32mcmd19.sc\u001b[39m:\u001b[32m12\u001b[39m)\n  scala.runtime.java8.JFunction1$mcZI$sp.apply(\u001b[32mJFunction1$mcZI$sp.scala\u001b[39m:\u001b[32m17\u001b[39m)\n  ammonite.$sess.cmd16$Helper$DFSSearcher$Continuation.doit(\u001b[32mcmd16.sc\u001b[39m:\u001b[32m19\u001b[39m)\n  ammonite.$sess.cmd16$Helper$DFSSearcher.assert_sol(\u001b[32mcmd16.sc\u001b[39m:\u001b[32m55\u001b[39m)\n  ammonite.$sess.cmd19$Helper.$anonfun$solve_puzzle_1$8(\u001b[32mcmd19.sc\u001b[39m:\u001b[32m12\u001b[39m)\n  scala.runtime.java8.JFunction1$mcZI$sp.apply(\u001b[32mJFunction1$mcZI$sp.scala\u001b[39m:\u001b[32m17\u001b[39m)\n  ammonite.$sess.cmd16$Helper$DFSSearcher$Continuation.doit(\u001b[32mcmd16.sc\u001b[39m:\u001b[32m19\u001b[39m)\n  ammonite.$sess.cmd16$Helper$DFSSearcher.assert_sol(\u001b[32mcmd16.sc\u001b[39m:\u001b[32m55\u001b[39m)\n  ammonite.$sess.cmd19$Helper.$anonfun$solve_puzzle_1$8(\u001b[32mcmd19.sc\u001b[39m:\u001b[32m12\u001b[39m)\n  scala.runtime.java8.JFunction1$mcZI$sp.apply(\u001b[32mJFunction1$mcZI$sp.scala\u001b[39m:\u001b[32m17\u001b[39m)\n  ammonite.$sess.cmd16$Helper$DFSSearcher$Continuation.doit(\u001b[32mcmd16.sc\u001b[39m:\u001b[32m19\u001b[39m)\n  ammonite.$sess.cmd16$Helper$DFSSearcher.assert_sol(\u001b[32mcmd16.sc\u001b[39m:\u001b[32m55\u001b[39m)\n  ammonite.$sess.cmd19$Helper.$anonfun$solve_puzzle_1$8(\u001b[32mcmd19.sc\u001b[39m:\u001b[32m12\u001b[39m)\n  scala.runtime.java8.JFunction1$mcZI$sp.apply(\u001b[32mJFunction1$mcZI$sp.scala\u001b[39m:\u001b[32m17\u001b[39m)\n  ammonite.$sess.cmd16$Helper$DFSSearcher$Continuation.doit(\u001b[32mcmd16.sc\u001b[39m:\u001b[32m19\u001b[39m)\n  ammonite.$sess.cmd16$Helper$DFSSearcher.choose(\u001b[32mcmd16.sc\u001b[39m:\u001b[32m37\u001b[39m)\n  ammonite.$sess.cmd19$Helper.$anonfun$solve_puzzle_1$7(\u001b[32mcmd19.sc\u001b[39m:\u001b[32m11\u001b[39m)\n  scala.runtime.java8.JFunction1$mcZI$sp.apply(\u001b[32mJFunction1$mcZI$sp.scala\u001b[39m:\u001b[32m17\u001b[39m)\n  ammonite.$sess.cmd16$Helper$DFSSearcher$Continuation.doit(\u001b[32mcmd16.sc\u001b[39m:\u001b[32m19\u001b[39m)\n  ammonite.$sess.cmd16$Helper$DFSSearcher.assert_sol(\u001b[32mcmd16.sc\u001b[39m:\u001b[32m55\u001b[39m)\n  ammonite.$sess.cmd19$Helper.$anonfun$solve_puzzle_1$8(\u001b[32mcmd19.sc\u001b[39m:\u001b[32m12\u001b[39m)\n  scala.runtime.java8.JFunction1$mcZI$sp.apply(\u001b[32mJFunction1$mcZI$sp.scala\u001b[39m:\u001b[32m17\u001b[39m)\n  ammonite.$sess.cmd16$Helper$DFSSearcher$Continuation.doit(\u001b[32mcmd16.sc\u001b[39m:\u001b[32m19\u001b[39m)\n  ammonite.$sess.cmd16$Helper$DFSSearcher.assert_sol(\u001b[32mcmd16.sc\u001b[39m:\u001b[32m55\u001b[39m)\n  ammonite.$sess.cmd19$Helper.$anonfun$solve_puzzle_1$8(\u001b[32mcmd19.sc\u001b[39m:\u001b[32m12\u001b[39m)\n  scala.runtime.java8.JFunction1$mcZI$sp.apply(\u001b[32mJFunction1$mcZI$sp.scala\u001b[39m:\u001b[32m17\u001b[39m)\n  ammonite.$sess.cmd16$Helper$DFSSearcher$Continuation.doit(\u001b[32mcmd16.sc\u001b[39m:\u001b[32m19\u001b[39m)\n  ammonite.$sess.cmd16$Helper$DFSSearcher.assert_sol(\u001b[32mcmd16.sc\u001b[39m:\u001b[32m55\u001b[39m)\n  ammonite.$sess.cmd19$Helper.$anonfun$solve_puzzle_1$8(\u001b[32mcmd19.sc\u001b[39m:\u001b[32m12\u001b[39m)\n  scala.runtime.java8.JFunction1$mcZI$sp.apply(\u001b[32mJFunction1$mcZI$sp.scala\u001b[39m:\u001b[32m17\u001b[39m)\n  ammonite.$sess.cmd16$Helper$DFSSearcher$Continuation.doit(\u001b[32mcmd16.sc\u001b[39m:\u001b[32m19\u001b[39m)\n  ammonite.$sess.cmd16$Helper$DFSSearcher.assert_sol(\u001b[32mcmd16.sc\u001b[39m:\u001b[32m55\u001b[39m)\n  ammonite.$sess.cmd19$Helper.$anonfun$solve_puzzle_1$8(\u001b[32mcmd19.sc\u001b[39m:\u001b[32m12\u001b[39m)\n  scala.runtime.java8.JFunction1$mcZI$sp.apply(\u001b[32mJFunction1$mcZI$sp.scala\u001b[39m:\u001b[32m17\u001b[39m)\n  ammonite.$sess.cmd16$Helper$DFSSearcher$Continuation.doit(\u001b[32mcmd16.sc\u001b[39m:\u001b[32m19\u001b[39m)\n  ammonite.$sess.cmd16$Helper$DFSSearcher.assert_sol(\u001b[32mcmd16.sc\u001b[39m:\u001b[32m55\u001b[39m)\n  ammonite.$sess.cmd19$Helper.$anonfun$solve_puzzle_1$8(\u001b[32mcmd19.sc\u001b[39m:\u001b[32m12\u001b[39m)\n  scala.runtime.java8.JFunction1$mcZI$sp.apply(\u001b[32mJFunction1$mcZI$sp.scala\u001b[39m:\u001b[32m17\u001b[39m)\n  ammonite.$sess.cmd16$Helper$DFSSearcher$Continuation.doit(\u001b[32mcmd16.sc\u001b[39m:\u001b[32m19\u001b[39m)\n  ammonite.$sess.cmd16$Helper$DFSSearcher.assert_sol(\u001b[32mcmd16.sc\u001b[39m:\u001b[32m55\u001b[39m)\n  ammonite.$sess.cmd19$Helper.$anonfun$solve_puzzle_1$8(\u001b[32mcmd19.sc\u001b[39m:\u001b[32m12\u001b[39m)\n  scala.runtime.java8.JFunction1$mcZI$sp.apply(\u001b[32mJFunction1$mcZI$sp.scala\u001b[39m:\u001b[32m17\u001b[39m)\n  ammonite.$sess.cmd16$Helper$DFSSearcher$Continuation.doit(\u001b[32mcmd16.sc\u001b[39m:\u001b[32m19\u001b[39m)\n  ammonite.$sess.cmd16$Helper$DFSSearcher.assert_sol(\u001b[32mcmd16.sc\u001b[39m:\u001b[32m55\u001b[39m)\n  ammonite.$sess.cmd19$Helper.$anonfun$solve_puzzle_1$8(\u001b[32mcmd19.sc\u001b[39m:\u001b[32m12\u001b[39m)\n  scala.runtime.java8.JFunction1$mcZI$sp.apply(\u001b[32mJFunction1$mcZI$sp.scala\u001b[39m:\u001b[32m17\u001b[39m)\n  ammonite.$sess.cmd16$Helper$DFSSearcher$Continuation.doit(\u001b[32mcmd16.sc\u001b[39m:\u001b[32m19\u001b[39m)\n  ammonite.$sess.cmd16$Helper$DFSSearcher.assert_sol(\u001b[32mcmd16.sc\u001b[39m:\u001b[32m55\u001b[39m)\n  ammonite.$sess.cmd19$Helper.$anonfun$solve_puzzle_1$8(\u001b[32mcmd19.sc\u001b[39m:\u001b[32m12\u001b[39m)\n  scala.runtime.java8.JFunction1$mcZI$sp.apply(\u001b[32mJFunction1$mcZI$sp.scala\u001b[39m:\u001b[32m17\u001b[39m)\n  ammonite.$sess.cmd16$Helper$DFSSearcher$Continuation.doit(\u001b[32mcmd16.sc\u001b[39m:\u001b[32m19\u001b[39m)\n  ammonite.$sess.cmd16$Helper$DFSSearcher.assert_sol(\u001b[32mcmd16.sc\u001b[39m:\u001b[32m55\u001b[39m)\n  ammonite.$sess.cmd19$Helper.$anonfun$solve_puzzle_1$8(\u001b[32mcmd19.sc\u001b[39m:\u001b[32m12\u001b[39m)\n  scala.runtime.java8.JFunction1$mcZI$sp.apply(\u001b[32mJFunction1$mcZI$sp.scala\u001b[39m:\u001b[32m17\u001b[39m)\n  ammonite.$sess.cmd16$Helper$DFSSearcher$Continuation.doit(\u001b[32mcmd16.sc\u001b[39m:\u001b[32m19\u001b[39m)\n  ammonite.$sess.cmd16$Helper$DFSSearcher.assert_sol(\u001b[32mcmd16.sc\u001b[39m:\u001b[32m55\u001b[39m)\n  ammonite.$sess.cmd19$Helper.$anonfun$solve_puzzle_1$8(\u001b[32mcmd19.sc\u001b[39m:\u001b[32m12\u001b[39m)\n  scala.runtime.java8.JFunction1$mcZI$sp.apply(\u001b[32mJFunction1$mcZI$sp.scala\u001b[39m:\u001b[32m17\u001b[39m)\n  ammonite.$sess.cmd16$Helper$DFSSearcher$Continuation.doit(\u001b[32mcmd16.sc\u001b[39m:\u001b[32m19\u001b[39m)\n  ammonite.$sess.cmd16$Helper$DFSSearcher.choose(\u001b[32mcmd16.sc\u001b[39m:\u001b[32m37\u001b[39m)\n  ammonite.$sess.cmd19$Helper.$anonfun$solve_puzzle_1$7(\u001b[32mcmd19.sc\u001b[39m:\u001b[32m11\u001b[39m)\n  scala.runtime.java8.JFunction1$mcZI$sp.apply(\u001b[32mJFunction1$mcZI$sp.scala\u001b[39m:\u001b[32m17\u001b[39m)\n  ammonite.$sess.cmd16$Helper$DFSSearcher$Continuation.doit(\u001b[32mcmd16.sc\u001b[39m:\u001b[32m19\u001b[39m)\n  ammonite.$sess.cmd16$Helper$DFSSearcher.choose(\u001b[32mcmd16.sc\u001b[39m:\u001b[32m37\u001b[39m)\n  ammonite.$sess.cmd19$Helper.$anonfun$solve_puzzle_1$6(\u001b[32mcmd19.sc\u001b[39m:\u001b[32m10\u001b[39m)\n  scala.runtime.java8.JFunction1$mcZI$sp.apply(\u001b[32mJFunction1$mcZI$sp.scala\u001b[39m:\u001b[32m17\u001b[39m)\n  ammonite.$sess.cmd16$Helper$DFSSearcher$Continuation.doit(\u001b[32mcmd16.sc\u001b[39m:\u001b[32m19\u001b[39m)\n  ammonite.$sess.cmd16$Helper$DFSSearcher.assert_sol(\u001b[32mcmd16.sc\u001b[39m:\u001b[32m55\u001b[39m)\n  ammonite.$sess.cmd19$Helper.$anonfun$solve_puzzle_1$8(\u001b[32mcmd19.sc\u001b[39m:\u001b[32m12\u001b[39m)\n  scala.runtime.java8.JFunction1$mcZI$sp.apply(\u001b[32mJFunction1$mcZI$sp.scala\u001b[39m:\u001b[32m17\u001b[39m)\n  ammonite.$sess.cmd16$Helper$DFSSearcher$Continuation.doit(\u001b[32mcmd16.sc\u001b[39m:\u001b[32m19\u001b[39m)\n  ammonite.$sess.cmd16$Helper$DFSSearcher.assert_sol(\u001b[32mcmd16.sc\u001b[39m:\u001b[32m55\u001b[39m)\n  ammonite.$sess.cmd19$Helper.$anonfun$solve_puzzle_1$8(\u001b[32mcmd19.sc\u001b[39m:\u001b[32m12\u001b[39m)\n  scala.runtime.java8.JFunction1$mcZI$sp.apply(\u001b[32mJFunction1$mcZI$sp.scala\u001b[39m:\u001b[32m17\u001b[39m)\n  ammonite.$sess.cmd16$Helper$DFSSearcher$Continuation.doit(\u001b[32mcmd16.sc\u001b[39m:\u001b[32m19\u001b[39m)\n  ammonite.$sess.cmd16$Helper$DFSSearcher.assert_sol(\u001b[32mcmd16.sc\u001b[39m:\u001b[32m55\u001b[39m)\n  ammonite.$sess.cmd19$Helper.$anonfun$solve_puzzle_1$8(\u001b[32mcmd19.sc\u001b[39m:\u001b[32m12\u001b[39m)\n  scala.runtime.java8.JFunction1$mcZI$sp.apply(\u001b[32mJFunction1$mcZI$sp.scala\u001b[39m:\u001b[32m17\u001b[39m)\n  ammonite.$sess.cmd16$Helper$DFSSearcher$Continuation.doit(\u001b[32mcmd16.sc\u001b[39m:\u001b[32m19\u001b[39m)\n  ammonite.$sess.cmd16$Helper$DFSSearcher.assert_sol(\u001b[32mcmd16.sc\u001b[39m:\u001b[32m55\u001b[39m)\n  ammonite.$sess.cmd19$Helper.$anonfun$solve_puzzle_1$8(\u001b[32mcmd19.sc\u001b[39m:\u001b[32m12\u001b[39m)\n  scala.runtime.java8.JFunction1$mcZI$sp.apply(\u001b[32mJFunction1$mcZI$sp.scala\u001b[39m:\u001b[32m17\u001b[39m)\n  ammonite.$sess.cmd16$Helper$DFSSearcher$Continuation.doit(\u001b[32mcmd16.sc\u001b[39m:\u001b[32m19\u001b[39m)\n  ammonite.$sess.cmd16$Helper$DFSSearcher.assert_sol(\u001b[32mcmd16.sc\u001b[39m:\u001b[32m55\u001b[39m)\n  ammonite.$sess.cmd19$Helper.$anonfun$solve_puzzle_1$8(\u001b[32mcmd19.sc\u001b[39m:\u001b[32m12\u001b[39m)\n  scala.runtime.java8.JFunction1$mcZI$sp.apply(\u001b[32mJFunction1$mcZI$sp.scala\u001b[39m:\u001b[32m17\u001b[39m)\n  ammonite.$sess.cmd16$Helper$DFSSearcher$Continuation.doit(\u001b[32mcmd16.sc\u001b[39m:\u001b[32m19\u001b[39m)\n  ammonite.$sess.cmd16$Helper$DFSSearcher.assert_sol(\u001b[32mcmd16.sc\u001b[39m:\u001b[32m55\u001b[39m)\n  ammonite.$sess.cmd19$Helper.$anonfun$solve_puzzle_1$8(\u001b[32mcmd19.sc\u001b[39m:\u001b[32m12\u001b[39m)\n  scala.runtime.java8.JFunction1$mcZI$sp.apply(\u001b[32mJFunction1$mcZI$sp.scala\u001b[39m:\u001b[32m17\u001b[39m)\n  ammonite.$sess.cmd16$Helper$DFSSearcher$Continuation.doit(\u001b[32mcmd16.sc\u001b[39m:\u001b[32m19\u001b[39m)\n  ammonite.$sess.cmd16$Helper$DFSSearcher.assert_sol(\u001b[32mcmd16.sc\u001b[39m:\u001b[32m55\u001b[39m)\n  ammonite.$sess.cmd19$Helper.$anonfun$solve_puzzle_1$8(\u001b[32mcmd19.sc\u001b[39m:\u001b[32m12\u001b[39m)\n  scala.runtime.java8.JFunction1$mcZI$sp.apply(\u001b[32mJFunction1$mcZI$sp.scala\u001b[39m:\u001b[32m17\u001b[39m)\n  ammonite.$sess.cmd16$Helper$DFSSearcher$Continuation.doit(\u001b[32mcmd16.sc\u001b[39m:\u001b[32m19\u001b[39m)\n  ammonite.$sess.cmd16$Helper$DFSSearcher.assert_sol(\u001b[32mcmd16.sc\u001b[39m:\u001b[32m55\u001b[39m)\n  ammonite.$sess.cmd19$Helper.$anonfun$solve_puzzle_1$8(\u001b[32mcmd19.sc\u001b[39m:\u001b[32m12\u001b[39m)\n  scala.runtime.java8.JFunction1$mcZI$sp.apply(\u001b[32mJFunction1$mcZI$sp.scala\u001b[39m:\u001b[32m17\u001b[39m)\n  ammonite.$sess.cmd16$Helper$DFSSearcher$Continuation.doit(\u001b[32mcmd16.sc\u001b[39m:\u001b[32m19\u001b[39m)\n  ammonite.$sess.cmd16$Helper$DFSSearcher.assert_sol(\u001b[32mcmd16.sc\u001b[39m:\u001b[32m55\u001b[39m)\n  ammonite.$sess.cmd19$Helper.$anonfun$solve_puzzle_1$8(\u001b[32mcmd19.sc\u001b[39m:\u001b[32m12\u001b[39m)\n  scala.runtime.java8.JFunction1$mcZI$sp.apply(\u001b[32mJFunction1$mcZI$sp.scala\u001b[39m:\u001b[32m17\u001b[39m)\n  ammonite.$sess.cmd16$Helper$DFSSearcher$Continuation.doit(\u001b[32mcmd16.sc\u001b[39m:\u001b[32m19\u001b[39m)\n  ammonite.$sess.cmd16$Helper$DFSSearcher.assert_sol(\u001b[32mcmd16.sc\u001b[39m:\u001b[32m55\u001b[39m)\n  ammonite.$sess.cmd19$Helper.$anonfun$solve_puzzle_1$8(\u001b[32mcmd19.sc\u001b[39m:\u001b[32m12\u001b[39m)\n  scala.runtime.java8.JFunction1$mcZI$sp.apply(\u001b[32mJFunction1$mcZI$sp.scala\u001b[39m:\u001b[32m17\u001b[39m)\n  ammonite.$sess.cmd16$Helper$DFSSearcher$Continuation.doit(\u001b[32mcmd16.sc\u001b[39m:\u001b[32m19\u001b[39m)\n  ammonite.$sess.cmd16$Helper$DFSSearcher.choose(\u001b[32mcmd16.sc\u001b[39m:\u001b[32m37\u001b[39m)\n  ammonite.$sess.cmd19$Helper.$anonfun$solve_puzzle_1$7(\u001b[32mcmd19.sc\u001b[39m:\u001b[32m11\u001b[39m)\n  scala.runtime.java8.JFunction1$mcZI$sp.apply(\u001b[32mJFunction1$mcZI$sp.scala\u001b[39m:\u001b[32m17\u001b[39m)\n  ammonite.$sess.cmd16$Helper$DFSSearcher$Continuation.doit(\u001b[32mcmd16.sc\u001b[39m:\u001b[32m19\u001b[39m)\n  ammonite.$sess.cmd16$Helper$DFSSearcher.assert_sol(\u001b[32mcmd16.sc\u001b[39m:\u001b[32m55\u001b[39m)\n  ammonite.$sess.cmd19$Helper.$anonfun$solve_puzzle_1$8(\u001b[32mcmd19.sc\u001b[39m:\u001b[32m12\u001b[39m)\n  scala.runtime.java8.JFunction1$mcZI$sp.apply(\u001b[32mJFunction1$mcZI$sp.scala\u001b[39m:\u001b[32m17\u001b[39m)\n  ammonite.$sess.cmd16$Helper$DFSSearcher$Continuation.doit(\u001b[32mcmd16.sc\u001b[39m:\u001b[32m19\u001b[39m)\n  ammonite.$sess.cmd16$Helper$DFSSearcher.assert_sol(\u001b[32mcmd16.sc\u001b[39m:\u001b[32m55\u001b[39m)\n  ammonite.$sess.cmd19$Helper.$anonfun$solve_puzzle_1$8(\u001b[32mcmd19.sc\u001b[39m:\u001b[32m12\u001b[39m)\n  scala.runtime.java8.JFunction1$mcZI$sp.apply(\u001b[32mJFunction1$mcZI$sp.scala\u001b[39m:\u001b[32m17\u001b[39m)\n  ammonite.$sess.cmd16$Helper$DFSSearcher$Continuation.doit(\u001b[32mcmd16.sc\u001b[39m:\u001b[32m19\u001b[39m)\n  ammonite.$sess.cmd16$Helper$DFSSearcher.assert_sol(\u001b[32mcmd16.sc\u001b[39m:\u001b[32m55\u001b[39m)\n  ammonite.$sess.cmd19$Helper.$anonfun$solve_puzzle_1$8(\u001b[32mcmd19.sc\u001b[39m:\u001b[32m12\u001b[39m)\n  scala.runtime.java8.JFunction1$mcZI$sp.apply(\u001b[32mJFunction1$mcZI$sp.scala\u001b[39m:\u001b[32m17\u001b[39m)\n  ammonite.$sess.cmd16$Helper$DFSSearcher$Continuation.doit(\u001b[32mcmd16.sc\u001b[39m:\u001b[32m19\u001b[39m)\n  ammonite.$sess.cmd16$Helper$DFSSearcher.assert_sol(\u001b[32mcmd16.sc\u001b[39m:\u001b[32m55\u001b[39m)\n  ammonite.$sess.cmd19$Helper.$anonfun$solve_puzzle_1$8(\u001b[32mcmd19.sc\u001b[39m:\u001b[32m12\u001b[39m)\n  scala.runtime.java8.JFunction1$mcZI$sp.apply(\u001b[32mJFunction1$mcZI$sp.scala\u001b[39m:\u001b[32m17\u001b[39m)\n  ammonite.$sess.cmd16$Helper$DFSSearcher$Continuation.doit(\u001b[32mcmd16.sc\u001b[39m:\u001b[32m19\u001b[39m)\n  ammonite.$sess.cmd16$Helper$DFSSearcher.assert_sol(\u001b[32mcmd16.sc\u001b[39m:\u001b[32m55\u001b[39m)\n  ammonite.$sess.cmd19$Helper.$anonfun$solve_puzzle_1$8(\u001b[32mcmd19.sc\u001b[39m:\u001b[32m12\u001b[39m)\n  scala.runtime.java8.JFunction1$mcZI$sp.apply(\u001b[32mJFunction1$mcZI$sp.scala\u001b[39m:\u001b[32m17\u001b[39m)\n  ammonite.$sess.cmd16$Helper$DFSSearcher$Continuation.doit(\u001b[32mcmd16.sc\u001b[39m:\u001b[32m19\u001b[39m)\n  ammonite.$sess.cmd16$Helper$DFSSearcher.assert_sol(\u001b[32mcmd16.sc\u001b[39m:\u001b[32m55\u001b[39m)\n  ammonite.$sess.cmd19$Helper.$anonfun$solve_puzzle_1$8(\u001b[32mcmd19.sc\u001b[39m:\u001b[32m12\u001b[39m)\n  scala.runtime.java8.JFunction1$mcZI$sp.apply(\u001b[32mJFunction1$mcZI$sp.scala\u001b[39m:\u001b[32m17\u001b[39m)\n  ammonite.$sess.cmd16$Helper$DFSSearcher$Continuation.doit(\u001b[32mcmd16.sc\u001b[39m:\u001b[32m19\u001b[39m)\n  ammonite.$sess.cmd16$Helper$DFSSearcher.assert_sol(\u001b[32mcmd16.sc\u001b[39m:\u001b[32m55\u001b[39m)\n  ammonite.$sess.cmd19$Helper.$anonfun$solve_puzzle_1$8(\u001b[32mcmd19.sc\u001b[39m:\u001b[32m12\u001b[39m)\n  scala.runtime.java8.JFunction1$mcZI$sp.apply(\u001b[32mJFunction1$mcZI$sp.scala\u001b[39m:\u001b[32m17\u001b[39m)\n  ammonite.$sess.cmd16$Helper$DFSSearcher$Continuation.doit(\u001b[32mcmd16.sc\u001b[39m:\u001b[32m19\u001b[39m)\n  ammonite.$sess.cmd16$Helper$DFSSearcher.assert_sol(\u001b[32mcmd16.sc\u001b[39m:\u001b[32m55\u001b[39m)\n  ammonite.$sess.cmd19$Helper.$anonfun$solve_puzzle_1$8(\u001b[32mcmd19.sc\u001b[39m:\u001b[32m12\u001b[39m)\n  scala.runtime.java8.JFunction1$mcZI$sp.apply(\u001b[32mJFunction1$mcZI$sp.scala\u001b[39m:\u001b[32m17\u001b[39m)\n  ammonite.$sess.cmd16$Helper$DFSSearcher$Continuation.doit(\u001b[32mcmd16.sc\u001b[39m:\u001b[32m19\u001b[39m)\n  ammonite.$sess.cmd16$Helper$DFSSearcher.assert_sol(\u001b[32mcmd16.sc\u001b[39m:\u001b[32m55\u001b[39m)\n  ammonite.$sess.cmd19$Helper.$anonfun$solve_puzzle_1$8(\u001b[32mcmd19.sc\u001b[39m:\u001b[32m12\u001b[39m)\n  scala.runtime.java8.JFunction1$mcZI$sp.apply(\u001b[32mJFunction1$mcZI$sp.scala\u001b[39m:\u001b[32m17\u001b[39m)\n  ammonite.$sess.cmd16$Helper$DFSSearcher$Continuation.doit(\u001b[32mcmd16.sc\u001b[39m:\u001b[32m19\u001b[39m)\n  ammonite.$sess.cmd16$Helper$DFSSearcher.assert_sol(\u001b[32mcmd16.sc\u001b[39m:\u001b[32m55\u001b[39m)\n  ammonite.$sess.cmd19$Helper.$anonfun$solve_puzzle_1$8(\u001b[32mcmd19.sc\u001b[39m:\u001b[32m12\u001b[39m)\n  scala.runtime.java8.JFunction1$mcZI$sp.apply(\u001b[32mJFunction1$mcZI$sp.scala\u001b[39m:\u001b[32m17\u001b[39m)\n  ammonite.$sess.cmd16$Helper$DFSSearcher$Continuation.doit(\u001b[32mcmd16.sc\u001b[39m:\u001b[32m19\u001b[39m)\n  ammonite.$sess.cmd16$Helper$DFSSearcher.choose(\u001b[32mcmd16.sc\u001b[39m:\u001b[32m37\u001b[39m)\n  ammonite.$sess.cmd19$Helper.$anonfun$solve_puzzle_1$7(\u001b[32mcmd19.sc\u001b[39m:\u001b[32m11\u001b[39m)\n  scala.runtime.java8.JFunction1$mcZI$sp.apply(\u001b[32mJFunction1$mcZI$sp.scala\u001b[39m:\u001b[32m17\u001b[39m)\n  ammonite.$sess.cmd16$Helper$DFSSearcher$Continuation.doit(\u001b[32mcmd16.sc\u001b[39m:\u001b[32m19\u001b[39m)\n  ammonite.$sess.cmd16$Helper$DFSSearcher.assert_sol(\u001b[32mcmd16.sc\u001b[39m:\u001b[32m55\u001b[39m)\n  ammonite.$sess.cmd19$Helper.$anonfun$solve_puzzle_1$8(\u001b[32mcmd19.sc\u001b[39m:\u001b[32m12\u001b[39m)\n  scala.runtime.java8.JFunction1$mcZI$sp.apply(\u001b[32mJFunction1$mcZI$sp.scala\u001b[39m:\u001b[32m17\u001b[39m)\n  ammonite.$sess.cmd16$Helper$DFSSearcher$Continuation.doit(\u001b[32mcmd16.sc\u001b[39m:\u001b[32m19\u001b[39m)\n  ammonite.$sess.cmd16$Helper$DFSSearcher.assert_sol(\u001b[32mcmd16.sc\u001b[39m:\u001b[32m55\u001b[39m)\n  ammonite.$sess.cmd19$Helper.$anonfun$solve_puzzle_1$8(\u001b[32mcmd19.sc\u001b[39m:\u001b[32m12\u001b[39m)\n  scala.runtime.java8.JFunction1$mcZI$sp.apply(\u001b[32mJFunction1$mcZI$sp.scala\u001b[39m:\u001b[32m17\u001b[39m)\n  ammonite.$sess.cmd16$Helper$DFSSearcher$Continuation.doit(\u001b[32mcmd16.sc\u001b[39m:\u001b[32m19\u001b[39m)\n  ammonite.$sess.cmd16$Helper$DFSSearcher.assert_sol(\u001b[32mcmd16.sc\u001b[39m:\u001b[32m55\u001b[39m)\n  ammonite.$sess.cmd19$Helper.$anonfun$solve_puzzle_1$8(\u001b[32mcmd19.sc\u001b[39m:\u001b[32m12\u001b[39m)\n  scala.runtime.java8.JFunction1$mcZI$sp.apply(\u001b[32mJFunction1$mcZI$sp.scala\u001b[39m:\u001b[32m17\u001b[39m)\n  ammonite.$sess.cmd16$Helper$DFSSearcher$Continuation.doit(\u001b[32mcmd16.sc\u001b[39m:\u001b[32m19\u001b[39m)\n  ammonite.$sess.cmd16$Helper$DFSSearcher.assert_sol(\u001b[32mcmd16.sc\u001b[39m:\u001b[32m55\u001b[39m)\n  ammonite.$sess.cmd19$Helper.$anonfun$solve_puzzle_1$8(\u001b[32mcmd19.sc\u001b[39m:\u001b[32m12\u001b[39m)\n  scala.runtime.java8.JFunction1$mcZI$sp.apply(\u001b[32mJFunction1$mcZI$sp.scala\u001b[39m:\u001b[32m17\u001b[39m)\n  ammonite.$sess.cmd16$Helper$DFSSearcher$Continuation.doit(\u001b[32mcmd16.sc\u001b[39m:\u001b[32m19\u001b[39m)\n  ammonite.$sess.cmd16$Helper$DFSSearcher.assert_sol(\u001b[32mcmd16.sc\u001b[39m:\u001b[32m55\u001b[39m)\n  ammonite.$sess.cmd19$Helper.$anonfun$solve_puzzle_1$8(\u001b[32mcmd19.sc\u001b[39m:\u001b[32m12\u001b[39m)\n  scala.runtime.java8.JFunction1$mcZI$sp.apply(\u001b[32mJFunction1$mcZI$sp.scala\u001b[39m:\u001b[32m17\u001b[39m)\n  ammonite.$sess.cmd16$Helper$DFSSearcher$Continuation.doit(\u001b[32mcmd16.sc\u001b[39m:\u001b[32m19\u001b[39m)\n  ammonite.$sess.cmd16$Helper$DFSSearcher.assert_sol(\u001b[32mcmd16.sc\u001b[39m:\u001b[32m55\u001b[39m)\n  ammonite.$sess.cmd19$Helper.$anonfun$solve_puzzle_1$8(\u001b[32mcmd19.sc\u001b[39m:\u001b[32m12\u001b[39m)\n  scala.runtime.java8.JFunction1$mcZI$sp.apply(\u001b[32mJFunction1$mcZI$sp.scala\u001b[39m:\u001b[32m17\u001b[39m)\n  ammonite.$sess.cmd16$Helper$DFSSearcher$Continuation.doit(\u001b[32mcmd16.sc\u001b[39m:\u001b[32m19\u001b[39m)\n  ammonite.$sess.cmd16$Helper$DFSSearcher.assert_sol(\u001b[32mcmd16.sc\u001b[39m:\u001b[32m55\u001b[39m)\n  ammonite.$sess.cmd19$Helper.$anonfun$solve_puzzle_1$8(\u001b[32mcmd19.sc\u001b[39m:\u001b[32m12\u001b[39m)\n  scala.runtime.java8.JFunction1$mcZI$sp.apply(\u001b[32mJFunction1$mcZI$sp.scala\u001b[39m:\u001b[32m17\u001b[39m)\n  ammonite.$sess.cmd16$Helper$DFSSearcher$Continuation.doit(\u001b[32mcmd16.sc\u001b[39m:\u001b[32m19\u001b[39m)\n  ammonite.$sess.cmd16$Helper$DFSSearcher.assert_sol(\u001b[32mcmd16.sc\u001b[39m:\u001b[32m55\u001b[39m)\n  ammonite.$sess.cmd19$Helper.$anonfun$solve_puzzle_1$8(\u001b[32mcmd19.sc\u001b[39m:\u001b[32m12\u001b[39m)\n  scala.runtime.java8.JFunction1$mcZI$sp.apply(\u001b[32mJFunction1$mcZI$sp.scala\u001b[39m:\u001b[32m17\u001b[39m)\n  ammonite.$sess.cmd16$Helper$DFSSearcher$Continuation.doit(\u001b[32mcmd16.sc\u001b[39m:\u001b[32m19\u001b[39m)\n  ammonite.$sess.cmd16$Helper$DFSSearcher.assert_sol(\u001b[32mcmd16.sc\u001b[39m:\u001b[32m55\u001b[39m)\n  ammonite.$sess.cmd19$Helper.$anonfun$solve_puzzle_1$8(\u001b[32mcmd19.sc\u001b[39m:\u001b[32m12\u001b[39m)\n  scala.runtime.java8.JFunction1$mcZI$sp.apply(\u001b[32mJFunction1$mcZI$sp.scala\u001b[39m:\u001b[32m17\u001b[39m)\n  ammonite.$sess.cmd16$Helper$DFSSearcher$Continuation.doit(\u001b[32mcmd16.sc\u001b[39m:\u001b[32m19\u001b[39m)\n  ammonite.$sess.cmd16$Helper$DFSSearcher.assert_sol(\u001b[32mcmd16.sc\u001b[39m:\u001b[32m55\u001b[39m)\n  ammonite.$sess.cmd19$Helper.$anonfun$solve_puzzle_1$8(\u001b[32mcmd19.sc\u001b[39m:\u001b[32m12\u001b[39m)\n  scala.runtime.java8.JFunction1$mcZI$sp.apply(\u001b[32mJFunction1$mcZI$sp.scala\u001b[39m:\u001b[32m17\u001b[39m)\n  ammonite.$sess.cmd16$Helper$DFSSearcher$Continuation.doit(\u001b[32mcmd16.sc\u001b[39m:\u001b[32m19\u001b[39m)\n  ammonite.$sess.cmd16$Helper$DFSSearcher.choose(\u001b[32mcmd16.sc\u001b[39m:\u001b[32m37\u001b[39m)\n  ammonite.$sess.cmd19$Helper.$anonfun$solve_puzzle_1$7(\u001b[32mcmd19.sc\u001b[39m:\u001b[32m11\u001b[39m)\n  scala.runtime.java8.JFunction1$mcZI$sp.apply(\u001b[32mJFunction1$mcZI$sp.scala\u001b[39m:\u001b[32m17\u001b[39m)\n  ammonite.$sess.cmd16$Helper$DFSSearcher$Continuation.doit(\u001b[32mcmd16.sc\u001b[39m:\u001b[32m19\u001b[39m)\n  ammonite.$sess.cmd16$Helper$DFSSearcher.assert_sol(\u001b[32mcmd16.sc\u001b[39m:\u001b[32m55\u001b[39m)\n  ammonite.$sess.cmd19$Helper.$anonfun$solve_puzzle_1$8(\u001b[32mcmd19.sc\u001b[39m:\u001b[32m12\u001b[39m)\n  scala.runtime.java8.JFunction1$mcZI$sp.apply(\u001b[32mJFunction1$mcZI$sp.scala\u001b[39m:\u001b[32m17\u001b[39m)\n  ammonite.$sess.cmd16$Helper$DFSSearcher$Continuation.doit(\u001b[32mcmd16.sc\u001b[39m:\u001b[32m19\u001b[39m)\n  ammonite.$sess.cmd16$Helper$DFSSearcher.assert_sol(\u001b[32mcmd16.sc\u001b[39m:\u001b[32m55\u001b[39m)\n  ammonite.$sess.cmd19$Helper.$anonfun$solve_puzzle_1$8(\u001b[32mcmd19.sc\u001b[39m:\u001b[32m12\u001b[39m)\n  scala.runtime.java8.JFunction1$mcZI$sp.apply(\u001b[32mJFunction1$mcZI$sp.scala\u001b[39m:\u001b[32m17\u001b[39m)\n  ammonite.$sess.cmd16$Helper$DFSSearcher$Continuation.doit(\u001b[32mcmd16.sc\u001b[39m:\u001b[32m19\u001b[39m)\n  ammonite.$sess.cmd16$Helper$DFSSearcher.assert_sol(\u001b[32mcmd16.sc\u001b[39m:\u001b[32m55\u001b[39m)\n  ammonite.$sess.cmd19$Helper.$anonfun$solve_puzzle_1$8(\u001b[32mcmd19.sc\u001b[39m:\u001b[32m12\u001b[39m)\n  scala.runtime.java8.JFunction1$mcZI$sp.apply(\u001b[32mJFunction1$mcZI$sp.scala\u001b[39m:\u001b[32m17\u001b[39m)\n  ammonite.$sess.cmd16$Helper$DFSSearcher$Continuation.doit(\u001b[32mcmd16.sc\u001b[39m:\u001b[32m19\u001b[39m)\n  ammonite.$sess.cmd16$Helper$DFSSearcher.assert_sol(\u001b[32mcmd16.sc\u001b[39m:\u001b[32m55\u001b[39m)\n  ammonite.$sess.cmd19$Helper.$anonfun$solve_puzzle_1$8(\u001b[32mcmd19.sc\u001b[39m:\u001b[32m12\u001b[39m)\n  scala.runtime.java8.JFunction1$mcZI$sp.apply(\u001b[32mJFunction1$mcZI$sp.scala\u001b[39m:\u001b[32m17\u001b[39m)\n  ammonite.$sess.cmd16$Helper$DFSSearcher$Continuation.doit(\u001b[32mcmd16.sc\u001b[39m:\u001b[32m19\u001b[39m)\n  ammonite.$sess.cmd16$Helper$DFSSearcher.assert_sol(\u001b[32mcmd16.sc\u001b[39m:\u001b[32m55\u001b[39m)\n  ammonite.$sess.cmd19$Helper.$anonfun$solve_puzzle_1$8(\u001b[32mcmd19.sc\u001b[39m:\u001b[32m12\u001b[39m)\n  scala.runtime.java8.JFunction1$mcZI$sp.apply(\u001b[32mJFunction1$mcZI$sp.scala\u001b[39m:\u001b[32m17\u001b[39m)\n  ammonite.$sess.cmd16$Helper$DFSSearcher$Continuation.doit(\u001b[32mcmd16.sc\u001b[39m:\u001b[32m19\u001b[39m)\n  ammonite.$sess.cmd16$Helper$DFSSearcher.assert_sol(\u001b[32mcmd16.sc\u001b[39m:\u001b[32m55\u001b[39m)\n  ammonite.$sess.cmd19$Helper.$anonfun$solve_puzzle_1$8(\u001b[32mcmd19.sc\u001b[39m:\u001b[32m12\u001b[39m)\n  scala.runtime.java8.JFunction1$mcZI$sp.apply(\u001b[32mJFunction1$mcZI$sp.scala\u001b[39m:\u001b[32m17\u001b[39m)\n  ammonite.$sess.cmd16$Helper$DFSSearcher$Continuation.doit(\u001b[32mcmd16.sc\u001b[39m:\u001b[32m19\u001b[39m)\n  ammonite.$sess.cmd16$Helper$DFSSearcher.assert_sol(\u001b[32mcmd16.sc\u001b[39m:\u001b[32m55\u001b[39m)\n  ammonite.$sess.cmd19$Helper.$anonfun$solve_puzzle_1$8(\u001b[32mcmd19.sc\u001b[39m:\u001b[32m12\u001b[39m)\n  scala.runtime.java8.JFunction1$mcZI$sp.apply(\u001b[32mJFunction1$mcZI$sp.scala\u001b[39m:\u001b[32m17\u001b[39m)\n  ammonite.$sess.cmd16$Helper$DFSSearcher$Continuation.doit(\u001b[32mcmd16.sc\u001b[39m:\u001b[32m19\u001b[39m)\n  ammonite.$sess.cmd16$Helper$DFSSearcher.assert_sol(\u001b[32mcmd16.sc\u001b[39m:\u001b[32m55\u001b[39m)\n  ammonite.$sess.cmd19$Helper.$anonfun$solve_puzzle_1$8(\u001b[32mcmd19.sc\u001b[39m:\u001b[32m12\u001b[39m)\n  scala.runtime.java8.JFunction1$mcZI$sp.apply(\u001b[32mJFunction1$mcZI$sp.scala\u001b[39m:\u001b[32m17\u001b[39m)\n  ammonite.$sess.cmd16$Helper$DFSSearcher$Continuation.doit(\u001b[32mcmd16.sc\u001b[39m:\u001b[32m19\u001b[39m)\n  ammonite.$sess.cmd16$Helper$DFSSearcher.assert_sol(\u001b[32mcmd16.sc\u001b[39m:\u001b[32m55\u001b[39m)\n  ammonite.$sess.cmd19$Helper.$anonfun$solve_puzzle_1$8(\u001b[32mcmd19.sc\u001b[39m:\u001b[32m12\u001b[39m)\n  scala.runtime.java8.JFunction1$mcZI$sp.apply(\u001b[32mJFunction1$mcZI$sp.scala\u001b[39m:\u001b[32m17\u001b[39m)\n  ammonite.$sess.cmd16$Helper$DFSSearcher$Continuation.doit(\u001b[32mcmd16.sc\u001b[39m:\u001b[32m19\u001b[39m)\n  ammonite.$sess.cmd16$Helper$DFSSearcher.assert_sol(\u001b[32mcmd16.sc\u001b[39m:\u001b[32m55\u001b[39m)\n  ammonite.$sess.cmd19$Helper.$anonfun$solve_puzzle_1$8(\u001b[32mcmd19.sc\u001b[39m:\u001b[32m12\u001b[39m)\n  scala.runtime.java8.JFunction1$mcZI$sp.apply(\u001b[32mJFunction1$mcZI$sp.scala\u001b[39m:\u001b[32m17\u001b[39m)\n  ammonite.$sess.cmd16$Helper$DFSSearcher$Continuation.doit(\u001b[32mcmd16.sc\u001b[39m:\u001b[32m19\u001b[39m)\n  ammonite.$sess.cmd16$Helper$DFSSearcher.choose(\u001b[32mcmd16.sc\u001b[39m:\u001b[32m37\u001b[39m)\n  ammonite.$sess.cmd19$Helper.$anonfun$solve_puzzle_1$7(\u001b[32mcmd19.sc\u001b[39m:\u001b[32m11\u001b[39m)\n  scala.runtime.java8.JFunction1$mcZI$sp.apply(\u001b[32mJFunction1$mcZI$sp.scala\u001b[39m:\u001b[32m17\u001b[39m)\n  ammonite.$sess.cmd16$Helper$DFSSearcher$Continuation.doit(\u001b[32mcmd16.sc\u001b[39m:\u001b[32m19\u001b[39m)\n  ammonite.$sess.cmd16$Helper$DFSSearcher.assert_sol(\u001b[32mcmd16.sc\u001b[39m:\u001b[32m55\u001b[39m)\n  ammonite.$sess.cmd19$Helper.$anonfun$solve_puzzle_1$8(\u001b[32mcmd19.sc\u001b[39m:\u001b[32m12\u001b[39m)\n  scala.runtime.java8.JFunction1$mcZI$sp.apply(\u001b[32mJFunction1$mcZI$sp.scala\u001b[39m:\u001b[32m17\u001b[39m)\n  ammonite.$sess.cmd16$Helper$DFSSearcher$Continuation.doit(\u001b[32mcmd16.sc\u001b[39m:\u001b[32m19\u001b[39m)\n  ammonite.$sess.cmd16$Helper$DFSSearcher.assert_sol(\u001b[32mcmd16.sc\u001b[39m:\u001b[32m55\u001b[39m)\n  ammonite.$sess.cmd19$Helper.$anonfun$solve_puzzle_1$8(\u001b[32mcmd19.sc\u001b[39m:\u001b[32m12\u001b[39m)\n  scala.runtime.java8.JFunction1$mcZI$sp.apply(\u001b[32mJFunction1$mcZI$sp.scala\u001b[39m:\u001b[32m17\u001b[39m)\n  ammonite.$sess.cmd16$Helper$DFSSearcher$Continuation.doit(\u001b[32mcmd16.sc\u001b[39m:\u001b[32m19\u001b[39m)\n  ammonite.$sess.cmd16$Helper$DFSSearcher.assert_sol(\u001b[32mcmd16.sc\u001b[39m:\u001b[32m55\u001b[39m)\n  ammonite.$sess.cmd19$Helper.$anonfun$solve_puzzle_1$8(\u001b[32mcmd19.sc\u001b[39m:\u001b[32m12\u001b[39m)\n  scala.runtime.java8.JFunction1$mcZI$sp.apply(\u001b[32mJFunction1$mcZI$sp.scala\u001b[39m:\u001b[32m17\u001b[39m)\n  ammonite.$sess.cmd16$Helper$DFSSearcher$Continuation.doit(\u001b[32mcmd16.sc\u001b[39m:\u001b[32m19\u001b[39m)\n  ammonite.$sess.cmd16$Helper$DFSSearcher.assert_sol(\u001b[32mcmd16.sc\u001b[39m:\u001b[32m55\u001b[39m)\n  ammonite.$sess.cmd19$Helper.$anonfun$solve_puzzle_1$8(\u001b[32mcmd19.sc\u001b[39m:\u001b[32m12\u001b[39m)\n  scala.runtime.java8.JFunction1$mcZI$sp.apply(\u001b[32mJFunction1$mcZI$sp.scala\u001b[39m:\u001b[32m17\u001b[39m)\n  ammonite.$sess.cmd16$Helper$DFSSearcher$Continuation.doit(\u001b[32mcmd16.sc\u001b[39m:\u001b[32m19\u001b[39m)\n  ammonite.$sess.cmd16$Helper$DFSSearcher.assert_sol(\u001b[32mcmd16.sc\u001b[39m:\u001b[32m55\u001b[39m)\n  ammonite.$sess.cmd19$Helper.$anonfun$solve_puzzle_1$8(\u001b[32mcmd19.sc\u001b[39m:\u001b[32m12\u001b[39m)\n  scala.runtime.java8.JFunction1$mcZI$sp.apply(\u001b[32mJFunction1$mcZI$sp.scala\u001b[39m:\u001b[32m17\u001b[39m)\n  ammonite.$sess.cmd16$Helper$DFSSearcher$Continuation.doit(\u001b[32mcmd16.sc\u001b[39m:\u001b[32m19\u001b[39m)\n  ammonite.$sess.cmd16$Helper$DFSSearcher.assert_sol(\u001b[32mcmd16.sc\u001b[39m:\u001b[32m55\u001b[39m)\n  ammonite.$sess.cmd19$Helper.$anonfun$solve_puzzle_1$8(\u001b[32mcmd19.sc\u001b[39m:\u001b[32m12\u001b[39m)\n  scala.runtime.java8.JFunction1$mcZI$sp.apply(\u001b[32mJFunction1$mcZI$sp.scala\u001b[39m:\u001b[32m17\u001b[39m)\n  ammonite.$sess.cmd16$Helper$DFSSearcher$Continuation.doit(\u001b[32mcmd16.sc\u001b[39m:\u001b[32m19\u001b[39m)\n  ammonite.$sess.cmd16$Helper$DFSSearcher.assert_sol(\u001b[32mcmd16.sc\u001b[39m:\u001b[32m55\u001b[39m)\n  ammonite.$sess.cmd19$Helper.$anonfun$solve_puzzle_1$8(\u001b[32mcmd19.sc\u001b[39m:\u001b[32m12\u001b[39m)\n  scala.runtime.java8.JFunction1$mcZI$sp.apply(\u001b[32mJFunction1$mcZI$sp.scala\u001b[39m:\u001b[32m17\u001b[39m)\n  ammonite.$sess.cmd16$Helper$DFSSearcher$Continuation.doit(\u001b[32mcmd16.sc\u001b[39m:\u001b[32m19\u001b[39m)\n  ammonite.$sess.cmd16$Helper$DFSSearcher.assert_sol(\u001b[32mcmd16.sc\u001b[39m:\u001b[32m55\u001b[39m)\n  ammonite.$sess.cmd19$Helper.$anonfun$solve_puzzle_1$8(\u001b[32mcmd19.sc\u001b[39m:\u001b[32m12\u001b[39m)\n  scala.runtime.java8.JFunction1$mcZI$sp.apply(\u001b[32mJFunction1$mcZI$sp.scala\u001b[39m:\u001b[32m17\u001b[39m)\n  ammonite.$sess.cmd16$Helper$DFSSearcher$Continuation.doit(\u001b[32mcmd16.sc\u001b[39m:\u001b[32m19\u001b[39m)\n  ammonite.$sess.cmd16$Helper$DFSSearcher.assert_sol(\u001b[32mcmd16.sc\u001b[39m:\u001b[32m55\u001b[39m)\n  ammonite.$sess.cmd19$Helper.$anonfun$solve_puzzle_1$8(\u001b[32mcmd19.sc\u001b[39m:\u001b[32m12\u001b[39m)\n  scala.runtime.java8.JFunction1$mcZI$sp.apply(\u001b[32mJFunction1$mcZI$sp.scala\u001b[39m:\u001b[32m17\u001b[39m)\n  ammonite.$sess.cmd16$Helper$DFSSearcher$Continuation.doit(\u001b[32mcmd16.sc\u001b[39m:\u001b[32m19\u001b[39m)\n  ammonite.$sess.cmd16$Helper$DFSSearcher.assert_sol(\u001b[32mcmd16.sc\u001b[39m:\u001b[32m55\u001b[39m)\n  ammonite.$sess.cmd19$Helper.$anonfun$solve_puzzle_1$8(\u001b[32mcmd19.sc\u001b[39m:\u001b[32m12\u001b[39m)\n  scala.runtime.java8.JFunction1$mcZI$sp.apply(\u001b[32mJFunction1$mcZI$sp.scala\u001b[39m:\u001b[32m17\u001b[39m)\n  ammonite.$sess.cmd16$Helper$DFSSearcher$Continuation.doit(\u001b[32mcmd16.sc\u001b[39m:\u001b[32m19\u001b[39m)\n  ammonite.$sess.cmd16$Helper$DFSSearcher.choose(\u001b[32mcmd16.sc\u001b[39m:\u001b[32m37\u001b[39m)\n  ammonite.$sess.cmd19$Helper.$anonfun$solve_puzzle_1$7(\u001b[32mcmd19.sc\u001b[39m:\u001b[32m11\u001b[39m)\n  scala.runtime.java8.JFunction1$mcZI$sp.apply(\u001b[32mJFunction1$mcZI$sp.scala\u001b[39m:\u001b[32m17\u001b[39m)\n  ammonite.$sess.cmd16$Helper$DFSSearcher$Continuation.doit(\u001b[32mcmd16.sc\u001b[39m:\u001b[32m19\u001b[39m)\n  ammonite.$sess.cmd16$Helper$DFSSearcher.assert_sol(\u001b[32mcmd16.sc\u001b[39m:\u001b[32m55\u001b[39m)\n  ammonite.$sess.cmd19$Helper.$anonfun$solve_puzzle_1$8(\u001b[32mcmd19.sc\u001b[39m:\u001b[32m12\u001b[39m)\n  scala.runtime.java8.JFunction1$mcZI$sp.apply(\u001b[32mJFunction1$mcZI$sp.scala\u001b[39m:\u001b[32m17\u001b[39m)\n  ammonite.$sess.cmd16$Helper$DFSSearcher$Continuation.doit(\u001b[32mcmd16.sc\u001b[39m:\u001b[32m19\u001b[39m)\n  ammonite.$sess.cmd16$Helper$DFSSearcher.assert_sol(\u001b[32mcmd16.sc\u001b[39m:\u001b[32m55\u001b[39m)\n  ammonite.$sess.cmd19$Helper.$anonfun$solve_puzzle_1$8(\u001b[32mcmd19.sc\u001b[39m:\u001b[32m12\u001b[39m)\n  scala.runtime.java8.JFunction1$mcZI$sp.apply(\u001b[32mJFunction1$mcZI$sp.scala\u001b[39m:\u001b[32m17\u001b[39m)\n  ammonite.$sess.cmd16$Helper$DFSSearcher$Continuation.doit(\u001b[32mcmd16.sc\u001b[39m:\u001b[32m19\u001b[39m)\n  ammonite.$sess.cmd16$Helper$DFSSearcher.assert_sol(\u001b[32mcmd16.sc\u001b[39m:\u001b[32m55\u001b[39m)\n  ammonite.$sess.cmd19$Helper.$anonfun$solve_puzzle_1$8(\u001b[32mcmd19.sc\u001b[39m:\u001b[32m12\u001b[39m)\n  scala.runtime.java8.JFunction1$mcZI$sp.apply(\u001b[32mJFunction1$mcZI$sp.scala\u001b[39m:\u001b[32m17\u001b[39m)\n  ammonite.$sess.cmd16$Helper$DFSSearcher$Continuation.doit(\u001b[32mcmd16.sc\u001b[39m:\u001b[32m19\u001b[39m)\n  ammonite.$sess.cmd16$Helper$DFSSearcher.assert_sol(\u001b[32mcmd16.sc\u001b[39m:\u001b[32m55\u001b[39m)\n  ammonite.$sess.cmd19$Helper.$anonfun$solve_puzzle_1$8(\u001b[32mcmd19.sc\u001b[39m:\u001b[32m12\u001b[39m)\n  scala.runtime.java8.JFunction1$mcZI$sp.apply(\u001b[32mJFunction1$mcZI$sp.scala\u001b[39m:\u001b[32m17\u001b[39m)\n  ammonite.$sess.cmd16$Helper$DFSSearcher$Continuation.doit(\u001b[32mcmd16.sc\u001b[39m:\u001b[32m19\u001b[39m)\n  ammonite.$sess.cmd16$Helper$DFSSearcher.assert_sol(\u001b[32mcmd16.sc\u001b[39m:\u001b[32m55\u001b[39m)\n  ammonite.$sess.cmd19$Helper.$anonfun$solve_puzzle_1$8(\u001b[32mcmd19.sc\u001b[39m:\u001b[32m12\u001b[39m)\n  scala.runtime.java8.JFunction1$mcZI$sp.apply(\u001b[32mJFunction1$mcZI$sp.scala\u001b[39m:\u001b[32m17\u001b[39m)\n  ammonite.$sess.cmd16$Helper$DFSSearcher$Continuation.doit(\u001b[32mcmd16.sc\u001b[39m:\u001b[32m19\u001b[39m)\n  ammonite.$sess.cmd16$Helper$DFSSearcher.assert_sol(\u001b[32mcmd16.sc\u001b[39m:\u001b[32m55\u001b[39m)\n  ammonite.$sess.cmd19$Helper.$anonfun$solve_puzzle_1$8(\u001b[32mcmd19.sc\u001b[39m:\u001b[32m12\u001b[39m)\n  scala.runtime.java8.JFunction1$mcZI$sp.apply(\u001b[32mJFunction1$mcZI$sp.scala\u001b[39m:\u001b[32m17\u001b[39m)\n  ammonite.$sess.cmd16$Helper$DFSSearcher$Continuation.doit(\u001b[32mcmd16.sc\u001b[39m:\u001b[32m19\u001b[39m)\n  ammonite.$sess.cmd16$Helper$DFSSearcher.assert_sol(\u001b[32mcmd16.sc\u001b[39m:\u001b[32m55\u001b[39m)\n  ammonite.$sess.cmd19$Helper.$anonfun$solve_puzzle_1$8(\u001b[32mcmd19.sc\u001b[39m:\u001b[32m12\u001b[39m)\n  scala.runtime.java8.JFunction1$mcZI$sp.apply(\u001b[32mJFunction1$mcZI$sp.scala\u001b[39m:\u001b[32m17\u001b[39m)\n  ammonite.$sess.cmd16$Helper$DFSSearcher$Continuation.doit(\u001b[32mcmd16.sc\u001b[39m:\u001b[32m19\u001b[39m)\n  ammonite.$sess.cmd16$Helper$DFSSearcher.assert_sol(\u001b[32mcmd16.sc\u001b[39m:\u001b[32m55\u001b[39m)\n  ammonite.$sess.cmd19$Helper.$anonfun$solve_puzzle_1$8(\u001b[32mcmd19.sc\u001b[39m:\u001b[32m12\u001b[39m)\n  scala.runtime.java8.JFunction1$mcZI$sp.apply(\u001b[32mJFunction1$mcZI$sp.scala\u001b[39m:\u001b[32m17\u001b[39m)\n  ammonite.$sess.cmd16$Helper$DFSSearcher$Continuation.doit(\u001b[32mcmd16.sc\u001b[39m:\u001b[32m19\u001b[39m)\n  ammonite.$sess.cmd16$Helper$DFSSearcher.assert_sol(\u001b[32mcmd16.sc\u001b[39m:\u001b[32m55\u001b[39m)\n  ammonite.$sess.cmd19$Helper.$anonfun$solve_puzzle_1$8(\u001b[32mcmd19.sc\u001b[39m:\u001b[32m12\u001b[39m)\n  scala.runtime.java8.JFunction1$mcZI$sp.apply(\u001b[32mJFunction1$mcZI$sp.scala\u001b[39m:\u001b[32m17\u001b[39m)\n  ammonite.$sess.cmd16$Helper$DFSSearcher$Continuation.doit(\u001b[32mcmd16.sc\u001b[39m:\u001b[32m19\u001b[39m)\n  ammonite.$sess.cmd16$Helper$DFSSearcher.assert_sol(\u001b[32mcmd16.sc\u001b[39m:\u001b[32m55\u001b[39m)\n  ammonite.$sess.cmd19$Helper.$anonfun$solve_puzzle_1$8(\u001b[32mcmd19.sc\u001b[39m:\u001b[32m12\u001b[39m)\n  scala.runtime.java8.JFunction1$mcZI$sp.apply(\u001b[32mJFunction1$mcZI$sp.scala\u001b[39m:\u001b[32m17\u001b[39m)\n  ammonite.$sess.cmd16$Helper$DFSSearcher$Continuation.doit(\u001b[32mcmd16.sc\u001b[39m:\u001b[32m19\u001b[39m)\n  ammonite.$sess.cmd16$Helper$DFSSearcher.choose(\u001b[32mcmd16.sc\u001b[39m:\u001b[32m37\u001b[39m)\n  ammonite.$sess.cmd19$Helper.$anonfun$solve_puzzle_1$7(\u001b[32mcmd19.sc\u001b[39m:\u001b[32m11\u001b[39m)\n  scala.runtime.java8.JFunction1$mcZI$sp.apply(\u001b[32mJFunction1$mcZI$sp.scala\u001b[39m:\u001b[32m17\u001b[39m)\n  ammonite.$sess.cmd16$Helper$DFSSearcher$Continuation.doit(\u001b[32mcmd16.sc\u001b[39m:\u001b[32m19\u001b[39m)\n  ammonite.$sess.cmd16$Helper$DFSSearcher.assert_sol(\u001b[32mcmd16.sc\u001b[39m:\u001b[32m55\u001b[39m)\n  ammonite.$sess.cmd19$Helper.$anonfun$solve_puzzle_1$8(\u001b[32mcmd19.sc\u001b[39m:\u001b[32m12\u001b[39m)\n  scala.runtime.java8.JFunction1$mcZI$sp.apply(\u001b[32mJFunction1$mcZI$sp.scala\u001b[39m:\u001b[32m17\u001b[39m)\n  ammonite.$sess.cmd16$Helper$DFSSearcher$Continuation.doit(\u001b[32mcmd16.sc\u001b[39m:\u001b[32m19\u001b[39m)\n  ammonite.$sess.cmd16$Helper$DFSSearcher.assert_sol(\u001b[32mcmd16.sc\u001b[39m:\u001b[32m55\u001b[39m)\n  ammonite.$sess.cmd19$Helper.$anonfun$solve_puzzle_1$8(\u001b[32mcmd19.sc\u001b[39m:\u001b[32m12\u001b[39m)\n  scala.runtime.java8.JFunction1$mcZI$sp.apply(\u001b[32mJFunction1$mcZI$sp.scala\u001b[39m:\u001b[32m17\u001b[39m)\n  ammonite.$sess.cmd16$Helper$DFSSearcher$Continuation.doit(\u001b[32mcmd16.sc\u001b[39m:\u001b[32m19\u001b[39m)\n  ammonite.$sess.cmd16$Helper$DFSSearcher.assert_sol(\u001b[32mcmd16.sc\u001b[39m:\u001b[32m55\u001b[39m)\n  ammonite.$sess.cmd19$Helper.$anonfun$solve_puzzle_1$8(\u001b[32mcmd19.sc\u001b[39m:\u001b[32m12\u001b[39m)\n  scala.runtime.java8.JFunction1$mcZI$sp.apply(\u001b[32mJFunction1$mcZI$sp.scala\u001b[39m:\u001b[32m17\u001b[39m)\n  ammonite.$sess.cmd16$Helper$DFSSearcher$Continuation.doit(\u001b[32mcmd16.sc\u001b[39m:\u001b[32m19\u001b[39m)\n  ammonite.$sess.cmd16$Helper$DFSSearcher.assert_sol(\u001b[32mcmd16.sc\u001b[39m:\u001b[32m55\u001b[39m)\n  ammonite.$sess.cmd19$Helper.$anonfun$solve_puzzle_1$8(\u001b[32mcmd19.sc\u001b[39m:\u001b[32m12\u001b[39m)\n  scala.runtime.java8.JFunction1$mcZI$sp.apply(\u001b[32mJFunction1$mcZI$sp.scala\u001b[39m:\u001b[32m17\u001b[39m)\n  ammonite.$sess.cmd16$Helper$DFSSearcher$Continuation.doit(\u001b[32mcmd16.sc\u001b[39m:\u001b[32m19\u001b[39m)\n  ammonite.$sess.cmd16$Helper$DFSSearcher.assert_sol(\u001b[32mcmd16.sc\u001b[39m:\u001b[32m55\u001b[39m)\n  ammonite.$sess.cmd19$Helper.$anonfun$solve_puzzle_1$8(\u001b[32mcmd19.sc\u001b[39m:\u001b[32m12\u001b[39m)\n  scala.runtime.java8.JFunction1$mcZI$sp.apply(\u001b[32mJFunction1$mcZI$sp.scala\u001b[39m:\u001b[32m17\u001b[39m)\n  ammonite.$sess.cmd16$Helper$DFSSearcher$Continuation.doit(\u001b[32mcmd16.sc\u001b[39m:\u001b[32m19\u001b[39m)\n  ammonite.$sess.cmd16$Helper$DFSSearcher.assert_sol(\u001b[32mcmd16.sc\u001b[39m:\u001b[32m55\u001b[39m)\n  ammonite.$sess.cmd19$Helper.$anonfun$solve_puzzle_1$8(\u001b[32mcmd19.sc\u001b[39m:\u001b[32m12\u001b[39m)\n  scala.runtime.java8.JFunction1$mcZI$sp.apply(\u001b[32mJFunction1$mcZI$sp.scala\u001b[39m:\u001b[32m17\u001b[39m)\n  ammonite.$sess.cmd16$Helper$DFSSearcher$Continuation.doit(\u001b[32mcmd16.sc\u001b[39m:\u001b[32m19\u001b[39m)\n  ammonite.$sess.cmd16$Helper$DFSSearcher.assert_sol(\u001b[32mcmd16.sc\u001b[39m:\u001b[32m55\u001b[39m)\n  ammonite.$sess.cmd19$Helper.$anonfun$solve_puzzle_1$8(\u001b[32mcmd19.sc\u001b[39m:\u001b[32m12\u001b[39m)\n  scala.runtime.java8.JFunction1$mcZI$sp.apply(\u001b[32mJFunction1$mcZI$sp.scala\u001b[39m:\u001b[32m17\u001b[39m)\n  ammonite.$sess.cmd16$Helper$DFSSearcher$Continuation.doit(\u001b[32mcmd16.sc\u001b[39m:\u001b[32m19\u001b[39m)\n  ammonite.$sess.cmd16$Helper$DFSSearcher.assert_sol(\u001b[32mcmd16.sc\u001b[39m:\u001b[32m55\u001b[39m)\n  ammonite.$sess.cmd19$Helper.$anonfun$solve_puzzle_1$8(\u001b[32mcmd19.sc\u001b[39m:\u001b[32m12\u001b[39m)\n  scala.runtime.java8.JFunction1$mcZI$sp.apply(\u001b[32mJFunction1$mcZI$sp.scala\u001b[39m:\u001b[32m17\u001b[39m)\n  ammonite.$sess.cmd16$Helper$DFSSearcher$Continuation.doit(\u001b[32mcmd16.sc\u001b[39m:\u001b[32m19\u001b[39m)\n  ammonite.$sess.cmd16$Helper$DFSSearcher.assert_sol(\u001b[32mcmd16.sc\u001b[39m:\u001b[32m55\u001b[39m)\n  ammonite.$sess.cmd19$Helper.$anonfun$solve_puzzle_1$8(\u001b[32mcmd19.sc\u001b[39m:\u001b[32m12\u001b[39m)\n  scala.runtime.java8.JFunction1$mcZI$sp.apply(\u001b[32mJFunction1$mcZI$sp.scala\u001b[39m:\u001b[32m17\u001b[39m)\n  ammonite.$sess.cmd16$Helper$DFSSearcher$Continuation.doit(\u001b[32mcmd16.sc\u001b[39m:\u001b[32m19\u001b[39m)\n  ammonite.$sess.cmd16$Helper$DFSSearcher.assert_sol(\u001b[32mcmd16.sc\u001b[39m:\u001b[32m55\u001b[39m)\n  ammonite.$sess.cmd19$Helper.$anonfun$solve_puzzle_1$8(\u001b[32mcmd19.sc\u001b[39m:\u001b[32m12\u001b[39m)\n  scala.runtime.java8.JFunction1$mcZI$sp.apply(\u001b[32mJFunction1$mcZI$sp.scala\u001b[39m:\u001b[32m17\u001b[39m)\n  ammonite.$sess.cmd16$Helper$DFSSearcher$Continuation.doit(\u001b[32mcmd16.sc\u001b[39m:\u001b[32m19\u001b[39m)\n  ammonite.$sess.cmd16$Helper$DFSSearcher.choose(\u001b[32mcmd16.sc\u001b[39m:\u001b[32m37\u001b[39m)\n  ammonite.$sess.cmd19$Helper.$anonfun$solve_puzzle_1$7(\u001b[32mcmd19.sc\u001b[39m:\u001b[32m11\u001b[39m)\n  scala.runtime.java8.JFunction1$mcZI$sp.apply(\u001b[32mJFunction1$mcZI$sp.scala\u001b[39m:\u001b[32m17\u001b[39m)\n  ammonite.$sess.cmd16$Helper$DFSSearcher$Continuation.doit(\u001b[32mcmd16.sc\u001b[39m:\u001b[32m19\u001b[39m)\n  ammonite.$sess.cmd16$Helper$DFSSearcher.assert_sol(\u001b[32mcmd16.sc\u001b[39m:\u001b[32m55\u001b[39m)\n  ammonite.$sess.cmd19$Helper.$anonfun$solve_puzzle_1$8(\u001b[32mcmd19.sc\u001b[39m:\u001b[32m12\u001b[39m)\n  scala.runtime.java8.JFunction1$mcZI$sp.apply(\u001b[32mJFunction1$mcZI$sp.scala\u001b[39m:\u001b[32m17\u001b[39m)\n  ammonite.$sess.cmd16$Helper$DFSSearcher$Continuation.doit(\u001b[32mcmd16.sc\u001b[39m:\u001b[32m19\u001b[39m)\n  ammonite.$sess.cmd16$Helper$DFSSearcher.assert_sol(\u001b[32mcmd16.sc\u001b[39m:\u001b[32m55\u001b[39m)\n  ammonite.$sess.cmd19$Helper.$anonfun$solve_puzzle_1$8(\u001b[32mcmd19.sc\u001b[39m:\u001b[32m12\u001b[39m)\n  scala.runtime.java8.JFunction1$mcZI$sp.apply(\u001b[32mJFunction1$mcZI$sp.scala\u001b[39m:\u001b[32m17\u001b[39m)\n  ammonite.$sess.cmd16$Helper$DFSSearcher$Continuation.doit(\u001b[32mcmd16.sc\u001b[39m:\u001b[32m19\u001b[39m)\n  ammonite.$sess.cmd16$Helper$DFSSearcher.assert_sol(\u001b[32mcmd16.sc\u001b[39m:\u001b[32m55\u001b[39m)\n  ammonite.$sess.cmd19$Helper.$anonfun$solve_puzzle_1$8(\u001b[32mcmd19.sc\u001b[39m:\u001b[32m12\u001b[39m)\n  scala.runtime.java8.JFunction1$mcZI$sp.apply(\u001b[32mJFunction1$mcZI$sp.scala\u001b[39m:\u001b[32m17\u001b[39m)\n  ammonite.$sess.cmd16$Helper$DFSSearcher$Continuation.doit(\u001b[32mcmd16.sc\u001b[39m:\u001b[32m19\u001b[39m)\n  ammonite.$sess.cmd16$Helper$DFSSearcher.assert_sol(\u001b[32mcmd16.sc\u001b[39m:\u001b[32m55\u001b[39m)\n  ammonite.$sess.cmd19$Helper.$anonfun$solve_puzzle_1$8(\u001b[32mcmd19.sc\u001b[39m:\u001b[32m12\u001b[39m)\n  scala.runtime.java8.JFunction1$mcZI$sp.apply(\u001b[32mJFunction1$mcZI$sp.scala\u001b[39m:\u001b[32m17\u001b[39m)\n  ammonite.$sess.cmd16$Helper$DFSSearcher$Continuation.doit(\u001b[32mcmd16.sc\u001b[39m:\u001b[32m19\u001b[39m)\n  ammonite.$sess.cmd16$Helper$DFSSearcher.assert_sol(\u001b[32mcmd16.sc\u001b[39m:\u001b[32m55\u001b[39m)\n  ammonite.$sess.cmd19$Helper.$anonfun$solve_puzzle_1$8(\u001b[32mcmd19.sc\u001b[39m:\u001b[32m12\u001b[39m)\n  scala.runtime.java8.JFunction1$mcZI$sp.apply(\u001b[32mJFunction1$mcZI$sp.scala\u001b[39m:\u001b[32m17\u001b[39m)\n  ammonite.$sess.cmd16$Helper$DFSSearcher$Continuation.doit(\u001b[32mcmd16.sc\u001b[39m:\u001b[32m19\u001b[39m)\n  ammonite.$sess.cmd16$Helper$DFSSearcher.assert_sol(\u001b[32mcmd16.sc\u001b[39m:\u001b[32m55\u001b[39m)\n  ammonite.$sess.cmd19$Helper.$anonfun$solve_puzzle_1$8(\u001b[32mcmd19.sc\u001b[39m:\u001b[32m12\u001b[39m)\n  scala.runtime.java8.JFunction1$mcZI$sp.apply(\u001b[32mJFunction1$mcZI$sp.scala\u001b[39m:\u001b[32m17\u001b[39m)\n  ammonite.$sess.cmd16$Helper$DFSSearcher$Continuation.doit(\u001b[32mcmd16.sc\u001b[39m:\u001b[32m19\u001b[39m)\n  ammonite.$sess.cmd16$Helper$DFSSearcher.assert_sol(\u001b[32mcmd16.sc\u001b[39m:\u001b[32m55\u001b[39m)\n  ammonite.$sess.cmd19$Helper.$anonfun$solve_puzzle_1$8(\u001b[32mcmd19.sc\u001b[39m:\u001b[32m12\u001b[39m)\n  scala.runtime.java8.JFunction1$mcZI$sp.apply(\u001b[32mJFunction1$mcZI$sp.scala\u001b[39m:\u001b[32m17\u001b[39m)\n  ammonite.$sess.cmd16$Helper$DFSSearcher$Continuation.doit(\u001b[32mcmd16.sc\u001b[39m:\u001b[32m19\u001b[39m)\n  ammonite.$sess.cmd16$Helper$DFSSearcher.assert_sol(\u001b[32mcmd16.sc\u001b[39m:\u001b[32m55\u001b[39m)\n  ammonite.$sess.cmd19$Helper.$anonfun$solve_puzzle_1$8(\u001b[32mcmd19.sc\u001b[39m:\u001b[32m12\u001b[39m)\n  scala.runtime.java8.JFunction1$mcZI$sp.apply(\u001b[32mJFunction1$mcZI$sp.scala\u001b[39m:\u001b[32m17\u001b[39m)\n  ammonite.$sess.cmd16$Helper$DFSSearcher$Continuation.doit(\u001b[32mcmd16.sc\u001b[39m:\u001b[32m19\u001b[39m)\n  ammonite.$sess.cmd16$Helper$DFSSearcher.assert_sol(\u001b[32mcmd16.sc\u001b[39m:\u001b[32m55\u001b[39m)\n  ammonite.$sess.cmd19$Helper.$anonfun$solve_puzzle_1$8(\u001b[32mcmd19.sc\u001b[39m:\u001b[32m12\u001b[39m)\n  scala.runtime.java8.JFunction1$mcZI$sp.apply(\u001b[32mJFunction1$mcZI$sp.scala\u001b[39m:\u001b[32m17\u001b[39m)\n  ammonite.$sess.cmd16$Helper$DFSSearcher$Continuation.doit(\u001b[32mcmd16.sc\u001b[39m:\u001b[32m19\u001b[39m)\n  ammonite.$sess.cmd16$Helper$DFSSearcher.assert_sol(\u001b[32mcmd16.sc\u001b[39m:\u001b[32m55\u001b[39m)\n  ammonite.$sess.cmd19$Helper.$anonfun$solve_puzzle_1$8(\u001b[32mcmd19.sc\u001b[39m:\u001b[32m12\u001b[39m)\n  scala.runtime.java8.JFunction1$mcZI$sp.apply(\u001b[32mJFunction1$mcZI$sp.scala\u001b[39m:\u001b[32m17\u001b[39m)\n  ammonite.$sess.cmd16$Helper$DFSSearcher$Continuation.doit(\u001b[32mcmd16.sc\u001b[39m:\u001b[32m19\u001b[39m)\n  ammonite.$sess.cmd16$Helper$DFSSearcher.choose(\u001b[32mcmd16.sc\u001b[39m:\u001b[32m37\u001b[39m)\n  ammonite.$sess.cmd19$Helper.$anonfun$solve_puzzle_1$7(\u001b[32mcmd19.sc\u001b[39m:\u001b[32m11\u001b[39m)\n  scala.runtime.java8.JFunction1$mcZI$sp.apply(\u001b[32mJFunction1$mcZI$sp.scala\u001b[39m:\u001b[32m17\u001b[39m)\n  ammonite.$sess.cmd16$Helper$DFSSearcher$Continuation.doit(\u001b[32mcmd16.sc\u001b[39m:\u001b[32m19\u001b[39m)\n  ammonite.$sess.cmd16$Helper$DFSSearcher.assert_sol(\u001b[32mcmd16.sc\u001b[39m:\u001b[32m55\u001b[39m)\n  ammonite.$sess.cmd19$Helper.$anonfun$solve_puzzle_1$8(\u001b[32mcmd19.sc\u001b[39m:\u001b[32m12\u001b[39m)\n  scala.runtime.java8.JFunction1$mcZI$sp.apply(\u001b[32mJFunction1$mcZI$sp.scala\u001b[39m:\u001b[32m17\u001b[39m)\n  ammonite.$sess.cmd16$Helper$DFSSearcher$Continuation.doit(\u001b[32mcmd16.sc\u001b[39m:\u001b[32m19\u001b[39m)\n  ammonite.$sess.cmd16$Helper$DFSSearcher.assert_sol(\u001b[32mcmd16.sc\u001b[39m:\u001b[32m55\u001b[39m)\n  ammonite.$sess.cmd19$Helper.$anonfun$solve_puzzle_1$8(\u001b[32mcmd19.sc\u001b[39m:\u001b[32m12\u001b[39m)\n  scala.runtime.java8.JFunction1$mcZI$sp.apply(\u001b[32mJFunction1$mcZI$sp.scala\u001b[39m:\u001b[32m17\u001b[39m)\n  ammonite.$sess.cmd16$Helper$DFSSearcher$Continuation.doit(\u001b[32mcmd16.sc\u001b[39m:\u001b[32m19\u001b[39m)\n  ammonite.$sess.cmd16$Helper$DFSSearcher.assert_sol(\u001b[32mcmd16.sc\u001b[39m:\u001b[32m55\u001b[39m)\n  ammonite.$sess.cmd19$Helper.$anonfun$solve_puzzle_1$8(\u001b[32mcmd19.sc\u001b[39m:\u001b[32m12\u001b[39m)\n  scala.runtime.java8.JFunction1$mcZI$sp.apply(\u001b[32mJFunction1$mcZI$sp.scala\u001b[39m:\u001b[32m17\u001b[39m)\n  ammonite.$sess.cmd16$Helper$DFSSearcher$Continuation.doit(\u001b[32mcmd16.sc\u001b[39m:\u001b[32m19\u001b[39m)\n  ammonite.$sess.cmd16$Helper$DFSSearcher.assert_sol(\u001b[32mcmd16.sc\u001b[39m:\u001b[32m55\u001b[39m)\n  ammonite.$sess.cmd19$Helper.$anonfun$solve_puzzle_1$8(\u001b[32mcmd19.sc\u001b[39m:\u001b[32m12\u001b[39m)\n  scala.runtime.java8.JFunction1$mcZI$sp.apply(\u001b[32mJFunction1$mcZI$sp.scala\u001b[39m:\u001b[32m17\u001b[39m)\n  ammonite.$sess.cmd16$Helper$DFSSearcher$Continuation.doit(\u001b[32mcmd16.sc\u001b[39m:\u001b[32m19\u001b[39m)\n  ammonite.$sess.cmd16$Helper$DFSSearcher.assert_sol(\u001b[32mcmd16.sc\u001b[39m:\u001b[32m55\u001b[39m)\n  ammonite.$sess.cmd19$Helper.$anonfun$solve_puzzle_1$8(\u001b[32mcmd19.sc\u001b[39m:\u001b[32m12\u001b[39m)\n  scala.runtime.java8.JFunction1$mcZI$sp.apply(\u001b[32mJFunction1$mcZI$sp.scala\u001b[39m:\u001b[32m17\u001b[39m)\n  ammonite.$sess.cmd16$Helper$DFSSearcher$Continuation.doit(\u001b[32mcmd16.sc\u001b[39m:\u001b[32m19\u001b[39m)\n  ammonite.$sess.cmd16$Helper$DFSSearcher.assert_sol(\u001b[32mcmd16.sc\u001b[39m:\u001b[32m55\u001b[39m)\n  ammonite.$sess.cmd19$Helper.$anonfun$solve_puzzle_1$8(\u001b[32mcmd19.sc\u001b[39m:\u001b[32m12\u001b[39m)\n  scala.runtime.java8.JFunction1$mcZI$sp.apply(\u001b[32mJFunction1$mcZI$sp.scala\u001b[39m:\u001b[32m17\u001b[39m)\n  ammonite.$sess.cmd16$Helper$DFSSearcher$Continuation.doit(\u001b[32mcmd16.sc\u001b[39m:\u001b[32m19\u001b[39m)\n  ammonite.$sess.cmd16$Helper$DFSSearcher.assert_sol(\u001b[32mcmd16.sc\u001b[39m:\u001b[32m55\u001b[39m)\n  ammonite.$sess.cmd19$Helper.$anonfun$solve_puzzle_1$8(\u001b[32mcmd19.sc\u001b[39m:\u001b[32m12\u001b[39m)\n  scala.runtime.java8.JFunction1$mcZI$sp.apply(\u001b[32mJFunction1$mcZI$sp.scala\u001b[39m:\u001b[32m17\u001b[39m)\n  ammonite.$sess.cmd16$Helper$DFSSearcher$Continuation.doit(\u001b[32mcmd16.sc\u001b[39m:\u001b[32m19\u001b[39m)\n  ammonite.$sess.cmd16$Helper$DFSSearcher.assert_sol(\u001b[32mcmd16.sc\u001b[39m:\u001b[32m55\u001b[39m)\n  ammonite.$sess.cmd19$Helper.$anonfun$solve_puzzle_1$8(\u001b[32mcmd19.sc\u001b[39m:\u001b[32m12\u001b[39m)\n  scala.runtime.java8.JFunction1$mcZI$sp.apply(\u001b[32mJFunction1$mcZI$sp.scala\u001b[39m:\u001b[32m17\u001b[39m)\n  ammonite.$sess.cmd16$Helper$DFSSearcher$Continuation.doit(\u001b[32mcmd16.sc\u001b[39m:\u001b[32m19\u001b[39m)\n  ammonite.$sess.cmd16$Helper$DFSSearcher.assert_sol(\u001b[32mcmd16.sc\u001b[39m:\u001b[32m55\u001b[39m)\n  ammonite.$sess.cmd19$Helper.$anonfun$solve_puzzle_1$8(\u001b[32mcmd19.sc\u001b[39m:\u001b[32m12\u001b[39m)\n  scala.runtime.java8.JFunction1$mcZI$sp.apply(\u001b[32mJFunction1$mcZI$sp.scala\u001b[39m:\u001b[32m17\u001b[39m)\n  ammonite.$sess.cmd16$Helper$DFSSearcher$Continuation.doit(\u001b[32mcmd16.sc\u001b[39m:\u001b[32m19\u001b[39m)\n  ammonite.$sess.cmd16$Helper$DFSSearcher.assert_sol(\u001b[32mcmd16.sc\u001b[39m:\u001b[32m55\u001b[39m)\n  ammonite.$sess.cmd19$Helper.$anonfun$solve_puzzle_1$8(\u001b[32mcmd19.sc\u001b[39m:\u001b[32m12\u001b[39m)\n  scala.runtime.java8.JFunction1$mcZI$sp.apply(\u001b[32mJFunction1$mcZI$sp.scala\u001b[39m:\u001b[32m17\u001b[39m)\n  ammonite.$sess.cmd16$Helper$DFSSearcher$Continuation.doit(\u001b[32mcmd16.sc\u001b[39m:\u001b[32m19\u001b[39m)\n  ammonite.$sess.cmd16$Helper$DFSSearcher.choose(\u001b[32mcmd16.sc\u001b[39m:\u001b[32m37\u001b[39m)\n  ammonite.$sess.cmd19$Helper.$anonfun$solve_puzzle_1$7(\u001b[32mcmd19.sc\u001b[39m:\u001b[32m11\u001b[39m)\n  scala.runtime.java8.JFunction1$mcZI$sp.apply(\u001b[32mJFunction1$mcZI$sp.scala\u001b[39m:\u001b[32m17\u001b[39m)\n  ammonite.$sess.cmd16$Helper$DFSSearcher$Continuation.doit(\u001b[32mcmd16.sc\u001b[39m:\u001b[32m19\u001b[39m)\n  ammonite.$sess.cmd16$Helper$DFSSearcher.assert_sol(\u001b[32mcmd16.sc\u001b[39m:\u001b[32m55\u001b[39m)\n  ammonite.$sess.cmd19$Helper.$anonfun$solve_puzzle_1$8(\u001b[32mcmd19.sc\u001b[39m:\u001b[32m12\u001b[39m)\n  scala.runtime.java8.JFunction1$mcZI$sp.apply(\u001b[32mJFunction1$mcZI$sp.scala\u001b[39m:\u001b[32m17\u001b[39m)\n  ammonite.$sess.cmd16$Helper$DFSSearcher$Continuation.doit(\u001b[32mcmd16.sc\u001b[39m:\u001b[32m19\u001b[39m)\n  ammonite.$sess.cmd16$Helper$DFSSearcher.assert_sol(\u001b[32mcmd16.sc\u001b[39m:\u001b[32m55\u001b[39m)\n  ammonite.$sess.cmd19$Helper.$anonfun$solve_puzzle_1$8(\u001b[32mcmd19.sc\u001b[39m:\u001b[32m12\u001b[39m)\n  scala.runtime.java8.JFunction1$mcZI$sp.apply(\u001b[32mJFunction1$mcZI$sp.scala\u001b[39m:\u001b[32m17\u001b[39m)\n  ammonite.$sess.cmd16$Helper$DFSSearcher$Continuation.doit(\u001b[32mcmd16.sc\u001b[39m:\u001b[32m19\u001b[39m)\n  ammonite.$sess.cmd16$Helper$DFSSearcher.assert_sol(\u001b[32mcmd16.sc\u001b[39m:\u001b[32m55\u001b[39m)\n  ammonite.$sess.cmd19$Helper.$anonfun$solve_puzzle_1$8(\u001b[32mcmd19.sc\u001b[39m:\u001b[32m12\u001b[39m)\n  scala.runtime.java8.JFunction1$mcZI$sp.apply(\u001b[32mJFunction1$mcZI$sp.scala\u001b[39m:\u001b[32m17\u001b[39m)\n  ammonite.$sess.cmd16$Helper$DFSSearcher$Continuation.doit(\u001b[32mcmd16.sc\u001b[39m:\u001b[32m19\u001b[39m)\n  ammonite.$sess.cmd16$Helper$DFSSearcher.assert_sol(\u001b[32mcmd16.sc\u001b[39m:\u001b[32m55\u001b[39m)\n  ammonite.$sess.cmd19$Helper.$anonfun$solve_puzzle_1$8(\u001b[32mcmd19.sc\u001b[39m:\u001b[32m12\u001b[39m)\n  scala.runtime.java8.JFunction1$mcZI$sp.apply(\u001b[32mJFunction1$mcZI$sp.scala\u001b[39m:\u001b[32m17\u001b[39m)\n  ammonite.$sess.cmd16$Helper$DFSSearcher$Continuation.doit(\u001b[32mcmd16.sc\u001b[39m:\u001b[32m19\u001b[39m)\n  ammonite.$sess.cmd16$Helper$DFSSearcher.assert_sol(\u001b[32mcmd16.sc\u001b[39m:\u001b[32m55\u001b[39m)\n  ammonite.$sess.cmd19$Helper.$anonfun$solve_puzzle_1$8(\u001b[32mcmd19.sc\u001b[39m:\u001b[32m12\u001b[39m)\n  scala.runtime.java8.JFunction1$mcZI$sp.apply(\u001b[32mJFunction1$mcZI$sp.scala\u001b[39m:\u001b[32m17\u001b[39m)\n  ammonite.$sess.cmd16$Helper$DFSSearcher$Continuation.doit(\u001b[32mcmd16.sc\u001b[39m:\u001b[32m19\u001b[39m)\n  ammonite.$sess.cmd16$Helper$DFSSearcher.assert_sol(\u001b[32mcmd16.sc\u001b[39m:\u001b[32m55\u001b[39m)\n  ammonite.$sess.cmd19$Helper.$anonfun$solve_puzzle_1$8(\u001b[32mcmd19.sc\u001b[39m:\u001b[32m12\u001b[39m)\n  scala.runtime.java8.JFunction1$mcZI$sp.apply(\u001b[32mJFunction1$mcZI$sp.scala\u001b[39m:\u001b[32m17\u001b[39m)\n  ammonite.$sess.cmd16$Helper$DFSSearcher$Continuation.doit(\u001b[32mcmd16.sc\u001b[39m:\u001b[32m19\u001b[39m)\n  ammonite.$sess.cmd16$Helper$DFSSearcher.assert_sol(\u001b[32mcmd16.sc\u001b[39m:\u001b[32m55\u001b[39m)\n  ammonite.$sess.cmd19$Helper.$anonfun$solve_puzzle_1$8(\u001b[32mcmd19.sc\u001b[39m:\u001b[32m12\u001b[39m)\n  scala.runtime.java8.JFunction1$mcZI$sp.apply(\u001b[32mJFunction1$mcZI$sp.scala\u001b[39m:\u001b[32m17\u001b[39m)\n  ammonite.$sess.cmd16$Helper$DFSSearcher$Continuation.doit(\u001b[32mcmd16.sc\u001b[39m:\u001b[32m19\u001b[39m)\n  ammonite.$sess.cmd16$Helper$DFSSearcher.assert_sol(\u001b[32mcmd16.sc\u001b[39m:\u001b[32m55\u001b[39m)\n  ammonite.$sess.cmd19$Helper.$anonfun$solve_puzzle_1$8(\u001b[32mcmd19.sc\u001b[39m:\u001b[32m12\u001b[39m)\n  scala.runtime.java8.JFunction1$mcZI$sp.apply(\u001b[32mJFunction1$mcZI$sp.scala\u001b[39m:\u001b[32m17\u001b[39m)\n  ammonite.$sess.cmd16$Helper$DFSSearcher$Continuation.doit(\u001b[32mcmd16.sc\u001b[39m:\u001b[32m19\u001b[39m)\n  ammonite.$sess.cmd16$Helper$DFSSearcher.assert_sol(\u001b[32mcmd16.sc\u001b[39m:\u001b[32m55\u001b[39m)\n  ammonite.$sess.cmd19$Helper.$anonfun$solve_puzzle_1$8(\u001b[32mcmd19.sc\u001b[39m:\u001b[32m12\u001b[39m)\n  scala.runtime.java8.JFunction1$mcZI$sp.apply(\u001b[32mJFunction1$mcZI$sp.scala\u001b[39m:\u001b[32m17\u001b[39m)\n  ammonite.$sess.cmd16$Helper$DFSSearcher$Continuation.doit(\u001b[32mcmd16.sc\u001b[39m:\u001b[32m19\u001b[39m)\n  ammonite.$sess.cmd16$Helper$DFSSearcher.assert_sol(\u001b[32mcmd16.sc\u001b[39m:\u001b[32m55\u001b[39m)\n  ammonite.$sess.cmd19$Helper.$anonfun$solve_puzzle_1$8(\u001b[32mcmd19.sc\u001b[39m:\u001b[32m12\u001b[39m)\n  scala.runtime.java8.JFunction1$mcZI$sp.apply(\u001b[32mJFunction1$mcZI$sp.scala\u001b[39m:\u001b[32m17\u001b[39m)\n  ammonite.$sess.cmd16$Helper$DFSSearcher$Continuation.doit(\u001b[32mcmd16.sc\u001b[39m:\u001b[32m19\u001b[39m)\n  ammonite.$sess.cmd16$Helper$DFSSearcher.choose(\u001b[32mcmd16.sc\u001b[39m:\u001b[32m37\u001b[39m)\n  ammonite.$sess.cmd19$Helper.$anonfun$solve_puzzle_1$7(\u001b[32mcmd19.sc\u001b[39m:\u001b[32m11\u001b[39m)\n  scala.runtime.java8.JFunction1$mcZI$sp.apply(\u001b[32mJFunction1$mcZI$sp.scala\u001b[39m:\u001b[32m17\u001b[39m)\n  ammonite.$sess.cmd16$Helper$DFSSearcher$Continuation.doit(\u001b[32mcmd16.sc\u001b[39m:\u001b[32m19\u001b[39m)\n  ammonite.$sess.cmd16$Helper$DFSSearcher.choose(\u001b[32mcmd16.sc\u001b[39m:\u001b[32m37\u001b[39m)\n  ammonite.$sess.cmd19$Helper.$anonfun$solve_puzzle_1$6(\u001b[32mcmd19.sc\u001b[39m:\u001b[32m10\u001b[39m)\n  scala.runtime.java8.JFunction1$mcZI$sp.apply(\u001b[32mJFunction1$mcZI$sp.scala\u001b[39m:\u001b[32m17\u001b[39m)\n  ammonite.$sess.cmd16$Helper$DFSSearcher$Continuation.doit(\u001b[32mcmd16.sc\u001b[39m:\u001b[32m19\u001b[39m)\n  ammonite.$sess.cmd16$Helper$DFSSearcher.assert_sol(\u001b[32mcmd16.sc\u001b[39m:\u001b[32m55\u001b[39m)\n  ammonite.$sess.cmd19$Helper.$anonfun$solve_puzzle_1$8(\u001b[32mcmd19.sc\u001b[39m:\u001b[32m12\u001b[39m)\n  scala.runtime.java8.JFunction1$mcZI$sp.apply(\u001b[32mJFunction1$mcZI$sp.scala\u001b[39m:\u001b[32m17\u001b[39m)\n  ammonite.$sess.cmd16$Helper$DFSSearcher$Continuation.doit(\u001b[32mcmd16.sc\u001b[39m:\u001b[32m19\u001b[39m)\n  ammonite.$sess.cmd16$Helper$DFSSearcher.assert_sol(\u001b[32mcmd16.sc\u001b[39m:\u001b[32m55\u001b[39m)\n  ammonite.$sess.cmd19$Helper.$anonfun$solve_puzzle_1$8(\u001b[32mcmd19.sc\u001b[39m:\u001b[32m12\u001b[39m)\n  scala.runtime.java8.JFunction1$mcZI$sp.apply(\u001b[32mJFunction1$mcZI$sp.scala\u001b[39m:\u001b[32m17\u001b[39m)\n  ammonite.$sess.cmd16$Helper$DFSSearcher$Continuation.doit(\u001b[32mcmd16.sc\u001b[39m:\u001b[32m19\u001b[39m)\n  ammonite.$sess.cmd16$Helper$DFSSearcher.assert_sol(\u001b[32mcmd16.sc\u001b[39m:\u001b[32m55\u001b[39m)\n  ammonite.$sess.cmd19$Helper.$anonfun$solve_puzzle_1$8(\u001b[32mcmd19.sc\u001b[39m:\u001b[32m12\u001b[39m)\n  scala.runtime.java8.JFunction1$mcZI$sp.apply(\u001b[32mJFunction1$mcZI$sp.scala\u001b[39m:\u001b[32m17\u001b[39m)\n  ammonite.$sess.cmd16$Helper$DFSSearcher$Continuation.doit(\u001b[32mcmd16.sc\u001b[39m:\u001b[32m19\u001b[39m)\n  ammonite.$sess.cmd16$Helper$DFSSearcher.assert_sol(\u001b[32mcmd16.sc\u001b[39m:\u001b[32m55\u001b[39m)\n  ammonite.$sess.cmd19$Helper.$anonfun$solve_puzzle_1$8(\u001b[32mcmd19.sc\u001b[39m:\u001b[32m12\u001b[39m)\n  scala.runtime.java8.JFunction1$mcZI$sp.apply(\u001b[32mJFunction1$mcZI$sp.scala\u001b[39m:\u001b[32m17\u001b[39m)\n  ammonite.$sess.cmd16$Helper$DFSSearcher$Continuation.doit(\u001b[32mcmd16.sc\u001b[39m:\u001b[32m19\u001b[39m)\n  ammonite.$sess.cmd16$Helper$DFSSearcher.assert_sol(\u001b[32mcmd16.sc\u001b[39m:\u001b[32m55\u001b[39m)\n  ammonite.$sess.cmd19$Helper.$anonfun$solve_puzzle_1$8(\u001b[32mcmd19.sc\u001b[39m:\u001b[32m12\u001b[39m)\n  scala.runtime.java8.JFunction1$mcZI$sp.apply(\u001b[32mJFunction1$mcZI$sp.scala\u001b[39m:\u001b[32m17\u001b[39m)\n  ammonite.$sess.cmd16$Helper$DFSSearcher$Continuation.doit(\u001b[32mcmd16.sc\u001b[39m:\u001b[32m19\u001b[39m)\n  ammonite.$sess.cmd16$Helper$DFSSearcher.assert_sol(\u001b[32mcmd16.sc\u001b[39m:\u001b[32m55\u001b[39m)\n  ammonite.$sess.cmd19$Helper.$anonfun$solve_puzzle_1$8(\u001b[32mcmd19.sc\u001b[39m:\u001b[32m12\u001b[39m)\n  scala.runtime.java8.JFunction1$mcZI$sp.apply(\u001b[32mJFunction1$mcZI$sp.scala\u001b[39m:\u001b[32m17\u001b[39m)\n  ammonite.$sess.cmd16$Helper$DFSSearcher$Continuation.doit(\u001b[32mcmd16.sc\u001b[39m:\u001b[32m19\u001b[39m)\n  ammonite.$sess.cmd16$Helper$DFSSearcher.assert_sol(\u001b[32mcmd16.sc\u001b[39m:\u001b[32m55\u001b[39m)\n  ammonite.$sess.cmd19$Helper.$anonfun$solve_puzzle_1$8(\u001b[32mcmd19.sc\u001b[39m:\u001b[32m12\u001b[39m)\n  scala.runtime.java8.JFunction1$mcZI$sp.apply(\u001b[32mJFunction1$mcZI$sp.scala\u001b[39m:\u001b[32m17\u001b[39m)\n  ammonite.$sess.cmd16$Helper$DFSSearcher$Continuation.doit(\u001b[32mcmd16.sc\u001b[39m:\u001b[32m19\u001b[39m)\n  ammonite.$sess.cmd16$Helper$DFSSearcher.assert_sol(\u001b[32mcmd16.sc\u001b[39m:\u001b[32m55\u001b[39m)\n  ammonite.$sess.cmd19$Helper.$anonfun$solve_puzzle_1$8(\u001b[32mcmd19.sc\u001b[39m:\u001b[32m12\u001b[39m)\n  scala.runtime.java8.JFunction1$mcZI$sp.apply(\u001b[32mJFunction1$mcZI$sp.scala\u001b[39m:\u001b[32m17\u001b[39m)\n  ammonite.$sess.cmd16$Helper$DFSSearcher$Continuation.doit(\u001b[32mcmd16.sc\u001b[39m:\u001b[32m19\u001b[39m)\n  ammonite.$sess.cmd16$Helper$DFSSearcher.assert_sol(\u001b[32mcmd16.sc\u001b[39m:\u001b[32m55\u001b[39m)\n  ammonite.$sess.cmd19$Helper.$anonfun$solve_puzzle_1$8(\u001b[32mcmd19.sc\u001b[39m:\u001b[32m12\u001b[39m)\n  scala.runtime.java8.JFunction1$mcZI$sp.apply(\u001b[32mJFunction1$mcZI$sp.scala\u001b[39m:\u001b[32m17\u001b[39m)\n  ammonite.$sess.cmd16$Helper$DFSSearcher$Continuation.doit(\u001b[32mcmd16.sc\u001b[39m:\u001b[32m19\u001b[39m)\n  ammonite.$sess.cmd16$Helper$DFSSearcher.assert_sol(\u001b[32mcmd16.sc\u001b[39m:\u001b[32m55\u001b[39m)\n  ammonite.$sess.cmd19$Helper.$anonfun$solve_puzzle_1$8(\u001b[32mcmd19.sc\u001b[39m:\u001b[32m12\u001b[39m)\n  scala.runtime.java8.JFunction1$mcZI$sp.apply(\u001b[32mJFunction1$mcZI$sp.scala\u001b[39m:\u001b[32m17\u001b[39m)\n  ammonite.$sess.cmd16$Helper$DFSSearcher$Continuation.doit(\u001b[32mcmd16.sc\u001b[39m:\u001b[32m19\u001b[39m)\n  ammonite.$sess.cmd16$Helper$DFSSearcher.choose(\u001b[32mcmd16.sc\u001b[39m:\u001b[32m37\u001b[39m)\n  ammonite.$sess.cmd19$Helper.$anonfun$solve_puzzle_1$7(\u001b[32mcmd19.sc\u001b[39m:\u001b[32m11\u001b[39m)\n  scala.runtime.java8.JFunction1$mcZI$sp.apply(\u001b[32mJFunction1$mcZI$sp.scala\u001b[39m:\u001b[32m17\u001b[39m)\n  ammonite.$sess.cmd16$Helper$DFSSearcher$Continuation.doit(\u001b[32mcmd16.sc\u001b[39m:\u001b[32m19\u001b[39m)\n  ammonite.$sess.cmd16$Helper$DFSSearcher.assert_sol(\u001b[32mcmd16.sc\u001b[39m:\u001b[32m55\u001b[39m)\n  ammonite.$sess.cmd19$Helper.$anonfun$solve_puzzle_1$8(\u001b[32mcmd19.sc\u001b[39m:\u001b[32m12\u001b[39m)\n  scala.runtime.java8.JFunction1$mcZI$sp.apply(\u001b[32mJFunction1$mcZI$sp.scala\u001b[39m:\u001b[32m17\u001b[39m)\n  ammonite.$sess.cmd16$Helper$DFSSearcher$Continuation.doit(\u001b[32mcmd16.sc\u001b[39m:\u001b[32m19\u001b[39m)\n  ammonite.$sess.cmd16$Helper$DFSSearcher.assert_sol(\u001b[32mcmd16.sc\u001b[39m:\u001b[32m55\u001b[39m)\n  ammonite.$sess.cmd19$Helper.$anonfun$solve_puzzle_1$8(\u001b[32mcmd19.sc\u001b[39m:\u001b[32m12\u001b[39m)\n  scala.runtime.java8.JFunction1$mcZI$sp.apply(\u001b[32mJFunction1$mcZI$sp.scala\u001b[39m:\u001b[32m17\u001b[39m)\n  ammonite.$sess.cmd16$Helper$DFSSearcher$Continuation.doit(\u001b[32mcmd16.sc\u001b[39m:\u001b[32m19\u001b[39m)\n  ammonite.$sess.cmd16$Helper$DFSSearcher.assert_sol(\u001b[32mcmd16.sc\u001b[39m:\u001b[32m55\u001b[39m)\n  ammonite.$sess.cmd19$Helper.$anonfun$solve_puzzle_1$8(\u001b[32mcmd19.sc\u001b[39m:\u001b[32m12\u001b[39m)\n  scala.runtime.java8.JFunction1$mcZI$sp.apply(\u001b[32mJFunction1$mcZI$sp.scala\u001b[39m:\u001b[32m17\u001b[39m)\n  ammonite.$sess.cmd16$Helper$DFSSearcher$Continuation.doit(\u001b[32mcmd16.sc\u001b[39m:\u001b[32m19\u001b[39m)\n  ammonite.$sess.cmd16$Helper$DFSSearcher.assert_sol(\u001b[32mcmd16.sc\u001b[39m:\u001b[32m55\u001b[39m)\n  ammonite.$sess.cmd19$Helper.$anonfun$solve_puzzle_1$8(\u001b[32mcmd19.sc\u001b[39m:\u001b[32m12\u001b[39m)\n  scala.runtime.java8.JFunction1$mcZI$sp.apply(\u001b[32mJFunction1$mcZI$sp.scala\u001b[39m:\u001b[32m17\u001b[39m)\n  ammonite.$sess.cmd16$Helper$DFSSearcher$Continuation.doit(\u001b[32mcmd16.sc\u001b[39m:\u001b[32m19\u001b[39m)\n  ammonite.$sess.cmd16$Helper$DFSSearcher.assert_sol(\u001b[32mcmd16.sc\u001b[39m:\u001b[32m55\u001b[39m)\n  ammonite.$sess.cmd19$Helper.$anonfun$solve_puzzle_1$8(\u001b[32mcmd19.sc\u001b[39m:\u001b[32m12\u001b[39m)\n  scala.runtime.java8.JFunction1$mcZI$sp.apply(\u001b[32mJFunction1$mcZI$sp.scala\u001b[39m:\u001b[32m17\u001b[39m)\n  ammonite.$sess.cmd16$Helper$DFSSearcher$Continuation.doit(\u001b[32mcmd16.sc\u001b[39m:\u001b[32m19\u001b[39m)\n  ammonite.$sess.cmd16$Helper$DFSSearcher.assert_sol(\u001b[32mcmd16.sc\u001b[39m:\u001b[32m55\u001b[39m)\n  ammonite.$sess.cmd19$Helper.$anonfun$solve_puzzle_1$8(\u001b[32mcmd19.sc\u001b[39m:\u001b[32m12\u001b[39m)\n  scala.runtime.java8.JFunction1$mcZI$sp.apply(\u001b[32mJFunction1$mcZI$sp.scala\u001b[39m:\u001b[32m17\u001b[39m)\n  ammonite.$sess.cmd16$Helper$DFSSearcher$Continuation.doit(\u001b[32mcmd16.sc\u001b[39m:\u001b[32m19\u001b[39m)\n  ammonite.$sess.cmd16$Helper$DFSSearcher.assert_sol(\u001b[32mcmd16.sc\u001b[39m:\u001b[32m55\u001b[39m)\n  ammonite.$sess.cmd19$Helper.$anonfun$solve_puzzle_1$8(\u001b[32mcmd19.sc\u001b[39m:\u001b[32m12\u001b[39m)\n  scala.runtime.java8.JFunction1$mcZI$sp.apply(\u001b[32mJFunction1$mcZI$sp.scala\u001b[39m:\u001b[32m17\u001b[39m)\n  ammonite.$sess.cmd16$Helper$DFSSearcher$Continuation.doit(\u001b[32mcmd16.sc\u001b[39m:\u001b[32m19\u001b[39m)\n  ammonite.$sess.cmd16$Helper$DFSSearcher.assert_sol(\u001b[32mcmd16.sc\u001b[39m:\u001b[32m55\u001b[39m)\n  ammonite.$sess.cmd19$Helper.$anonfun$solve_puzzle_1$8(\u001b[32mcmd19.sc\u001b[39m:\u001b[32m12\u001b[39m)\n  scala.runtime.java8.JFunction1$mcZI$sp.apply(\u001b[32mJFunction1$mcZI$sp.scala\u001b[39m:\u001b[32m17\u001b[39m)\n  ammonite.$sess.cmd16$Helper$DFSSearcher$Continuation.doit(\u001b[32mcmd16.sc\u001b[39m:\u001b[32m19\u001b[39m)\n  ammonite.$sess.cmd16$Helper$DFSSearcher.assert_sol(\u001b[32mcmd16.sc\u001b[39m:\u001b[32m55\u001b[39m)\n  ammonite.$sess.cmd19$Helper.$anonfun$solve_puzzle_1$8(\u001b[32mcmd19.sc\u001b[39m:\u001b[32m12\u001b[39m)\n  scala.runtime.java8.JFunction1$mcZI$sp.apply(\u001b[32mJFunction1$mcZI$sp.scala\u001b[39m:\u001b[32m17\u001b[39m)\n  ammonite.$sess.cmd16$Helper$DFSSearcher$Continuation.doit(\u001b[32mcmd16.sc\u001b[39m:\u001b[32m19\u001b[39m)\n  ammonite.$sess.cmd16$Helper$DFSSearcher.assert_sol(\u001b[32mcmd16.sc\u001b[39m:\u001b[32m55\u001b[39m)\n  ammonite.$sess.cmd19$Helper.$anonfun$solve_puzzle_1$8(\u001b[32mcmd19.sc\u001b[39m:\u001b[32m12\u001b[39m)\n  scala.runtime.java8.JFunction1$mcZI$sp.apply(\u001b[32mJFunction1$mcZI$sp.scala\u001b[39m:\u001b[32m17\u001b[39m)\n  ammonite.$sess.cmd16$Helper$DFSSearcher$Continuation.doit(\u001b[32mcmd16.sc\u001b[39m:\u001b[32m19\u001b[39m)\n  ammonite.$sess.cmd16$Helper$DFSSearcher.choose(\u001b[32mcmd16.sc\u001b[39m:\u001b[32m37\u001b[39m)\n  ammonite.$sess.cmd19$Helper.$anonfun$solve_puzzle_1$7(\u001b[32mcmd19.sc\u001b[39m:\u001b[32m11\u001b[39m)\n  scala.runtime.java8.JFunction1$mcZI$sp.apply(\u001b[32mJFunction1$mcZI$sp.scala\u001b[39m:\u001b[32m17\u001b[39m)\n  ammonite.$sess.cmd16$Helper$DFSSearcher$Continuation.doit(\u001b[32mcmd16.sc\u001b[39m:\u001b[32m19\u001b[39m)\n  ammonite.$sess.cmd16$Helper$DFSSearcher.assert_sol(\u001b[32mcmd16.sc\u001b[39m:\u001b[32m55\u001b[39m)\n  ammonite.$sess.cmd19$Helper.$anonfun$solve_puzzle_1$8(\u001b[32mcmd19.sc\u001b[39m:\u001b[32m12\u001b[39m)\n  scala.runtime.java8.JFunction1$mcZI$sp.apply(\u001b[32mJFunction1$mcZI$sp.scala\u001b[39m:\u001b[32m17\u001b[39m)\n  ammonite.$sess.cmd16$Helper$DFSSearcher$Continuation.doit(\u001b[32mcmd16.sc\u001b[39m:\u001b[32m19\u001b[39m)\n  ammonite.$sess.cmd16$Helper$DFSSearcher.assert_sol(\u001b[32mcmd16.sc\u001b[39m:\u001b[32m55\u001b[39m)\n  ammonite.$sess.cmd19$Helper.$anonfun$solve_puzzle_1$8(\u001b[32mcmd19.sc\u001b[39m:\u001b[32m12\u001b[39m)\n  scala.runtime.java8.JFunction1$mcZI$sp.apply(\u001b[32mJFunction1$mcZI$sp.scala\u001b[39m:\u001b[32m17\u001b[39m)\n  ammonite.$sess.cmd16$Helper$DFSSearcher$Continuation.doit(\u001b[32mcmd16.sc\u001b[39m:\u001b[32m19\u001b[39m)\n  ammonite.$sess.cmd16$Helper$DFSSearcher.assert_sol(\u001b[32mcmd16.sc\u001b[39m:\u001b[32m55\u001b[39m)\n  ammonite.$sess.cmd19$Helper.$anonfun$solve_puzzle_1$8(\u001b[32mcmd19.sc\u001b[39m:\u001b[32m12\u001b[39m)\n  scala.runtime.java8.JFunction1$mcZI$sp.apply(\u001b[32mJFunction1$mcZI$sp.scala\u001b[39m:\u001b[32m17\u001b[39m)\n  ammonite.$sess.cmd16$Helper$DFSSearcher$Continuation.doit(\u001b[32mcmd16.sc\u001b[39m:\u001b[32m19\u001b[39m)\n  ammonite.$sess.cmd16$Helper$DFSSearcher.assert_sol(\u001b[32mcmd16.sc\u001b[39m:\u001b[32m55\u001b[39m)\n  ammonite.$sess.cmd19$Helper.$anonfun$solve_puzzle_1$8(\u001b[32mcmd19.sc\u001b[39m:\u001b[32m12\u001b[39m)\n  scala.runtime.java8.JFunction1$mcZI$sp.apply(\u001b[32mJFunction1$mcZI$sp.scala\u001b[39m:\u001b[32m17\u001b[39m)\n  ammonite.$sess.cmd16$Helper$DFSSearcher$Continuation.doit(\u001b[32mcmd16.sc\u001b[39m:\u001b[32m19\u001b[39m)\n  ammonite.$sess.cmd16$Helper$DFSSearcher.assert_sol(\u001b[32mcmd16.sc\u001b[39m:\u001b[32m55\u001b[39m)\n  ammonite.$sess.cmd19$Helper.$anonfun$solve_puzzle_1$8(\u001b[32mcmd19.sc\u001b[39m:\u001b[32m12\u001b[39m)\n  scala.runtime.java8.JFunction1$mcZI$sp.apply(\u001b[32mJFunction1$mcZI$sp.scala\u001b[39m:\u001b[32m17\u001b[39m)\n  ammonite.$sess.cmd16$Helper$DFSSearcher$Continuation.doit(\u001b[32mcmd16.sc\u001b[39m:\u001b[32m19\u001b[39m)\n  ammonite.$sess.cmd16$Helper$DFSSearcher.assert_sol(\u001b[32mcmd16.sc\u001b[39m:\u001b[32m55\u001b[39m)\n  ammonite.$sess.cmd19$Helper.$anonfun$solve_puzzle_1$8(\u001b[32mcmd19.sc\u001b[39m:\u001b[32m12\u001b[39m)\n  scala.runtime.java8.JFunction1$mcZI$sp.apply(\u001b[32mJFunction1$mcZI$sp.scala\u001b[39m:\u001b[32m17\u001b[39m)\n  ammonite.$sess.cmd16$Helper$DFSSearcher$Continuation.doit(\u001b[32mcmd16.sc\u001b[39m:\u001b[32m19\u001b[39m)\n  ammonite.$sess.cmd16$Helper$DFSSearcher.assert_sol(\u001b[32mcmd16.sc\u001b[39m:\u001b[32m55\u001b[39m)\n  ammonite.$sess.cmd19$Helper.$anonfun$solve_puzzle_1$8(\u001b[32mcmd19.sc\u001b[39m:\u001b[32m12\u001b[39m)\n  scala.runtime.java8.JFunction1$mcZI$sp.apply(\u001b[32mJFunction1$mcZI$sp.scala\u001b[39m:\u001b[32m17\u001b[39m)\n  ammonite.$sess.cmd16$Helper$DFSSearcher$Continuation.doit(\u001b[32mcmd16.sc\u001b[39m:\u001b[32m19\u001b[39m)\n  ammonite.$sess.cmd16$Helper$DFSSearcher.assert_sol(\u001b[32mcmd16.sc\u001b[39m:\u001b[32m55\u001b[39m)\n  ammonite.$sess.cmd19$Helper.$anonfun$solve_puzzle_1$8(\u001b[32mcmd19.sc\u001b[39m:\u001b[32m12\u001b[39m)\n  scala.runtime.java8.JFunction1$mcZI$sp.apply(\u001b[32mJFunction1$mcZI$sp.scala\u001b[39m:\u001b[32m17\u001b[39m)\n  ammonite.$sess.cmd16$Helper$DFSSearcher$Continuation.doit(\u001b[32mcmd16.sc\u001b[39m:\u001b[32m19\u001b[39m)\n  ammonite.$sess.cmd16$Helper$DFSSearcher.assert_sol(\u001b[32mcmd16.sc\u001b[39m:\u001b[32m55\u001b[39m)\n  ammonite.$sess.cmd19$Helper.$anonfun$solve_puzzle_1$8(\u001b[32mcmd19.sc\u001b[39m:\u001b[32m12\u001b[39m)\n  scala.runtime.java8.JFunction1$mcZI$sp.apply(\u001b[32mJFunction1$mcZI$sp.scala\u001b[39m:\u001b[32m17\u001b[39m)\n  ammonite.$sess.cmd16$Helper$DFSSearcher$Continuation.doit(\u001b[32mcmd16.sc\u001b[39m:\u001b[32m19\u001b[39m)\n  ammonite.$sess.cmd16$Helper$DFSSearcher.assert_sol(\u001b[32mcmd16.sc\u001b[39m:\u001b[32m55\u001b[39m)\n  ammonite.$sess.cmd19$Helper.$anonfun$solve_puzzle_1$8(\u001b[32mcmd19.sc\u001b[39m:\u001b[32m12\u001b[39m)\n  scala.runtime.java8.JFunction1$mcZI$sp.apply(\u001b[32mJFunction1$mcZI$sp.scala\u001b[39m:\u001b[32m17\u001b[39m)\n  ammonite.$sess.cmd16$Helper$DFSSearcher$Continuation.doit(\u001b[32mcmd16.sc\u001b[39m:\u001b[32m19\u001b[39m)\n  ammonite.$sess.cmd16$Helper$DFSSearcher.choose(\u001b[32mcmd16.sc\u001b[39m:\u001b[32m37\u001b[39m)\n  ammonite.$sess.cmd19$Helper.$anonfun$solve_puzzle_1$7(\u001b[32mcmd19.sc\u001b[39m:\u001b[32m11\u001b[39m)\n  scala.runtime.java8.JFunction1$mcZI$sp.apply(\u001b[32mJFunction1$mcZI$sp.scala\u001b[39m:\u001b[32m17\u001b[39m)\n  ammonite.$sess.cmd16$Helper$DFSSearcher$Continuation.doit(\u001b[32mcmd16.sc\u001b[39m:\u001b[32m19\u001b[39m)\n  ammonite.$sess.cmd16$Helper$DFSSearcher.assert_sol(\u001b[32mcmd16.sc\u001b[39m:\u001b[32m55\u001b[39m)\n  ammonite.$sess.cmd19$Helper.$anonfun$solve_puzzle_1$8(\u001b[32mcmd19.sc\u001b[39m:\u001b[32m12\u001b[39m)\n  scala.runtime.java8.JFunction1$mcZI$sp.apply(\u001b[32mJFunction1$mcZI$sp.scala\u001b[39m:\u001b[32m17\u001b[39m)\n  ammonite.$sess.cmd16$Helper$DFSSearcher$Continuation.doit(\u001b[32mcmd16.sc\u001b[39m:\u001b[32m19\u001b[39m)\n  ammonite.$sess.cmd16$Helper$DFSSearcher.assert_sol(\u001b[32mcmd16.sc\u001b[39m:\u001b[32m55\u001b[39m)\n  ammonite.$sess.cmd19$Helper.$anonfun$solve_puzzle_1$8(\u001b[32mcmd19.sc\u001b[39m:\u001b[32m12\u001b[39m)\n  scala.runtime.java8.JFunction1$mcZI$sp.apply(\u001b[32mJFunction1$mcZI$sp.scala\u001b[39m:\u001b[32m17\u001b[39m)\n  ammonite.$sess.cmd16$Helper$DFSSearcher$Continuation.doit(\u001b[32mcmd16.sc\u001b[39m:\u001b[32m19\u001b[39m)\n  ammonite.$sess.cmd16$Helper$DFSSearcher.assert_sol(\u001b[32mcmd16.sc\u001b[39m:\u001b[32m55\u001b[39m)\n  ammonite.$sess.cmd19$Helper.$anonfun$solve_puzzle_1$8(\u001b[32mcmd19.sc\u001b[39m:\u001b[32m12\u001b[39m)\n  scala.runtime.java8.JFunction1$mcZI$sp.apply(\u001b[32mJFunction1$mcZI$sp.scala\u001b[39m:\u001b[32m17\u001b[39m)\n  ammonite.$sess.cmd16$Helper$DFSSearcher$Continuation.doit(\u001b[32mcmd16.sc\u001b[39m:\u001b[32m19\u001b[39m)\n  ammonite.$sess.cmd16$Helper$DFSSearcher.assert_sol(\u001b[32mcmd16.sc\u001b[39m:\u001b[32m55\u001b[39m)\n  ammonite.$sess.cmd19$Helper.$anonfun$solve_puzzle_1$8(\u001b[32mcmd19.sc\u001b[39m:\u001b[32m12\u001b[39m)\n  scala.runtime.java8.JFunction1$mcZI$sp.apply(\u001b[32mJFunction1$mcZI$sp.scala\u001b[39m:\u001b[32m17\u001b[39m)\n  ammonite.$sess.cmd16$Helper$DFSSearcher$Continuation.doit(\u001b[32mcmd16.sc\u001b[39m:\u001b[32m19\u001b[39m)\n  ammonite.$sess.cmd16$Helper$DFSSearcher.assert_sol(\u001b[32mcmd16.sc\u001b[39m:\u001b[32m55\u001b[39m)\n  ammonite.$sess.cmd19$Helper.$anonfun$solve_puzzle_1$8(\u001b[32mcmd19.sc\u001b[39m:\u001b[32m12\u001b[39m)\n  scala.runtime.java8.JFunction1$mcZI$sp.apply(\u001b[32mJFunction1$mcZI$sp.scala\u001b[39m:\u001b[32m17\u001b[39m)\n  ammonite.$sess.cmd16$Helper$DFSSearcher$Continuation.doit(\u001b[32mcmd16.sc\u001b[39m:\u001b[32m19\u001b[39m)\n  ammonite.$sess.cmd16$Helper$DFSSearcher.assert_sol(\u001b[32mcmd16.sc\u001b[39m:\u001b[32m55\u001b[39m)\n  ammonite.$sess.cmd19$Helper.$anonfun$solve_puzzle_1$8(\u001b[32mcmd19.sc\u001b[39m:\u001b[32m12\u001b[39m)\n  scala.runtime.java8.JFunction1$mcZI$sp.apply(\u001b[32mJFunction1$mcZI$sp.scala\u001b[39m:\u001b[32m17\u001b[39m)\n  ammonite.$sess.cmd16$Helper$DFSSearcher$Continuation.doit(\u001b[32mcmd16.sc\u001b[39m:\u001b[32m19\u001b[39m)\n  ammonite.$sess.cmd16$Helper$DFSSearcher.assert_sol(\u001b[32mcmd16.sc\u001b[39m:\u001b[32m55\u001b[39m)\n  ammonite.$sess.cmd19$Helper.$anonfun$solve_puzzle_1$8(\u001b[32mcmd19.sc\u001b[39m:\u001b[32m12\u001b[39m)\n  scala.runtime.java8.JFunction1$mcZI$sp.apply(\u001b[32mJFunction1$mcZI$sp.scala\u001b[39m:\u001b[32m17\u001b[39m)\n  ammonite.$sess.cmd16$Helper$DFSSearcher$Continuation.doit(\u001b[32mcmd16.sc\u001b[39m:\u001b[32m19\u001b[39m)\n  ammonite.$sess.cmd16$Helper$DFSSearcher.assert_sol(\u001b[32mcmd16.sc\u001b[39m:\u001b[32m55\u001b[39m)\n  ammonite.$sess.cmd19$Helper.$anonfun$solve_puzzle_1$8(\u001b[32mcmd19.sc\u001b[39m:\u001b[32m12\u001b[39m)\n  scala.runtime.java8.JFunction1$mcZI$sp.apply(\u001b[32mJFunction1$mcZI$sp.scala\u001b[39m:\u001b[32m17\u001b[39m)\n  ammonite.$sess.cmd16$Helper$DFSSearcher$Continuation.doit(\u001b[32mcmd16.sc\u001b[39m:\u001b[32m19\u001b[39m)\n  ammonite.$sess.cmd16$Helper$DFSSearcher.assert_sol(\u001b[32mcmd16.sc\u001b[39m:\u001b[32m55\u001b[39m)\n  ammonite.$sess.cmd19$Helper.$anonfun$solve_puzzle_1$8(\u001b[32mcmd19.sc\u001b[39m:\u001b[32m12\u001b[39m)\n  scala.runtime.java8.JFunction1$mcZI$sp.apply(\u001b[32mJFunction1$mcZI$sp.scala\u001b[39m:\u001b[32m17\u001b[39m)\n  ammonite.$sess.cmd16$Helper$DFSSearcher$Continuation.doit(\u001b[32mcmd16.sc\u001b[39m:\u001b[32m19\u001b[39m)\n  ammonite.$sess.cmd16$Helper$DFSSearcher.assert_sol(\u001b[32mcmd16.sc\u001b[39m:\u001b[32m55\u001b[39m)\n  ammonite.$sess.cmd19$Helper.$anonfun$solve_puzzle_1$8(\u001b[32mcmd19.sc\u001b[39m:\u001b[32m12\u001b[39m)\n  scala.runtime.java8.JFunction1$mcZI$sp.apply(\u001b[32mJFunction1$mcZI$sp.scala\u001b[39m:\u001b[32m17\u001b[39m)\n  ammonite.$sess.cmd16$Helper$DFSSearcher$Continuation.doit(\u001b[32mcmd16.sc\u001b[39m:\u001b[32m19\u001b[39m)\n  ammonite.$sess.cmd16$Helper$DFSSearcher.choose(\u001b[32mcmd16.sc\u001b[39m:\u001b[32m37\u001b[39m)\n  ammonite.$sess.cmd19$Helper.$anonfun$solve_puzzle_1$7(\u001b[32mcmd19.sc\u001b[39m:\u001b[32m11\u001b[39m)\n  scala.runtime.java8.JFunction1$mcZI$sp.apply(\u001b[32mJFunction1$mcZI$sp.scala\u001b[39m:\u001b[32m17\u001b[39m)\n  ammonite.$sess.cmd16$Helper$DFSSearcher$Continuation.doit(\u001b[32mcmd16.sc\u001b[39m:\u001b[32m19\u001b[39m)\n  ammonite.$sess.cmd16$Helper$DFSSearcher.assert_sol(\u001b[32mcmd16.sc\u001b[39m:\u001b[32m55\u001b[39m)\n  ammonite.$sess.cmd19$Helper.$anonfun$solve_puzzle_1$8(\u001b[32mcmd19.sc\u001b[39m:\u001b[32m12\u001b[39m)\n  scala.runtime.java8.JFunction1$mcZI$sp.apply(\u001b[32mJFunction1$mcZI$sp.scala\u001b[39m:\u001b[32m17\u001b[39m)\n  ammonite.$sess.cmd16$Helper$DFSSearcher$Continuation.doit(\u001b[32mcmd16.sc\u001b[39m:\u001b[32m19\u001b[39m)\n  ammonite.$sess.cmd16$Helper$DFSSearcher.assert_sol(\u001b[32mcmd16.sc\u001b[39m:\u001b[32m55\u001b[39m)\n  ammonite.$sess.cmd19$Helper.$anonfun$solve_puzzle_1$8(\u001b[32mcmd19.sc\u001b[39m:\u001b[32m12\u001b[39m)\n  scala.runtime.java8.JFunction1$mcZI$sp.apply(\u001b[32mJFunction1$mcZI$sp.scala\u001b[39m:\u001b[32m17\u001b[39m)\n  ammonite.$sess.cmd16$Helper$DFSSearcher$Continuation.doit(\u001b[32mcmd16.sc\u001b[39m:\u001b[32m19\u001b[39m)\n  ammonite.$sess.cmd16$Helper$DFSSearcher.assert_sol(\u001b[32mcmd16.sc\u001b[39m:\u001b[32m55\u001b[39m)\n  ammonite.$sess.cmd19$Helper.$anonfun$solve_puzzle_1$8(\u001b[32mcmd19.sc\u001b[39m:\u001b[32m12\u001b[39m)\n  scala.runtime.java8.JFunction1$mcZI$sp.apply(\u001b[32mJFunction1$mcZI$sp.scala\u001b[39m:\u001b[32m17\u001b[39m)\n  ammonite.$sess.cmd16$Helper$DFSSearcher$Continuation.doit(\u001b[32mcmd16.sc\u001b[39m:\u001b[32m19\u001b[39m)\n  ammonite.$sess.cmd16$Helper$DFSSearcher.assert_sol(\u001b[32mcmd16.sc\u001b[39m:\u001b[32m55\u001b[39m)\n  ammonite.$sess.cmd19$Helper.$anonfun$solve_puzzle_1$8(\u001b[32mcmd19.sc\u001b[39m:\u001b[32m12\u001b[39m)\n  scala.runtime.java8.JFunction1$mcZI$sp.apply(\u001b[32mJFunction1$mcZI$sp.scala\u001b[39m:\u001b[32m17\u001b[39m)\n  ammonite.$sess.cmd16$Helper$DFSSearcher$Continuation.doit(\u001b[32mcmd16.sc\u001b[39m:\u001b[32m19\u001b[39m)\n  ammonite.$sess.cmd16$Helper$DFSSearcher.assert_sol(\u001b[32mcmd16.sc\u001b[39m:\u001b[32m55\u001b[39m)\n  ammonite.$sess.cmd19$Helper.$anonfun$solve_puzzle_1$8(\u001b[32mcmd19.sc\u001b[39m:\u001b[32m12\u001b[39m)\n  scala.runtime.java8.JFunction1$mcZI$sp.apply(\u001b[32mJFunction1$mcZI$sp.scala\u001b[39m:\u001b[32m17\u001b[39m)\n  ammonite.$sess.cmd16$Helper$DFSSearcher$Continuation.doit(\u001b[32mcmd16.sc\u001b[39m:\u001b[32m19\u001b[39m)\n  ammonite.$sess.cmd16$Helper$DFSSearcher.assert_sol(\u001b[32mcmd16.sc\u001b[39m:\u001b[32m55\u001b[39m)\n  ammonite.$sess.cmd19$Helper.$anonfun$solve_puzzle_1$8(\u001b[32mcmd19.sc\u001b[39m:\u001b[32m12\u001b[39m)\n  scala.runtime.java8.JFunction1$mcZI$sp.apply(\u001b[32mJFunction1$mcZI$sp.scala\u001b[39m:\u001b[32m17\u001b[39m)\n  ammonite.$sess.cmd16$Helper$DFSSearcher$Continuation.doit(\u001b[32mcmd16.sc\u001b[39m:\u001b[32m19\u001b[39m)\n  ammonite.$sess.cmd16$Helper$DFSSearcher.assert_sol(\u001b[32mcmd16.sc\u001b[39m:\u001b[32m55\u001b[39m)\n  ammonite.$sess.cmd19$Helper.$anonfun$solve_puzzle_1$8(\u001b[32mcmd19.sc\u001b[39m:\u001b[32m12\u001b[39m)\n  scala.runtime.java8.JFunction1$mcZI$sp.apply(\u001b[32mJFunction1$mcZI$sp.scala\u001b[39m:\u001b[32m17\u001b[39m)\n  ammonite.$sess.cmd16$Helper$DFSSearcher$Continuation.doit(\u001b[32mcmd16.sc\u001b[39m:\u001b[32m19\u001b[39m)\n  ammonite.$sess.cmd16$Helper$DFSSearcher.assert_sol(\u001b[32mcmd16.sc\u001b[39m:\u001b[32m55\u001b[39m)\n  ammonite.$sess.cmd19$Helper.$anonfun$solve_puzzle_1$8(\u001b[32mcmd19.sc\u001b[39m:\u001b[32m12\u001b[39m)\n  scala.runtime.java8.JFunction1$mcZI$sp.apply(\u001b[32mJFunction1$mcZI$sp.scala\u001b[39m:\u001b[32m17\u001b[39m)\n  ammonite.$sess.cmd16$Helper$DFSSearcher$Continuation.doit(\u001b[32mcmd16.sc\u001b[39m:\u001b[32m19\u001b[39m)\n  ammonite.$sess.cmd16$Helper$DFSSearcher.assert_sol(\u001b[32mcmd16.sc\u001b[39m:\u001b[32m55\u001b[39m)\n  ammonite.$sess.cmd19$Helper.$anonfun$solve_puzzle_1$8(\u001b[32mcmd19.sc\u001b[39m:\u001b[32m12\u001b[39m)\n  scala.runtime.java8.JFunction1$mcZI$sp.apply(\u001b[32mJFunction1$mcZI$sp.scala\u001b[39m:\u001b[32m17\u001b[39m)\n  ammonite.$sess.cmd16$Helper$DFSSearcher$Continuation.doit(\u001b[32mcmd16.sc\u001b[39m:\u001b[32m19\u001b[39m)\n  ammonite.$sess.cmd16$Helper$DFSSearcher.assert_sol(\u001b[32mcmd16.sc\u001b[39m:\u001b[32m55\u001b[39m)\n  ammonite.$sess.cmd19$Helper.$anonfun$solve_puzzle_1$8(\u001b[32mcmd19.sc\u001b[39m:\u001b[32m12\u001b[39m)\n  scala.runtime.java8.JFunction1$mcZI$sp.apply(\u001b[32mJFunction1$mcZI$sp.scala\u001b[39m:\u001b[32m17\u001b[39m)\n  ammonite.$sess.cmd16$Helper$DFSSearcher$Continuation.doit(\u001b[32mcmd16.sc\u001b[39m:\u001b[32m19\u001b[39m)\n  ammonite.$sess.cmd16$Helper$DFSSearcher.choose(\u001b[32mcmd16.sc\u001b[39m:\u001b[32m37\u001b[39m)\n  ammonite.$sess.cmd19$Helper.$anonfun$solve_puzzle_1$7(\u001b[32mcmd19.sc\u001b[39m:\u001b[32m11\u001b[39m)\n  scala.runtime.java8.JFunction1$mcZI$sp.apply(\u001b[32mJFunction1$mcZI$sp.scala\u001b[39m:\u001b[32m17\u001b[39m)\n  ammonite.$sess.cmd16$Helper$DFSSearcher$Continuation.doit(\u001b[32mcmd16.sc\u001b[39m:\u001b[32m19\u001b[39m)\n  ammonite.$sess.cmd16$Helper$DFSSearcher.assert_sol(\u001b[32mcmd16.sc\u001b[39m:\u001b[32m55\u001b[39m)\n  ammonite.$sess.cmd19$Helper.$anonfun$solve_puzzle_1$8(\u001b[32mcmd19.sc\u001b[39m:\u001b[32m12\u001b[39m)\n  scala.runtime.java8.JFunction1$mcZI$sp.apply(\u001b[32mJFunction1$mcZI$sp.scala\u001b[39m:\u001b[32m17\u001b[39m)\n  ammonite.$sess.cmd16$Helper$DFSSearcher$Continuation.doit(\u001b[32mcmd16.sc\u001b[39m:\u001b[32m19\u001b[39m)\n  ammonite.$sess.cmd16$Helper$DFSSearcher.assert_sol(\u001b[32mcmd16.sc\u001b[39m:\u001b[32m55\u001b[39m)\n  ammonite.$sess.cmd19$Helper.$anonfun$solve_puzzle_1$8(\u001b[32mcmd19.sc\u001b[39m:\u001b[32m12\u001b[39m)\n  scala.runtime.java8.JFunction1$mcZI$sp.apply(\u001b[32mJFunction1$mcZI$sp.scala\u001b[39m:\u001b[32m17\u001b[39m)\n  ammonite.$sess.cmd16$Helper$DFSSearcher$Continuation.doit(\u001b[32mcmd16.sc\u001b[39m:\u001b[32m19\u001b[39m)\n  ammonite.$sess.cmd16$Helper$DFSSearcher.assert_sol(\u001b[32mcmd16.sc\u001b[39m:\u001b[32m55\u001b[39m)\n  ammonite.$sess.cmd19$Helper.$anonfun$solve_puzzle_1$8(\u001b[32mcmd19.sc\u001b[39m:\u001b[32m12\u001b[39m)\n  scala.runtime.java8.JFunction1$mcZI$sp.apply(\u001b[32mJFunction1$mcZI$sp.scala\u001b[39m:\u001b[32m17\u001b[39m)\n  ammonite.$sess.cmd16$Helper$DFSSearcher$Continuation.doit(\u001b[32mcmd16.sc\u001b[39m:\u001b[32m19\u001b[39m)\n  ammonite.$sess.cmd16$Helper$DFSSearcher.assert_sol(\u001b[32mcmd16.sc\u001b[39m:\u001b[32m55\u001b[39m)\n  ammonite.$sess.cmd19$Helper.$anonfun$solve_puzzle_1$8(\u001b[32mcmd19.sc\u001b[39m:\u001b[32m12\u001b[39m)\n  scala.runtime.java8.JFunction1$mcZI$sp.apply(\u001b[32mJFunction1$mcZI$sp.scala\u001b[39m:\u001b[32m17\u001b[39m)\n  ammonite.$sess.cmd16$Helper$DFSSearcher$Continuation.doit(\u001b[32mcmd16.sc\u001b[39m:\u001b[32m19\u001b[39m)\n  ammonite.$sess.cmd16$Helper$DFSSearcher.assert_sol(\u001b[32mcmd16.sc\u001b[39m:\u001b[32m55\u001b[39m)\n  ammonite.$sess.cmd19$Helper.$anonfun$solve_puzzle_1$8(\u001b[32mcmd19.sc\u001b[39m:\u001b[32m12\u001b[39m)\n  scala.runtime.java8.JFunction1$mcZI$sp.apply(\u001b[32mJFunction1$mcZI$sp.scala\u001b[39m:\u001b[32m17\u001b[39m)\n  ammonite.$sess.cmd16$Helper$DFSSearcher$Continuation.doit(\u001b[32mcmd16.sc\u001b[39m:\u001b[32m19\u001b[39m)\n  ammonite.$sess.cmd16$Helper$DFSSearcher.assert_sol(\u001b[32mcmd16.sc\u001b[39m:\u001b[32m55\u001b[39m)\n  ammonite.$sess.cmd19$Helper.$anonfun$solve_puzzle_1$8(\u001b[32mcmd19.sc\u001b[39m:\u001b[32m12\u001b[39m)\n  scala.runtime.java8.JFunction1$mcZI$sp.apply(\u001b[32mJFunction1$mcZI$sp.scala\u001b[39m:\u001b[32m17\u001b[39m)\n  ammonite.$sess.cmd16$Helper$DFSSearcher$Continuation.doit(\u001b[32mcmd16.sc\u001b[39m:\u001b[32m19\u001b[39m)\n  ammonite.$sess.cmd16$Helper$DFSSearcher.assert_sol(\u001b[32mcmd16.sc\u001b[39m:\u001b[32m55\u001b[39m)\n  ammonite.$sess.cmd19$Helper.$anonfun$solve_puzzle_1$8(\u001b[32mcmd19.sc\u001b[39m:\u001b[32m12\u001b[39m)\n  scala.runtime.java8.JFunction1$mcZI$sp.apply(\u001b[32mJFunction1$mcZI$sp.scala\u001b[39m:\u001b[32m17\u001b[39m)\n  ammonite.$sess.cmd16$Helper$DFSSearcher$Continuation.doit(\u001b[32mcmd16.sc\u001b[39m:\u001b[32m19\u001b[39m)\n  ammonite.$sess.cmd16$Helper$DFSSearcher.assert_sol(\u001b[32mcmd16.sc\u001b[39m:\u001b[32m55\u001b[39m)\n  ammonite.$sess.cmd19$Helper.$anonfun$solve_puzzle_1$8(\u001b[32mcmd19.sc\u001b[39m:\u001b[32m12\u001b[39m)\n  scala.runtime.java8.JFunction1$mcZI$sp.apply(\u001b[32mJFunction1$mcZI$sp.scala\u001b[39m:\u001b[32m17\u001b[39m)\n  ammonite.$sess.cmd16$Helper$DFSSearcher$Continuation.doit(\u001b[32mcmd16.sc\u001b[39m:\u001b[32m19\u001b[39m)\n  ammonite.$sess.cmd16$Helper$DFSSearcher.assert_sol(\u001b[32mcmd16.sc\u001b[39m:\u001b[32m55\u001b[39m)\n  ammonite.$sess.cmd19$Helper.$anonfun$solve_puzzle_1$8(\u001b[32mcmd19.sc\u001b[39m:\u001b[32m12\u001b[39m)\n  scala.runtime.java8.JFunction1$mcZI$sp.apply(\u001b[32mJFunction1$mcZI$sp.scala\u001b[39m:\u001b[32m17\u001b[39m)\n  ammonite.$sess.cmd16$Helper$DFSSearcher$Continuation.doit(\u001b[32mcmd16.sc\u001b[39m:\u001b[32m19\u001b[39m)\n  ammonite.$sess.cmd16$Helper$DFSSearcher.assert_sol(\u001b[32mcmd16.sc\u001b[39m:\u001b[32m55\u001b[39m)\n  ammonite.$sess.cmd19$Helper.$anonfun$solve_puzzle_1$8(\u001b[32mcmd19.sc\u001b[39m:\u001b[32m12\u001b[39m)\n  scala.runtime.java8.JFunction1$mcZI$sp.apply(\u001b[32mJFunction1$mcZI$sp.scala\u001b[39m:\u001b[32m17\u001b[39m)\n  ammonite.$sess.cmd16$Helper$DFSSearcher$Continuation.doit(\u001b[32mcmd16.sc\u001b[39m:\u001b[32m19\u001b[39m)\n  ammonite.$sess.cmd16$Helper$DFSSearcher.choose(\u001b[32mcmd16.sc\u001b[39m:\u001b[32m37\u001b[39m)\n  ammonite.$sess.cmd19$Helper.$anonfun$solve_puzzle_1$7(\u001b[32mcmd19.sc\u001b[39m:\u001b[32m11\u001b[39m)\n  scala.runtime.java8.JFunction1$mcZI$sp.apply(\u001b[32mJFunction1$mcZI$sp.scala\u001b[39m:\u001b[32m17\u001b[39m)\n  ammonite.$sess.cmd16$Helper$DFSSearcher$Continuation.doit(\u001b[32mcmd16.sc\u001b[39m:\u001b[32m19\u001b[39m)\n  ammonite.$sess.cmd16$Helper$DFSSearcher.assert_sol(\u001b[32mcmd16.sc\u001b[39m:\u001b[32m55\u001b[39m)\n  ammonite.$sess.cmd19$Helper.$anonfun$solve_puzzle_1$8(\u001b[32mcmd19.sc\u001b[39m:\u001b[32m12\u001b[39m)\n  scala.runtime.java8.JFunction1$mcZI$sp.apply(\u001b[32mJFunction1$mcZI$sp.scala\u001b[39m:\u001b[32m17\u001b[39m)\n  ammonite.$sess.cmd16$Helper$DFSSearcher$Continuation.doit(\u001b[32mcmd16.sc\u001b[39m:\u001b[32m19\u001b[39m)\n  ammonite.$sess.cmd16$Helper$DFSSearcher.assert_sol(\u001b[32mcmd16.sc\u001b[39m:\u001b[32m55\u001b[39m)\n  ammonite.$sess.cmd19$Helper.$anonfun$solve_puzzle_1$8(\u001b[32mcmd19.sc\u001b[39m:\u001b[32m12\u001b[39m)\n  scala.runtime.java8.JFunction1$mcZI$sp.apply(\u001b[32mJFunction1$mcZI$sp.scala\u001b[39m:\u001b[32m17\u001b[39m)\n  ammonite.$sess.cmd16$Helper$DFSSearcher$Continuation.doit(\u001b[32mcmd16.sc\u001b[39m:\u001b[32m19\u001b[39m)\n  ammonite.$sess.cmd16$Helper$DFSSearcher.assert_sol(\u001b[32mcmd16.sc\u001b[39m:\u001b[32m55\u001b[39m)\n  ammonite.$sess.cmd19$Helper.$anonfun$solve_puzzle_1$8(\u001b[32mcmd19.sc\u001b[39m:\u001b[32m12\u001b[39m)\n  scala.runtime.java8.JFunction1$mcZI$sp.apply(\u001b[32mJFunction1$mcZI$sp.scala\u001b[39m:\u001b[32m17\u001b[39m)\n  ammonite.$sess.cmd16$Helper$DFSSearcher$Continuation.doit(\u001b[32mcmd16.sc\u001b[39m:\u001b[32m19\u001b[39m)\n  ammonite.$sess.cmd16$Helper$DFSSearcher.assert_sol(\u001b[32mcmd16.sc\u001b[39m:\u001b[32m55\u001b[39m)\n  ammonite.$sess.cmd19$Helper.$anonfun$solve_puzzle_1$8(\u001b[32mcmd19.sc\u001b[39m:\u001b[32m12\u001b[39m)\n  scala.runtime.java8.JFunction1$mcZI$sp.apply(\u001b[32mJFunction1$mcZI$sp.scala\u001b[39m:\u001b[32m17\u001b[39m)\n  ammonite.$sess.cmd16$Helper$DFSSearcher$Continuation.doit(\u001b[32mcmd16.sc\u001b[39m:\u001b[32m19\u001b[39m)\n  ammonite.$sess.cmd16$Helper$DFSSearcher.assert_sol(\u001b[32mcmd16.sc\u001b[39m:\u001b[32m55\u001b[39m)\n  ammonite.$sess.cmd19$Helper.$anonfun$solve_puzzle_1$8(\u001b[32mcmd19.sc\u001b[39m:\u001b[32m12\u001b[39m)\n  scala.runtime.java8.JFunction1$mcZI$sp.apply(\u001b[32mJFunction1$mcZI$sp.scala\u001b[39m:\u001b[32m17\u001b[39m)\n  ammonite.$sess.cmd16$Helper$DFSSearcher$Continuation.doit(\u001b[32mcmd16.sc\u001b[39m:\u001b[32m19\u001b[39m)\n  ammonite.$sess.cmd16$Helper$DFSSearcher.assert_sol(\u001b[32mcmd16.sc\u001b[39m:\u001b[32m55\u001b[39m)\n  ammonite.$sess.cmd19$Helper.$anonfun$solve_puzzle_1$8(\u001b[32mcmd19.sc\u001b[39m:\u001b[32m12\u001b[39m)\n  scala.runtime.java8.JFunction1$mcZI$sp.apply(\u001b[32mJFunction1$mcZI$sp.scala\u001b[39m:\u001b[32m17\u001b[39m)\n  ammonite.$sess.cmd16$Helper$DFSSearcher$Continuation.doit(\u001b[32mcmd16.sc\u001b[39m:\u001b[32m19\u001b[39m)\n  ammonite.$sess.cmd16$Helper$DFSSearcher.assert_sol(\u001b[32mcmd16.sc\u001b[39m:\u001b[32m55\u001b[39m)\n  ammonite.$sess.cmd19$Helper.$anonfun$solve_puzzle_1$8(\u001b[32mcmd19.sc\u001b[39m:\u001b[32m12\u001b[39m)\n  scala.runtime.java8.JFunction1$mcZI$sp.apply(\u001b[32mJFunction1$mcZI$sp.scala\u001b[39m:\u001b[32m17\u001b[39m)\n  ammonite.$sess.cmd16$Helper$DFSSearcher$Continuation.doit(\u001b[32mcmd16.sc\u001b[39m:\u001b[32m19\u001b[39m)\n  ammonite.$sess.cmd16$Helper$DFSSearcher.assert_sol(\u001b[32mcmd16.sc\u001b[39m:\u001b[32m55\u001b[39m)\n  ammonite.$sess.cmd19$Helper.$anonfun$solve_puzzle_1$8(\u001b[32mcmd19.sc\u001b[39m:\u001b[32m12\u001b[39m)\n  scala.runtime.java8.JFunction1$mcZI$sp.apply(\u001b[32mJFunction1$mcZI$sp.scala\u001b[39m:\u001b[32m17\u001b[39m)\n  ammonite.$sess.cmd16$Helper$DFSSearcher$Continuation.doit(\u001b[32mcmd16.sc\u001b[39m:\u001b[32m19\u001b[39m)\n  ammonite.$sess.cmd16$Helper$DFSSearcher.assert_sol(\u001b[32mcmd16.sc\u001b[39m:\u001b[32m55\u001b[39m)\n  ammonite.$sess.cmd19$Helper.$anonfun$solve_puzzle_1$8(\u001b[32mcmd19.sc\u001b[39m:\u001b[32m12\u001b[39m)\n  scala.runtime.java8.JFunction1$mcZI$sp.apply(\u001b[32mJFunction1$mcZI$sp.scala\u001b[39m:\u001b[32m17\u001b[39m)\n  ammonite.$sess.cmd16$Helper$DFSSearcher$Continuation.doit(\u001b[32mcmd16.sc\u001b[39m:\u001b[32m19\u001b[39m)\n  ammonite.$sess.cmd16$Helper$DFSSearcher.assert_sol(\u001b[32mcmd16.sc\u001b[39m:\u001b[32m55\u001b[39m)\n  ammonite.$sess.cmd19$Helper.$anonfun$solve_puzzle_1$8(\u001b[32mcmd19.sc\u001b[39m:\u001b[32m12\u001b[39m)\n  scala.runtime.java8.JFunction1$mcZI$sp.apply(\u001b[32mJFunction1$mcZI$sp.scala\u001b[39m:\u001b[32m17\u001b[39m)\n  ammonite.$sess.cmd16$Helper$DFSSearcher$Continuation.doit(\u001b[32mcmd16.sc\u001b[39m:\u001b[32m19\u001b[39m)\n  ammonite.$sess.cmd16$Helper$DFSSearcher.choose(\u001b[32mcmd16.sc\u001b[39m:\u001b[32m37\u001b[39m)\n  ammonite.$sess.cmd19$Helper.$anonfun$solve_puzzle_1$7(\u001b[32mcmd19.sc\u001b[39m:\u001b[32m11\u001b[39m)\n  scala.runtime.java8.JFunction1$mcZI$sp.apply(\u001b[32mJFunction1$mcZI$sp.scala\u001b[39m:\u001b[32m17\u001b[39m)\n  ammonite.$sess.cmd16$Helper$DFSSearcher$Continuation.doit(\u001b[32mcmd16.sc\u001b[39m:\u001b[32m19\u001b[39m)\n  ammonite.$sess.cmd16$Helper$DFSSearcher.assert_sol(\u001b[32mcmd16.sc\u001b[39m:\u001b[32m55\u001b[39m)\n  ammonite.$sess.cmd19$Helper.$anonfun$solve_puzzle_1$8(\u001b[32mcmd19.sc\u001b[39m:\u001b[32m12\u001b[39m)\n  scala.runtime.java8.JFunction1$mcZI$sp.apply(\u001b[32mJFunction1$mcZI$sp.scala\u001b[39m:\u001b[32m17\u001b[39m)\n  ammonite.$sess.cmd16$Helper$DFSSearcher$Continuation.doit(\u001b[32mcmd16.sc\u001b[39m:\u001b[32m19\u001b[39m)\n  ammonite.$sess.cmd16$Helper$DFSSearcher.assert_sol(\u001b[32mcmd16.sc\u001b[39m:\u001b[32m55\u001b[39m)\n  ammonite.$sess.cmd19$Helper.$anonfun$solve_puzzle_1$8(\u001b[32mcmd19.sc\u001b[39m:\u001b[32m12\u001b[39m)\n  scala.runtime.java8.JFunction1$mcZI$sp.apply(\u001b[32mJFunction1$mcZI$sp.scala\u001b[39m:\u001b[32m17\u001b[39m)\n  ammonite.$sess.cmd16$Helper$DFSSearcher$Continuation.doit(\u001b[32mcmd16.sc\u001b[39m:\u001b[32m19\u001b[39m)\n  ammonite.$sess.cmd16$Helper$DFSSearcher.assert_sol(\u001b[32mcmd16.sc\u001b[39m:\u001b[32m55\u001b[39m)\n  ammonite.$sess.cmd19$Helper.$anonfun$solve_puzzle_1$8(\u001b[32mcmd19.sc\u001b[39m:\u001b[32m12\u001b[39m)\n  scala.runtime.java8.JFunction1$mcZI$sp.apply(\u001b[32mJFunction1$mcZI$sp.scala\u001b[39m:\u001b[32m17\u001b[39m)\n  ammonite.$sess.cmd16$Helper$DFSSearcher$Continuation.doit(\u001b[32mcmd16.sc\u001b[39m:\u001b[32m19\u001b[39m)\n  ammonite.$sess.cmd16$Helper$DFSSearcher.assert_sol(\u001b[32mcmd16.sc\u001b[39m:\u001b[32m55\u001b[39m)\n  ammonite.$sess.cmd19$Helper.$anonfun$solve_puzzle_1$8(\u001b[32mcmd19.sc\u001b[39m:\u001b[32m12\u001b[39m)\n  scala.runtime.java8.JFunction1$mcZI$sp.apply(\u001b[32mJFunction1$mcZI$sp.scala\u001b[39m:\u001b[32m17\u001b[39m)\n  ammonite.$sess.cmd16$Helper$DFSSearcher$Continuation.doit(\u001b[32mcmd16.sc\u001b[39m:\u001b[32m19\u001b[39m)\n  ammonite.$sess.cmd16$Helper$DFSSearcher.assert_sol(\u001b[32mcmd16.sc\u001b[39m:\u001b[32m55\u001b[39m)\n  ammonite.$sess.cmd19$Helper.$anonfun$solve_puzzle_1$8(\u001b[32mcmd19.sc\u001b[39m:\u001b[32m12\u001b[39m)\n  scala.runtime.java8.JFunction1$mcZI$sp.apply(\u001b[32mJFunction1$mcZI$sp.scala\u001b[39m:\u001b[32m17\u001b[39m)\n  ammonite.$sess.cmd16$Helper$DFSSearcher$Continuation.doit(\u001b[32mcmd16.sc\u001b[39m:\u001b[32m19\u001b[39m)\n  ammonite.$sess.cmd16$Helper$DFSSearcher.assert_sol(\u001b[32mcmd16.sc\u001b[39m:\u001b[32m55\u001b[39m)\n  ammonite.$sess.cmd19$Helper.$anonfun$solve_puzzle_1$8(\u001b[32mcmd19.sc\u001b[39m:\u001b[32m12\u001b[39m)\n  scala.runtime.java8.JFunction1$mcZI$sp.apply(\u001b[32mJFunction1$mcZI$sp.scala\u001b[39m:\u001b[32m17\u001b[39m)\n  ammonite.$sess.cmd16$Helper$DFSSearcher$Continuation.doit(\u001b[32mcmd16.sc\u001b[39m:\u001b[32m19\u001b[39m)\n  ammonite.$sess.cmd16$Helper$DFSSearcher.assert_sol(\u001b[32mcmd16.sc\u001b[39m:\u001b[32m55\u001b[39m)\n  ammonite.$sess.cmd19$Helper.$anonfun$solve_puzzle_1$8(\u001b[32mcmd19.sc\u001b[39m:\u001b[32m12\u001b[39m)\n  scala.runtime.java8.JFunction1$mcZI$sp.apply(\u001b[32mJFunction1$mcZI$sp.scala\u001b[39m:\u001b[32m17\u001b[39m)\n  ammonite.$sess.cmd16$Helper$DFSSearcher$Continuation.doit(\u001b[32mcmd16.sc\u001b[39m:\u001b[32m19\u001b[39m)\n  ammonite.$sess.cmd16$Helper$DFSSearcher.assert_sol(\u001b[32mcmd16.sc\u001b[39m:\u001b[32m55\u001b[39m)\n  ammonite.$sess.cmd19$Helper.$anonfun$solve_puzzle_1$8(\u001b[32mcmd19.sc\u001b[39m:\u001b[32m12\u001b[39m)\n  scala.runtime.java8.JFunction1$mcZI$sp.apply(\u001b[32mJFunction1$mcZI$sp.scala\u001b[39m:\u001b[32m17\u001b[39m)\n  ammonite.$sess.cmd16$Helper$DFSSearcher$Continuation.doit(\u001b[32mcmd16.sc\u001b[39m:\u001b[32m19\u001b[39m)\n  ammonite.$sess.cmd16$Helper$DFSSearcher.assert_sol(\u001b[32mcmd16.sc\u001b[39m:\u001b[32m55\u001b[39m)\n  ammonite.$sess.cmd19$Helper.$anonfun$solve_puzzle_1$8(\u001b[32mcmd19.sc\u001b[39m:\u001b[32m12\u001b[39m)\n  scala.runtime.java8.JFunction1$mcZI$sp.apply(\u001b[32mJFunction1$mcZI$sp.scala\u001b[39m:\u001b[32m17\u001b[39m)\n  ammonite.$sess.cmd16$Helper$DFSSearcher$Continuation.doit(\u001b[32mcmd16.sc\u001b[39m:\u001b[32m19\u001b[39m)\n  ammonite.$sess.cmd16$Helper$DFSSearcher.assert_sol(\u001b[32mcmd16.sc\u001b[39m:\u001b[32m55\u001b[39m)\n  ammonite.$sess.cmd19$Helper.$anonfun$solve_puzzle_1$8(\u001b[32mcmd19.sc\u001b[39m:\u001b[32m12\u001b[39m)\n  scala.runtime.java8.JFunction1$mcZI$sp.apply(\u001b[32mJFunction1$mcZI$sp.scala\u001b[39m:\u001b[32m17\u001b[39m)\n  ammonite.$sess.cmd16$Helper$DFSSearcher$Continuation.doit(\u001b[32mcmd16.sc\u001b[39m:\u001b[32m19\u001b[39m)\n  ammonite.$sess.cmd16$Helper$DFSSearcher.choose(\u001b[32mcmd16.sc\u001b[39m:\u001b[32m37\u001b[39m)\n  ammonite.$sess.cmd19$Helper.$anonfun$solve_puzzle_1$7(\u001b[32mcmd19.sc\u001b[39m:\u001b[32m11\u001b[39m)\n  scala.runtime.java8.JFunction1$mcZI$sp.apply(\u001b[32mJFunction1$mcZI$sp.scala\u001b[39m:\u001b[32m17\u001b[39m)\n  ammonite.$sess.cmd16$Helper$DFSSearcher$Continuation.doit(\u001b[32mcmd16.sc\u001b[39m:\u001b[32m19\u001b[39m)\n  ammonite.$sess.cmd16$Helper$DFSSearcher.assert_sol(\u001b[32mcmd16.sc\u001b[39m:\u001b[32m55\u001b[39m)\n  ammonite.$sess.cmd19$Helper.$anonfun$solve_puzzle_1$8(\u001b[32mcmd19.sc\u001b[39m:\u001b[32m12\u001b[39m)\n  scala.runtime.java8.JFunction1$mcZI$sp.apply(\u001b[32mJFunction1$mcZI$sp.scala\u001b[39m:\u001b[32m17\u001b[39m)\n  ammonite.$sess.cmd16$Helper$DFSSearcher$Continuation.doit(\u001b[32mcmd16.sc\u001b[39m:\u001b[32m19\u001b[39m)\n  ammonite.$sess.cmd16$Helper$DFSSearcher.assert_sol(\u001b[32mcmd16.sc\u001b[39m:\u001b[32m55\u001b[39m)\n  ammonite.$sess.cmd19$Helper.$anonfun$solve_puzzle_1$8(\u001b[32mcmd19.sc\u001b[39m:\u001b[32m12\u001b[39m)\n  scala.runtime.java8.JFunction1$mcZI$sp.apply(\u001b[32mJFunction1$mcZI$sp.scala\u001b[39m:\u001b[32m17\u001b[39m)\n  ammonite.$sess.cmd16$Helper$DFSSearcher$Continuation.doit(\u001b[32mcmd16.sc\u001b[39m:\u001b[32m19\u001b[39m)\n  ammonite.$sess.cmd16$Helper$DFSSearcher.assert_sol(\u001b[32mcmd16.sc\u001b[39m:\u001b[32m55\u001b[39m)\n  ammonite.$sess.cmd19$Helper.$anonfun$solve_puzzle_1$8(\u001b[32mcmd19.sc\u001b[39m:\u001b[32m12\u001b[39m)\n  scala.runtime.java8.JFunction1$mcZI$sp.apply(\u001b[32mJFunction1$mcZI$sp.scala\u001b[39m:\u001b[32m17\u001b[39m)\n  ammonite.$sess.cmd16$Helper$DFSSearcher$Continuation.doit(\u001b[32mcmd16.sc\u001b[39m:\u001b[32m19\u001b[39m)\n  ammonite.$sess.cmd16$Helper$DFSSearcher.assert_sol(\u001b[32mcmd16.sc\u001b[39m:\u001b[32m55\u001b[39m)\n  ammonite.$sess.cmd19$Helper.$anonfun$solve_puzzle_1$8(\u001b[32mcmd19.sc\u001b[39m:\u001b[32m12\u001b[39m)\n  scala.runtime.java8.JFunction1$mcZI$sp.apply(\u001b[32mJFunction1$mcZI$sp.scala\u001b[39m:\u001b[32m17\u001b[39m)\n  ammonite.$sess.cmd16$Helper$DFSSearcher$Continuation.doit(\u001b[32mcmd16.sc\u001b[39m:\u001b[32m19\u001b[39m)\n  ammonite.$sess.cmd16$Helper$DFSSearcher.assert_sol(\u001b[32mcmd16.sc\u001b[39m:\u001b[32m55\u001b[39m)\n  ammonite.$sess.cmd19$Helper.$anonfun$solve_puzzle_1$8(\u001b[32mcmd19.sc\u001b[39m:\u001b[32m12\u001b[39m)\n  scala.runtime.java8.JFunction1$mcZI$sp.apply(\u001b[32mJFunction1$mcZI$sp.scala\u001b[39m:\u001b[32m17\u001b[39m)\n  ammonite.$sess.cmd16$Helper$DFSSearcher$Continuation.doit(\u001b[32mcmd16.sc\u001b[39m:\u001b[32m19\u001b[39m)\n  ammonite.$sess.cmd16$Helper$DFSSearcher.assert_sol(\u001b[32mcmd16.sc\u001b[39m:\u001b[32m55\u001b[39m)\n  ammonite.$sess.cmd19$Helper.$anonfun$solve_puzzle_1$8(\u001b[32mcmd19.sc\u001b[39m:\u001b[32m12\u001b[39m)\n  scala.runtime.java8.JFunction1$mcZI$sp.apply(\u001b[32mJFunction1$mcZI$sp.scala\u001b[39m:\u001b[32m17\u001b[39m)\n  ammonite.$sess.cmd16$Helper$DFSSearcher$Continuation.doit(\u001b[32mcmd16.sc\u001b[39m:\u001b[32m19\u001b[39m)\n  ammonite.$sess.cmd16$Helper$DFSSearcher.assert_sol(\u001b[32mcmd16.sc\u001b[39m:\u001b[32m55\u001b[39m)\n  ammonite.$sess.cmd19$Helper.$anonfun$solve_puzzle_1$8(\u001b[32mcmd19.sc\u001b[39m:\u001b[32m12\u001b[39m)\n  scala.runtime.java8.JFunction1$mcZI$sp.apply(\u001b[32mJFunction1$mcZI$sp.scala\u001b[39m:\u001b[32m17\u001b[39m)\n  ammonite.$sess.cmd16$Helper$DFSSearcher$Continuation.doit(\u001b[32mcmd16.sc\u001b[39m:\u001b[32m19\u001b[39m)\n  ammonite.$sess.cmd16$Helper$DFSSearcher.assert_sol(\u001b[32mcmd16.sc\u001b[39m:\u001b[32m55\u001b[39m)\n  ammonite.$sess.cmd19$Helper.$anonfun$solve_puzzle_1$8(\u001b[32mcmd19.sc\u001b[39m:\u001b[32m12\u001b[39m)\n  scala.runtime.java8.JFunction1$mcZI$sp.apply(\u001b[32mJFunction1$mcZI$sp.scala\u001b[39m:\u001b[32m17\u001b[39m)\n  ammonite.$sess.cmd16$Helper$DFSSearcher$Continuation.doit(\u001b[32mcmd16.sc\u001b[39m:\u001b[32m19\u001b[39m)\n  ammonite.$sess.cmd16$Helper$DFSSearcher.assert_sol(\u001b[32mcmd16.sc\u001b[39m:\u001b[32m55\u001b[39m)\n  ammonite.$sess.cmd19$Helper.$anonfun$solve_puzzle_1$8(\u001b[32mcmd19.sc\u001b[39m:\u001b[32m12\u001b[39m)\n  scala.runtime.java8.JFunction1$mcZI$sp.apply(\u001b[32mJFunction1$mcZI$sp.scala\u001b[39m:\u001b[32m17\u001b[39m)\n  ammonite.$sess.cmd16$Helper$DFSSearcher$Continuation.doit(\u001b[32mcmd16.sc\u001b[39m:\u001b[32m19\u001b[39m)\n  ammonite.$sess.cmd16$Helper$DFSSearcher.assert_sol(\u001b[32mcmd16.sc\u001b[39m:\u001b[32m55\u001b[39m)\n  ammonite.$sess.cmd19$Helper.$anonfun$solve_puzzle_1$8(\u001b[32mcmd19.sc\u001b[39m:\u001b[32m12\u001b[39m)\n  scala.runtime.java8.JFunction1$mcZI$sp.apply(\u001b[32mJFunction1$mcZI$sp.scala\u001b[39m:\u001b[32m17\u001b[39m)\n  ammonite.$sess.cmd16$Helper$DFSSearcher$Continuation.doit(\u001b[32mcmd16.sc\u001b[39m:\u001b[32m19\u001b[39m)\n  ammonite.$sess.cmd16$Helper$DFSSearcher.choose(\u001b[32mcmd16.sc\u001b[39m:\u001b[32m37\u001b[39m)\n  ammonite.$sess.cmd19$Helper.$anonfun$solve_puzzle_1$7(\u001b[32mcmd19.sc\u001b[39m:\u001b[32m11\u001b[39m)\n  scala.runtime.java8.JFunction1$mcZI$sp.apply(\u001b[32mJFunction1$mcZI$sp.scala\u001b[39m:\u001b[32m17\u001b[39m)\n  ammonite.$sess.cmd16$Helper$DFSSearcher$Continuation.doit(\u001b[32mcmd16.sc\u001b[39m:\u001b[32m19\u001b[39m)\n  ammonite.$sess.cmd16$Helper$DFSSearcher.assert_sol(\u001b[32mcmd16.sc\u001b[39m:\u001b[32m55\u001b[39m)\n  ammonite.$sess.cmd19$Helper.$anonfun$solve_puzzle_1$8(\u001b[32mcmd19.sc\u001b[39m:\u001b[32m12\u001b[39m)\n  scala.runtime.java8.JFunction1$mcZI$sp.apply(\u001b[32mJFunction1$mcZI$sp.scala\u001b[39m:\u001b[32m17\u001b[39m)\n  ammonite.$sess.cmd16$Helper$DFSSearcher$Continuation.doit(\u001b[32mcmd16.sc\u001b[39m:\u001b[32m19\u001b[39m)\n  ammonite.$sess.cmd16$Helper$DFSSearcher.assert_sol(\u001b[32mcmd16.sc\u001b[39m:\u001b[32m55\u001b[39m)\n  ammonite.$sess.cmd19$Helper.$anonfun$solve_puzzle_1$8(\u001b[32mcmd19.sc\u001b[39m:\u001b[32m12\u001b[39m)\n  scala.runtime.java8.JFunction1$mcZI$sp.apply(\u001b[32mJFunction1$mcZI$sp.scala\u001b[39m:\u001b[32m17\u001b[39m)\n  ammonite.$sess.cmd16$Helper$DFSSearcher$Continuation.doit(\u001b[32mcmd16.sc\u001b[39m:\u001b[32m19\u001b[39m)\n  ammonite.$sess.cmd16$Helper$DFSSearcher.assert_sol(\u001b[32mcmd16.sc\u001b[39m:\u001b[32m55\u001b[39m)\n  ammonite.$sess.cmd19$Helper.$anonfun$solve_puzzle_1$8(\u001b[32mcmd19.sc\u001b[39m:\u001b[32m12\u001b[39m)\n  scala.runtime.java8.JFunction1$mcZI$sp.apply(\u001b[32mJFunction1$mcZI$sp.scala\u001b[39m:\u001b[32m17\u001b[39m)\n  ammonite.$sess.cmd16$Helper$DFSSearcher$Continuation.doit(\u001b[32mcmd16.sc\u001b[39m:\u001b[32m19\u001b[39m)\n  ammonite.$sess.cmd16$Helper$DFSSearcher.assert_sol(\u001b[32mcmd16.sc\u001b[39m:\u001b[32m55\u001b[39m)\n  ammonite.$sess.cmd19$Helper.$anonfun$solve_puzzle_1$8(\u001b[32mcmd19.sc\u001b[39m:\u001b[32m12\u001b[39m)\n  scala.runtime.java8.JFunction1$mcZI$sp.apply(\u001b[32mJFunction1$mcZI$sp.scala\u001b[39m:\u001b[32m17\u001b[39m)\n  ammonite.$sess.cmd16$Helper$DFSSearcher$Continuation.doit(\u001b[32mcmd16.sc\u001b[39m:\u001b[32m19\u001b[39m)\n  ammonite.$sess.cmd16$Helper$DFSSearcher.assert_sol(\u001b[32mcmd16.sc\u001b[39m:\u001b[32m55\u001b[39m)\n  ammonite.$sess.cmd19$Helper.$anonfun$solve_puzzle_1$8(\u001b[32mcmd19.sc\u001b[39m:\u001b[32m12\u001b[39m)\n  scala.runtime.java8.JFunction1$mcZI$sp.apply(\u001b[32mJFunction1$mcZI$sp.scala\u001b[39m:\u001b[32m17\u001b[39m)\n  ammonite.$sess.cmd16$Helper$DFSSearcher$Continuation.doit(\u001b[32mcmd16.sc\u001b[39m:\u001b[32m19\u001b[39m)\n  ammonite.$sess.cmd16$Helper$DFSSearcher.assert_sol(\u001b[32mcmd16.sc\u001b[39m:\u001b[32m55\u001b[39m)\n  ammonite.$sess.cmd19$Helper.$anonfun$solve_puzzle_1$8(\u001b[32mcmd19.sc\u001b[39m:\u001b[32m12\u001b[39m)\n  scala.runtime.java8.JFunction1$mcZI$sp.apply(\u001b[32mJFunction1$mcZI$sp.scala\u001b[39m:\u001b[32m17\u001b[39m)\n  ammonite.$sess.cmd16$Helper$DFSSearcher$Continuation.doit(\u001b[32mcmd16.sc\u001b[39m:\u001b[32m19\u001b[39m)\n  ammonite.$sess.cmd16$Helper$DFSSearcher.assert_sol(\u001b[32mcmd16.sc\u001b[39m:\u001b[32m55\u001b[39m)\n  ammonite.$sess.cmd19$Helper.$anonfun$solve_puzzle_1$8(\u001b[32mcmd19.sc\u001b[39m:\u001b[32m12\u001b[39m)\n  scala.runtime.java8.JFunction1$mcZI$sp.apply(\u001b[32mJFunction1$mcZI$sp.scala\u001b[39m:\u001b[32m17\u001b[39m)"
     ]
    }
   ],
   "source": [
    "/*-- Let's try the larger puzzle --*/\n",
    "\n",
    "def solve_puzzle_1() = {\n",
    "    val lst = List(0,1,2,3,4,5,6,7,8,9)\n",
    "    val d = new DFSSearcher[Int]()\n",
    "    d.choose(\"s\", lst, s => {\n",
    "            d.choose(\"e\", lst, e => {\n",
    "                d.choose(\"n\", lst, n => {\n",
    "                    d.choose(\"d\", lst, d1 => {\n",
    "                        d.choose(\"m\", lst, m => {\n",
    "                        d.choose(\"o\", lst, o => {\n",
    "                            d.choose(\"r\", lst, r => {\n",
    "                                 d.choose(\"y\", lst, y => {\n",
    "                                    d.assert_sol(m >= 1 && d1 + n*10 + e*100 + s*1000+ e + 10 * r + 100 * o + 1000 * m == y + 10*e + 100 * n + 1000 * o + 10000*m)\n",
    "                                    })\n",
    "                            })\n",
    "                        })\n",
    "                    })\n",
    "                })\n",
    "            })\n",
    "        })\n",
    "    })\n",
    "}\n",
    "\n",
    "solve_puzzle_1()"
   ]
  },
  {
   "cell_type": "markdown",
   "id": "1e293b80",
   "metadata": {},
   "source": [
    "Unfortunately, Scala's weaknesses with tail call optimization now bite us in the back. Instead of solving the problem, we have made it worse. No fear: let's trampoline our work. "
   ]
  },
  {
   "cell_type": "code",
   "execution_count": 21,
   "id": "92300b24",
   "metadata": {
    "ExecuteTime": {
     "end_time": "2023-04-06T03:15:11.900458Z",
     "start_time": "2023-04-06T03:15:11.545Z"
    }
   },
   "outputs": [
    {
     "data": {
      "text/plain": [
       "defined \u001b[32mtrait\u001b[39m \u001b[36mTrampoline\u001b[39m\n",
       "defined \u001b[32mclass\u001b[39m \u001b[36mDone\u001b[39m\n",
       "defined \u001b[32mclass\u001b[39m \u001b[36mMore\u001b[39m"
      ]
     },
     "execution_count": 21,
     "metadata": {},
     "output_type": "execute_result"
    }
   ],
   "source": [
    "sealed trait Trampoline[A]\n",
    "case class Done[A](value: A) extends Trampoline[A]\n",
    "case class More[A](call: () => Trampoline[A]) extends Trampoline[A]"
   ]
  },
  {
   "cell_type": "code",
   "execution_count": 22,
   "id": "eb321eff",
   "metadata": {
    "ExecuteTime": {
     "end_time": "2023-04-06T03:15:12.858516Z",
     "start_time": "2023-04-06T03:15:12.580Z"
    }
   },
   "outputs": [
    {
     "data": {
      "text/plain": [
       "\u001b[32mimport \u001b[39m\u001b[36mscala.annotation.tailrec \n",
       "\n",
       "\u001b[39m\n",
       "defined \u001b[32mfunction\u001b[39m \u001b[36mrun\u001b[39m"
      ]
     },
     "execution_count": 22,
     "metadata": {},
     "output_type": "execute_result"
    }
   ],
   "source": [
    "import scala.annotation.tailrec \n",
    "\n",
    "@tailrec\n",
    "def run[A](t: Trampoline[A]):A = t match {\n",
    "    case More(f) => {\n",
    "        val t1 = f()\n",
    "        run(t1)\n",
    "    }\n",
    "    case Done(r) => r\n",
    "}"
   ]
  },
  {
   "cell_type": "code",
   "execution_count": 23,
   "id": "997de00d",
   "metadata": {
    "ExecuteTime": {
     "end_time": "2023-04-06T03:15:14.407351Z",
     "start_time": "2023-04-06T03:15:14.103Z"
    }
   },
   "outputs": [
    {
     "data": {
      "text/plain": [
       "defined \u001b[32mclass\u001b[39m \u001b[36mDFSSearcherTramp\u001b[39m"
      ]
     },
     "execution_count": 23,
     "metadata": {},
     "output_type": "execute_result"
    }
   ],
   "source": [
    "/*-- This is very similar to the original DFSSearcher class but now we will \n",
    "     define it as a trampoline --*/\n",
    "\n",
    "class DFSSearcherTramp[T] {\n",
    "    var continuations: List[Continuation] = Nil\n",
    "    var cur_path: List[(String,T)] = Nil\n",
    "\n",
    "    class Continuation(val label: String, val opt: T, val kont: T => Trampoline[Boolean]){\n",
    "        val my_path = cur_path\n",
    "        def doit: Trampoline[Boolean] = {\n",
    "            cur_path = (label, opt)::my_path\n",
    "            More( () => kont(opt) )\n",
    "        }\n",
    "    }\n",
    " \n",
    "    def choose(label: String, options: List[T], k: T => Trampoline[Boolean]): Trampoline[Boolean] = {\n",
    "        assert (options.length >= 1)\n",
    "        for (t <- options) {\n",
    "            continuations = (new Continuation(label, t, k)) :: continuations\n",
    "        }\n",
    "        val fst = continuations.head\n",
    "        continuations = continuations.tail\n",
    "        fst.doit\n",
    "    }\n",
    "  \n",
    "    def assert_sol(b: Boolean): Trampoline[Boolean] = {\n",
    "        if (b) {\n",
    "            println(\"Found Solution\")\n",
    "            println(\"---------------\")\n",
    "            cur_path.foreach {\n",
    "                case (label, t) => println(s\"\\t %s --> %s\".format(label, t.toString))\n",
    "            }\n",
    "            println(\"---------------\");\n",
    "            Done(true)\n",
    "        } else {\n",
    "            if (continuations.length >= 1){\n",
    "                val c: Continuation = continuations.head \n",
    "                continuations = continuations.tail \n",
    "                c.doit\n",
    "            } else {\n",
    "                println(\"All options exhausted. No solution found\");\n",
    "                Done(false)\n",
    "            }\n",
    "        }\n",
    "    }\n",
    "\n",
    "}"
   ]
  },
  {
   "cell_type": "code",
   "execution_count": 24,
   "id": "aad7c564",
   "metadata": {
    "ExecuteTime": {
     "end_time": "2023-04-06T03:15:18.045378Z",
     "start_time": "2023-04-06T03:15:17.713Z"
    }
   },
   "outputs": [
    {
     "name": "stdout",
     "output_type": "stream",
     "text": [
      "Found Solution\n",
      "---------------\n",
      "\t y --> 9\n",
      "\t r --> 0\n",
      "\t o --> 0\n",
      "\t m --> 1\n",
      "\t d --> 0\n",
      "\t n --> 9\n",
      "\t e --> 9\n",
      "\t s --> 9\n",
      "---------------\n"
     ]
    },
    {
     "data": {
      "text/plain": [
       "defined \u001b[32mfunction\u001b[39m \u001b[36msolve_puzzle_2\u001b[39m\n",
       "\u001b[36mres23_1\u001b[39m: \u001b[32mBoolean\u001b[39m = true"
      ]
     },
     "execution_count": 24,
     "metadata": {},
     "output_type": "execute_result"
    }
   ],
   "source": [
    "def solve_puzzle_2() = {\n",
    "    val lst = List(0,1,2,3,4,5,6,7,8,9)\n",
    "    val d = new DFSSearcherTramp[Int]()\n",
    "    val prob = d.choose(\"s\", lst.tail, s => {\n",
    "                    d.choose(\"e\", lst, e => {\n",
    "                        d.choose(\"n\", lst, n => {\n",
    "                            d.choose(\"d\", lst, d1 => {\n",
    "                                d.choose(\"m\", lst.tail, m => {\n",
    "                                    d.choose(\"o\", lst, o => {\n",
    "                                        d.choose(\"r\", lst, r => {     \n",
    "                                            d.choose(\"y\", lst, y => {\n",
    "                                                d.assert_sol(s != 0 && m != 0 && d1 + n* 10 + e * 100 + s *1000 +  e + 10 * r + 100 * o + 1000 * m == y + 10*e + 100 * n + 1000 * o + 10000*m)\n",
    "                                        })\n",
    "                                    })\n",
    "                                })\n",
    "                            })\n",
    "                        })\n",
    "                })\n",
    "        })\n",
    "    })\n",
    "    run(prob)\n",
    "}\n",
    "\n",
    "solve_puzzle_2()"
   ]
  },
  {
   "cell_type": "markdown",
   "id": "87364c05",
   "metadata": {},
   "source": [
    "Success!! Plus the code executed blindingly fast. Notice how it took less than 400 milli-seconds. The recursive search we wrote at the beginning required nearly 16 seconds ~~ 40x slower."
   ]
  },
  {
   "cell_type": "code",
   "execution_count": 25,
   "id": "082b6c7b",
   "metadata": {
    "ExecuteTime": {
     "end_time": "2023-04-06T03:15:43.651410Z",
     "start_time": "2023-04-06T03:15:43.392Z"
    }
   },
   "outputs": [
    {
     "data": {
      "text/plain": [
       "defined \u001b[32mclass\u001b[39m \u001b[36mBasicSearcher\u001b[39m"
      ]
     },
     "execution_count": 25,
     "metadata": {},
     "output_type": "execute_result"
    }
   ],
   "source": [
    "abstract class BasicSearcher[T] {\n",
    "    var continuations: List[Continuation] = Nil\n",
    "    var cur_path: List[(String,T)] = Nil\n",
    "    class Continuation(val label: String, val opt: T, val kont: T => Trampoline[Boolean]){\n",
    "        val my_path: List[(String, T)] = cur_path // This is initialized at construction time. \n",
    "        def doit: Trampoline[Boolean] = {\n",
    "            cur_path = (label, opt)::my_path\n",
    "            More( () => kont(opt) )\n",
    "        }\n",
    "    }\n",
    " \n",
    "    def choose(label: String, options: List[T], k: T => Trampoline[Boolean]): Trampoline[Boolean]\n",
    "    def assert_sol(b: Boolean): Trampoline[Boolean]\n",
    "}"
   ]
  },
  {
   "cell_type": "code",
   "execution_count": 26,
   "id": "8f5feffa",
   "metadata": {
    "ExecuteTime": {
     "end_time": "2023-04-06T03:15:45.103871Z",
     "start_time": "2023-04-06T03:15:44.840Z"
    }
   },
   "outputs": [
    {
     "data": {
      "text/plain": [
       "defined \u001b[32mclass\u001b[39m \u001b[36mBFSSearcher\u001b[39m"
      ]
     },
     "execution_count": 26,
     "metadata": {},
     "output_type": "execute_result"
    }
   ],
   "source": [
    "class BFSSearcher[T] extends BasicSearcher[T] {\n",
    "    def choose(label: String, options: List[T], k: T => Trampoline[Boolean]): Trampoline[Boolean] = {\n",
    "        assert (options.length >= 1)\n",
    "        val new_continuations = options.map(t => new Continuation(label, t, k))\n",
    "        continuations = continuations ++ new_continuations // Append to the very end\n",
    "        continuations.head.doit\n",
    "    }\n",
    "    \n",
    "     def assert_sol(b: Boolean): Trampoline[Boolean] = {\n",
    "        if (b) {\n",
    "            println(\"Found Solution\")\n",
    "            println(\"---------------\")\n",
    "            cur_path.foreach {\n",
    "                case (label, t) => println(s\"\\t %s --> %s\".format(label, t.toString))\n",
    "            }\n",
    "            println(\"---------------\");\n",
    "            Done(true)\n",
    "        } else {\n",
    "            if (continuations.length >= 1){\n",
    "                val c: Continuation = continuations.head \n",
    "                continuations = continuations.tail \n",
    "                c.doit\n",
    "            } else {\n",
    "                println(\"All options exhausted. No solution found\");\n",
    "                Done(false)\n",
    "            }\n",
    "        }\n",
    "    }\n",
    "    \n",
    "}"
   ]
  },
  {
   "cell_type": "markdown",
   "id": "c68032d4",
   "metadata": {},
   "source": [
    "Warning: BFS will be quite expensive in terms of memory and in terms of time as well for a problem like this. \n",
    "The code below will take a while to run. "
   ]
  },
  {
   "cell_type": "code",
   "execution_count": 26,
   "id": "4794e6f8",
   "metadata": {
    "ExecuteTime": {
     "end_time": "2023-04-06T03:15:48.549296Z",
     "start_time": "2023-04-06T03:15:48.373Z"
    }
   },
   "outputs": [],
   "source": [
    "/* def solve_puzzle_3() = {\n",
    "    val lst = List(0,1,2,3,4,5,6,7,8,9)\n",
    "    val bfs = new BFSSearcher[Int]()\n",
    "    val prob = bfs.choose(\"s\", lst.tail, s => {\n",
    "                    bfs.choose(\"e\", lst, e => {\n",
    "                        bfs.choose(\"n\", lst, n => {\n",
    "                            bfs.choose(\"d\", lst, d1 => {\n",
    "                                bfs.choose(\"m\", lst.tail, m => {\n",
    "                                    bfs.choose(\"o\", lst, o => {\n",
    "                                        bfs.choose(\"r\", lst, r => {     \n",
    "                                            bfs.choose(\"y\", lst, y => {\n",
    "                                                bfs.assert_sol(s != 0 && m != 0 && d1 + n* 10 + e * 100 + s *1000 +  e + 10 * r + 100 * o + 1000 * m == y + 10*e + 100 * n + 1000 * o + 10000*m)\n",
    "                                        })\n",
    "                                    })\n",
    "                                })\n",
    "                            })\n",
    "                        })\n",
    "                })\n",
    "        })\n",
    "    })\n",
    "    run(prob)\n",
    "}\n",
    "\n",
    "solve_puzzle_3()\n",
    "*/"
   ]
  },
  {
   "cell_type": "markdown",
   "id": "4260226b",
   "metadata": {},
   "source": [
    "We can implement a randomized DFS that traverses the options in a randomized manner by shuffling. "
   ]
  },
  {
   "cell_type": "code",
   "execution_count": 27,
   "id": "78da935a",
   "metadata": {
    "ExecuteTime": {
     "end_time": "2023-04-06T03:15:53.454987Z",
     "start_time": "2023-04-06T03:15:53.125Z"
    }
   },
   "outputs": [
    {
     "data": {
      "text/plain": [
       "\u001b[32mimport \u001b[39m\u001b[36mscala.util.Random.shuffle \n",
       "\n",
       "\u001b[39m\n",
       "defined \u001b[32mclass\u001b[39m \u001b[36mRandomizedDFSSearcher\u001b[39m"
      ]
     },
     "execution_count": 27,
     "metadata": {},
     "output_type": "execute_result"
    }
   ],
   "source": [
    "import scala.util.Random.shuffle \n",
    "\n",
    "class RandomizedDFSSearcher[T] extends BasicSearcher[T] {\n",
    "    \n",
    "    def choose(label: String, options: List[T], k: T => Trampoline[Boolean]): Trampoline[Boolean] = {\n",
    "        assert (options.length >= 1)\n",
    "        val new_continuations = options.map(t => new Continuation(label, t, k))\n",
    "        /*-- Shuffle the continuations in a random order --*/\n",
    "        continuations =  scala.util.Random.shuffle(new_continuations) ++ continuations\n",
    "        continuations.head.doit\n",
    "    }\n",
    "    \n",
    "     def assert_sol(b: Boolean): Trampoline[Boolean] = {\n",
    "        if (b) {\n",
    "            println(\"Found Solution\")\n",
    "            println(\"---------------\")\n",
    "            cur_path.foreach {\n",
    "                case (label, t) => println(s\"\\t %s --> %s\".format(label, t.toString))\n",
    "            }\n",
    "            println(\"---------------\");\n",
    "            Done(true)\n",
    "        } else {\n",
    "            if (continuations.length >= 1){\n",
    "                val c: Continuation = continuations.head \n",
    "                continuations = continuations.tail \n",
    "                c.doit\n",
    "            } else {\n",
    "                println(\"All options exhausted. No solution found\");\n",
    "                Done(false)\n",
    "            }\n",
    "        }\n",
    "    }\n",
    "    \n",
    "}"
   ]
  },
  {
   "cell_type": "code",
   "execution_count": 28,
   "id": "391be37c",
   "metadata": {
    "ExecuteTime": {
     "end_time": "2023-04-06T03:16:10.584631Z",
     "start_time": "2023-04-06T03:15:54.158Z"
    }
   },
   "outputs": [
    {
     "name": "stdout",
     "output_type": "stream",
     "text": [
      "Found Solution\n",
      "---------------\n",
      "\t y --> 6\n",
      "\t r --> 0\n",
      "\t o --> 0\n",
      "\t m --> 1\n",
      "\t d --> 3\n",
      "\t n --> 3\n",
      "\t e --> 3\n",
      "\t s --> 9\n",
      "---------------\n"
     ]
    },
    {
     "data": {
      "text/plain": [
       "defined \u001b[32mfunction\u001b[39m \u001b[36msolve_puzzle_4\u001b[39m\n",
       "\u001b[36mres27_1\u001b[39m: \u001b[32mBoolean\u001b[39m = true"
      ]
     },
     "execution_count": 28,
     "metadata": {},
     "output_type": "execute_result"
    }
   ],
   "source": [
    "def solve_puzzle_4() = {\n",
    "    val lst = List(0,1,2,3,4,5,6,7,8,9)\n",
    "    val d = new RandomizedDFSSearcher[Int]()\n",
    "    val prob = d.choose(\"s\", lst.tail, s => {\n",
    "                    d.choose(\"e\", lst, e => {\n",
    "                        d.choose(\"n\", lst, n => {\n",
    "                            d.choose(\"d\", lst, d1 => {\n",
    "                                d.choose(\"m\", lst.tail, m => {\n",
    "                                    d.choose(\"o\", lst, o => {\n",
    "                                        d.choose(\"r\", lst, r => {     \n",
    "                                            d.choose(\"y\", lst, y => {\n",
    "                                                d.assert_sol(s != 0 && m != 0 && d1 + n* 10 + e * 100 + s *1000 +  e + 10 * r + 100 * o + 1000 * m == y + 10*e + 100 * n + 1000 * o + 10000*m)\n",
    "                                        })\n",
    "                                    })\n",
    "                                })\n",
    "                            })\n",
    "                        })\n",
    "                })\n",
    "        })\n",
    "    })\n",
    "    run(prob)\n",
    "}\n",
    "\n",
    "solve_puzzle_4()"
   ]
  },
  {
   "cell_type": "markdown",
   "id": "1d5ecc4d",
   "metadata": {},
   "source": [
    "We can program more sophisticated search using this approach. Let's build a Boolean SAT solver.\n",
    "\n",
    "### Example\n",
    "\n",
    "We have a boolean formula such as \n",
    "\n",
    "$$ (p \\& q \\& !r) | ( p \\& (!q | !r) \\& !s) | (!p \\& (!s | q) ) $$\n",
    "\n",
    "Find truth values for the propositions $p, q, r, s$ that makes the formula above true or conclude that the formula is unsatisfiable. \n",
    "\n",
    "Let's begin by defining Boolean formulas."
   ]
  },
  {
   "cell_type": "code",
   "execution_count": 29,
   "id": "5bcab3cd",
   "metadata": {
    "ExecuteTime": {
     "end_time": "2023-04-06T03:17:31.095818Z",
     "start_time": "2023-04-06T03:17:30.745Z"
    }
   },
   "outputs": [
    {
     "data": {
      "text/plain": [
       "defined \u001b[32mtrait\u001b[39m \u001b[36mFormula\u001b[39m\n",
       "defined \u001b[32mobject\u001b[39m \u001b[36mTrue\u001b[39m\n",
       "defined \u001b[32mobject\u001b[39m \u001b[36mFalse\u001b[39m\n",
       "defined \u001b[32mclass\u001b[39m \u001b[36mVar\u001b[39m\n",
       "defined \u001b[32mclass\u001b[39m \u001b[36mAnd\u001b[39m\n",
       "defined \u001b[32mclass\u001b[39m \u001b[36mNot\u001b[39m\n",
       "defined \u001b[32mclass\u001b[39m \u001b[36mOr\u001b[39m"
      ]
     },
     "execution_count": 29,
     "metadata": {},
     "output_type": "execute_result"
    }
   ],
   "source": [
    "sealed trait Formula\n",
    "case object True extends Formula\n",
    "case object False extends Formula\n",
    "case class Var(id: String) extends Formula \n",
    "case class And(lst: List[Formula]) extends Formula\n",
    "case class Not(f: Formula) extends Formula\n",
    "case class Or (lst: List[Formula]) extends Formula \n"
   ]
  },
  {
   "cell_type": "code",
   "execution_count": 30,
   "id": "fa0bd252",
   "metadata": {
    "ExecuteTime": {
     "end_time": "2023-04-06T03:17:32.078223Z",
     "start_time": "2023-04-06T03:17:31.739Z"
    }
   },
   "outputs": [
    {
     "data": {
      "text/plain": [
       "\u001b[36mp\u001b[39m: \u001b[32mVar\u001b[39m = \u001b[33mVar\u001b[39m(\u001b[32m\"p\"\u001b[39m)\n",
       "\u001b[36mq\u001b[39m: \u001b[32mVar\u001b[39m = \u001b[33mVar\u001b[39m(\u001b[32m\"q\"\u001b[39m)\n",
       "\u001b[36mr\u001b[39m: \u001b[32mVar\u001b[39m = \u001b[33mVar\u001b[39m(\u001b[32m\"r\"\u001b[39m)\n",
       "\u001b[36ms\u001b[39m: \u001b[32mVar\u001b[39m = \u001b[33mVar\u001b[39m(\u001b[32m\"s\"\u001b[39m)\n",
       "\u001b[36mmy_formula\u001b[39m: \u001b[32mOr\u001b[39m = \u001b[33mOr\u001b[39m(\n",
       "  \u001b[33mList\u001b[39m(\n",
       "    \u001b[33mAnd\u001b[39m(\u001b[33mList\u001b[39m(\u001b[33mVar\u001b[39m(\u001b[32m\"p\"\u001b[39m), \u001b[33mVar\u001b[39m(\u001b[32m\"q\"\u001b[39m), \u001b[33mNot\u001b[39m(\u001b[33mVar\u001b[39m(\u001b[32m\"r\"\u001b[39m)))),\n",
       "    \u001b[33mAnd\u001b[39m(\u001b[33mList\u001b[39m(\u001b[33mVar\u001b[39m(\u001b[32m\"p\"\u001b[39m), \u001b[33mOr\u001b[39m(\u001b[33mList\u001b[39m(\u001b[33mNot\u001b[39m(\u001b[33mVar\u001b[39m(\u001b[32m\"q\"\u001b[39m)), \u001b[33mNot\u001b[39m(\u001b[33mVar\u001b[39m(\u001b[32m\"r\"\u001b[39m)))), \u001b[33mNot\u001b[39m(\u001b[33mVar\u001b[39m(\u001b[32m\"s\"\u001b[39m)))),\n",
       "    \u001b[33mAnd\u001b[39m(\u001b[33mList\u001b[39m(\u001b[33mNot\u001b[39m(\u001b[33mVar\u001b[39m(\u001b[32m\"p\"\u001b[39m)), \u001b[33mOr\u001b[39m(\u001b[33mList\u001b[39m(\u001b[33mNot\u001b[39m(\u001b[33mVar\u001b[39m(\u001b[32m\"s\"\u001b[39m)), \u001b[33mVar\u001b[39m(\u001b[32m\"q\"\u001b[39m)))))\n",
       "  )\n",
       ")"
      ]
     },
     "execution_count": 30,
     "metadata": {},
     "output_type": "execute_result"
    }
   ],
   "source": [
    "val (p, q, r, s) = (Var(\"p\"), Var(\"q\"), Var(\"r\"), Var(\"s\"))\n",
    "val my_formula = Or(List(\n",
    "    And(List(p, q, Not(r))),\n",
    "    And(List(p, Or( List( Not(q), Not(r))), Not(s))),\n",
    "    And(List(Not(p), Or(List(Not(s), q))))\n",
    "))\n",
    "\n"
   ]
  },
  {
   "cell_type": "markdown",
   "id": "9ba9c429",
   "metadata": {},
   "source": [
    "We will now implement a function that takes a variable `id` and substitutes it for a truth value `b`. \n",
    "This function will take an input formula and return a transformed formula. For instance, if we took the formula\n",
    "\n",
    "\n",
    "$$ (p \\& q \\& !r) | ( p \\& (!q | !r) \\& !s) | (!p \\& (!s | q) ) $$\n",
    "\n",
    "and substituted $p: true$, we will obtain after substitution and simplification:\n",
    "\n",
    "$$ (q \\& !r) |  ( (!q | !r) \\& !s) $$"
   ]
  },
  {
   "cell_type": "code",
   "execution_count": 31,
   "id": "a96b24ac",
   "metadata": {
    "ExecuteTime": {
     "end_time": "2023-04-06T03:17:33.931688Z",
     "start_time": "2023-04-06T03:17:33.657Z"
    }
   },
   "outputs": [
    {
     "data": {
      "text/plain": [
       "defined \u001b[32mfunction\u001b[39m \u001b[36msubstituteAndSimplify\u001b[39m"
      ]
     },
     "execution_count": 31,
     "metadata": {},
     "output_type": "execute_result"
    }
   ],
   "source": [
    "def substituteAndSimplify(f: Formula, id: String, b: Boolean) : Formula = f match {\n",
    "    case True => True\n",
    "    case False => False \n",
    "    case Var(s) if s == id => { if (b) { True} else {False } }\n",
    "    case Var(_) => f \n",
    "    case And(lst) => {\n",
    "        val new_lst = lst.map(substituteAndSimplify(_, id, b))\n",
    "                         .filter( _ != True)\n",
    "        if (new_lst.length == 0){\n",
    "            True\n",
    "        } else {\n",
    "            if (new_lst contains False){\n",
    "                False\n",
    "            } else {\n",
    "                if (new_lst.length == 1){\n",
    "                    new_lst.head\n",
    "                } else {\n",
    "                    And(new_lst)\n",
    "                }\n",
    "            }\n",
    "        }\n",
    "    }\n",
    "    \n",
    "    case Or(lst) => {\n",
    "        val new_lst = lst.map(substituteAndSimplify(_, id, b))\n",
    "                         . filter(_ != False)\n",
    "        if (new_lst.length == 0){\n",
    "            False\n",
    "        } else {\n",
    "            if (new_lst contains True ){\n",
    "                True\n",
    "            } else{\n",
    "                if (new_lst.length == 1){\n",
    "                    new_lst.head\n",
    "                } else {\n",
    "                    Or(new_lst)\n",
    "                }\n",
    "            }\n",
    "        }\n",
    "    }\n",
    "    \n",
    "    case Not(g) => {\n",
    "        val f1 = substituteAndSimplify(g, id, b)\n",
    "        f1 match {\n",
    "            case True => False\n",
    "            case False => True\n",
    "            case _ => Not(f1)\n",
    "        }\n",
    "    }\n",
    "}"
   ]
  },
  {
   "cell_type": "code",
   "execution_count": 32,
   "id": "8b794ed7",
   "metadata": {
    "ExecuteTime": {
     "end_time": "2023-04-06T03:17:35.921650Z",
     "start_time": "2023-04-06T03:17:35.659Z"
    }
   },
   "outputs": [
    {
     "name": "stdout",
     "output_type": "stream",
     "text": [
      "Or(List(Not(Var(s)), Var(q)))\n",
      "False\n"
     ]
    }
   ],
   "source": [
    "println(substituteAndSimplify(my_formula, \"p\", false))\n",
    "println(substituteAndSimplify(And(List(Var(\"p\"), Var(\"q\"), Not(Var(\"r\")))), \"p\", false))"
   ]
  },
  {
   "cell_type": "code",
   "execution_count": 33,
   "id": "a63f17e8",
   "metadata": {
    "ExecuteTime": {
     "end_time": "2023-04-06T03:17:38.443888Z",
     "start_time": "2023-04-06T03:17:38.202Z"
    }
   },
   "outputs": [
    {
     "data": {
      "text/plain": [
       "defined \u001b[32mfunction\u001b[39m \u001b[36msolve_sat\u001b[39m"
      ]
     },
     "execution_count": 33,
     "metadata": {},
     "output_type": "execute_result"
    }
   ],
   "source": [
    "/*-- Let's create a search for solving SAT\n",
    "    props: remaining propositional variables,\n",
    "    formula: Boolean formula.\n",
    "    --*/\n",
    "def solve_sat(d: DFSSearcherTramp[Boolean], props: List[String], formula: Formula): Trampoline[Boolean] = {\n",
    "    if (props.length == 0){\n",
    "        d.assert_sol(formula == True) // We are out of propositions. Formula better be true/false.\n",
    "    } else {\n",
    "        val x = props.head // Take the first proposaition from the list.\n",
    "        val choices = List(true, false) // Available choices are true/false\n",
    "        d.choose( x, choices, p => { // Continuation starts here\n",
    "            val new_formula = substituteAndSimplify(formula, x, p) //substitute for the proposition\n",
    "            if (new_formula == True) { // If formula simplifies to True\n",
    "                d.assert_sol(true) // we are done\n",
    "            } else if (new_formula == False){\n",
    "                d.assert_sol(false) // If it simplifies to false, we can stop this branch as well\n",
    "            } else { \n",
    "                solve_sat(d, props.tail, new_formula) // Otherwise, solve sat problem with remaining propositions and new formula\n",
    "            }\n",
    "        }) // Continuation ends here.\n",
    "    }\n",
    "}"
   ]
  },
  {
   "cell_type": "code",
   "execution_count": 34,
   "id": "e5c5be84",
   "metadata": {
    "ExecuteTime": {
     "end_time": "2023-04-06T03:17:43.891067Z",
     "start_time": "2023-04-06T03:17:43.606Z"
    }
   },
   "outputs": [
    {
     "name": "stdout",
     "output_type": "stream",
     "text": [
      "Found Solution\n",
      "---------------\n",
      "\t s --> false\n",
      "\t r --> false\n",
      "\t q --> false\n",
      "\t p --> false\n",
      "---------------\n"
     ]
    },
    {
     "data": {
      "text/plain": [
       "\u001b[36mprops\u001b[39m: \u001b[32mList\u001b[39m[\u001b[32mString\u001b[39m] = \u001b[33mList\u001b[39m(\u001b[32m\"p\"\u001b[39m, \u001b[32m\"q\"\u001b[39m, \u001b[32m\"r\"\u001b[39m, \u001b[32m\"s\"\u001b[39m)\n",
       "\u001b[36mt\u001b[39m: \u001b[32mTrampoline\u001b[39m[\u001b[32mBoolean\u001b[39m] = \u001b[33mMore\u001b[39m(\n",
       "  ammonite.$sess.cmd22$Helper$DFSSearcherTramp$Continuation$$Lambda$2253/0x000000080161d840@1c84781d\n",
       ")\n",
       "\u001b[36mres33_2\u001b[39m: \u001b[32mBoolean\u001b[39m = true"
      ]
     },
     "execution_count": 34,
     "metadata": {},
     "output_type": "execute_result"
    }
   ],
   "source": [
    "val props = List(\"p\", \"q\", \"r\", \"s\")\n",
    "val t = solve_sat(new DFSSearcherTramp[Boolean](), props, my_formula)\n",
    "run(t)"
   ]
  },
  {
   "cell_type": "code",
   "execution_count": 35,
   "id": "b2b16acf",
   "metadata": {
    "ExecuteTime": {
     "end_time": "2023-04-06T03:17:46.993081Z",
     "start_time": "2023-04-06T03:17:46.725Z"
    }
   },
   "outputs": [
    {
     "data": {
      "text/plain": [
       "\u001b[36mmy_formula2\u001b[39m: \u001b[32mAnd\u001b[39m = \u001b[33mAnd\u001b[39m(\n",
       "  \u001b[33mList\u001b[39m(\n",
       "    \u001b[33mOr\u001b[39m(\u001b[33mList\u001b[39m(\u001b[33mVar\u001b[39m(\u001b[32m\"p\"\u001b[39m), \u001b[33mVar\u001b[39m(\u001b[32m\"q\"\u001b[39m), \u001b[33mNot\u001b[39m(\u001b[33mVar\u001b[39m(\u001b[32m\"r\"\u001b[39m)))),\n",
       "    \u001b[33mOr\u001b[39m(\u001b[33mList\u001b[39m(\u001b[33mVar\u001b[39m(\u001b[32m\"p\"\u001b[39m), \u001b[33mAnd\u001b[39m(\u001b[33mList\u001b[39m(\u001b[33mNot\u001b[39m(\u001b[33mVar\u001b[39m(\u001b[32m\"q\"\u001b[39m)), \u001b[33mNot\u001b[39m(\u001b[33mVar\u001b[39m(\u001b[32m\"r\"\u001b[39m)))), \u001b[33mNot\u001b[39m(\u001b[33mVar\u001b[39m(\u001b[32m\"s\"\u001b[39m)))),\n",
       "    \u001b[33mOr\u001b[39m(\u001b[33mList\u001b[39m(\u001b[33mNot\u001b[39m(\u001b[33mVar\u001b[39m(\u001b[32m\"p\"\u001b[39m)), \u001b[33mAnd\u001b[39m(\u001b[33mList\u001b[39m(\u001b[33mNot\u001b[39m(\u001b[33mVar\u001b[39m(\u001b[32m\"s\"\u001b[39m)), \u001b[33mVar\u001b[39m(\u001b[32m\"q\"\u001b[39m)))))\n",
       "  )\n",
       ")"
      ]
     },
     "execution_count": 35,
     "metadata": {},
     "output_type": "execute_result"
    }
   ],
   "source": [
    "val my_formula2 = And(List(\n",
    "    Or(List(p, q, Not(r))),\n",
    "    Or(List(p, And( List( Not(q), Not(r))), Not(s))),\n",
    "    Or(List(Not(p), And(List(Not(s), q))))\n",
    "))"
   ]
  },
  {
   "cell_type": "code",
   "execution_count": 36,
   "id": "3a7d9e3d",
   "metadata": {
    "ExecuteTime": {
     "end_time": "2023-04-06T03:17:50.286667Z",
     "start_time": "2023-04-06T03:17:50.003Z"
    }
   },
   "outputs": [
    {
     "name": "stdout",
     "output_type": "stream",
     "text": [
      "Found Solution\n",
      "---------------\n",
      "\t r --> false\n",
      "\t q --> false\n",
      "\t p --> false\n",
      "---------------\n"
     ]
    },
    {
     "data": {
      "text/plain": [
       "\u001b[36mprops\u001b[39m: \u001b[32mList\u001b[39m[\u001b[32mString\u001b[39m] = \u001b[33mList\u001b[39m(\u001b[32m\"p\"\u001b[39m, \u001b[32m\"q\"\u001b[39m, \u001b[32m\"r\"\u001b[39m, \u001b[32m\"s\"\u001b[39m)\n",
       "\u001b[36mt\u001b[39m: \u001b[32mTrampoline\u001b[39m[\u001b[32mBoolean\u001b[39m] = \u001b[33mMore\u001b[39m(\n",
       "  ammonite.$sess.cmd22$Helper$DFSSearcherTramp$Continuation$$Lambda$2253/0x000000080161d840@c57bcc5\n",
       ")\n",
       "\u001b[36mres35_2\u001b[39m: \u001b[32mBoolean\u001b[39m = true"
      ]
     },
     "execution_count": 36,
     "metadata": {},
     "output_type": "execute_result"
    }
   ],
   "source": [
    "val props = List(\"p\", \"q\", \"r\", \"s\")\n",
    "val t = solve_sat(new DFSSearcherTramp[Boolean](), props, my_formula2)\n",
    "run(t)"
   ]
  },
  {
   "cell_type": "markdown",
   "id": "afa0efd7",
   "metadata": {},
   "source": [
    "## Coroutines\n",
    "\n",
    "Co-routines are a programming pattern that allow us to pause the execution of a program right in the middle of doing something, wait for something to happen and then resume.  They are supported (in slightly different manner) by numerous lanaguages\n",
    "\n",
    "  - [Scala Coroutines](https://scala-coroutines.github.io/coroutines/docs/0.6/101/)\n",
    "  - [Coroutines in C++](https://en.cppreference.com/w/cpp/language/coroutines)\n",
    "  - Do a google search and find out about coroutines in Kotlin and other languages.\n",
    "  \n",
    "  \n",
    "### What is a co-routine? \n",
    "\n",
    "Suppose we are writing a program with two parts: one part is performing data-acquisition (data-producer) while the other part is doing some processing (data-consumer). Let's say that data is available intermittently and the \n",
    "producer places data into a buffer as it arrives. One can use parallelism: the consumer and producer run in separate threads or processes and use shared memory to store and process the data. However, another pattern is to allow functions to suspend and resume execution.\n",
    "\n",
    "~~~\n",
    "def producer() = {\n",
    "   var num_data_produced = 0\n",
    "   while(true){\n",
    "    val v = read_data() // Get some data\n",
    "    println(\"I produced data\")\n",
    "    num_data_produced = num_data_produced + 1\n",
    "    yield(v) // This sends the value v to a different coroutine.\n",
    "   }\n",
    "}\n",
    "\n",
    "def consumer() = {\n",
    "   var data_count = 0\n",
    "   var data_sum = 0\n",
    "   while(true){ \n",
    "    val v = receive(); // Blocks until producer yields data from some other co-routine that sent it a value.\n",
    "    process_new_data(v)\n",
    "    data_count = data_count + 1\n",
    "    data_sum = data_sum + v \n",
    "   }\n",
    "}\n",
    "~~~\n",
    "\n",
    "Note here that `producer` and `consumer` are not \"normal\" functions. When the producer _yields_ a value \n",
    "_v_ to consumer, we would like the consumer to be able to _receive_ and process this value _v_. \n",
    "They should run somehow in lock-step.\n",
    "\n",
    "Also notice that we have local variables for `consumer` including `data_count` and `data_sum` that we would like\n",
    "to update. As such we cannot do this unless we have access to thread-based parallelism.  However, co-routines are a concept designed for situations like this. Scala has a coroutines library but we will show how to support it using continuations. \n",
    "\n",
    "### CoRoutine\n",
    "\n",
    "Coroutines are functions with a special name or handles such that the following actions are supported.\n",
    " - Coroutines can `yield` a value to another coroutine. For simplicity, we assume that all messages are _broadcast_ to every other coroutine. We can provide names/handles to coroutines if need be to control which coroutine receives a message. \n",
    " - Coroutines can `receive` values that are sent by another coroutine through a yield. \n",
    " \n",
    "Coroutines can support other operations such as block/resume and so on. But we will focus on how to implement a simple coroutine DSL that has support for yielding and receiving values. For simplicity, we will assume that any value has to have a special type `Message` and for now there is just one type of message."
   ]
  },
  {
   "cell_type": "code",
   "execution_count": 37,
   "id": "3d124be6",
   "metadata": {
    "ExecuteTime": {
     "end_time": "2023-04-06T03:20:05.186733Z",
     "start_time": "2023-04-06T03:20:04.922Z"
    }
   },
   "outputs": [
    {
     "data": {
      "text/plain": [
       "defined \u001b[32mtrait\u001b[39m \u001b[36mMessage\u001b[39m\n",
       "defined \u001b[32mclass\u001b[39m \u001b[36mNum\u001b[39m\n",
       "defined \u001b[32mobject\u001b[39m \u001b[36mTerminate\u001b[39m"
      ]
     },
     "execution_count": 37,
     "metadata": {},
     "output_type": "execute_result"
    }
   ],
   "source": [
    "sealed trait Message\n",
    "case class Num(d: Int) extends Message\n",
    "case object Terminate extends Message"
   ]
  },
  {
   "cell_type": "markdown",
   "id": "4fd67378",
   "metadata": {},
   "source": [
    "We will use continuations to implement co-routines. The idea is that our coroutines library will have a dispatcher which keeps track of each and every coroutine.  We will proceed by rewriting the code we wrote for producer and consumer as follows.\n",
    "\n",
    "\n",
    "~~~\n",
    "def producer() = {\n",
    "   var num_data_produced = 0\n",
    "   def producer_loop() = {\n",
    "        val v = read_data() \n",
    "        println(\"I produced data\")\n",
    "        num_data_produced = num_data_produced + 1\n",
    "        dispatch.yield_val(Num(v), producer_loop)\n",
    "    }\n",
    "    producer_loop\n",
    "}\n",
    "\n",
    "def consumer() = {\n",
    "   var data_count = 0\n",
    "   var data_sum = 0\n",
    "   def consumer_loop() = {\n",
    "       dispatch.receive( {\n",
    "           case Num(v) => {\n",
    "             process_new_data(v)\n",
    "             data_count = data_count + 1\n",
    "             data_sum = data_sum + v   \n",
    "             consumer_loop()\n",
    "           }\n",
    "       }\n",
    "   }\n",
    "   consumer_loop\n",
    "}\n",
    "~~~\n",
    "\n",
    "In particular, we write the `yield` and `receive` parts using CPS style. We also remove the loop in favor of a recursive call."
   ]
  },
  {
   "cell_type": "code",
   "execution_count": 38,
   "id": "1043ec9b",
   "metadata": {
    "ExecuteTime": {
     "end_time": "2023-04-06T03:22:33.853515Z",
     "start_time": "2023-04-06T03:22:33.589Z"
    }
   },
   "outputs": [
    {
     "data": {
      "text/plain": [
       "defined \u001b[32mclass\u001b[39m \u001b[36mDispatcher\u001b[39m"
      ]
     },
     "execution_count": 38,
     "metadata": {},
     "output_type": "execute_result"
    }
   ],
   "source": [
    "class Dispatcher {\n",
    "    \n",
    "    // Continuations that  are waiting for a message?\n",
    "    var waiting_consumers: List[Message => ()] = Nil\n",
    "    \n",
    "    // Yield a value and also take on a continuation\n",
    "    def yield_val(msg: Message, kont: () => ()) = {\n",
    "        val current_consumers = waiting_consumers // Take up all the waiting consumers\n",
    "        waiting_consumers = Nil\n",
    "        for (k <- current_consumers){\n",
    "            k(msg) // Call the continuations for each waiting consumer with the current message\n",
    "        }\n",
    "        // Done sending message to all current consumers\n",
    "        kont() // resume my own continuation.\n",
    "    }\n",
    "    \n",
    "    def receive(kont: Message => () ) = {\n",
    "        // add to the list of waiting consumers.\n",
    "        waiting_consumers = kont :: waiting_consumers\n",
    "    }\n",
    "}"
   ]
  },
  {
   "cell_type": "code",
   "execution_count": 40,
   "id": "3b1c5033",
   "metadata": {
    "ExecuteTime": {
     "end_time": "2023-04-06T03:23:58.769529Z",
     "start_time": "2023-04-06T03:23:58.319Z"
    }
   },
   "outputs": [
    {
     "name": "stdout",
     "output_type": "stream",
     "text": [
      "Producer read data -1261617271\n",
      "Consumer received data -1261617271\n",
      "Producer read data 62695230\n",
      "Consumer received data 62695230\n",
      "Producer read data -1083586563\n",
      "Consumer received data -1083586563\n",
      "Producer read data 327135605\n",
      "Consumer received data 327135605\n",
      "Producer read data 921078928\n",
      "Consumer received data 921078928\n",
      "Producer read data -314295507\n",
      "Consumer received data -314295507\n",
      "Producer read data 643966052\n",
      "Consumer received data 643966052\n",
      "Producer read data 394086693\n",
      "Consumer received data 394086693\n",
      "Producer read data -545057123\n",
      "Consumer received data -545057123\n",
      "Producer read data -663574379\n",
      "Consumer received data -663574379\n",
      "Producer read data -2051213023\n",
      "Consumer received data -2051213023\n",
      "Producer read data -695426150\n",
      "Consumer received data -695426150\n",
      "Producer read data -108438896\n",
      "Consumer received data -108438896\n",
      "Producer read data -710328312\n",
      "Consumer received data -710328312\n",
      "Producer read data 1651490200\n",
      "Consumer received data 1651490200\n",
      "Producer read data -719123972\n",
      "Consumer received data -719123972\n",
      "Producer read data -1819758893\n",
      "Consumer received data -1819758893\n",
      "Producer read data -2055205403\n",
      "Consumer received data -2055205403\n",
      "Producer read data -1754754103\n",
      "Consumer received data -1754754103\n",
      "Producer read data -2108247579\n",
      "Consumer received data -2108247579\n",
      "Producer read data 1102088402\n",
      "Consumer received data 1102088402\n",
      "Producer read data 1986307253\n",
      "Consumer received data 1986307253\n",
      "Producer read data 674254055\n",
      "Consumer received data 674254055\n",
      "Producer read data 124233835\n",
      "Consumer received data 124233835\n",
      "Producer read data -1645075030\n",
      "Consumer received data -1645075030\n",
      "Producer read data -1905219112\n",
      "Consumer received data -1905219112\n",
      "Producer read data -221273304\n",
      "Consumer received data -221273304\n",
      "Producer read data 532539741\n",
      "Consumer received data 532539741\n",
      "Producer read data -221804000\n",
      "Consumer received data -221804000\n",
      "Producer read data 420087904\n",
      "Consumer received data 420087904\n",
      "Producer read data 216906971\n",
      "Consumer received data 216906971\n",
      "Producer read data 1461397195\n",
      "Consumer received data 1461397195\n",
      "Producer read data -715780652\n",
      "Consumer received data -715780652\n",
      "Producer read data -593957316\n",
      "Consumer received data -593957316\n",
      "Producer read data 418073790\n",
      "Consumer received data 418073790\n",
      "Producer read data 1252197579\n",
      "Consumer received data 1252197579\n",
      "Producer read data 1280435637\n",
      "Consumer received data 1280435637\n",
      "Producer read data 1388181400\n",
      "Consumer received data 1388181400\n",
      "Producer read data -1742806127\n",
      "Consumer received data -1742806127\n",
      "Producer read data 1782893946\n",
      "Consumer received data 1782893946\n",
      "Producer read data -1922342473\n",
      "Consumer received data -1922342473\n",
      "Producer read data 1865755780\n",
      "Consumer received data 1865755780\n",
      "Producer read data -1802746138\n",
      "Consumer received data -1802746138\n",
      "Producer read data -683810495\n",
      "Consumer received data -683810495\n",
      "Producer read data 1650840003\n",
      "Consumer received data 1650840003\n",
      "Producer read data -449268525\n",
      "Consumer received data -449268525\n",
      "Producer read data 1740235067\n",
      "Consumer received data 1740235067\n",
      "Producer read data 2048681817\n",
      "Consumer received data 2048681817\n",
      "Producer read data 612582895\n",
      "Consumer received data 612582895\n",
      "Producer read data 1258317381\n",
      "Consumer received data 1258317381\n",
      "Producer read data -1293639862\n",
      "Consumer received data -1293639862\n",
      "Producer read data 723387024\n",
      "Consumer received data 723387024\n",
      "Producer read data -1611686417\n",
      "Consumer received data -1611686417\n",
      "Producer read data -181825304\n",
      "Consumer received data -181825304\n",
      "Producer read data 805555870\n",
      "Consumer received data 805555870\n",
      "Producer read data -1287745972\n",
      "Consumer received data -1287745972\n",
      "Producer read data 2089327562\n",
      "Consumer received data 2089327562\n",
      "Producer read data -1432048198\n",
      "Consumer received data -1432048198\n",
      "Producer read data 269734249\n",
      "Consumer received data 269734249\n",
      "Producer read data -1358485552\n",
      "Consumer received data -1358485552\n",
      "Producer read data 1426582992\n",
      "Consumer received data 1426582992\n",
      "Producer read data 192730003\n",
      "Consumer received data 192730003\n",
      "Producer read data 1798814612\n",
      "Consumer received data 1798814612\n",
      "Producer read data -1502738498\n",
      "Consumer received data -1502738498\n",
      "Producer read data -59808822\n",
      "Consumer received data -59808822\n",
      "Producer read data 2074547777\n",
      "Consumer received data 2074547777\n",
      "Producer read data 2007969048\n",
      "Consumer received data 2007969048\n",
      "Producer read data 1931210716\n",
      "Consumer received data 1931210716\n",
      "Producer read data -1830370445\n",
      "Consumer received data -1830370445\n",
      "Producer read data -985254924\n",
      "Consumer received data -985254924\n",
      "Producer read data -23134836\n",
      "Consumer received data -23134836\n",
      "Producer read data -931909350\n",
      "Consumer received data -931909350\n",
      "Producer read data -1438781401\n",
      "Consumer received data -1438781401\n",
      "Producer read data 1169241308\n",
      "Consumer received data 1169241308\n",
      "Producer read data -562000642\n",
      "Consumer received data -562000642\n",
      "Producer read data 453545427\n",
      "Consumer received data 453545427\n",
      "Producer read data 2117949914\n",
      "Consumer received data 2117949914\n",
      "Producer read data 206692624\n",
      "Consumer received data 206692624\n",
      "Producer read data 1945423365\n",
      "Consumer received data 1945423365\n",
      "Producer read data 2146597971\n",
      "Consumer received data 2146597971\n",
      "Producer read data 152692555\n",
      "Consumer received data 152692555\n",
      "Producer read data -1269157711\n",
      "Consumer received data -1269157711\n",
      "Producer read data -403350250\n",
      "Consumer received data -403350250\n",
      "Producer read data 1814007193\n",
      "Consumer received data 1814007193\n",
      "Producer read data -805253256\n",
      "Consumer received data -805253256\n",
      "Producer read data 815667791\n",
      "Consumer received data 815667791\n",
      "Producer read data -1490077418\n",
      "Consumer received data -1490077418\n",
      "Producer read data -2009662371\n",
      "Consumer received data -2009662371\n",
      "Producer read data -1442638252\n",
      "Consumer received data -1442638252\n",
      "Producer read data 500261770\n",
      "Consumer received data 500261770\n",
      "Producer read data 2130178353\n",
      "Consumer received data 2130178353\n",
      "Producer read data 1671080019\n",
      "Consumer received data 1671080019\n",
      "Producer read data 1945084086\n",
      "Consumer received data 1945084086\n",
      "Producer read data 1094670332\n",
      "Consumer received data 1094670332\n",
      "Producer read data -234398743\n",
      "Consumer received data -234398743\n",
      "Producer read data -2140798543\n",
      "Consumer received data -2140798543\n",
      "Producer read data -920251499\n",
      "Consumer received data -920251499\n",
      "Producer read data -1962112426\n",
      "Consumer received data -1962112426\n",
      "Producer read data -2027082895\n",
      "Consumer received data -2027082895\n",
      "Producer read data -1888376593\n",
      "Consumer received data -1888376593\n",
      "Producer read data 324792946\n",
      "Consumer received data 324792946\n",
      "Consumer received termination message -- stopping!\n"
     ]
    },
    {
     "data": {
      "text/plain": [
       "\u001b[32mimport \u001b[39m\u001b[36mscala.util.Random\n",
       "\n",
       "\u001b[39m\n",
       "\u001b[36mdispatch\u001b[39m: \u001b[32mDispatcher\u001b[39m = ammonite.$sess.cmd37$Helper$Dispatcher@691d635e\n",
       "\u001b[36mrand\u001b[39m: \u001b[32mRandom\u001b[39m = scala.util.Random@6ca34c08\n",
       "defined \u001b[32mfunction\u001b[39m \u001b[36mread_data\u001b[39m\n",
       "defined \u001b[32mfunction\u001b[39m \u001b[36mproducer\u001b[39m\n",
       "defined \u001b[32mfunction\u001b[39m \u001b[36mprocess_new_data\u001b[39m\n",
       "defined \u001b[32mfunction\u001b[39m \u001b[36mconsumer\u001b[39m"
      ]
     },
     "execution_count": 40,
     "metadata": {},
     "output_type": "execute_result"
    }
   ],
   "source": [
    "import scala.util.Random\n",
    "\n",
    "val dispatch = new Dispatcher()\n",
    "val rand = new Random()\n",
    "def read_data(): Int = { // simulate reading data by producing a random number\n",
    "    rand.nextInt\n",
    "}\n",
    "\n",
    "def producer() = { // This is the producer loop\n",
    "   var num_data_produced = 0\n",
    "   def producer_loop() {\n",
    "       if (num_data_produced <= 100){\n",
    "        val v = read_data() \n",
    "        println(s\"Producer read data $v\")\n",
    "        num_data_produced = num_data_produced + 1\n",
    "        dispatch.yield_val(Num(v), producer_loop)\n",
    "       } else {\n",
    "           dispatch.yield_val(Terminate, ()=> ()) // Avoid infinite loop by terminating afer 100 steps.\n",
    "       }\n",
    "    }\n",
    "    producer_loop()\n",
    "}\n",
    "\n",
    "def process_new_data(v: Int) = {\n",
    "    println(s\"Consumer received data $v\") // simulate the data processing -- here simply printing the value.\n",
    "}\n",
    "\n",
    "def consumer() = {\n",
    "   var data_count = 0\n",
    "   var data_sum = 0\n",
    "   def consumer_loop() {\n",
    "       dispatch.receive( {\n",
    "           case Num(v) => {\n",
    "             process_new_data(v)\n",
    "             data_count = data_count + 1\n",
    "             data_sum = data_sum + v   \n",
    "             consumer_loop()\n",
    "           }\n",
    "           case Terminate => {\n",
    "               println(\"Consumer received termination message -- stopping!\") // Implement the Terminate message.\n",
    "               () // Stop looping\n",
    "           }\n",
    "       })\n",
    "   }\n",
    "   consumer_loop()\n",
    "}\n",
    "                  \n",
    "// Let's start things off\n",
    "consumer()\n",
    "producer()"
   ]
  },
  {
   "cell_type": "markdown",
   "id": "cedf06f1",
   "metadata": {},
   "source": [
    "## Advanced Topic # 1: Control Operators \n",
    "\n",
    "-- moot since scala does not support them --\n"
   ]
  },
  {
   "cell_type": "markdown",
   "id": "3feabe1d",
   "metadata": {},
   "source": [
    "\n",
    "## Advanced Topic # 2: Monads\n",
    "\n",
    "Starting out we wanted to have the following syntax: \n",
    "~~~\n",
    "   val s = choose(1 to 9);\n",
    "   val e = choose(0 to 9);\n",
    "   val n = choose(0 to 9);\n",
    "   val d = choose(0 to 9);\n",
    "   val m = choose(1 to 9);\n",
    "   val o = choose(0 to 9);\n",
    "   val r = choose(0 to 9);\n",
    "   val n = choose(0 to 9);\n",
    "   val y = choose(0 to 9);\n",
    "   assert_sol( d + 10 * n + 100 * e + 1000 * s + e + 10 * r + 100 * o + 1000 * m == y + 10*e + 100 * n + 1000 * o + 10000*m) \n",
    "~~~\n",
    "\n",
    "but we had to settle for writing our code in CPS style. This is a bummmer. Can we get back to our initial idea?\n",
    "Yes, to an extent we can using the concept of a monad and Scala's inbuilt support for Monads. We will briefly cover Monads in a future lecture. They are sometimes called \"programmable semicolons \". What we will do is to rework things slightly.\n",
    "\n",
    "   "
   ]
  },
  {
   "cell_type": "code",
   "execution_count": 41,
   "id": "69aa6ed7",
   "metadata": {
    "ExecuteTime": {
     "end_time": "2023-04-06T03:26:53.191767Z",
     "start_time": "2023-04-06T03:26:52.896Z"
    }
   },
   "outputs": [
    {
     "data": {
      "text/plain": [
       "defined \u001b[32mclass\u001b[39m \u001b[36mDFSSearcherMonad\u001b[39m"
      ]
     },
     "execution_count": 41,
     "metadata": {},
     "output_type": "execute_result"
    }
   ],
   "source": [
    "class DFSSearcherMonad[T] {\n",
    "    var cur_path: List[(String,T)] = Nil\n",
    "\n",
    "    class Chooser(label: String, options: List[T]) {\n",
    "        def flatMap (k: T => Boolean): Boolean = {\n",
    "            assert (options.length >= 1)\n",
    "            val path_when_called = cur_path\n",
    "            for (t <- options) {\n",
    "                cur_path = (label, t) ::path_when_called\n",
    "                if (k(t)) {\n",
    "                    return true\n",
    "                }\n",
    "            }\n",
    "           false\n",
    "        }\n",
    "        def map(b: T => Boolean):Boolean = {\n",
    "            val path_when_called = cur_path\n",
    "            for (t <- options){\n",
    "                val bval = b(t) \n",
    "                cur_path = (label, t)::path_when_called\n",
    "                if (bval) {\n",
    "                    println(\"Found Solution\")\n",
    "                    println(\"---------------\")\n",
    "                    cur_path.foreach {\n",
    "                        case (label, t) => println(s\"\\t %s --> %s\".format(label, t.toString))\n",
    "                    }\n",
    "                    println(\"---------------\");\n",
    "                    return true\n",
    "                } \n",
    "            }\n",
    "            false\n",
    "        }\n",
    "        \n",
    "        def withFilter(p: T => Boolean): Chooser  ={\n",
    "            new Chooser(label, options.filter(p))\n",
    "        }\n",
    "    }\n",
    "    \n",
    "    def choose(label: String, options: List[T]) = new Chooser(label, options)\n",
    "    \n",
    "  \n",
    "   \n",
    "\n",
    "}"
   ]
  },
  {
   "cell_type": "code",
   "execution_count": 42,
   "id": "855f37a0",
   "metadata": {
    "ExecuteTime": {
     "end_time": "2023-04-06T03:26:54.387977Z",
     "start_time": "2023-04-06T03:26:54.092Z"
    }
   },
   "outputs": [
    {
     "name": "stdout",
     "output_type": "stream",
     "text": [
      "Found Solution\n",
      "---------------\n",
      "\t c --> 1\n",
      "\t b --> 2\n",
      "\t a --> 9\n",
      "---------------\n"
     ]
    },
    {
     "data": {
      "text/plain": [
       "\u001b[36md\u001b[39m: \u001b[32mDFSSearcherMonad\u001b[39m[\u001b[32mInt\u001b[39m] = ammonite.$sess.cmd40$Helper$DFSSearcherMonad@13133bc6\n",
       "\u001b[36mlst\u001b[39m: \u001b[32mList\u001b[39m[\u001b[32mInt\u001b[39m] = \u001b[33mList\u001b[39m(\u001b[32m1\u001b[39m, \u001b[32m2\u001b[39m, \u001b[32m3\u001b[39m, \u001b[32m4\u001b[39m, \u001b[32m5\u001b[39m, \u001b[32m6\u001b[39m, \u001b[32m7\u001b[39m, \u001b[32m8\u001b[39m, \u001b[32m9\u001b[39m)\n",
       "\u001b[36mres41_2\u001b[39m: \u001b[32mBoolean\u001b[39m = true"
      ]
     },
     "execution_count": 42,
     "metadata": {},
     "output_type": "execute_result"
    }
   ],
   "source": [
    "val d = new DFSSearcherMonad[Int]()\n",
    "val lst = (1 to 9).toList\n",
    "\n",
    "for {\n",
    "    a: Int <- d.choose(\"a\", lst)\n",
    "    b: Int <- d.choose(\"b\", lst)\n",
    "    c: Int <- d.choose(\"c\", lst)\n",
    "} yield (a + 10 * b + b + 10 * a == 100 *c + 10 *b + c)\n"
   ]
  },
  {
   "cell_type": "code",
   "execution_count": 43,
   "id": "2535afc0",
   "metadata": {
    "ExecuteTime": {
     "end_time": "2023-04-06T03:27:11.409638Z",
     "start_time": "2023-04-06T03:26:57.956Z"
    }
   },
   "outputs": [
    {
     "name": "stdout",
     "output_type": "stream",
     "text": [
      "Found Solution\n",
      "---------------\n",
      "\t y --> 0\n",
      "\t n --> 0\n",
      "\t r --> 0\n",
      "\t o --> 0\n",
      "\t m --> 1\n",
      "\t d --> 0\n",
      "\t n --> 0\n",
      "\t e --> 0\n",
      "\t s --> 9\n",
      "---------------\n"
     ]
    },
    {
     "data": {
      "text/plain": [
       "\u001b[36mdm\u001b[39m: \u001b[32mDFSSearcherMonad\u001b[39m[\u001b[32mInt\u001b[39m] = ammonite.$sess.cmd40$Helper$DFSSearcherMonad@63202fd7\n",
       "\u001b[36mlst\u001b[39m: \u001b[32mList\u001b[39m[\u001b[32mInt\u001b[39m] = \u001b[33mList\u001b[39m(\u001b[32m0\u001b[39m, \u001b[32m1\u001b[39m, \u001b[32m2\u001b[39m, \u001b[32m3\u001b[39m, \u001b[32m4\u001b[39m, \u001b[32m5\u001b[39m, \u001b[32m6\u001b[39m, \u001b[32m7\u001b[39m, \u001b[32m8\u001b[39m, \u001b[32m9\u001b[39m)\n",
       "\u001b[36mres42_2\u001b[39m: \u001b[32mBoolean\u001b[39m = true"
      ]
     },
     "execution_count": 43,
     "metadata": {},
     "output_type": "execute_result"
    }
   ],
   "source": [
    "val dm = new DFSSearcherMonad[Int]()\n",
    "val lst = (0 to 9).toList\n",
    "\n",
    "for {\n",
    "    s : Int <- dm.choose(\"s\", lst) if s != 0\n",
    "    e : Int <- dm.choose(\"e\", lst)\n",
    "    n : Int <- dm.choose(\"n\", lst)\n",
    "    d : Int <- dm.choose(\"d\", lst)\n",
    "    m : Int <- dm.choose(\"m\", lst) if m != 0\n",
    "    o : Int <- dm.choose(\"o\", lst)\n",
    "    r : Int <- dm.choose(\"r\", lst)\n",
    "    n : Int <- dm.choose(\"n\", lst)\n",
    "    y : Int <- dm.choose(\"y\", lst)\n",
    "    \n",
    "} yield d + 10 * n + 100 * e + 1000 * s + e + 10 * r + 100 * o + 1000 * m == y + 10*e + 100 * n + 1000 * o + 10000*m\n"
   ]
  },
  {
   "cell_type": "markdown",
   "id": "46ac0826",
   "metadata": {},
   "source": [
    "That's all folks!"
   ]
  }
 ],
 "metadata": {
  "kernelspec": {
   "display_name": "Scala",
   "language": "scala",
   "name": "scala"
  },
  "language_info": {
   "codemirror_mode": "text/x-scala",
   "file_extension": ".sc",
   "mimetype": "text/x-scala",
   "name": "scala",
   "nbconvert_exporter": "script",
   "version": "2.13.3"
  }
 },
 "nbformat": 4,
 "nbformat_minor": 5
}
