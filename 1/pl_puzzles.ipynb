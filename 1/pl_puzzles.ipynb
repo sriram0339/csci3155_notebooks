{
 "cells": [
  {
   "cell_type": "markdown",
   "metadata": {
    "language": "text",
    "tags": [
     "Text"
    ]
   },
   "source": [
    "# Programming Language Puzzles\n",
    "\n",
    "In this notebook, we will examine some surprising behaviors exhibited by *similar looking *programs in various programming languages. Our goal here is to demonstrate the need to understand programming languages <u>'behind the hood'</u> so to speak.\n",
    "\n",
    "__Note:__ This notebook needs to be run in a Jupyter notebook environment such as _polyglot_ that supports the languages used in the examples (e.g., Python, C, Scala). If you do not have this installed, you can run the code snippets separately in a local environment that supports the respective languages.\n",
    "\n",
    "### For-Loop Puzzle\n",
    "\n",
    "For loops are one of the fundamental programming constructs: they exist in many languages and as a programmer we are taught to think of the loop as a mechanism to execute the same code (the loop body) while the loop counter counts up. Let's start by considering a program written in the C language (you should be able to compile it and run on your own)<br>\n",
    "\n",
    "```c\n",
    "int i = -1; \n",
    "printf(\"Before Loop:  %d \\n\", i); \n",
    "for (i = 0; i < 10; ++i) {\n",
    "        printf(\"During Loop: %d \\n\", i); \n",
    " } \n",
    "printf(\"After Loop: %d \\n\", i); \n",
    "```\n",
    "\n",
    "<br>\n",
    "\n",
    "As an exercise, please let us know what the program above will print if it were compiled and run. \n",
    "\n",
    "Let us try a similar program in Python. But for some syntax variations, I hope the student would agree that the two programs  in C (above) and Python (below) are identical.\n",
    "\n",
    "\n"
   ]
  },
  {
   "cell_type": "code",
   "execution_count": null,
   "metadata": {
    "cell.metadata.exec_info": {
     "endTs": 1641748867408,
     "startTs": 1641748867199
    },
    "language": "python",
    "tags": [
     "Python3"
    ],
    "vscode": {
     "languageId": "python"
    }
   },
   "outputs": [
    {
     "name": "stdout",
     "output_type": "stream",
     "text": [
      "Before Loop: -1\n",
      "During Loop: 0\n",
      "During Loop: 1\n",
      "During Loop: 2\n",
      "During Loop: 3\n",
      "During Loop: 4\n",
      "During Loop: 5\n",
      "During Loop: 6\n",
      "During Loop: 7\n",
      "During Loop: 8\n",
      "During Loop: 9\n",
      "After loop: 9\n"
     ]
    }
   ],
   "source": [
    "i = -1 \n",
    "print(f'Before Loop: {i}')\n",
    "for i in range(0, 10):\n",
    "    print(f'During Loop: {i}')\n",
    "print(f'After loop: {i}')"
   ]
  },
  {
   "cell_type": "markdown",
   "metadata": {
    "cell.metadata.exec_info": {
     "endTs": 1641748867408,
     "startTs": 1641748867199
    },
    "language": "text",
    "tags": [
     "Text"
    ]
   },
   "source": [
    "Curiously, notice a strange difference: rather than printing 10 after the loop, the value of i remains 9. <div>Now. we write the same program in the language \"Scala\" which will be used extensively in class.</div><div><br></div>"
   ]
  },
  {
   "cell_type": "code",
   "execution_count": null,
   "metadata": {
    "cell.metadata.exec_info": {
     "endTs": 1641749479055,
     "startTs": 1641749478660
    },
    "language": "scala",
    "tags": [
     "Scala"
    ],
    "vscode": {
     "languageId": "scala"
    }
   },
   "outputs": [
    {
     "name": "stdout",
     "output_type": "stream",
     "text": [
      "Before Loop: -1\n",
      "During Loop: 0\n",
      "During Loop: 1\n",
      "During Loop: 2\n",
      "During Loop: 3\n",
      "During Loop: 4\n",
      "During Loop: 5\n",
      "During Loop: 6\n",
      "During Loop: 7\n",
      "During Loop: 8\n",
      "During Loop: 9\n",
      "After loop: -1\n"
     ]
    }
   ],
   "source": [
    "var i = -1\n",
    "println(s\"Before Loop: $i\")\n",
    "for (i <- 0 until 10){\n",
    "   println(s\"During Loop: $i\")\n",
    "}\n",
    "println(s\"After loop: $i\")"
   ]
  },
  {
   "cell_type": "markdown",
   "metadata": {
    "cell.metadata.exec_info": {
     "endTs": 1641749479055,
     "startTs": 1641749478660
    },
    "language": "text",
    "tags": [
     "Text"
    ]
   },
   "source": [
    "Something extremely strange happens above. Rather than having a value of 10 or 9 after the loop, the value of i reverts back to -1. It is almost as if all the changes to i in the loop got rolled back. \n",
    "\n",
    "## For Loop Puzzle (More Puzzling!)\n",
    "\n",
    "Let's take things a step further. \n",
    "Consider a very bad for-loop variant below in the C programming language.\n",
    "\n",
    "```c\n",
    "int i = -1;\n",
    "printf(\"Before Loop:  %d \\n\", i);     \n",
    "for (i = 0; i < 10; ++i) {              \n",
    "        printf(\"During Loop: %d \\n\", i);        \n",
    "        i = i - 1; /* This causes an infinite loop ? */    \n",
    "  }     \n",
    "  printf(\"After Loop: %d \\n\", i);    \n",
    "```\n",
    "    \n",
    "Let's try the same in python."
   ]
  },
  {
   "cell_type": "code",
   "execution_count": null,
   "metadata": {
    "cell.metadata.exec_info": {
     "endTs": 1641750203265,
     "startTs": 1641750203170
    },
    "language": "python",
    "tags": [
     "Python3"
    ],
    "vscode": {
     "languageId": "python"
    }
   },
   "outputs": [
    {
     "name": "stdout",
     "output_type": "stream",
     "text": [
      "Before Loop: -1\n",
      "During Loop: 0\n",
      "During Loop: 1\n",
      "During Loop: 2\n",
      "During Loop: 3\n",
      "During Loop: 4\n",
      "During Loop: 5\n",
      "During Loop: 6\n",
      "During Loop: 7\n",
      "During Loop: 8\n",
      "During Loop: 9\n",
      "After loop: 8\n"
     ]
    }
   ],
   "source": [
    "i = -1 \n",
    "print(f'Before Loop: {i}')\n",
    "for i in range(0, 10):\n",
    "    print(f'During Loop: {i}')\n",
    "    i = i -1 # Infinite Loop? \n",
    "print(f'After loop: {i}')"
   ]
  },
  {
   "cell_type": "markdown",
   "metadata": {
    "cell.metadata.exec_info": {
     "endTs": 1641750203265,
     "startTs": 1641750203170
    },
    "language": "text",
    "tags": [
     "Text"
    ]
   },
   "source": [
    "The loop actually finishes. It is *almost *as if the ` i = i -1 ` statement never got executed? Let's check that the statement `i = i -1` did execute."
   ]
  },
  {
   "cell_type": "code",
   "execution_count": null,
   "metadata": {
    "cell.metadata.exec_info": {
     "endTs": 1641750287282,
     "startTs": 1641750287179
    },
    "language": "python",
    "vscode": {
     "languageId": "python"
    }
   },
   "outputs": [
    {
     "name": "stdout",
     "output_type": "stream",
     "text": [
      "Before Loop: -1\n",
      "During Loop: 0\n",
      "During Loop after decrement: -1\n",
      "During Loop: 1\n",
      "During Loop after decrement: 0\n",
      "During Loop: 2\n",
      "During Loop after decrement: 1\n",
      "During Loop: 3\n",
      "During Loop after decrement: 2\n",
      "During Loop: 4\n",
      "During Loop after decrement: 3\n",
      "During Loop: 5\n",
      "During Loop after decrement: 4\n",
      "During Loop: 6\n",
      "During Loop after decrement: 5\n",
      "During Loop: 7\n",
      "During Loop after decrement: 6\n",
      "During Loop: 8\n",
      "During Loop after decrement: 7\n",
      "During Loop: 9\n",
      "During Loop after decrement: 8\n",
      "After loop: 8\n"
     ]
    }
   ],
   "source": [
    "i = -1 \n",
    "print(f'Before Loop: {i}')\n",
    "for i in range(0, 10):\n",
    "    print(f'During Loop: {i}')\n",
    "    i = i -1 # Infinite Loop? \n",
    "    print(f'During Loop after decrement: {i}')\n",
    "print(f'After loop: {i}')"
   ]
  },
  {
   "cell_type": "markdown",
   "metadata": {
    "cell.metadata.exec_info": {
     "endTs": 1641750287282,
     "startTs": 1641750287179
    },
    "language": "text",
    "tags": [
     "Text"
    ]
   },
   "source": [
    "Let's try the same in Scala."
   ]
  },
  {
   "cell_type": "code",
   "execution_count": null,
   "metadata": {
    "cell.metadata.exec_info": {
     "endTs": 1641750365449,
     "startTs": 1641750365413
    },
    "language": "scala",
    "tags": [
     "Scala"
    ],
    "vscode": {
     "languageId": "scala"
    }
   },
   "outputs": [
    {
     "ename": "SyntaxError",
     "evalue": "invalid syntax (3327743760.py, line 1)",
     "output_type": "error",
     "traceback": [
      "\u001b[0;36m  Cell \u001b[0;32mIn[1], line 1\u001b[0;36m\u001b[0m\n\u001b[0;31m    var i = -1\u001b[0m\n\u001b[0m        ^\u001b[0m\n\u001b[0;31mSyntaxError\u001b[0m\u001b[0;31m:\u001b[0m invalid syntax\n"
     ]
    }
   ],
   "source": [
    "println(s\"Before Loop: $i\")\n",
    "for (i <- 0 until 10){\n",
    "   println(s\"During Loop: $i\")\n",
    "   i = i -1 // Decrement i -- it is a `var` after all, and we can modify it.\n",
    "}\n",
    "println(s\"After loop: $i\")"
   ]
  },
  {
   "cell_type": "markdown",
   "metadata": {
    "cell.metadata.exec_info": {
     "endTs": 1641750365449,
     "startTs": 1641750365413
    },
    "language": "text",
    "tags": [
     "Text"
    ]
   },
   "source": [
    "Scala yields a strange error. It claims that `i` inside the loop is a `val` and not a `var`. A val is a constant and cannot be assigned to. However, we declared `i` to be a `var` at the very beginning of the loop.\n",
    "\n",
    "<br>\n",
    "\n",
    "## Principles of Programming Languages: Why?\n",
    "\n",
    "<div><br></div><div>The puzzle above is a nice motivation for why we need to study ``principles'' of programming languages. These principles will allow us to bring forth means of explaining the strange behavior of these programs in terms that we can understand. Let us illustrate how these principles help us make sense of the for loops in each of the three languages we have examined: C, Python and Scala.&nbsp;</div><div><br></div><div><br></div>\n"
   ]
  }
 ],
 "metadata": {
  "celltoolbar": "Tags",
  "config": {
   "dependencies": {},
   "env": {},
   "exclusions": [],
   "repositories": []
  },
  "kernelspec": {
   "display_name": ".NET (C#)",
   "language": "C#",
   "name": ".net-csharp"
  },
  "language_info": {
   "codemirror_mode": {
    "name": "ipython",
    "version": 3
   },
   "file_extension": ".py",
   "mimetype": "text/x-python",
   "name": "polyglot-notebook",
   "nbconvert_exporter": "python",
   "pygments_lexer": "ipython3",
   "version": "3.13.5"
  },
  "polyglot_notebook": {
   "kernelInfo": {
    "defaultKernelName": "csharp",
    "items": [
     {
      "aliases": [],
      "name": "csharp"
     }
    ]
   }
  }
 },
 "nbformat": 4,
 "nbformat_minor": 4
}
