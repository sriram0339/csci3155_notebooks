{
 "cells": [
  {
   "cell_type": "markdown",
   "metadata": {},
   "source": [
    "# Scopes and Environments: A Deeper Look\n",
    "\n",
    "The purpose of this chapter is to take a deeper look at how scopes and\n",
    "environment work in the Lettuce language with arithmetic expressions, boolean expressions and let bindings. The lecture will be structured as follows:\n",
    "  - We will first recall notions of scope and shadowing.\n",
    "  - Next, we will look at the environment implemented using Map data structures in the previous chapter introducing the Lettuce language with let bindings.\n",
    "  - In particular, we examine how the recursive interpreter produces the correct handling of scopes. \n",
    "  - Next, we look at alternative implementations that are more realistic choices for interpreters based on linked-lists (mimicing stack) data structure: we will call them \"scope chains\".\n",
    "  - Finally, we will examine how scope chains work with the interpreter."
   ]
  },
  {
   "cell_type": "markdown",
   "metadata": {},
   "source": [
    "## Language and Abstract Syntax\n",
    "\n",
    "Let us recall the language we will work with, which will feature a __minimal__ subset of Lettuce language with just the relevant features to illustrate the ideas here.\n",
    "\n",
    "$$\\begin{array}{rcll}\n",
    "\\mathbf{Program} & \\rightarrow & TopLevel(\\mathbf{Expr}) \\\\[5pt]\n",
    "\\mathbf{Expr} & \\rightarrow & Const(\\mathbf{Number}) \\\\\n",
    " & | & Ident(\\mathbf{Identifier}) \\\\\n",
    " & | & Plus(\\mathbf{Expr}, \\mathbf{Expr}) \\\\\n",
    " & | & Geq (\\mathbf{Expr}, \\mathbf{Expr}) \\\\\n",
    " & | & IfThenElse(\\mathbf{Expr}, \\mathbf{Expr}, \\mathbf{Expr}) & \\text{if (expr) then expr else expr} \\\\\n",
    " & | & Let( \\mathbf{Identifier}, \\mathbf{Expr}, \\mathbf{Expr}) & \\text{let identifier = expr in expr} \\\\\n",
    " \\end{array}$$\n",
    " \n",
    " The chosen fragment has constants, identifiers, a \"token\" arithmetic expression, a \"token\" comparison operator, if then else and let bindings. However, the ideas presented can easily extend to the larger set of expressions in the language that include other arithmetic operators such as multiplication, division, sine, cosine and so on; and boolean operators such as equality comparison, and, or, and not.\n",
    " \n",
    " ### Definition in Scala\n",
    " \n",
    " We translate these definitions in Scala in the \"standard\" manner."
   ]
  },
  {
   "cell_type": "code",
   "execution_count": 1,
   "metadata": {},
   "outputs": [
    {
     "data": {
      "text/plain": [
       "defined \u001b[32mtrait\u001b[39m \u001b[36mProgram\u001b[39m\n",
       "defined \u001b[32mtrait\u001b[39m \u001b[36mExpr\u001b[39m\n",
       "defined \u001b[32mclass\u001b[39m \u001b[36mTopLevel\u001b[39m\n",
       "defined \u001b[32mclass\u001b[39m \u001b[36mConst\u001b[39m\n",
       "defined \u001b[32mclass\u001b[39m \u001b[36mIdent\u001b[39m\n",
       "defined \u001b[32mclass\u001b[39m \u001b[36mPlus\u001b[39m\n",
       "defined \u001b[32mclass\u001b[39m \u001b[36mGeq\u001b[39m\n",
       "defined \u001b[32mclass\u001b[39m \u001b[36mIfThenElse\u001b[39m\n",
       "defined \u001b[32mclass\u001b[39m \u001b[36mLet\u001b[39m"
      ]
     },
     "execution_count": 1,
     "metadata": {},
     "output_type": "execute_result"
    }
   ],
   "source": [
    "sealed trait Program\n",
    "sealed trait Expr\n",
    "case class TopLevel(e: Expr) extends Program\n",
    "case class Const(f: Double) extends Expr\n",
    "case class Ident(s: String) extends Expr \n",
    "case class Plus(e1: Expr, e2: Expr) extends Expr\n",
    "case class Geq(e1: Expr, e2: Expr) extends Expr\n",
    "case class IfThenElse(cond: Expr, thenBranch: Expr, elseBranch: Expr) extends Expr\n",
    "case class Let(s: String, e1: Expr, e2: Expr) extends Expr"
   ]
  },
  {
   "cell_type": "markdown",
   "metadata": {},
   "source": [
    "## Scopes and Shadowing\n",
    "\n",
    "We started looking at the notion of scopes in the previous chapter on Lettuce. Let us recall the concepts briefly.\n",
    "\n",
    "Programs define and use identifiers (these can be constant vals or mutable vars) all over the place. The scope of a definition/declaration in a program specifies __where__ in the program that particular definition/declaration is used. \n",
    "\n",
    "We have already learned that for a let binding of the form\n",
    "\n",
    "~~~\n",
    "let identifier = expression1 in \n",
    "    expression2\n",
    "~~~\n",
    "\n",
    "The scope of `identifier` is restricted to `expression2`. I.e, `identifier` starts being \"in scope\" when we start evaluating `expression2` and goes \"out of scope\" when the evaluation of `expression2` concludes.\n",
    "\n",
    "\n",
    "### Example 1\n",
    "\n",
    "~~~\n",
    "let x = 10 in (* declaration/definition of x *)\n",
    "  let y = x + 10 in (* declaration of y *)\n",
    "     x + y - 20\n",
    "~~~\n",
    "\n",
    "Notice that in the example above, there are two declarations/definitions using let bindings, as noted in the comments. There are two usages of `x` in the program and one usage of `y`. The following two points should be clear to the reader:\n",
    "  - Which declaration/definition is being referred to by the respective usages of `x` and `y` in the code.\n",
    "  - Also, it is clear that every usage of `x` or `y` refers to a declaration that is \"in scope\" a the \"time of usage\".\n",
    "\n",
    "\n",
    "### Example 2\n",
    "\n",
    "~~~\n",
    "let x = 10 in \n",
    "   let y = ( let z = 20 in \n",
    "              x + z ) \n",
    "      in \n",
    "         x - y\n",
    "~~~\n",
    "\n",
    "There are three identifier declarations in this example.\n",
    "  - `let x = 10 in ..`\n",
    "  - `let y = (...) ` \n",
    "  - `let z = 20 in ..`\n",
    "  \n",
    "The reader should convince themselves that \n",
    "  - Each usage of `x`, `y` and `z` in the code refers to a declaration that is \"in scope\" at the \"time of usage\".\n",
    "  - It is clear which declaration a particular usage refers to.\n",
    "  \n",
    "\n",
    "### Example 3\n",
    "\n",
    "Let us modify example 2 slightly.\n",
    "\n",
    "\n",
    "~~~\n",
    "let x = 10 in \n",
    "   let y = ( let z = 20 in \n",
    "              x + z ) \n",
    "      in \n",
    "         x - y + z (* Usages of x, y and z *)\n",
    "~~~\n",
    "\n",
    "Is there an issue in this program? \n",
    "\n",
    "  - Yes, the usage of `z` at the very last line of the program is problematic. We know that `z` is not in scope for this particular usage.\n",
    "\n",
    "\n",
    "## Shadowing\n",
    "\n",
    "We will now examine the issue of \"shadowing\" wherein a declaration can override/shadow a previous declaration of an identifier with the same name that is currently in scope.\n",
    "\n",
    "### Shadowing Example 1\n",
    "\n",
    "~~~\n",
    "let x = 20 in (* Declaration 1 *) \n",
    "  let x = 40 in  (* Declaration 2*)\n",
    "    x + 30 (* Usage of x *)\n",
    "~~~\n",
    " \n",
    "Note that `x` is declared twice in two successive let bindings to 20 and 40, respectively. However, according to the semantics for let binding, we note that this program evaluates to `70`.\n",
    "\n",
    "Declaration 2 is said to __shadow__ declaration 1, and we allow this kind of shadowing in Lettuce. Here is the same code translated to scala.\n",
    " "
   ]
  },
  {
   "cell_type": "code",
   "execution_count": 2,
   "metadata": {},
   "outputs": [
    {
     "name": "stdout",
     "output_type": "stream",
     "text": [
      "(x + 30 = ,70)\n"
     ]
    },
    {
     "data": {
      "text/plain": [
       "\u001b[36mx\u001b[39m: \u001b[32mInt\u001b[39m = \u001b[32m20\u001b[39m"
      ]
     },
     "execution_count": 2,
     "metadata": {},
     "output_type": "execute_result"
    }
   ],
   "source": [
    "{ \n",
    "  val x = 20;\n",
    "     {\n",
    "         val x = 40; // This declaration shadows the previous one.\n",
    "         println(\"x + 30 = \", x+30) // Notice x is 40 here.\n",
    "     }\n",
    "}"
   ]
  },
  {
   "cell_type": "markdown",
   "metadata": {},
   "source": [
    "### Shadowing Example 2\n",
    "\n",
    "Consider the example below.\n",
    "\n",
    "~~~\n",
    "let x = 20 in (* Declaration 1 *) \n",
    "  let y = (\n",
    "         let x = 45 in  (* Declaration 2 of x *)\n",
    "            x + 20 (* Usage 1 of x *)\n",
    "          )  in  (* Declaration 2 goes out of scope here *)\n",
    "      x + y (* Usage 2 of x *)\n",
    "~~~\n",
    "\n",
    "Notice that declaration 2 of `x` shadows the previous declaration 1. \n",
    "Also, usage 2 of `x` pertains to declaration 1 since declaration 2 goes out of scope as indicated in the program. \n",
    "\n",
    "This leads to a key insight:\n",
    "\n",
    "  - Once the shadowing declaration is out of scope, we have to revert back to the previous declaration.\n",
    "\n",
    "This happens in scala as well."
   ]
  },
  {
   "cell_type": "code",
   "execution_count": 3,
   "metadata": {},
   "outputs": [
    {
     "name": "stdout",
     "output_type": "stream",
     "text": [
      "(x=,20)\n",
      "(x+ y = ,85)\n"
     ]
    },
    {
     "data": {
      "text/plain": [
       "\u001b[36mx\u001b[39m: \u001b[32mInt\u001b[39m = \u001b[32m20\u001b[39m\n",
       "\u001b[36my\u001b[39m: \u001b[32mInt\u001b[39m = \u001b[32m65\u001b[39m"
      ]
     },
     "execution_count": 3,
     "metadata": {},
     "output_type": "execute_result"
    }
   ],
   "source": [
    "{\n",
    "    val x = 20;\n",
    "    val y = {\n",
    "        val x = 45; // This declaration shadows the previous one\n",
    "        x + 20\n",
    "    } // The second declaration of x goes out of scope here.\n",
    "    println(\"x=\", x) // Note here that the previously shadowed declaration comes back in scope\n",
    "    println(\"x+ y = \", x + y) // Should print 85\n",
    "}"
   ]
  },
  {
   "cell_type": "markdown",
   "metadata": {},
   "source": [
    "## Implementing Shadowing Correctly\n",
    "\n",
    "Let us now examine the previous interpreter for Lettuce from last lecture. The key choice made there was to implement environment as a `Map[String, Value]` from names of identifiers to their values.\n",
    "\n",
    "Here is a simplified implementation for our subset of the language."
   ]
  },
  {
   "cell_type": "code",
   "execution_count": 4,
   "metadata": {},
   "outputs": [
    {
     "data": {
      "text/plain": [
       "defined \u001b[32mtrait\u001b[39m \u001b[36mValue\u001b[39m\n",
       "defined \u001b[32mclass\u001b[39m \u001b[36mBoolValue\u001b[39m\n",
       "defined \u001b[32mclass\u001b[39m \u001b[36mNumValue\u001b[39m\n",
       "defined \u001b[32mobject\u001b[39m \u001b[36mError\u001b[39m\n",
       "defined \u001b[32mtype\u001b[39m \u001b[36mEnvironment\u001b[39m"
      ]
     },
     "execution_count": 4,
     "metadata": {},
     "output_type": "execute_result"
    }
   ],
   "source": [
    "/* Values in our language can be numbers, booleans and error */\n",
    "sealed trait Value\n",
    "case class BoolValue(b: Boolean) extends Value\n",
    "case class NumValue (f: Double) extends Value\n",
    "case object Error extends Value\n",
    "\n",
    "/* An environment is a map from variable names to values */\n",
    "\n",
    "type Environment = Map[String, Value] // Map will not contain Error"
   ]
  },
  {
   "cell_type": "code",
   "execution_count": 5,
   "metadata": {},
   "outputs": [
    {
     "data": {
      "text/plain": [
       "defined \u001b[32mfunction\u001b[39m \u001b[36mevalExpr\u001b[39m"
      ]
     },
     "execution_count": 5,
     "metadata": {},
     "output_type": "execute_result"
    }
   ],
   "source": [
    "def evalExpr( e: Expr, env: Environment): Value =  e match {\n",
    "    case Const(f: Double) => { NumValue(f) }\n",
    "    case Ident(s: String) =>  { \n",
    "             if (env.contains(s)){ env(s) }\n",
    "             else {\n",
    "                 println(s\"Fatal error in evalExpr: Identifier $s is not known in current scope\")\n",
    "                 Error\n",
    "             }\n",
    "    }\n",
    "    case Plus(e1, e2) => {\n",
    "        val v1 = evalExpr(e1, env)\n",
    "        v1 match {\n",
    "            case NumValue(f1) => { /* e1 evaluates to a number */\n",
    "                val v2 = evalExpr(e2, env)\n",
    "                v2 match {\n",
    "                    // Both e1 and e2 evaluate to numbers\n",
    "                    case NumValue(f2) => NumValue(f1 + f2) // Plus happens here.\n",
    "                    case _ => Error // v2 is not a numerical value, cannot add\n",
    "                }\n",
    "            }\n",
    "            case _ => Error // v1 is not a numerical value, cannot add\n",
    "        }\n",
    "    }\n",
    "    \n",
    "    case Geq(e1, e2) => {\n",
    "        val v1 = evalExpr(e1, env)\n",
    "        v1 match {\n",
    "            case NumValue(f1) => {\n",
    "                val v2 = evalExpr(e2, env)\n",
    "                v2 match {\n",
    "                    case NumValue(f2) => BoolValue(f1 >= f2)\n",
    "                    case _ => Error\n",
    "                }\n",
    "            }\n",
    "            case _ => Error\n",
    "        }\n",
    "    }\n",
    "    \n",
    "    case IfThenElse(condExpr, thenBranch, elseBranch) => {\n",
    "        val vCond = evalExpr(condExpr, env)\n",
    "        vCond match {\n",
    "            case BoolValue(true) => evalExpr(thenBranch, env)\n",
    "            case BoolValue(false) => evalExpr(elseBranch, env)\n",
    "            case _ => Error\n",
    "        }\n",
    "    }\n",
    "    \n",
    "    case Let(ident, e1, e2) => { // let ident = e1 in e2\n",
    "        val v1 = evalExpr(e1, env)\n",
    "        v1 match {\n",
    "            case Error => Error\n",
    "            case _ => {\n",
    "                val newEnv = env + (ident -> v1)\n",
    "                // env is still unchanged\n",
    "                // newEnv \"copies\" env over and binds identifier to v1\n",
    "                evalExpr(e2, newEnv)\n",
    "            }\n",
    "        }\n",
    "    }\n",
    "}"
   ]
  },
  {
   "cell_type": "markdown",
   "metadata": {},
   "source": [
    "Did the above implementation handle scopes and shadowing correctly? Let us try some of those examples and see if the answers we obtain match with our intuition."
   ]
  },
  {
   "cell_type": "code",
   "execution_count": 6,
   "metadata": {},
   "outputs": [
    {
     "name": "stdout",
     "output_type": "stream",
     "text": [
      "Result of Eval: NumValue(50.0)"
     ]
    },
    {
     "data": {
      "text/plain": [
       "\u001b[36mx\u001b[39m: \u001b[32mIdent\u001b[39m = \u001b[33mIdent\u001b[39m(\u001b[32m\"x\"\u001b[39m)\n",
       "\u001b[36my\u001b[39m: \u001b[32mIdent\u001b[39m = \u001b[33mIdent\u001b[39m(\u001b[32m\"y\"\u001b[39m)\n",
       "\u001b[36mten\u001b[39m: \u001b[32mConst\u001b[39m = \u001b[33mConst\u001b[39m(\u001b[32m10.0\u001b[39m)\n",
       "\u001b[36mex1\u001b[39m: \u001b[32mLet\u001b[39m = \u001b[33mLet\u001b[39m(\n",
       "  \u001b[32m\"x\"\u001b[39m,\n",
       "  \u001b[33mConst\u001b[39m(\u001b[32m10.0\u001b[39m),\n",
       "  \u001b[33mLet\u001b[39m(\n",
       "    \u001b[32m\"y\"\u001b[39m,\n",
       "    \u001b[33mPlus\u001b[39m(\u001b[33mIdent\u001b[39m(\u001b[32m\"x\"\u001b[39m), \u001b[33mConst\u001b[39m(\u001b[32m10.0\u001b[39m)),\n",
       "    \u001b[33mPlus\u001b[39m(\u001b[33mPlus\u001b[39m(\u001b[33mIdent\u001b[39m(\u001b[32m\"x\"\u001b[39m), \u001b[33mIdent\u001b[39m(\u001b[32m\"y\"\u001b[39m)), \u001b[33mConst\u001b[39m(\u001b[32m20.0\u001b[39m))\n",
       "  )\n",
       ")\n",
       "\u001b[36mres\u001b[39m: \u001b[32mValue\u001b[39m = \u001b[33mNumValue\u001b[39m(\u001b[32m50.0\u001b[39m)"
      ]
     },
     "execution_count": 6,
     "metadata": {},
     "output_type": "execute_result"
    }
   ],
   "source": [
    "/* Example 1 (modified to use + instead of -)\n",
    "let x = 10 in (* declaration/definition of x *)\n",
    "  let y = x + 10 in (* declaration of y *)\n",
    "     x + y + 20\n",
    "     */\n",
    "\n",
    "val x = Ident(\"x\")\n",
    "val y = Ident(\"y\")\n",
    "val ten = Const(10.0)\n",
    "val ex1 = Let(\"x\", ten, Let(\"y\", Plus(x, ten), Plus(Plus(x,y), Const(20.0))))\n",
    "\n",
    "val res = evalExpr(ex1, Map.empty)\n",
    "print(s\"Result of Eval: $res\")\n"
   ]
  },
  {
   "cell_type": "code",
   "execution_count": 7,
   "metadata": {},
   "outputs": [
    {
     "name": "stdout",
     "output_type": "stream",
     "text": [
      "Result = NumValue(40.0)\n"
     ]
    },
    {
     "data": {
      "text/plain": [
       "\u001b[36mx\u001b[39m: \u001b[32mIdent\u001b[39m = \u001b[33mIdent\u001b[39m(\u001b[32m\"x\"\u001b[39m)\n",
       "\u001b[36my\u001b[39m: \u001b[32mIdent\u001b[39m = \u001b[33mIdent\u001b[39m(\u001b[32m\"y\"\u001b[39m)\n",
       "\u001b[36mz\u001b[39m: \u001b[32mIdent\u001b[39m = \u001b[33mIdent\u001b[39m(\u001b[32m\"z\"\u001b[39m)\n",
       "\u001b[36mten\u001b[39m: \u001b[32mConst\u001b[39m = \u001b[33mConst\u001b[39m(\u001b[32m10.0\u001b[39m)\n",
       "\u001b[36mtwenty\u001b[39m: \u001b[32mConst\u001b[39m = \u001b[33mConst\u001b[39m(\u001b[32m20.0\u001b[39m)\n",
       "\u001b[36minnerLetZ\u001b[39m: \u001b[32mLet\u001b[39m = \u001b[33mLet\u001b[39m(\u001b[32m\"z\"\u001b[39m, \u001b[33mConst\u001b[39m(\u001b[32m20.0\u001b[39m), \u001b[33mPlus\u001b[39m(\u001b[33mIdent\u001b[39m(\u001b[32m\"x\"\u001b[39m), \u001b[33mIdent\u001b[39m(\u001b[32m\"z\"\u001b[39m)))\n",
       "\u001b[36mletY\u001b[39m: \u001b[32mLet\u001b[39m = \u001b[33mLet\u001b[39m(\n",
       "  \u001b[32m\"y\"\u001b[39m,\n",
       "  \u001b[33mLet\u001b[39m(\u001b[32m\"z\"\u001b[39m, \u001b[33mConst\u001b[39m(\u001b[32m20.0\u001b[39m), \u001b[33mPlus\u001b[39m(\u001b[33mIdent\u001b[39m(\u001b[32m\"x\"\u001b[39m), \u001b[33mIdent\u001b[39m(\u001b[32m\"z\"\u001b[39m))),\n",
       "  \u001b[33mPlus\u001b[39m(\u001b[33mIdent\u001b[39m(\u001b[32m\"x\"\u001b[39m), \u001b[33mIdent\u001b[39m(\u001b[32m\"y\"\u001b[39m))\n",
       ")\n",
       "\u001b[36mexample2\u001b[39m: \u001b[32mLet\u001b[39m = \u001b[33mLet\u001b[39m(\n",
       "  \u001b[32m\"x\"\u001b[39m,\n",
       "  \u001b[33mConst\u001b[39m(\u001b[32m10.0\u001b[39m),\n",
       "  \u001b[33mLet\u001b[39m(\n",
       "    \u001b[32m\"y\"\u001b[39m,\n",
       "    \u001b[33mLet\u001b[39m(\u001b[32m\"z\"\u001b[39m, \u001b[33mConst\u001b[39m(\u001b[32m20.0\u001b[39m), \u001b[33mPlus\u001b[39m(\u001b[33mIdent\u001b[39m(\u001b[32m\"x\"\u001b[39m), \u001b[33mIdent\u001b[39m(\u001b[32m\"z\"\u001b[39m))),\n",
       "    \u001b[33mPlus\u001b[39m(\u001b[33mIdent\u001b[39m(\u001b[32m\"x\"\u001b[39m), \u001b[33mIdent\u001b[39m(\u001b[32m\"y\"\u001b[39m))\n",
       "  )\n",
       ")\n",
       "\u001b[36mres2\u001b[39m: \u001b[32mValue\u001b[39m = \u001b[33mNumValue\u001b[39m(\u001b[32m40.0\u001b[39m)"
      ]
     },
     "execution_count": 7,
     "metadata": {},
     "output_type": "execute_result"
    }
   ],
   "source": [
    "/* Example 2 (modified with + instead of -)\n",
    "let x = 10 in \n",
    "   let y = ( let z = 20 in \n",
    "              x + z ) \n",
    "      in \n",
    "         x + y\n",
    "         */\n",
    "\n",
    "val x = Ident(\"x\")\n",
    "val y = Ident(\"y\")\n",
    "val z = Ident(\"z\")\n",
    "val ten = Const(10.0)\n",
    "val twenty = Const(20.0)\n",
    "\n",
    "val innerLetZ = Let(\"z\", twenty, Plus(x, z))\n",
    "val letY = Let(\"y\", innerLetZ, Plus(x, y))\n",
    "val example2 = Let(\"x\", ten, letY)\n",
    "\n",
    "val res2= evalExpr(example2, Map.empty)\n",
    "\n",
    "println(s\"Result = $res2\")"
   ]
  },
  {
   "cell_type": "code",
   "execution_count": 8,
   "metadata": {},
   "outputs": [
    {
     "name": "stdout",
     "output_type": "stream",
     "text": [
      "Fatal error in evalExpr: Identifier z is not known in current scope\n"
     ]
    },
    {
     "data": {
      "text/plain": [
       "\u001b[36mx\u001b[39m: \u001b[32mIdent\u001b[39m = \u001b[33mIdent\u001b[39m(\u001b[32m\"x\"\u001b[39m)\n",
       "\u001b[36my\u001b[39m: \u001b[32mIdent\u001b[39m = \u001b[33mIdent\u001b[39m(\u001b[32m\"y\"\u001b[39m)\n",
       "\u001b[36mz\u001b[39m: \u001b[32mIdent\u001b[39m = \u001b[33mIdent\u001b[39m(\u001b[32m\"z\"\u001b[39m)\n",
       "\u001b[36mten\u001b[39m: \u001b[32mConst\u001b[39m = \u001b[33mConst\u001b[39m(\u001b[32m10.0\u001b[39m)\n",
       "\u001b[36mtwenty\u001b[39m: \u001b[32mConst\u001b[39m = \u001b[33mConst\u001b[39m(\u001b[32m20.0\u001b[39m)\n",
       "\u001b[36minnerLetZ\u001b[39m: \u001b[32mLet\u001b[39m = \u001b[33mLet\u001b[39m(\u001b[32m\"z\"\u001b[39m, \u001b[33mConst\u001b[39m(\u001b[32m20.0\u001b[39m), \u001b[33mPlus\u001b[39m(\u001b[33mIdent\u001b[39m(\u001b[32m\"x\"\u001b[39m), \u001b[33mIdent\u001b[39m(\u001b[32m\"z\"\u001b[39m)))\n",
       "\u001b[36mletY\u001b[39m: \u001b[32mLet\u001b[39m = \u001b[33mLet\u001b[39m(\n",
       "  \u001b[32m\"y\"\u001b[39m,\n",
       "  \u001b[33mLet\u001b[39m(\u001b[32m\"z\"\u001b[39m, \u001b[33mConst\u001b[39m(\u001b[32m20.0\u001b[39m), \u001b[33mPlus\u001b[39m(\u001b[33mIdent\u001b[39m(\u001b[32m\"x\"\u001b[39m), \u001b[33mIdent\u001b[39m(\u001b[32m\"z\"\u001b[39m))),\n",
       "  \u001b[33mPlus\u001b[39m(\u001b[33mPlus\u001b[39m(\u001b[33mIdent\u001b[39m(\u001b[32m\"x\"\u001b[39m), \u001b[33mIdent\u001b[39m(\u001b[32m\"y\"\u001b[39m)), \u001b[33mIdent\u001b[39m(\u001b[32m\"z\"\u001b[39m))\n",
       ")\n",
       "\u001b[36mexample3\u001b[39m: \u001b[32mLet\u001b[39m = \u001b[33mLet\u001b[39m(\n",
       "  \u001b[32m\"x\"\u001b[39m,\n",
       "  \u001b[33mConst\u001b[39m(\u001b[32m10.0\u001b[39m),\n",
       "  \u001b[33mLet\u001b[39m(\n",
       "    \u001b[32m\"y\"\u001b[39m,\n",
       "    \u001b[33mLet\u001b[39m(\u001b[32m\"z\"\u001b[39m, \u001b[33mConst\u001b[39m(\u001b[32m20.0\u001b[39m), \u001b[33mPlus\u001b[39m(\u001b[33mIdent\u001b[39m(\u001b[32m\"x\"\u001b[39m), \u001b[33mIdent\u001b[39m(\u001b[32m\"z\"\u001b[39m))),\n",
       "    \u001b[33mPlus\u001b[39m(\u001b[33mPlus\u001b[39m(\u001b[33mIdent\u001b[39m(\u001b[32m\"x\"\u001b[39m), \u001b[33mIdent\u001b[39m(\u001b[32m\"y\"\u001b[39m)), \u001b[33mIdent\u001b[39m(\u001b[32m\"z\"\u001b[39m))\n",
       "  )\n",
       ")\n",
       "\u001b[36mres3\u001b[39m: \u001b[32mValue\u001b[39m = Error"
      ]
     },
     "execution_count": 8,
     "metadata": {},
     "output_type": "execute_result"
    }
   ],
   "source": [
    "/* \n",
    "  Example 3: modified with + instead of -\n",
    "  This will not execute correctly.\n",
    "  \n",
    "  let x = 10 in \n",
    "   let y = ( let z = 20 in \n",
    "              x + z ) (* z usage numero 1*) \n",
    "      in \n",
    "         x + y + z (* Usages of x, y and z *) */\n",
    "\n",
    "\n",
    "val x = Ident(\"x\")\n",
    "val y = Ident(\"y\")\n",
    "val z = Ident(\"z\")\n",
    "val ten = Const(10.0)\n",
    "val twenty = Const(20.0)\n",
    "\n",
    "\n",
    "val innerLetZ = Let(\"z\", twenty, Plus(x, z))\n",
    "val letY = Let(\"y\", innerLetZ, Plus(Plus(x, y),z))\n",
    "val example3 = Let(\"x\", ten, letY)\n",
    "\n",
    "val res3 = evalExpr(example3, Map.empty)"
   ]
  },
  {
   "cell_type": "code",
   "execution_count": 9,
   "metadata": {},
   "outputs": [
    {
     "name": "stdout",
     "output_type": "stream",
     "text": [
      "result = NumValue(70.0)\n"
     ]
    },
    {
     "data": {
      "text/plain": [
       "\u001b[36mx\u001b[39m: \u001b[32mIdent\u001b[39m = \u001b[33mIdent\u001b[39m(\u001b[32m\"x\"\u001b[39m)\n",
       "\u001b[36minnerLet\u001b[39m: \u001b[32mLet\u001b[39m = \u001b[33mLet\u001b[39m(\u001b[32m\"x\"\u001b[39m, \u001b[33mConst\u001b[39m(\u001b[32m40.0\u001b[39m), \u001b[33mPlus\u001b[39m(\u001b[33mIdent\u001b[39m(\u001b[32m\"x\"\u001b[39m), \u001b[33mConst\u001b[39m(\u001b[32m30.0\u001b[39m)))\n",
       "\u001b[36mshadowExample1\u001b[39m: \u001b[32mLet\u001b[39m = \u001b[33mLet\u001b[39m(\n",
       "  \u001b[32m\"x\"\u001b[39m,\n",
       "  \u001b[33mConst\u001b[39m(\u001b[32m20.0\u001b[39m),\n",
       "  \u001b[33mLet\u001b[39m(\u001b[32m\"x\"\u001b[39m, \u001b[33mConst\u001b[39m(\u001b[32m40.0\u001b[39m), \u001b[33mPlus\u001b[39m(\u001b[33mIdent\u001b[39m(\u001b[32m\"x\"\u001b[39m), \u001b[33mConst\u001b[39m(\u001b[32m30.0\u001b[39m)))\n",
       ")\n",
       "\u001b[36mresEx1\u001b[39m: \u001b[32mValue\u001b[39m = \u001b[33mNumValue\u001b[39m(\u001b[32m70.0\u001b[39m)"
      ]
     },
     "execution_count": 9,
     "metadata": {},
     "output_type": "execute_result"
    }
   ],
   "source": [
    "/* Shadowing example 1\n",
    "let x = 20 in (* Declaration 1 *) \n",
    "  let x = 40 in  (* Declaration 2*)\n",
    "    x + 30 (* Usage of x *)\n",
    "*/\n",
    "\n",
    "val x = Ident(\"x\")\n",
    "val innerLet = Let(\"x\", Const(40.0), Plus(x, Const(30.0)))\n",
    "val shadowExample1 = Let(\"x\", Const(20.0), innerLet)\n",
    "\n",
    "val resEx1 = evalExpr(shadowExample1, Map.empty)\n",
    "println(s\"result = $resEx1\")"
   ]
  },
  {
   "cell_type": "code",
   "execution_count": 10,
   "metadata": {},
   "outputs": [
    {
     "data": {
      "text/plain": [
       "\u001b[36mx\u001b[39m: \u001b[32mIdent\u001b[39m = \u001b[33mIdent\u001b[39m(\u001b[32m\"x\"\u001b[39m)\n",
       "\u001b[36my\u001b[39m: \u001b[32mIdent\u001b[39m = \u001b[33mIdent\u001b[39m(\u001b[32m\"y\"\u001b[39m)\n",
       "defined \u001b[32mfunction\u001b[39m \u001b[36mc\u001b[39m\n",
       "\u001b[36minnerLet1\u001b[39m: \u001b[32mLet\u001b[39m = \u001b[33mLet\u001b[39m(\u001b[32m\"x\"\u001b[39m, \u001b[33mConst\u001b[39m(\u001b[32m45.0\u001b[39m), \u001b[33mPlus\u001b[39m(\u001b[33mIdent\u001b[39m(\u001b[32m\"x\"\u001b[39m), \u001b[33mConst\u001b[39m(\u001b[32m20.0\u001b[39m)))\n",
       "\u001b[36mletY\u001b[39m: \u001b[32mLet\u001b[39m = \u001b[33mLet\u001b[39m(\n",
       "  \u001b[32m\"y\"\u001b[39m,\n",
       "  \u001b[33mLet\u001b[39m(\u001b[32m\"x\"\u001b[39m, \u001b[33mConst\u001b[39m(\u001b[32m45.0\u001b[39m), \u001b[33mPlus\u001b[39m(\u001b[33mIdent\u001b[39m(\u001b[32m\"x\"\u001b[39m), \u001b[33mConst\u001b[39m(\u001b[32m20.0\u001b[39m))),\n",
       "  \u001b[33mIdent\u001b[39m(\u001b[32m\"x\"\u001b[39m)\n",
       ")\n",
       "\u001b[36mshadowEx2\u001b[39m: \u001b[32mLet\u001b[39m = \u001b[33mLet\u001b[39m(\n",
       "  \u001b[32m\"x\"\u001b[39m,\n",
       "  \u001b[33mConst\u001b[39m(\u001b[32m20.0\u001b[39m),\n",
       "  \u001b[33mLet\u001b[39m(\u001b[32m\"y\"\u001b[39m, \u001b[33mLet\u001b[39m(\u001b[32m\"x\"\u001b[39m, \u001b[33mConst\u001b[39m(\u001b[32m45.0\u001b[39m), \u001b[33mPlus\u001b[39m(\u001b[33mIdent\u001b[39m(\u001b[32m\"x\"\u001b[39m), \u001b[33mConst\u001b[39m(\u001b[32m20.0\u001b[39m))), \u001b[33mIdent\u001b[39m(\u001b[32m\"x\"\u001b[39m))\n",
       ")\n",
       "\u001b[36mresEx2\u001b[39m: \u001b[32mValue\u001b[39m = \u001b[33mNumValue\u001b[39m(\u001b[32m20.0\u001b[39m)"
      ]
     },
     "execution_count": 10,
     "metadata": {},
     "output_type": "execute_result"
    }
   ],
   "source": [
    "/*  Shadowing example2 (modified)\n",
    "let x = 20 in (* Declaration 1 *) \n",
    "  let y = ( \n",
    "         let x = 45 in  (* Declaration 2 of x *)\n",
    "            x + 20 (* Usage 1 of x *)\n",
    "          )    (* Declaration 2 goes out of scope here *)\n",
    "    in \n",
    "      x  (* Usage 2 of x *)\n",
    "      */\n",
    "\n",
    "val x = Ident(\"x\")\n",
    "val y = Ident(\"y\")\n",
    "def c(f:Double)= Const(f)\n",
    "\n",
    "val innerLet1 = Let(\"x\", c(45.0), Plus(x, c(20.0)))\n",
    "val letY = Let(\"y\", innerLet1, x)\n",
    "\n",
    "val shadowEx2 = Let(\"x\", c(20.0), letY)\n",
    "\n",
    "val resEx2 = evalExpr(shadowEx2, Map.empty)"
   ]
  },
  {
   "cell_type": "markdown",
   "metadata": {},
   "source": [
    "We see in each example, the implementation of shadowing is correct. How did we manage this in our implementation?\n",
    "\n",
    "  - The answer is very subtle actually. We successfully piggybacked on the fact that Scala has a stack for handling recursive function calls. We used that stack implicitly in our implementation. To see why, let us go with the last example in detail.\n",
    "  \n",
    "\n",
    "~~~\n",
    "let x = 20 in  \n",
    "  let y = ( \n",
    "         let x = 45 in  (\n",
    "            x + 20 \n",
    "          )  in  \n",
    "      x  \n",
    "~~~\n",
    "\n",
    "Let us give names to the (abstract syntax tree) for various subexpressions here.\n",
    "  - Call the entire program as the expression `e`.\n",
    "  - Call the entire subexpression  `let y  = ( let x = 45 in x + 20) in x` as `e1`.\n",
    "  - Call the subexpression `let x = 45 in x + 20` as `e2`\n",
    "  - Call the subexpression `x + 20` as `e3`\n",
    "  - Call the subexpression `x` at the very last line of the program `e4`.\n",
    "  \n",
    "![Illustration of the execution](interpreter-eval.png)\n",
    "\n",
    "\n",
    "Let us now trace what happens when we call  `evalExpr(e, Map.empty)`. \n",
    "The figure above illustrates what happens pictorially. The reader will find it very helpful to consult the picture.\n",
    "  - First, we get a recursive call to `evalExpr(Const(20), Map.empty)` which yields the result `NumValue(20)`.\n",
    "  - Next, we get a recursive call to `evalExpr(e1, env1)` where `env1` is the enviroment $\\{x \\mapsto NumValue(20)\\}$\n",
    "    - `e1` is a let binding of the form: `let y = e2 in e4`.\n",
    "    - In turn, this calls `evalExpr(e2, env1)`.\n",
    "      - recall `e2` itself is  `let x = 45 in x + 20`.\n",
    "      - `evalExpr(Const(45), env1)` returns `NumValue(45)`.\n",
    "      - We create an environment `env2` with $\\{ x \\mapsto NumValue(45) \\}$, obtained by updating `env1` with the new binding that maps `x` to `NumValue(45)`. __This is where shadowing happens__\n",
    "      - In turn, we get `evalExpr(e3, env2)` which evaluates to `NumValue(65)`.\n",
    "    - Note that we return back to the call `evalExpr(e1, env1)` with the value `65`. The environment `env2` was created in the stack during this recursive call in scala but it no longer exists once the recursion has returned.\n",
    "    - The environment is `env3` is created by adding the binding $y \\mapsto NumValue(65)$ to `env1`. Thus, `env3` is the environment $\\{ x \\mapsto NumValue(20), y \\mapsto NumValue(65) \\}$.\n",
    "  - Finally, the expression `e4` which is simply `x` is executed under `env3`. \n",
    "\n",
    "The example illustrates how we got the notion of scoping and shadowing correct simply by writing a semantic rule and implementing it in Scala using recursion. \n",
    "\n",
    "An alternative that helps us control and understand this process better is to implement environments as a stack that is in turn realized by a linked list. This allows us to gain some efficiency since we will share various parts of the environment across recursive calls. \n",
    "\n"
   ]
  },
  {
   "cell_type": "markdown",
   "metadata": {},
   "source": [
    "## Environment as an Abstract Data Type\n",
    "\n",
    "We will first talk about environments as an \"abstract data type\" wherein the details of the implementation are not important to us but we care intimately about what operations an environment supports. This will allow us to carefully model the environment.\n",
    "\n",
    "  - The function `emptyEnvironment()` must create an empty environment for us.\n",
    "  \n",
    "  - The function `update(identifier: String, v: Value, oldEnvironment: Environment): Environment` must return a new environment that updates an existing environment by binding the identifier `identifier` to the value `v`. If the identifier is already bound in the `oldEnvironment`, it must now be bound to `v`. \n",
    "  \n",
    "  - The function `lookup(identifier: String, env: Environment): Value` must check if the identifier `identifier` is already bound in the environment `env` and return its value. If it is not bound, it must return `Error`.\n",
    "  \n",
    "With this under control, let us see how we have implemented these operations thus far."
   ]
  },
  {
   "cell_type": "code",
   "execution_count": 14,
   "metadata": {},
   "outputs": [
    {
     "data": {
      "text/plain": [
       "defined \u001b[32mtype\u001b[39m \u001b[36mEnvironment\u001b[39m\n",
       "defined \u001b[32mfunction\u001b[39m \u001b[36memptyEnvironment\u001b[39m\n",
       "defined \u001b[32mfunction\u001b[39m \u001b[36mupdate\u001b[39m\n",
       "defined \u001b[32mfunction\u001b[39m \u001b[36mlookup\u001b[39m"
      ]
     },
     "execution_count": 14,
     "metadata": {},
     "output_type": "execute_result"
    }
   ],
   "source": [
    "/*-- Here is one way to implement an environment as a map -- */\n",
    "\n",
    "\n",
    "type Environment  = Map[String, Value]\n",
    "\n",
    "def emptyEnvironment() = Map.empty\n",
    "\n",
    "def update(identifier: String, v: Value, oldEnv: Environment): Environment = {\n",
    "    oldEnv + (identifier -> v)\n",
    "}\n",
    "\n",
    "def lookup(identifier: String, env: Environment): Value = {\n",
    "    if (env.contains(identifier)){\n",
    "        env(identifier)\n",
    "    } else {\n",
    "        Error\n",
    "    }\n",
    "}\n"
   ]
  },
  {
   "cell_type": "code",
   "execution_count": 15,
   "metadata": {},
   "outputs": [
    {
     "data": {
      "text/plain": [
       "\u001b[32mimport \u001b[39m\u001b[36mscala.annotation.tailrec\n",
       "\n",
       "\u001b[39m\n",
       "defined \u001b[32mtype\u001b[39m \u001b[36mEnvironment\u001b[39m\n",
       "defined \u001b[32mfunction\u001b[39m \u001b[36memptyEnvironment\u001b[39m\n",
       "defined \u001b[32mfunction\u001b[39m \u001b[36mupdate\u001b[39m\n",
       "defined \u001b[32mfunction\u001b[39m \u001b[36mlookup\u001b[39m"
      ]
     },
     "execution_count": 15,
     "metadata": {},
     "output_type": "execute_result"
    }
   ],
   "source": [
    "/*-- Here is another way to implement it as a \"linked list\" --*/\n",
    "\n",
    "import scala.annotation.tailrec\n",
    "\n",
    "type Environment = List[(String,Value)]\n",
    "def emptyEnvironment():Environment  = Nil\n",
    "\n",
    "def update(identifier: String, v: Value, oldEnv: Environment): Environment = {\n",
    "    (identifier, v) :: oldEnv \n",
    "}\n",
    "\n",
    " @tailrec\n",
    "final def lookup(identifier: String, env: Environment): Value = env match {\n",
    "    case Nil => Error\n",
    "    case (id, v)::rest if (id == identifier) => v\n",
    "    case _::restEnv => lookup(identifier, restEnv) // Traverse list recursively to find a match\n",
    "}\n"
   ]
  },
  {
   "cell_type": "markdown",
   "metadata": {},
   "source": [
    "Note that in the linked list (alternatively stack based) implementation, an environment is implemented as a list of pairs, wherein each element of the list contains a `String` (identifier) and the `Value` that it maps to. This is similar to the map, except that whenever we wish to replace an old binding `x -> 20` with a new binding `x -> 45`, for example, we simply place `(\"x\", 45)` in the list (stack) before the pair `(\"x\", 20)`.\n",
    "By convention, the first tuple that matches \"x\" yields its current value. \n",
    "\n",
    "For instance, if we had the enviroment : \n",
    "~~~\n",
    "[ (\"x\", 45), (\"y\", 65), (\"x\", 20) ]\n",
    "~~~\n",
    "We know that it binds `x` to `45` and `y` to `65`. The advantage of this representation is that it is simple and easier to implement in a low level language where we may not have access to immutable maps as we do in scala.\n",
    "\n",
    "To complete the discussion, we will implement `evalExpr` using the interface we have defined for environments, above."
   ]
  },
  {
   "cell_type": "code",
   "execution_count": 16,
   "metadata": {},
   "outputs": [
    {
     "data": {
      "text/plain": [
       "defined \u001b[32mfunction\u001b[39m \u001b[36mevalExpr\u001b[39m"
      ]
     },
     "execution_count": 16,
     "metadata": {},
     "output_type": "execute_result"
    }
   ],
   "source": [
    "def evalExpr( e: Expr, env: Environment): Value =  e match {\n",
    "    case Const(f: Double) => { NumValue(f) }\n",
    "    case Ident(s: String) =>  { \n",
    "             lookup(s, env) // Call the lookup function\n",
    "    }\n",
    "    case Plus(e1, e2) => {\n",
    "        val v1 = evalExpr(e1, env)\n",
    "        /* Implement the short circuiting on error properly */\n",
    "        v1 match {\n",
    "            case NumValue(f1) => { /* e1 evaluates to a number */\n",
    "                val v2 = evalExpr(e2, env)\n",
    "                v2 match {\n",
    "                    // Both e1 and e2 evaluate to numbers\n",
    "                    case NumValue(f2) => NumValue(f1 + f2) // Plus happens here.\n",
    "                    case _ => Error\n",
    "                }\n",
    "            }\n",
    "            case _ => Error\n",
    "        }\n",
    "    }\n",
    "    \n",
    "    case Geq(e1, e2) => {\n",
    "        val v1 = evalExpr(e1, env)\n",
    "        v1 match {\n",
    "            case NumValue(f1) => {\n",
    "                val v2 = evalExpr(e2, env)\n",
    "                v2 match {\n",
    "                    case NumValue(f2) => BoolValue(f1 >= f2)\n",
    "                    case _ => Error\n",
    "                }\n",
    "            }\n",
    "            case _ => Error\n",
    "        }\n",
    "    }\n",
    "    \n",
    "    case IfThenElse(condExpr, thenBranch, elseBranch) => {\n",
    "        val vCond = evalExpr(condExpr, env)\n",
    "        vCond match {\n",
    "            case BoolValue(true) => evalExpr(thenBranch, env)\n",
    "            case BoolValue(false) => evalExpr(elseBranch, env)\n",
    "            case _ => Error\n",
    "        }\n",
    "    }\n",
    "    \n",
    "    case Let(ident, e1, e2) => { // let ident = e1 in e2\n",
    "        val v1 = evalExpr(e1, env)\n",
    "        v1 match {\n",
    "            case Error => Error\n",
    "            case _ => {\n",
    "                val newEnv = update(ident, v1, env) // call update function to update environment\n",
    "                // env is still unchanged\n",
    "                evalExpr(e2, newEnv)\n",
    "            }\n",
    "        }\n",
    "    }\n",
    "}"
   ]
  },
  {
   "cell_type": "markdown",
   "metadata": {},
   "source": [
    "### The Lettuce Playground\n",
    "\n",
    "For your convenience, the execution of the interpreter may be visualized using a scala implementation called _Lettuce Playground_. It is inspired by a similar implementation in Javascript done by a CSCI student Mr. Jacob Bloom.\n",
    "\n",
    "https://github.com/sriram0339/LettucePlaygroundScala\n",
    "\n",
    "The Lettuce playground tool allows you to visualize the execution of Lettuce programs along with the environments."
   ]
  }
 ],
 "metadata": {
  "kernelspec": {
   "display_name": "Scala (3.6.3)",
   "language": "scala",
   "name": "scala363"
  },
  "language_info": {
   "codemirror_mode": "text/x-scala",
   "file_extension": ".sc",
   "mimetype": "text/x-scala",
   "name": "scala",
   "nbconvert_exporter": "script",
   "version": "2.13.16"
  }
 },
 "nbformat": 4,
 "nbformat_minor": 4
}
