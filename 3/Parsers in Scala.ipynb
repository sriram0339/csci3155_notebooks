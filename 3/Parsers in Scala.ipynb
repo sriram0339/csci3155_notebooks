{
 "cells": [
  {
   "cell_type": "code",
   "execution_count": 1,
   "metadata": {},
   "outputs": [
    {
     "data": {
      "text/plain": [
       "\u001b[32mimport \u001b[39m\u001b[36m$ivy.$                                                       \u001b[39m"
      ]
     },
     "execution_count": 1,
     "metadata": {},
     "output_type": "execute_result"
    }
   ],
   "source": [
    "/* -- \n",
    "Run this preamble if you are running scala 2.13 \n",
    "Thanks to Hansol Yoon for pointing this out.\n",
    "--*/\n",
    "\n",
    "interp.repositories() ++= Seq(coursierapi.MavenRepository.of(\"https://maven.imagej.net/content/repositories/public/\"))\n",
    "import $ivy.`org.scala-lang.modules::scala-parser-combinators:1.1.2`"
   ]
  },
  {
   "cell_type": "markdown",
   "metadata": {},
   "source": [
    "# Parser Combinator Library in Scala \n",
    "\n",
    "We will briefly touch upon parsing for now just to understand what it is and link up to what we have learned under inductive definitions.\n",
    "\n",
    "Parsing is the process of taking a textual representation of an program from a human readable format to an internal structure that is machine readable.\n",
    "\n",
    "<img src=\"parser-process.png\" alt=\"The parser module translates a human readable program into an abstract syntax tree representation that is machine readable\" width=\"90%\">\n",
    "\n",
    "As you notice, the parser automates the translation between a program we may write in a text file as seen before\n",
    "\n",
    "~~~\n",
    "var x = 5;\n",
    "var y = 15;\n",
    "var z = 25 + y - x;\n",
    "x = y + z + exp(x - y);\n",
    "while ( y <= 15) \n",
    "   begin\n",
    "      y = y - x ;\n",
    "      if (x <= 0)\n",
    "      begin\n",
    "         x = -x; \n",
    "      end\n",
    "   end\n",
    "return (y - x)\n",
    "~~~\n",
    "\n",
    "into an abstract syntax tree that follows the inductive definition we put out in the previous lecture:\n",
    "\n",
    "~~~\n",
    "program: Program = Program(List(VarDecl(x,Const(5.0)), VarDecl(y,Const(15.0)), VarDecl(z,Plus(Const(25.0),Minus(Ident(y),Ident(x))))),List(AssignStmt(x,Plus(Ident(y),Plus(Ident(z),Exp(Minus(Ident(x),Ident(y)))))), WhileStmt(Leq(Ident(y),Const(15.0)),List(AssignStmt(y,Minus(Ident(y),Ident(x))), IfThenElseStmt(Leq(Ident(x),Const(0.0)),List(AssignStmt(x,Minus(Const(0.0),Ident(x)))),List())))),Minus(Ident(y),Ident(x)))\n",
    "~~~\n"
   ]
  },
  {
   "cell_type": "markdown",
   "metadata": {},
   "source": [
    "## A Quick Rundown on Parsing\n",
    "\n",
    "Parsing is a large topic by itself and arguably one of the most successful application of theoretical CS into practice. Parsers are all around us today, taking inputs that we can read into structures that machines can understand. The complexity of parsers can be enormous: we can have simple reg-ex based _pattern matchers_ that run inside our packet filters on the internet to complex _natural language parsers_ that take in english sentences and parse them to extract structure and aid machine understanding. Programming language parsers are somewhat in between: they are more complicated than simple regex pattern matchers but not as complicated as a natural language with all its inherent ambiguities and complexities.\n",
    "\n",
    "### How to build parsers? \n",
    "\n",
    "Parsers are built using grammars. These are very similar to the grammars that we say for inductive definitions but they are lower level grammars. Let us contrast the two types of grammars.\n",
    "\n",
    "#### Grammar for Arithmetic Expression\n",
    "\n",
    "Here is the grammar for parsing arithmetic expressions:\n",
    "\n",
    "$$\\begin{array}{rcll}\n",
    "\\mathbf{expr} & \\rightarrow & \\mathbf{term} ``-'' \\mathbf{expr} \\\\ \n",
    "              & | &  \\mathbf{term} ``+'' \\mathbf{expr} \\\\\n",
    "              & | & ``-'' \\mathbf{expr}\\\\\n",
    "              & | &  \\mathbf{term} \\\\[5pt]\n",
    " \\mathbf{term} & \\rightarrow & \\mathbf{leaf} ``*'' \\mathbf{term} \\\\\n",
    " & | & \\mathbf{leaf} ``/'' \\mathbf{term} \\\\\n",
    " & | & \\mathbf{leaf} \\\\[5pt]\n",
    " \\mathbf{leaf} & \\rightarrow & ``('' \\mathbf{expr} ``)'' \\\\\n",
    " & | & \\mathbf{fn} ``('' \\mathbf{expr} ``)'' \\\\\n",
    " & | & \\mathbf{identifier} \\\\\n",
    " & | & \\mathbf{constant} \\\\[5pt]\n",
    " \\mathbf{fn} & \\rightarrow & ``sin'' | ``cos'' | ``log'' | ``exp''  \\\\[5pt]\n",
    " \\mathbf{identifier} & \\rightarrow & [a-zA-Z0-9\\_]+ & \\text{one or more characters consisting of a-z, A-Z, 0-9 and \\_ } \\\\\n",
    " \\mathbf{constant} & \\rightarrow & [1-9][0-9]*(``.''[0-9]*)? & \\text{look up regular expressions to understand what we just wrote down here}.\\\\\n",
    "\\end{array}$$\n",
    "\n",
    "This grammar accepts strings such as `x + y - z * cos(z) * log(y + exp(z - x))`\n",
    "\n",
    "Let us recall the grammar we wrote down for the _abstract syntax trees_ or _inductive definition_ of expressions\n",
    "\n",
    "$$\\begin{array}{rcc}\n",
    "\\textbf{Expr} & \\rightarrow & Const(\\textbf{Integer}) \\\\\n",
    "& |  & Ident(\\textbf{Identifier}) \\\\\n",
    "& | & Plus( \\textbf{Expr}, \\textbf{Expr}) \\\\\n",
    "& | & Minus( \\textbf{Expr}, \\textbf{Expr}) \\\\\n",
    "& | & Mult(\\textbf{Expr}, \\textbf{Expr}) \\\\\n",
    "& | & Div(\\textbf{Expr}, \\textbf{Expr}) \\\\\n",
    "& | & Log(\\textbf{Expr}) \\\\\n",
    "& | & Exp(\\textbf{Expr}) \\\\\n",
    "& | & Sine(\\textbf{Expr}) \\\\\n",
    "& | & Cosine(\\textbf{Expr}) \\\\\\\\\n",
    "\\textbf{Integer} & \\rightarrow & \\cdots\\ |\\  -2\\ |\\ -1\\ |\\ 0\\ |\\ 1\\ |\\ 2\\ |\\ \\cdots \\\\\n",
    "\\textbf{Identifier} & \\rightarrow & [a-z\\ A-Z][a-z\\ A-Z\\ 0-9\\ \\_]*\n",
    "\\end{array}$$\n",
    "\n",
    "First you notice that this grammar just has __Expr__ whereas the previous grammar has __expr__, __term__, __leaf__ and so on. Why? \n",
    "\n",
    "The answer happens to do with arithmetic precedence.\n",
    "\n",
    "When humans write expressions such as ` x +  z * w ` machines have a problem since they can read it two ways:\n",
    "` (x+z) * w ` or ` x + (z * w) `. These now yield two different abstract trees:\n",
    "` Mult( Plus(x,z), w)` or `Plus(x, Mult(z, w))`. They yield completely different answers and represent different mathematical expressions. However, we have the notion of operator _precendence_ to interpret what happens here.\n",
    "We know that `*` has higher precendence than `+`. Therefore, the second interpretation as \n",
    "`Plus(x, Mult(z, w))` is correct while the other interpretation is wrong.\n",
    "\n",
    "Scala has a _parser combinator_ that makes it quite easy to implement parsers. We will implement a parser for the language we encountered earlier. It is a convenient way to translate handwritten programs into expressions whenever we examine this language.\n"
   ]
  },
  {
   "cell_type": "code",
   "execution_count": 3,
   "metadata": {},
   "outputs": [
    {
     "data": {
      "text/plain": [
       "\u001b[32mimport \u001b[39m\u001b[36mscala.util.parsing.combinator._\n",
       "\n",
       "\u001b[39m\n",
       "defined \u001b[32mtrait\u001b[39m \u001b[36mExpr\u001b[39m\n",
       "defined \u001b[32mclass\u001b[39m \u001b[36mConst\u001b[39m\n",
       "defined \u001b[32mclass\u001b[39m \u001b[36mIdent\u001b[39m\n",
       "defined \u001b[32mclass\u001b[39m \u001b[36mPlus\u001b[39m\n",
       "defined \u001b[32mclass\u001b[39m \u001b[36mMinus\u001b[39m\n",
       "defined \u001b[32mclass\u001b[39m \u001b[36mMult\u001b[39m\n",
       "defined \u001b[32mclass\u001b[39m \u001b[36mDiv\u001b[39m\n",
       "defined \u001b[32mclass\u001b[39m \u001b[36mNegate\u001b[39m\n",
       "defined \u001b[32mclass\u001b[39m \u001b[36mLog\u001b[39m\n",
       "defined \u001b[32mclass\u001b[39m \u001b[36mExp\u001b[39m\n",
       "defined \u001b[32mclass\u001b[39m \u001b[36mSine\u001b[39m\n",
       "defined \u001b[32mclass\u001b[39m \u001b[36mCosine\u001b[39m"
      ]
     },
     "execution_count": 3,
     "metadata": {},
     "output_type": "execute_result"
    }
   ],
   "source": [
    "import scala.util.parsing.combinator._\n",
    "\n",
    "sealed trait Expr\n",
    "case class Const(f: Float) extends Expr \n",
    "// 1. We cheated a bit and allowed all floating point numbers\n",
    "// Also, this deviates from the grammar\n",
    "case class Ident(s: String) extends Expr\n",
    "// 2. We allow any string to be an identifier for now instead of the regular expression shown in the grammar.\n",
    "case class Plus(e1: Expr, e2: Expr ) extends Expr\n",
    "case class Minus(e1: Expr, e2: Expr) extends Expr\n",
    "case class Mult(e1: Expr, e2: Expr) extends Expr\n",
    "case class Div(e1: Expr, e2: Expr) extends Expr\n",
    "case class Negate(e: Expr) extends Expr\n",
    "case class Log(e: Expr) extends Expr\n",
    "case class Exp(e: Expr) extends Expr\n",
    "case class Sine(e: Expr) extends Expr\n",
    "case class Cosine(e: Expr) extends Expr"
   ]
  },
  {
   "cell_type": "code",
   "execution_count": 4,
   "metadata": {},
   "outputs": [
    {
     "data": {
      "text/plain": [
       "defined \u001b[32mclass\u001b[39m \u001b[36mExprParser\u001b[39m"
      ]
     },
     "execution_count": 4,
     "metadata": {},
     "output_type": "execute_result"
    }
   ],
   "source": [
    "class ExprParser extends RegexParsers {\n",
    "    def floatingPointNumber: Parser[String] = {\n",
    "        \"\"\"-?(\\d+(\\.\\d*)?|\\d*\\.\\d+)([eE][+-]?\\d+)?[fFdD]?\"\"\".r\n",
    "    }\n",
    "    def identifier: Parser[String] = {\n",
    "        \"\"\"[a-zA-Z0-9_]+\"\"\".r\n",
    "    }\n",
    "    \n",
    "    def mathOp: Parser[String] = {\n",
    "        \"sin\" | \"cos\" | \"exp\" | \"log\"\n",
    "    }\n",
    "    \n",
    "    def expr: Parser[Expr] = {\n",
    "        val opt1 = term ~ (\"-\" ~> expr) ^^ { /*Actions */\n",
    "            case s1~s2 => Minus(s1, s2) \n",
    "        }\n",
    "        val opt2 = term ~ (\"+\" ~> expr) ^^ {\n",
    "            case s1 ~ s2 => Plus(s1, s2)\n",
    "        }\n",
    "        \n",
    "        val opt3 = term \n",
    "        \n",
    "        \n",
    "        \n",
    "        opt1 | opt2 | opt3 \n",
    "    }\n",
    "    \n",
    "    def term: Parser[Expr] = {\n",
    "        val opt1 = leaf ~ (\"*\" ~> term) ^^ {\n",
    "            case s1 ~ s2 => Mult(s1, s2)\n",
    "        }\n",
    "        val opt2 = leaf ~ (\"/\" ~> term) ^^ {\n",
    "            case s1 ~ s2 => Div(s1, s2)\n",
    "        }\n",
    "        \n",
    "        val opt4 = \"-\" ~> term ^^ {\n",
    "            s => Negate(s)\n",
    "        }\n",
    "        \n",
    "        val opt3 = leaf \n",
    "        \n",
    "        opt4 | opt1 | opt2 | opt3\n",
    "    }\n",
    "    \n",
    "    def leaf: Parser[Expr] = {\n",
    "        val opt1 = floatingPointNumber ^^ {\n",
    "            s => Const(s.toFloat)\n",
    "        }\n",
    "        val opt2 = identifier ^^ {\n",
    "            s => Ident(s)\n",
    "        }\n",
    "        \n",
    "        val opt3 = mathOp ~ (\"(\" ~> expr ) <~ \")\" ^^ {\n",
    "            case \"sin\" ~ e => Sine(e)\n",
    "            case \"cos\" ~ e => Cosine(e)\n",
    "            case \"log\" ~ e => Log(e)\n",
    "            case \"exp\" ~ e => Exp(e)\n",
    "        }\n",
    "        \n",
    "        val opt4 = \"(\" ~> (expr <~ \")\") \n",
    "        \n",
    "        opt1 |  opt3 | opt4 | opt2\n",
    "        \n",
    "        \n",
    "    }\n",
    "    \n",
    "    \n",
    "}\n"
   ]
  },
  {
   "cell_type": "code",
   "execution_count": 66,
   "metadata": {},
   "outputs": [
    {
     "data": {
      "text/plain": [
       "\u001b[36mtestExpr1\u001b[39m: \u001b[32mString\u001b[39m = \u001b[32m\" x + y - z * cos(z) * log(y + exp(z - x)) \"\u001b[39m"
      ]
     },
     "execution_count": 66,
     "metadata": {},
     "output_type": "execute_result"
    }
   ],
   "source": [
    "val testExpr1 = \"\"\" x + y - z * cos(z) * log(y + exp(z - x)) \"\"\""
   ]
  },
  {
   "cell_type": "code",
   "execution_count": 67,
   "metadata": {},
   "outputs": [
    {
     "data": {
      "text/plain": [
       "\u001b[36mparsr\u001b[39m: \u001b[32mExprParser\u001b[39m = $sess.cmd64Wrapper$Helper$ExprParser@5675220d"
      ]
     },
     "execution_count": 67,
     "metadata": {},
     "output_type": "execute_result"
    }
   ],
   "source": [
    "val parsr = new ExprParser()"
   ]
  },
  {
   "cell_type": "code",
   "execution_count": 68,
   "metadata": {},
   "outputs": [
    {
     "data": {
      "text/plain": [
       "\u001b[36me1\u001b[39m: \u001b[32mparsr\u001b[39m.\u001b[32mParseResult\u001b[39m[\u001b[32mExpr\u001b[39m] = [1.42] parsed: Plus(Ident(x),Minus(Ident(y),Mult(Ident(z),Mult(Cosine(Ident(z)),Log(Plus(Ident(y),Exp(Minus(Ident(z),Ident(x)))))))))"
      ]
     },
     "execution_count": 68,
     "metadata": {},
     "output_type": "execute_result"
    }
   ],
   "source": [
    "val e1 = parsr.parse(parsr.expr, testExpr1)"
   ]
  },
  {
   "cell_type": "code",
   "execution_count": 69,
   "metadata": {},
   "outputs": [
    {
     "data": {
      "text/plain": [
       "\u001b[36mtestExpr2\u001b[39m: \u001b[32mString\u001b[39m = \u001b[32m\"- 2.5 * x - 3.75 * y\"\u001b[39m"
      ]
     },
     "execution_count": 69,
     "metadata": {},
     "output_type": "execute_result"
    }
   ],
   "source": [
    "val testExpr2 = \"- 2.5 * x - 3.75 * y\""
   ]
  },
  {
   "cell_type": "code",
   "execution_count": 70,
   "metadata": {},
   "outputs": [
    {
     "data": {
      "text/plain": [
       "\u001b[36me2\u001b[39m: \u001b[32mparsr\u001b[39m.\u001b[32mParseResult\u001b[39m[\u001b[32mExpr\u001b[39m] = [1.21] parsed: Minus(Negate(Mult(Const(2.5),Ident(x))),Mult(Const(3.75),Ident(y)))"
      ]
     },
     "execution_count": 70,
     "metadata": {},
     "output_type": "execute_result"
    }
   ],
   "source": [
    "val e2 = parsr.parse(parsr.expr, testExpr2)"
   ]
  },
  {
   "cell_type": "code",
   "execution_count": 71,
   "metadata": {},
   "outputs": [
    {
     "data": {
      "text/plain": [
       "\u001b[36mtestExpr3\u001b[39m: \u001b[32mString\u001b[39m = \u001b[32m\" 7.75 * cos(x) - log( y + sin(z)* sin(z) - 0.0255 * x)\"\u001b[39m"
      ]
     },
     "execution_count": 71,
     "metadata": {},
     "output_type": "execute_result"
    }
   ],
   "source": [
    "val testExpr3 = \" 7.75 * cos(x) - log( y + sin(z)* sin(z) - 0.0255 * x)\""
   ]
  },
  {
   "cell_type": "code",
   "execution_count": 72,
   "metadata": {},
   "outputs": [
    {
     "data": {
      "text/plain": [
       "\u001b[36me3\u001b[39m: \u001b[32mparsr\u001b[39m.\u001b[32mParseResult\u001b[39m[\u001b[32mExpr\u001b[39m] = [1.55] parsed: Minus(Mult(Const(7.75),Cosine(Ident(x))),Log(Plus(Ident(y),Minus(Mult(Sine(Ident(z)),Sine(Ident(z))),Mult(Const(0.0255),Ident(x))))))"
      ]
     },
     "execution_count": 72,
     "metadata": {},
     "output_type": "execute_result"
    }
   ],
   "source": [
    "val e3 = parsr.parse(parsr.expr, testExpr3)"
   ]
  },
  {
   "cell_type": "code",
   "execution_count": 73,
   "metadata": {},
   "outputs": [
    {
     "data": {
      "text/plain": [
       "defined \u001b[32mtrait\u001b[39m \u001b[36mCondExpr\u001b[39m\n",
       "defined \u001b[32mobject\u001b[39m \u001b[36mConstTrue\u001b[39m\n",
       "defined \u001b[32mobject\u001b[39m \u001b[36mConstFalse\u001b[39m\n",
       "defined \u001b[32mclass\u001b[39m \u001b[36mGeq\u001b[39m\n",
       "defined \u001b[32mclass\u001b[39m \u001b[36mLeq\u001b[39m\n",
       "defined \u001b[32mclass\u001b[39m \u001b[36mEq\u001b[39m\n",
       "defined \u001b[32mclass\u001b[39m \u001b[36mAnd\u001b[39m\n",
       "defined \u001b[32mclass\u001b[39m \u001b[36mOr\u001b[39m\n",
       "defined \u001b[32mclass\u001b[39m \u001b[36mNot\u001b[39m"
      ]
     },
     "execution_count": 73,
     "metadata": {},
     "output_type": "execute_result"
    }
   ],
   "source": [
    "sealed trait CondExpr\n",
    "case object ConstTrue extends CondExpr\n",
    "case object ConstFalse extends CondExpr\n",
    "case class Geq(e1: Expr, e2: Expr) extends CondExpr\n",
    "case class Leq(e1: Expr, e2: Expr) extends CondExpr\n",
    "case class Eq(e1: Expr, e2: Expr) extends CondExpr\n",
    "case class And(c1: CondExpr, c2: CondExpr) extends CondExpr\n",
    "case class Or(c1: CondExpr, c2: CondExpr) extends CondExpr\n",
    "case class Not(c: CondExpr) extends CondExpr"
   ]
  },
  {
   "cell_type": "code",
   "execution_count": 78,
   "metadata": {},
   "outputs": [
    {
     "data": {
      "text/plain": [
       "defined \u001b[32mclass\u001b[39m \u001b[36mCondExprParser\u001b[39m"
      ]
     },
     "execution_count": 78,
     "metadata": {},
     "output_type": "execute_result"
    }
   ],
   "source": [
    "class CondExprParser extends ExprParser {\n",
    "    def constBool: Parser[CondExpr] = {\n",
    "        ( \"true\"^^{ s => ConstTrue } ) |\n",
    "        ( \"false\"^^{s => ConstFalse} )\n",
    "    }\n",
    "    \n",
    "    def relOp : Parser[String] = {\n",
    "        \">=\" | \"<=\" | \"==\"\n",
    "    }\n",
    "    \n",
    "    def condExpr: Parser[CondExpr] = {\n",
    "        ( (condClause <~ \"||\") ~ condExpr ^^ {\n",
    "            case t1 ~ t2 => Or(t1, t2)\n",
    "        }\n",
    "         ) | condClause\n",
    "        \n",
    "    } \n",
    "    \n",
    "    def condClause: Parser[CondExpr] = {\n",
    "        ( (condLit <~ \"&&\") ~ condClause ^^ {\n",
    "            case t1 ~ t2 => And(t1, t2)\n",
    "        }\n",
    "         ) | condLit\n",
    "    }\n",
    "    \n",
    "    def condLit: Parser[CondExpr] = {\n",
    "        val opt1 = (\"!\" ~> condLit) ^^ {Not(_)}\n",
    "        val opt2 = (\"(\" ~> condExpr) <~ \")\"\n",
    "        val opt3 = expr ~ (\">=\"|\"<=\"|\"==\") ~ expr ^^ {\n",
    "            case e1 ~\">=\"~ e2 => Geq(e1, e2)\n",
    "            case e1 ~\"<=\"~ e2 => Leq(e1, e2)\n",
    "            case e1 ~\"==\"~ e2 => Eq(e1, e2)\n",
    "         }\n",
    "        val opt4 = constBool \n",
    "        \n",
    "        opt2 | opt1 | opt3 | opt4\n",
    "    }\n",
    "}"
   ]
  },
  {
   "cell_type": "code",
   "execution_count": 79,
   "metadata": {},
   "outputs": [
    {
     "data": {
      "text/plain": [
       "\u001b[36mconditionParser\u001b[39m: \u001b[32mCondExprParser\u001b[39m = $sess.cmd77Wrapper$Helper$CondExprParser@3ec3784"
      ]
     },
     "execution_count": 79,
     "metadata": {},
     "output_type": "execute_result"
    }
   ],
   "source": [
    "val conditionParser = new CondExprParser()"
   ]
  },
  {
   "cell_type": "code",
   "execution_count": 80,
   "metadata": {},
   "outputs": [
    {
     "data": {
      "text/plain": [
       "\u001b[36mstr1\u001b[39m: \u001b[32mString\u001b[39m = \u001b[32m\"x - 2*y + log(z + x - y) >= -2.5 - 3.7 * x \"\u001b[39m"
      ]
     },
     "execution_count": 80,
     "metadata": {},
     "output_type": "execute_result"
    }
   ],
   "source": [
    "val str1 = \"x - 2*y + log(z + x - y) >= -2.5 - 3.7 * x \""
   ]
  },
  {
   "cell_type": "code",
   "execution_count": 81,
   "metadata": {},
   "outputs": [
    {
     "data": {
      "text/plain": [
       "\u001b[36mres80\u001b[39m: \u001b[32mconditionParser\u001b[39m.\u001b[32mParseResult\u001b[39m[\u001b[32mCondExpr\u001b[39m] = [1.43] parsed: Geq(Minus(Ident(x),Plus(Mult(Const(2.0),Ident(y)),Log(Plus(Ident(z),Minus(Ident(x),Ident(y)))))),Minus(Negate(Const(2.5)),Mult(Const(3.7),Ident(x))))"
      ]
     },
     "execution_count": 81,
     "metadata": {},
     "output_type": "execute_result"
    }
   ],
   "source": [
    "conditionParser.parse(conditionParser.condExpr, str1)"
   ]
  },
  {
   "cell_type": "code",
   "execution_count": 82,
   "metadata": {},
   "outputs": [
    {
     "data": {
      "text/plain": [
       "\u001b[36mstr2\u001b[39m: \u001b[32mString\u001b[39m = \u001b[32m\"x >= y || x == y && x <= 2.5 * cos(y - log(z))\"\u001b[39m"
      ]
     },
     "execution_count": 82,
     "metadata": {},
     "output_type": "execute_result"
    }
   ],
   "source": [
    "val str2 = \"x >= y || x == y && x <= 2.5 * cos(y - log(z))\""
   ]
  },
  {
   "cell_type": "code",
   "execution_count": 83,
   "metadata": {},
   "outputs": [
    {
     "data": {
      "text/plain": [
       "\u001b[36mres82\u001b[39m: \u001b[32mconditionParser\u001b[39m.\u001b[32mParseResult\u001b[39m[\u001b[32mCondExpr\u001b[39m] = [1.47] parsed: Or(Geq(Ident(x),Ident(y)),And(Eq(Ident(x),Ident(y)),Leq(Ident(x),Mult(Const(2.5),Cosine(Minus(Ident(y),Log(Ident(z))))))))"
      ]
     },
     "execution_count": 83,
     "metadata": {},
     "output_type": "execute_result"
    }
   ],
   "source": [
    "conditionParser.parse(conditionParser.condExpr, str2)"
   ]
  },
  {
   "cell_type": "code",
   "execution_count": 84,
   "metadata": {},
   "outputs": [
    {
     "data": {
      "text/plain": [
       "\u001b[36mstr3\u001b[39m: \u001b[32mString\u001b[39m = \u001b[32m\"! x <= y - 5 || y + z >= 20.3 && ! x <= y\"\u001b[39m"
      ]
     },
     "execution_count": 84,
     "metadata": {},
     "output_type": "execute_result"
    }
   ],
   "source": [
    "val str3 = \"! x <= y - 5 || y + z >= 20.3 && ! x <= y\""
   ]
  },
  {
   "cell_type": "code",
   "execution_count": 85,
   "metadata": {},
   "outputs": [
    {
     "data": {
      "text/plain": [
       "\u001b[36mres84\u001b[39m: \u001b[32mconditionParser\u001b[39m.\u001b[32mParseResult\u001b[39m[\u001b[32mCondExpr\u001b[39m] = [1.42] parsed: Or(Not(Leq(Ident(x),Minus(Ident(y),Const(5.0)))),And(Geq(Plus(Ident(y),Ident(z)),Const(20.3)),Not(Leq(Ident(x),Ident(y)))))"
      ]
     },
     "execution_count": 85,
     "metadata": {},
     "output_type": "execute_result"
    }
   ],
   "source": [
    "conditionParser.parse(conditionParser.condExpr, str3)"
   ]
  },
  {
   "cell_type": "code",
   "execution_count": 91,
   "metadata": {},
   "outputs": [
    {
     "data": {
      "text/plain": [
       "\u001b[36mstr4\u001b[39m: \u001b[32mString\u001b[39m = \u001b[32m\"(true || ! x == y && x - y >= z - log(y) && l <= w)\"\u001b[39m"
      ]
     },
     "execution_count": 91,
     "metadata": {},
     "output_type": "execute_result"
    }
   ],
   "source": [
    "val str4 = \"(true || ! x == y && x - y >= z - log(y) && l <= w)\""
   ]
  },
  {
   "cell_type": "code",
   "execution_count": 115,
   "metadata": {},
   "outputs": [
    {
     "data": {
      "text/plain": [
       "\u001b[36mstr5\u001b[39m: \u001b[32mString\u001b[39m = \u001b[32m\"( y <= 15.0 || z >= 10.0)\"\u001b[39m"
      ]
     },
     "execution_count": 115,
     "metadata": {},
     "output_type": "execute_result"
    }
   ],
   "source": [
    "val str5 = \"( y <= 15.0 || z >= 10.0)\""
   ]
  },
  {
   "cell_type": "code",
   "execution_count": 116,
   "metadata": {},
   "outputs": [
    {
     "data": {
      "text/plain": [
       "\u001b[36mres115\u001b[39m: \u001b[32mconditionParser\u001b[39m.\u001b[32mParseResult\u001b[39m[\u001b[32mCondExpr\u001b[39m] = [1.26] parsed: Or(Leq(Ident(y),Const(15.0)),Geq(Ident(z),Const(10.0)))"
      ]
     },
     "execution_count": 116,
     "metadata": {},
     "output_type": "execute_result"
    }
   ],
   "source": [
    "conditionParser.parse(conditionParser.condExpr, str5)"
   ]
  },
  {
   "cell_type": "code",
   "execution_count": 92,
   "metadata": {},
   "outputs": [
    {
     "data": {
      "text/plain": [
       "\u001b[36mres91\u001b[39m: \u001b[32mconditionParser\u001b[39m.\u001b[32mParseResult\u001b[39m[\u001b[32mCondExpr\u001b[39m] = [1.52] parsed: Or(ConstTrue,And(Not(Eq(Ident(x),Ident(y))),And(Geq(Minus(Ident(x),Ident(y)),Minus(Ident(z),Log(Ident(y)))),Leq(Ident(l),Ident(w)))))"
      ]
     },
     "execution_count": 92,
     "metadata": {},
     "output_type": "execute_result"
    }
   ],
   "source": [
    "conditionParser.parse(conditionParser.condExpr, str4)"
   ]
  },
  {
   "cell_type": "code",
   "execution_count": 90,
   "metadata": {},
   "outputs": [
    {
     "data": {
      "text/plain": [
       "defined \u001b[32mtrait\u001b[39m \u001b[36mDeclaration\u001b[39m\n",
       "defined \u001b[32mtrait\u001b[39m \u001b[36mStatement\u001b[39m\n",
       "defined \u001b[32mclass\u001b[39m \u001b[36mProgram\u001b[39m\n",
       "defined \u001b[32mclass\u001b[39m \u001b[36mVarDecl\u001b[39m\n",
       "defined \u001b[32mclass\u001b[39m \u001b[36mAssignStmt\u001b[39m\n",
       "defined \u001b[32mclass\u001b[39m \u001b[36mWhileStmt\u001b[39m\n",
       "defined \u001b[32mclass\u001b[39m \u001b[36mIfThenElseStmt\u001b[39m\n",
       "defined \u001b[32mclass\u001b[39m \u001b[36mReturnStmt\u001b[39m"
      ]
     },
     "execution_count": 90,
     "metadata": {},
     "output_type": "execute_result"
    }
   ],
   "source": [
    "sealed trait Declaration\n",
    "sealed trait Statement\n",
    "case class Program(decls: List[Declaration], stmts: List[Statement], returnAtEnd: Expr) // We stripped the ReturnStmt tag since it is redundant\n",
    "case class VarDecl(identifier: String, rhsExpr: Expr) extends Declaration\n",
    "case class AssignStmt(identifier: String, rhsExpr: Expr) extends Statement\n",
    "case class WhileStmt(cond: CondExpr, stmts: List[Statement]) extends Statement\n",
    "case class IfThenElseStmt(cond: CondExpr, stmtsThen: List[Statement], stmtsElse: List[Statement]) extends Statement\n",
    "case class ReturnStmt(retExpr: Expr) extends Statement"
   ]
  },
  {
   "cell_type": "code",
   "execution_count": 105,
   "metadata": {},
   "outputs": [
    {
     "data": {
      "text/plain": [
       "defined \u001b[32mclass\u001b[39m \u001b[36mProgramParser\u001b[39m"
      ]
     },
     "execution_count": 105,
     "metadata": {},
     "output_type": "execute_result"
    }
   ],
   "source": [
    "class ProgramParser extends CondExprParser {\n",
    "    \n",
    "    def program: Parser[Program] = rep(declaration)~rep(statement) ^^ {\n",
    "        case l1~l2 => {\n",
    "            val l2Last = l2(l2.size -1 )\n",
    "            val l2Rest = l2.slice(0, l2.size -1 )\n",
    "            l2Last match {\n",
    "                case ReturnStmt(rExpr) => Program(l1, l2Rest, rExpr)\n",
    "                case _ => throw new IllegalArgumentException( s\"Error: program must terminate in a return statement. $l2Last\")\n",
    "            }\n",
    "        }\n",
    "    }\n",
    "    \n",
    "    def declaration: Parser[VarDecl] = (\"var\" ~> identifier) ~ (\":=\" ~> expr) ^^ {\n",
    "        case id ~ e => VarDecl(id, e)\n",
    "    }\n",
    "    \n",
    "    def statement: Parser[Statement] = assignStatement | whileStatement | ifThenElseStatement | returnStatement\n",
    "    \n",
    "    def assignStatement: Parser[Statement] = (identifier <~ \":=\") ~ expr ^^ { case id ~ e => AssignStmt(id, e) }\n",
    "    \n",
    "    def whileStatement: Parser[Statement] = \"while\" ~> (condExpr ~ stmtBlock) ^^ {case c ~ blk => WhileStmt(c, blk)}\n",
    "    \n",
    "    def ifThenElseStatement: Parser[Statement] = (\"if\"~> condExpr) ~ (\"then\" ~> stmtBlock) ~ opt(\"else\" ~> stmtBlock) ^^ { \n",
    "        case c ~ st ~ None => IfThenElseStmt(c, st, List())\n",
    "        case c ~ st1 ~ Some(st2) => IfThenElseStmt(c, st1, st2)\n",
    "    }\n",
    "    \n",
    "    def returnStatement: Parser[Statement] = \"return\" ~> expr ^^ {\n",
    "        ReturnStmt(_)\n",
    "    }\n",
    "    \n",
    "    def stmtBlock: Parser[List[Statement]] = (\"begin\" ~> rep(statement)) <~ \"end\" \n",
    "    \n",
    "    def parseString(str: String): Program = {\n",
    "        parse(program, str)  match {\n",
    "            case Success(mt, _) => mt\n",
    "            case Failure(msg, _) => throw new IllegalArgumentException(msg)\n",
    "            case Error(msg, _) => throw new IllegalArgumentException(msg)\n",
    "        }\n",
    "    }\n",
    "}"
   ]
  },
  {
   "cell_type": "code",
   "execution_count": 122,
   "metadata": {},
   "outputs": [
    {
     "data": {
      "text/plain": [
       "\u001b[36mprogram1\u001b[39m: \u001b[32mString\u001b[39m = \u001b[32m\"\"\"\n",
       "\n",
       "var x := 5\n",
       "var y := 15\n",
       "var z := 25 + y - x\n",
       "x :=  y + z + exp(x - y)\n",
       "while ( y <= 15.0 || z >= 10.0) \n",
       "   begin\n",
       "      y := y - x \n",
       "      if (x <= 0)\n",
       "      then begin\n",
       "         x := -x\n",
       "\u001b[33m...\u001b[39m"
      ]
     },
     "execution_count": 122,
     "metadata": {},
     "output_type": "execute_result"
    }
   ],
   "source": [
    "val program1 = \"\"\"\n",
    "var x := 5\n",
    "var y := 15\n",
    "var z := 25 + y - x\n",
    "x :=  y + z + exp(x - y)\n",
    "while ( y <= 15.0 || z >= 10.0) \n",
    "   begin\n",
    "      y := y - x \n",
    "      if (x <= 0)\n",
    "      then begin\n",
    "         x := -x\n",
    "      end\n",
    "   end\n",
    "return (y - x)\n",
    "\"\"\""
   ]
  },
  {
   "cell_type": "code",
   "execution_count": 120,
   "metadata": {},
   "outputs": [
    {
     "data": {
      "text/plain": [
       "\u001b[36mprogParser\u001b[39m: \u001b[32mProgramParser\u001b[39m = $sess.cmd104Wrapper$Helper$ProgramParser@57af64be"
      ]
     },
     "execution_count": 120,
     "metadata": {},
     "output_type": "execute_result"
    }
   ],
   "source": [
    "val progParser = new ProgramParser()"
   ]
  },
  {
   "cell_type": "code",
   "execution_count": 123,
   "metadata": {},
   "outputs": [
    {
     "data": {
      "text/plain": [
       "\u001b[36mres122\u001b[39m: \u001b[32mProgram\u001b[39m = Program(List(VarDecl(x,Const(5.0)), VarDecl(y,Const(15.0)), VarDecl(z,Plus(Const(25.0),Minus(Ident(y),Ident(x))))),List(AssignStmt(x,Plus(Ident(y),Plus(Ident(z),Exp(Minus(Ident(x),Ident(y)))))), WhileStmt(Or(Leq(Ident(y),Const(15.0)),Geq(Ident(z),Const(10.0))),List(AssignStmt(y,Minus(Ident(y),Ident(x))), IfThenElseStmt(Leq(Ident(x),Const(0.0)),List(AssignStmt(x,Negate(Ident(x)))),List())))),Minus(Ident(y),Ident(x)))"
      ]
     },
     "execution_count": 123,
     "metadata": {},
     "output_type": "execute_result"
    }
   ],
   "source": [
    "progParser.parseString(program1)"
   ]
  },
  {
   "cell_type": "code",
   "execution_count": 124,
   "metadata": {},
   "outputs": [
    {
     "data": {
      "text/plain": [
       "\u001b[36mres123\u001b[39m: \u001b[32mprogParser\u001b[39m.\u001b[32mParseResult\u001b[39m[\u001b[32mProgram\u001b[39m] = [14.15] parsed: Program(List(VarDecl(x,Const(5.0)), VarDecl(y,Const(15.0)), VarDecl(z,Plus(Const(25.0),Minus(Ident(y),Ident(x))))),List(AssignStmt(x,Plus(Ident(y),Plus(Ident(z),Exp(Minus(Ident(x),Ident(y)))))), WhileStmt(Or(Leq(Ident(y),Const(15.0)),Geq(Ident(z),Const(10.0))),List(AssignStmt(y,Minus(Ident(y),Ident(x))), IfThenElseStmt(Leq(Ident(x),Const(0.0)),List(AssignStmt(x,Negate(Ident(x)))),List())))),Minus(Ident(y),Ident(x)))"
      ]
     },
     "execution_count": 124,
     "metadata": {},
     "output_type": "execute_result"
    }
   ],
   "source": [
    "progParser.parse(progParser.program, program1)"
   ]
  },
  {
   "cell_type": "code",
   "execution_count": 127,
   "metadata": {},
   "outputs": [
    {
     "data": {
      "text/plain": [
       "\u001b[36mwhileStmt\u001b[39m: \u001b[32mString\u001b[39m = \u001b[32m\"\"\"\n",
       "while ( y <= 15.0 || z >= 10.0) \n",
       "   begin\n",
       "      y := y - x \n",
       "      if (x <= 0) then \n",
       "      begin\n",
       "         x := -x\n",
       "      end\n",
       "   end\n",
       "\"\"\"\u001b[39m"
      ]
     },
     "execution_count": 127,
     "metadata": {},
     "output_type": "execute_result"
    }
   ],
   "source": [
    "val whileStmt = \"\"\"while ( y <= 15.0 || z >= 10.0) \n",
    "   begin\n",
    "      y := y - x \n",
    "      if (x <= 0) then \n",
    "      begin\n",
    "         x := -x\n",
    "      end\n",
    "   end\"\"\""
   ]
  },
  {
   "cell_type": "code",
   "execution_count": 128,
   "metadata": {},
   "outputs": [
    {
     "data": {
      "text/plain": [
       "\u001b[36mres127\u001b[39m: \u001b[32mprogParser\u001b[39m.\u001b[32mParseResult\u001b[39m[\u001b[32mStatement\u001b[39m] = [8.7] parsed: WhileStmt(Or(Leq(Ident(y),Const(15.0)),Geq(Ident(z),Const(10.0))),List(AssignStmt(y,Minus(Ident(y),Ident(x))), IfThenElseStmt(Leq(Ident(x),Const(0.0)),List(AssignStmt(x,Negate(Ident(x)))),List())))"
      ]
     },
     "execution_count": 128,
     "metadata": {},
     "output_type": "execute_result"
    }
   ],
   "source": [
    "progParser.parse(progParser.whileStatement, whileStmt)"
   ]
  }
 ],
 "metadata": {
  "kernelspec": {
   "display_name": "Scala",
   "language": "scala",
   "name": "scala"
  },
  "language_info": {
   "codemirror_mode": "text/x-scala",
   "file_extension": ".sc",
   "mimetype": "text/x-scala",
   "name": "scala",
   "nbconvert_exporter": "script",
   "version": "2.13.3"
  }
 },
 "nbformat": 4,
 "nbformat_minor": 2
}
